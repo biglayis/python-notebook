{
 "cells": [
  {
   "cell_type": "markdown",
   "id": "9a0489b2",
   "metadata": {},
   "source": [
    "# 运算符"
   ]
  },
  {
   "cell_type": "markdown",
   "id": "f639aa51",
   "metadata": {},
   "source": [
    "## 算数运算符"
   ]
  },
  {
   "cell_type": "markdown",
   "id": "6505c292",
   "metadata": {},
   "source": [
    "运算符  | 描述 | 实例 \n",
    ":----:  | :--: | :--: \n",
    "+ | 加 | 10 + 20 = 30\n",
    "- | 减 | 20 - 10 = 10\n",
    "* | 乘 | 10 * 20 = 200\n",
    "/ | 除 | 20 / 10 = 2\n",
    "// | 取整 | 9 // 2 = 4\n",
    "% | 取余 | 9 % 2 = 1\n",
    "** | 幂 | 2 ** 3 = 8"
   ]
  },
  {
   "cell_type": "markdown",
   "id": "4a6680b9",
   "metadata": {},
   "source": [
    "* 在python中，运算符还可以用于字符串"
   ]
  },
  {
   "cell_type": "code",
   "execution_count": 2,
   "id": "8c068d56",
   "metadata": {
    "scrolled": true
   },
   "outputs": [
    {
     "name": "stdout",
     "output_type": "stream",
     "text": [
      "--------------------------------------------------\n"
     ]
    }
   ],
   "source": [
    "print(\"-\" * 50)"
   ]
  },
  {
   "cell_type": "markdown",
   "id": "6345c210",
   "metadata": {},
   "source": [
    "## 比较运算符"
   ]
  },
  {
   "cell_type": "markdown",
   "id": "096122f0",
   "metadata": {},
   "source": [
    "运算符 | 描述\n",
    ":----: | :-----:\n",
    "== | 等于\n",
    "!= | 不等于\n",
    "> | 大于\n",
    "< | 小于\n",
    ">= | 大于等于\n",
    "<= | 小于等于"
   ]
  },
  {
   "cell_type": "markdown",
   "id": "093142ba",
   "metadata": {},
   "source": [
    "## 逻辑运算符"
   ]
  },
  {
   "cell_type": "markdown",
   "id": "50903757",
   "metadata": {},
   "source": [
    "运算符 | 逻辑表达式 | 描述\n",
    ":----: | :-----: | :-----:\n",
    "and | x and y | 只有x和y都成立才返回True\n",
    "or | x or y | 只要x和y有一个成立就返回True\n",
    "not | not x | 如果x不成立，则返回True"
   ]
  },
  {
   "cell_type": "markdown",
   "id": "5b648918",
   "metadata": {},
   "source": [
    "## 赋值运算符"
   ]
  },
  {
   "cell_type": "markdown",
   "id": "dcd9955d",
   "metadata": {},
   "source": [
    "运算符 | 描述\n",
    ":----: | :-----:\n",
    "= | c = a + b\n",
    "+= | c += a 等效于 c = c + a\n",
    "-= | c -= a 等效于 c = c - a\n",
    "*= | c *= a 等效于 c = c * a\n",
    "/= | c /= a 等效于 c = c / a\n",
    "//= | c //= a 等效于 c = c // a\n",
    "%= | c %= a 等效于 c = c % a\n",
    "\\**= | c \\*\\*= a 等效于 c = c \\*\\* a"
   ]
  },
  {
   "cell_type": "markdown",
   "id": "3daaf0e6",
   "metadata": {},
   "source": [
    "### 算术运算符的优先级"
   ]
  },
  {
   "cell_type": "markdown",
   "id": "b42d2b3d",
   "metadata": {},
   "source": [
    "* 和数学中运算符的优先级一致，在python中进行数学计算时，同样也是\n",
    "    * 先乘除后加减\n",
    "    * 同级运算符是从左至右计算\n",
    "    * 可以使用`()`调整运算符的优先级\n",
    "* 以下表格的算数优先级由高到低顺序排列"
   ]
  },
  {
   "cell_type": "markdown",
   "id": "c509c5ca",
   "metadata": {},
   "source": [
    "运算符 | 描述\n",
    ":----: | :-----:\n",
    "** | 幂（最高优先级）\n",
    "*/%// | 乘、除、取余、取整\n",
    "+- | 加、减\n",
    "<=<>>= | 比较运算符\n",
    "==！= | 等于运算符\n",
    "=+=-=/=\\*=//=%=\\*\\*= | 赋值运算符\n",
    "not or and | 逻辑运算符"
   ]
  }
 ],
 "metadata": {
  "kernelspec": {
   "display_name": "Python 3 (ipykernel)",
   "language": "python",
   "name": "python3"
  },
  "language_info": {
   "codemirror_mode": {
    "name": "ipython",
    "version": 3
   },
   "file_extension": ".py",
   "mimetype": "text/x-python",
   "name": "python",
   "nbconvert_exporter": "python",
   "pygments_lexer": "ipython3",
   "version": "3.9.7"
  }
 },
 "nbformat": 4,
 "nbformat_minor": 5
}
