{
 "cells": [
  {
   "cell_type": "markdown",
   "id": "20a221b7",
   "metadata": {},
   "source": [
    "# 元组的定义"
   ]
  },
  {
   "cell_type": "markdown",
   "id": "dfa8ea69",
   "metadata": {},
   "source": [
    "* 元组用`()`定义，数据之间用`,`分隔\n",
    "* 元组的元素不能修改\n",
    "* 索引从0开始"
   ]
  },
  {
   "cell_type": "code",
   "execution_count": 10,
   "id": "4aa1bcf3",
   "metadata": {},
   "outputs": [],
   "source": [
    "info_tuple1 = (\"zhangsan\", 18, 1.76)"
   ]
  },
  {
   "cell_type": "markdown",
   "id": "83c36721",
   "metadata": {},
   "source": [
    "## 创建空元组"
   ]
  },
  {
   "cell_type": "code",
   "execution_count": 11,
   "id": "1f7c3895",
   "metadata": {},
   "outputs": [],
   "source": [
    "info_tuple2 = ()"
   ]
  },
  {
   "cell_type": "markdown",
   "id": "c4ff5d7a",
   "metadata": {},
   "source": [
    "## 元组中只包含一个元素时，需要在元素后面添加逗号"
   ]
  },
  {
   "cell_type": "code",
   "execution_count": 12,
   "id": "0f089e69",
   "metadata": {},
   "outputs": [
    {
     "name": "stdout",
     "output_type": "stream",
     "text": [
      "<class 'int'>\n",
      "<class 'tuple'>\n"
     ]
    }
   ],
   "source": [
    "info_tuple3 = (1)\n",
    "print(type(info_tuple3))\n",
    "info_tuple3 = (1,)\n",
    "print(type(info_tuple3))"
   ]
  },
  {
   "cell_type": "markdown",
   "id": "d9613a32",
   "metadata": {},
   "source": [
    "# 元组常用操作"
   ]
  },
  {
   "cell_type": "code",
   "execution_count": 15,
   "id": "8b757e98",
   "metadata": {},
   "outputs": [
    {
     "name": "stdout",
     "output_type": "stream",
     "text": [
      "3\n"
     ]
    }
   ],
   "source": [
    "# 统计元组中的某个元素出现次数\n",
    "num_tuple = (1,1,5,7,9,1)\n",
    "print(num_tuple.count(1))"
   ]
  },
  {
   "cell_type": "code",
   "execution_count": 17,
   "id": "04eceb99",
   "metadata": {},
   "outputs": [
    {
     "name": "stdout",
     "output_type": "stream",
     "text": [
      "0\n",
      "2\n"
     ]
    }
   ],
   "source": [
    "# 当前元素的下标\n",
    "print(num_tuple.index(1))\n",
    "print(num_tuple.index(5))"
   ]
  },
  {
   "cell_type": "markdown",
   "id": "79639d2d",
   "metadata": {},
   "source": [
    "# 循环遍历"
   ]
  },
  {
   "cell_type": "code",
   "execution_count": 18,
   "id": "f1e86fdc",
   "metadata": {},
   "outputs": [
    {
     "name": "stdout",
     "output_type": "stream",
     "text": [
      "1\n",
      "1\n",
      "5\n",
      "7\n",
      "9\n",
      "1\n"
     ]
    }
   ],
   "source": [
    "for i in num_tuple:\n",
    "    print(i)"
   ]
  },
  {
   "cell_type": "markdown",
   "id": "03d0903c",
   "metadata": {},
   "source": [
    "尽管可以使用`for in`遍历元组，但是在开发中，更多的应用场景是：  \n",
    "* 函数的参数和返回值：一个函数可以一次接收多个参数，或者一个返回多个数据\n",
    "* 格式化字符串后面的括号本质上就是一个元组\n",
    "* 让列表不可以被修改，以保护数据安全"
   ]
  },
  {
   "cell_type": "code",
   "execution_count": 19,
   "id": "095c25f0",
   "metadata": {},
   "outputs": [
    {
     "name": "stdout",
     "output_type": "stream",
     "text": [
      "张三的年龄是18岁\n"
     ]
    }
   ],
   "source": [
    "info = (\"张三\", 18)\n",
    "print(\"%s的年龄是%d岁\" % info)"
   ]
  },
  {
   "cell_type": "markdown",
   "id": "36587b6f",
   "metadata": {},
   "source": [
    "# 元组和列表之间的转换"
   ]
  },
  {
   "cell_type": "markdown",
   "id": "0a17c20c",
   "metadata": {},
   "source": [
    "## 使用`list`函数可以把元组转换成列表"
   ]
  },
  {
   "cell_type": "code",
   "execution_count": 21,
   "id": "402b147a",
   "metadata": {},
   "outputs": [
    {
     "name": "stdout",
     "output_type": "stream",
     "text": [
      "['张三', 18]\n"
     ]
    }
   ],
   "source": [
    "info_list = list(info)\n",
    "print(info_list)"
   ]
  },
  {
   "cell_type": "markdown",
   "id": "072fdec9",
   "metadata": {},
   "source": [
    "## 使用`tuple`函数可以把列表转换成元组"
   ]
  },
  {
   "cell_type": "code",
   "execution_count": 22,
   "id": "f2ce0367",
   "metadata": {},
   "outputs": [
    {
     "name": "stdout",
     "output_type": "stream",
     "text": [
      "('张三', 18)\n"
     ]
    }
   ],
   "source": [
    "info_tuple = tuple(info_list)\n",
    "print(info_tuple)"
   ]
  }
 ],
 "metadata": {
  "kernelspec": {
   "display_name": "Python 3 (ipykernel)",
   "language": "python",
   "name": "python3"
  },
  "language_info": {
   "codemirror_mode": {
    "name": "ipython",
    "version": 3
   },
   "file_extension": ".py",
   "mimetype": "text/x-python",
   "name": "python",
   "nbconvert_exporter": "python",
   "pygments_lexer": "ipython3",
   "version": "3.9.7"
  }
 },
 "nbformat": 4,
 "nbformat_minor": 5
}
