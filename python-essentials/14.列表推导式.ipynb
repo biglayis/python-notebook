{
 "cells": [
  {
   "cell_type": "markdown",
   "id": "37b13626",
   "metadata": {},
   "source": [
    "# 列表推导式"
   ]
  },
  {
   "cell_type": "markdown",
   "id": "a79b2764",
   "metadata": {},
   "source": [
    "循环可以用来生成列表："
   ]
  },
  {
   "cell_type": "code",
   "execution_count": 1,
   "id": "c378a98e",
   "metadata": {},
   "outputs": [],
   "source": [
    "values = [10, 21, 4, 7, 12]\n",
    "squares = []"
   ]
  },
  {
   "cell_type": "code",
   "execution_count": 2,
   "id": "de3b5701",
   "metadata": {},
   "outputs": [
    {
     "data": {
      "text/plain": [
       "[100, 441, 16, 49, 144]"
      ]
     },
     "execution_count": 2,
     "metadata": {},
     "output_type": "execute_result"
    }
   ],
   "source": [
    "for x in values:\n",
    "    squares.append(x**2)\n",
    "squares"
   ]
  },
  {
   "cell_type": "markdown",
   "id": "8ff62bb9",
   "metadata": {},
   "source": [
    "列表推导式可以使用更简单的方法来创建这个列表："
   ]
  },
  {
   "cell_type": "code",
   "execution_count": 3,
   "id": "c8b9fb01",
   "metadata": {},
   "outputs": [
    {
     "data": {
      "text/plain": [
       "[100, 441, 16, 49, 144]"
      ]
     },
     "execution_count": 3,
     "metadata": {},
     "output_type": "execute_result"
    }
   ],
   "source": [
    "values = [10, 21, 4, 7, 12]\n",
    "squares2 = [x**2 for x in values]\n",
    "squares2"
   ]
  },
  {
   "cell_type": "markdown",
   "id": "c396a41d",
   "metadata": {},
   "source": [
    "还可以在列表推导式中加入条件进行筛选。  \n",
    "例如在上面的例子中，假如只想保留列表中不大于10的数的平方："
   ]
  },
  {
   "cell_type": "code",
   "execution_count": 4,
   "id": "9f6c6ecd",
   "metadata": {},
   "outputs": [
    {
     "data": {
      "text/plain": [
       "[100, 441, 144]"
      ]
     },
     "execution_count": 4,
     "metadata": {},
     "output_type": "execute_result"
    }
   ],
   "source": [
    "squares = [x**2 for x in values if x >= 10]\n",
    "squares"
   ]
  },
  {
   "cell_type": "markdown",
   "id": "706d3d9d",
   "metadata": {},
   "source": [
    "也可以使用推导式生成集合和字典："
   ]
  },
  {
   "cell_type": "code",
   "execution_count": 5,
   "id": "73d7f758",
   "metadata": {},
   "outputs": [
    {
     "data": {
      "text/plain": [
       "{16, 49, 100, 144, 441}"
      ]
     },
     "execution_count": 5,
     "metadata": {},
     "output_type": "execute_result"
    }
   ],
   "source": [
    "square_set = set(x**2 for x in values)\n",
    "square_set"
   ]
  },
  {
   "cell_type": "code",
   "execution_count": 6,
   "id": "a1f5421a",
   "metadata": {},
   "outputs": [
    {
     "data": {
      "text/plain": [
       "{10: 100, 21: 441, 4: 16, 7: 49, 12: 144}"
      ]
     },
     "execution_count": 6,
     "metadata": {},
     "output_type": "execute_result"
    }
   ],
   "source": [
    "square_dict = {x:x**2 for x in values}\n",
    "square_dict"
   ]
  },
  {
   "cell_type": "markdown",
   "id": "ad46bfd3",
   "metadata": {},
   "source": [
    "再如，计算上面例子中生成的列表中所有元素的和："
   ]
  },
  {
   "cell_type": "code",
   "execution_count": 7,
   "id": "b8e4319c",
   "metadata": {},
   "outputs": [
    {
     "data": {
      "text/plain": [
       "750"
      ]
     },
     "execution_count": 7,
     "metadata": {},
     "output_type": "execute_result"
    }
   ],
   "source": [
    "total = sum([x**2 for x in values])\n",
    "total"
   ]
  },
  {
   "cell_type": "markdown",
   "id": "0f05cd6d",
   "metadata": {},
   "source": [
    "但是，Python会生成这个列表，然后在将它放到垃圾回收机制中（因为没有变量指向它），这毫无疑问是种浪费。  \n",
    "为了解决这种问题，与`xrange()`类似，Python使用产生式表达式来解决这个问题："
   ]
  },
  {
   "cell_type": "code",
   "execution_count": 8,
   "id": "20d8d090",
   "metadata": {},
   "outputs": [
    {
     "data": {
      "text/plain": [
       "750"
      ]
     },
     "execution_count": 8,
     "metadata": {},
     "output_type": "execute_result"
    }
   ],
   "source": [
    "total = sum(x**2 for x in values)\n",
    "total"
   ]
  },
  {
   "cell_type": "markdown",
   "id": "e5ec449d",
   "metadata": {},
   "source": [
    "与上面相比，只是去掉了括号，但这里并不会一次性的生成这个列表。"
   ]
  }
 ],
 "metadata": {
  "kernelspec": {
   "display_name": "Python 3 (ipykernel)",
   "language": "python",
   "name": "python3"
  },
  "language_info": {
   "codemirror_mode": {
    "name": "ipython",
    "version": 3
   },
   "file_extension": ".py",
   "mimetype": "text/x-python",
   "name": "python",
   "nbconvert_exporter": "python",
   "pygments_lexer": "ipython3",
   "version": "3.9.7"
  }
 },
 "nbformat": 4,
 "nbformat_minor": 5
}
