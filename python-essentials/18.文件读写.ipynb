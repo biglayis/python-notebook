{
 "cells": [
  {
   "cell_type": "markdown",
   "id": "e910badd",
   "metadata": {},
   "source": [
    "# 文件读写"
   ]
  },
  {
   "cell_type": "markdown",
   "id": "dd3066ef",
   "metadata": {},
   "source": [
    "Python内置的`open`函数，可以指定文件名、操作模式、编码信息等来获得操作文件的对象"
   ]
  },
  {
   "cell_type": "markdown",
   "id": "b943eb33",
   "metadata": {},
   "source": [
    "| 操作模式 | 具体含义 |\n",
    "| :-----:  | :-----: |\n",
    "| `r` | 读取（默认） |\n",
    "| `w` | 写入，如果文件不存在会被创建；如果文件已经存在，会覆盖之前写的所有内容 |\n",
    "| `x` | 写入，如果文件已经存在会产生异常 |\n",
    "| `a` | 追加，将内容写入到已有文件的末尾 |\n",
    "| `b` | 二进制模式|\n",
    "| `t` | 文本模式（默认） |\n",
    "| `+` | 更新（既可以读又可以写） |"
   ]
  },
  {
   "cell_type": "markdown",
   "id": "f1228615",
   "metadata": {},
   "source": [
    "## 读写文本文件"
   ]
  },
  {
   "cell_type": "code",
   "execution_count": 1,
   "id": "726ad459",
   "metadata": {},
   "outputs": [
    {
     "data": {
      "text/plain": [
       "'this is a test file.\\nhello world!\\npython is good!\\ntoday is a good day.\\nhello world\\nhello world'"
      ]
     },
     "execution_count": 1,
     "metadata": {},
     "output_type": "execute_result"
    }
   ],
   "source": [
    "f = open(\"file/test.txt\", 'r', encoding = 'UTF-8')\n",
    "f.read()"
   ]
  },
  {
   "cell_type": "markdown",
   "id": "fd62740b",
   "metadata": {},
   "source": [
    "也可以按照行读入内容，`readlines`方法返回一个列表，每个元素代表文件中每一行的内容："
   ]
  },
  {
   "cell_type": "code",
   "execution_count": 2,
   "id": "be10241b",
   "metadata": {},
   "outputs": [
    {
     "data": {
      "text/plain": [
       "['this is a test file.\\n',\n",
       " 'hello world!\\n',\n",
       " 'python is good!\\n',\n",
       " 'today is a good day.\\n',\n",
       " 'hello world\\n',\n",
       " 'hello world']"
      ]
     },
     "execution_count": 2,
     "metadata": {},
     "output_type": "execute_result"
    }
   ],
   "source": [
    "f.seek(0)\n",
    "f.readlines()"
   ]
  },
  {
   "cell_type": "markdown",
   "id": "38b6b028",
   "metadata": {},
   "source": [
    "多次调用`f.read()`，第一次调用`f.read()`可以读取到内容，这时游标会移动到文章末尾，再次调用`f.read()`是获取不到内容的，可以使用`f.seek(0)`将游标移动到文章开头再次调用`f.read()`即可获取内容。  \n",
    "在使用`f.write()`向文件内写入内容后立刻使用`f.read()`读取文件内容，这时游标也是在文件末尾的，也获取不到文本。"
   ]
  },
  {
   "cell_type": "markdown",
   "id": "460e6be1",
   "metadata": {},
   "source": [
    "使用完文件之后，需要将文件关闭。"
   ]
  },
  {
   "cell_type": "code",
   "execution_count": 3,
   "id": "81d60377",
   "metadata": {},
   "outputs": [],
   "source": [
    "f.close()"
   ]
  },
  {
   "cell_type": "markdown",
   "id": "21b7c3b0",
   "metadata": {},
   "source": [
    "可以将`f`放在一个循环中，得到它每一行的内容："
   ]
  },
  {
   "cell_type": "code",
   "execution_count": 4,
   "id": "2b2a680b",
   "metadata": {},
   "outputs": [
    {
     "name": "stdout",
     "output_type": "stream",
     "text": [
      "this is a test file.\n",
      "\n",
      "hello world!\n",
      "\n",
      "python is good!\n",
      "\n",
      "today is a good day.\n",
      "\n",
      "hello world\n",
      "\n",
      "hello world\n"
     ]
    }
   ],
   "source": [
    "f = open(\"file/test.txt\", 'r', encoding = 'UTF-8')\n",
    "for line in f:\n",
    "    print(line)\n",
    "f.close()"
   ]
  },
  {
   "cell_type": "markdown",
   "id": "e3f137b1",
   "metadata": {},
   "source": [
    "要将文本信息写入文件，使用`open`函数时指定好文件名并将文件模式设置为`'w'`即可。  \n",
    "注意如果需要对文件内容进行追加式写入，应该将模式设置为`'a'`。  \n",
    "如果要写入的文件不存在会自动创建文件而不是引发异常。  "
   ]
  },
  {
   "cell_type": "markdown",
   "id": "ce4c705b",
   "metadata": {},
   "source": [
    "例：将1-9999之间的素数分别写入三个文件中（1-99之间的素数保存在a.txt中，100-999之间的素数保存在b.txt中，1000-9999之间的素数保存在c.txt中）"
   ]
  },
  {
   "cell_type": "code",
   "execution_count": 5,
   "id": "2b6097d9",
   "metadata": {},
   "outputs": [
    {
     "name": "stdout",
     "output_type": "stream",
     "text": [
      "操作完成！\n"
     ]
    }
   ],
   "source": [
    "from math import sqrt\n",
    "\n",
    "'''判断是否是素数'''\n",
    "def is_prime(n):\n",
    "    assert n > 0\n",
    "    for factor in range(2, int(sqrt(n))+1):\n",
    "        if n % factor == 0:\n",
    "            return False\n",
    "    return True if n != 1 else False\n",
    "\n",
    "def main():\n",
    "    filenames = ['file/a.txt', 'file/b.txt', 'file/c.txt']\n",
    "    fs_list = []\n",
    "    try:\n",
    "        for filename in filenames:\n",
    "            fs_list.append(open(filename, 'w', encoding = 'UTF-8'))\n",
    "        for i in range(1,100):\n",
    "            if is_prime(i):\n",
    "                fs_list[0].write(str(i) + '\\n')\n",
    "        for i in range(100,1000):\n",
    "            if is_prime(i):\n",
    "                fs_list[1].write(str(i) + '\\n')\n",
    "        for i in range(1000,10000):\n",
    "            if is_prime(i):\n",
    "                fs_list[2].write(str(i) + '\\n')\n",
    "    except IOError as ex:\n",
    "        print(ex)\n",
    "        print('写文件时发生错误!')\n",
    "    finally:\n",
    "        for fs in fs_list:\n",
    "            fs.close()\n",
    "        print(\"操作完成！\")\n",
    "            \n",
    "if __name__ == '__main__':\n",
    "    main()"
   ]
  },
  {
   "cell_type": "markdown",
   "id": "14e5777c",
   "metadata": {},
   "source": [
    "## 读写二进制文件"
   ]
  },
  {
   "cell_type": "markdown",
   "id": "409eb743",
   "metadata": {},
   "source": [
    "例：复制图片文件"
   ]
  },
  {
   "cell_type": "code",
   "execution_count": 6,
   "id": "a887b22c",
   "metadata": {},
   "outputs": [
    {
     "name": "stdout",
     "output_type": "stream",
     "text": [
      "<class 'bytes'>\n",
      "程序执行结束.\n",
      "操作完成！\n"
     ]
    }
   ],
   "source": [
    "try:\n",
    "    with open(\"C:/Users/gaoyu/Pictures/jerome-comentale-hogwarts.jpg\", 'rb') as fs1:\n",
    "        pic = fs1.read()\n",
    "        print(type(pic))\n",
    "    with open(\"file/background.jpg\", 'wb') as fs2:\n",
    "        fs2.write(pic)\n",
    "except FileNotFoundError as e:\n",
    "    print('指定的文件无法打开.')\n",
    "except IOError as e:\n",
    "    print('读写文件时出现错误.')\n",
    "print('程序执行结束.')\n",
    "    \n",
    "if __name__ == '__main__':\n",
    "    main()"
   ]
  },
  {
   "cell_type": "markdown",
   "id": "8723a153",
   "metadata": {},
   "source": [
    "## 读写JSON文件"
   ]
  },
  {
   "cell_type": "markdown",
   "id": "29defff1",
   "metadata": {},
   "source": [
    "如果希望把一个列表或者一个字典中的数据保存到文件中又该怎么做呢？答案是将数据以JSON格式进行保存。  \n",
    "JSON是“JavaScript Object Notation”的缩写，它本来是JavaScript语言中创建对象的一种字面量语法，现在已经被广泛的应用于跨平台跨语言的数据交换，原因很简单，因为JSON也是纯文本，任何系统任何编程语言处理纯文本都是没有问题的。  \n",
    "下面是一个JSON的简单例子:"
   ]
  },
  {
   "cell_type": "code",
   "execution_count": 7,
   "id": "493c6aa2",
   "metadata": {},
   "outputs": [
    {
     "data": {
      "text/plain": [
       "{'name': '骆昊',\n",
       " 'age': 38,\n",
       " 'qq': 957658,\n",
       " 'friends': ['王大锤', '白元芳'],\n",
       " 'cars': [{'brand': 'BYD', 'max_speed': 180},\n",
       "  {'brand': 'Audi', 'max_speed': 280},\n",
       "  {'brand': 'Benz', 'max_speed': 320}]}"
      ]
     },
     "execution_count": 7,
     "metadata": {},
     "output_type": "execute_result"
    }
   ],
   "source": [
    "{\n",
    "    \"name\": \"骆昊\",\n",
    "    \"age\": 38,\n",
    "    \"qq\": 957658,\n",
    "    \"friends\": [\"王大锤\", \"白元芳\"],\n",
    "    \"cars\": [\n",
    "        {\"brand\": \"BYD\", \"max_speed\": 180},\n",
    "        {\"brand\": \"Audi\", \"max_speed\": 280},\n",
    "        {\"brand\": \"Benz\", \"max_speed\": 320}\n",
    "    ]\n",
    "}"
   ]
  },
  {
   "cell_type": "markdown",
   "id": "9b88cf8c",
   "metadata": {},
   "source": [
    "JSON和python中的字典类似，事实上JSON的数据类型和Python的数据类型是很容易找到对应关系的："
   ]
  },
  {
   "cell_type": "markdown",
   "id": "a2c125c2",
   "metadata": {},
   "source": [
    "| JSON | Python |\n",
    "| :-----:  | :-----: |\n",
    "| object | dict |\n",
    "| array | list |\n",
    "| string | str |\n",
    "| number (int / real) | int / float |\n",
    "| true / false | True / False|\n",
    "| null | None |"
   ]
  },
  {
   "cell_type": "markdown",
   "id": "9708c5d1",
   "metadata": {},
   "source": [
    "使用Python中的json模块就可以将字典或列表以JSON格式保存到文件中:"
   ]
  },
  {
   "cell_type": "code",
   "execution_count": 8,
   "id": "2596fe72",
   "metadata": {},
   "outputs": [
    {
     "name": "stdout",
     "output_type": "stream",
     "text": [
      "保存数据完成!\n"
     ]
    }
   ],
   "source": [
    "import json\n",
    "\n",
    "def main():\n",
    "    mydict = {\n",
    "        'name': '骆昊',\n",
    "        'age': 38,\n",
    "        'qq': 957658,\n",
    "        'friends': ['王大锤', '白元芳'],\n",
    "        'cars': [\n",
    "            {'brand': 'BYD', 'max_speed': 180},\n",
    "            {'brand': 'Audi', 'max_speed': 280},\n",
    "            {'brand': 'Benz', 'max_speed': 320}\n",
    "        ]\n",
    "    }\n",
    "    try:\n",
    "        with open('file/data.json', 'w', encoding='utf-8') as fs:\n",
    "            json.dump(mydict, fs)\n",
    "    except IOError as e:\n",
    "        print(e)\n",
    "    print('保存数据完成!')\n",
    "\n",
    "if __name__ == '__main__':\n",
    "    main()"
   ]
  },
  {
   "cell_type": "markdown",
   "id": "1e984ea8",
   "metadata": {},
   "source": [
    "json模块主要有四个比较重要的函数，分别是：  \n",
    "* `dump` - 将Python对象按照JSON格式序列化到文件中\n",
    "* `dumps` - 将Python对象处理成JSON格式的字符串\n",
    "* `load` - 将文件中的JSON数据反序列化成对象\n",
    "* `loads` - 将字符串的内容反序列化成Python对象"
   ]
  },
  {
   "cell_type": "markdown",
   "id": "00f5a9ea",
   "metadata": {},
   "source": [
    "> 序列化（serialization）在计算机科学的数据处理中，是指将数据结构或对象状态转换为可以存储或传输的形式，这样在需要的时候能够恢复到原先的状态，而且通过序列化的数据重新获取字节时，可以利用这些字节来产生原始对象的副本（拷贝）。与这个过程相反的动作，即从一系列字节中提取数据结构的操作，就是反序列化（deserialization）"
   ]
  },
  {
   "cell_type": "markdown",
   "id": "608f8db4",
   "metadata": {},
   "source": [
    "目前绝大多数网络数据服务（或称之为网络API）都是基于HTTP协议提供JSON格式的数据。"
   ]
  },
  {
   "cell_type": "markdown",
   "id": "59321ee7",
   "metadata": {},
   "source": [
    "下面的例子演示了如何使用requests模块（封装得足够好的第三方网络访问模块）访问网络API获取国内新闻，如何通过json模块解析JSON数据并显示新闻标题，这个例子使用了天行数据提供的国内新闻数据接口，其中的APIKey需要自己到该网站申请。"
   ]
  },
  {
   "cell_type": "code",
   "execution_count": null,
   "id": "55f75d85",
   "metadata": {},
   "outputs": [],
   "source": [
    "import requests\n",
    "import json\n",
    "\n",
    "def main():\n",
    "    resp = requests.get('http://api.tianapi.com/guonei/?key=APIKey&num=10')\n",
    "    data_model = json.loads(resp.text)\n",
    "    for news in data_model['newslist']:\n",
    "        print(news['title'])\n",
    "\n",
    "if __name__ == '__main__':\n",
    "    main()"
   ]
  },
  {
   "cell_type": "markdown",
   "id": "b3ab5826",
   "metadata": {},
   "source": [
    "在Python中要实现序列化和反序列化除了使用json模块之外，还可以使用pickle和shelve模块，但是这两个模块是使用特有的序列化协议来序列化数据，因此序列化后的数据只能被Python识别。"
   ]
  }
 ],
 "metadata": {
  "kernelspec": {
   "display_name": "Python 3 (ipykernel)",
   "language": "python",
   "name": "python3"
  },
  "language_info": {
   "codemirror_mode": {
    "name": "ipython",
    "version": 3
   },
   "file_extension": ".py",
   "mimetype": "text/x-python",
   "name": "python",
   "nbconvert_exporter": "python",
   "pygments_lexer": "ipython3",
   "version": "3.9.7"
  }
 },
 "nbformat": 4,
 "nbformat_minor": 5
}
