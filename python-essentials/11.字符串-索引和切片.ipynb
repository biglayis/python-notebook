{
 "cells": [
  {
   "cell_type": "markdown",
   "id": "a639cec1",
   "metadata": {},
   "source": [
    "# 索引"
   ]
  },
  {
   "cell_type": "markdown",
   "id": "b0b2610d",
   "metadata": {},
   "source": [
    "可以使用索引获取一个字符串中指定位置的字符，索引从0开始"
   ]
  },
  {
   "cell_type": "code",
   "execution_count": 10,
   "id": "090cf1ec",
   "metadata": {},
   "outputs": [
    {
     "name": "stdout",
     "output_type": "stream",
     "text": [
      "e\n"
     ]
    }
   ],
   "source": [
    "s = \"hello\"\n",
    "print(s[1])"
   ]
  },
  {
   "cell_type": "markdown",
   "id": "cde66564",
   "metadata": {},
   "source": [
    "除了正向索引，Python还引入了负索引值的用法，即从后向前开始计数"
   ]
  },
  {
   "cell_type": "code",
   "execution_count": 11,
   "id": "55032edf",
   "metadata": {},
   "outputs": [
    {
     "data": {
      "text/plain": [
       "'e'"
      ]
     },
     "execution_count": 11,
     "metadata": {},
     "output_type": "execute_result"
    }
   ],
   "source": [
    "s[-4]"
   ]
  },
  {
   "cell_type": "markdown",
   "id": "532bc1e3",
   "metadata": {},
   "source": [
    "单个索引大于等于字符串的长度时，会报错"
   ]
  },
  {
   "cell_type": "code",
   "execution_count": 12,
   "id": "912b574f",
   "metadata": {},
   "outputs": [
    {
     "ename": "IndexError",
     "evalue": "string index out of range",
     "output_type": "error",
     "traceback": [
      "\u001b[1;31m---------------------------------------------------------------------------\u001b[0m",
      "\u001b[1;31mIndexError\u001b[0m                                Traceback (most recent call last)",
      "\u001b[1;32m~\\AppData\\Local\\Temp/ipykernel_17792/1733316026.py\u001b[0m in \u001b[0;36m<module>\u001b[1;34m\u001b[0m\n\u001b[1;32m----> 1\u001b[1;33m \u001b[0ms\u001b[0m\u001b[1;33m[\u001b[0m\u001b[1;36m10\u001b[0m\u001b[1;33m]\u001b[0m\u001b[1;33m\u001b[0m\u001b[1;33m\u001b[0m\u001b[0m\n\u001b[0m",
      "\u001b[1;31mIndexError\u001b[0m: string index out of range"
     ]
    }
   ],
   "source": [
    "s[10]"
   ]
  },
  {
   "cell_type": "markdown",
   "id": "4f0d1a8b",
   "metadata": {},
   "source": [
    "# 切片\n",
    "* 切片用来从序列中提取出想要的子序列，其用法为：  \n",
    "    * 字符串 [ lower:upper:step ]\n",
    "    * 其范围包括`lower`，但不包括`upper`，即**[lower,upper)**，`step`表示取值间隔大小，如果没有默认为`1`\n",
    "    * 可以使用负索引来指定分片的范围"
   ]
  },
  {
   "cell_type": "code",
   "execution_count": 2,
   "id": "268cd5ac",
   "metadata": {},
   "outputs": [
    {
     "data": {
      "text/plain": [
       "'llo py'"
      ]
     },
     "execution_count": 2,
     "metadata": {},
     "output_type": "execute_result"
    }
   ],
   "source": [
    "word = \"hello python\"\n",
    "word[2:8]"
   ]
  },
  {
   "cell_type": "code",
   "execution_count": 3,
   "id": "0f39b280",
   "metadata": {},
   "outputs": [
    {
     "data": {
      "text/plain": [
       "'llo py'"
      ]
     },
     "execution_count": 3,
     "metadata": {},
     "output_type": "execute_result"
    }
   ],
   "source": [
    "# 包括索引2但不包括索引-4\n",
    "word[2:-4]"
   ]
  },
  {
   "cell_type": "code",
   "execution_count": 4,
   "id": "bc22a5fe",
   "metadata": {},
   "outputs": [
    {
     "data": {
      "text/plain": [
       "'llo python'"
      ]
     },
     "execution_count": 4,
     "metadata": {},
     "output_type": "execute_result"
    }
   ],
   "source": [
    "word[2:]"
   ]
  },
  {
   "cell_type": "code",
   "execution_count": 5,
   "id": "d087e0f1",
   "metadata": {},
   "outputs": [
    {
     "data": {
      "text/plain": [
       "'lopto'"
      ]
     },
     "execution_count": 5,
     "metadata": {},
     "output_type": "execute_result"
    }
   ],
   "source": [
    "word[2::2]"
   ]
  },
  {
   "cell_type": "code",
   "execution_count": 6,
   "id": "5aaa4b48",
   "metadata": {},
   "outputs": [
    {
     "data": {
      "text/plain": [
       "'hello python'"
      ]
     },
     "execution_count": 6,
     "metadata": {},
     "output_type": "execute_result"
    }
   ],
   "source": [
    "word[:]"
   ]
  },
  {
   "cell_type": "markdown",
   "id": "b4123eda",
   "metadata": {},
   "source": [
    "当step的值为负时，省略lower意味着从结尾开始分片，省略upper意味着一直分片到开头"
   ]
  },
  {
   "cell_type": "code",
   "execution_count": 7,
   "id": "721a55c4",
   "metadata": {},
   "outputs": [
    {
     "data": {
      "text/plain": [
       "'nohtyp olleh'"
      ]
     },
     "execution_count": 7,
     "metadata": {},
     "output_type": "execute_result"
    }
   ],
   "source": [
    "word[::-1]"
   ]
  },
  {
   "cell_type": "markdown",
   "id": "c66c1051",
   "metadata": {},
   "source": [
    "当给定的upper超出字符串的长度（注意：因为不包含upper，所以可以等于）时，Python并不会报错，不过只会计算到结尾"
   ]
  },
  {
   "cell_type": "code",
   "execution_count": 8,
   "id": "1dc6cb3c",
   "metadata": {},
   "outputs": [
    {
     "data": {
      "text/plain": [
       "'hello python'"
      ]
     },
     "execution_count": 8,
     "metadata": {},
     "output_type": "execute_result"
    }
   ],
   "source": [
    "word[:100]"
   ]
  }
 ],
 "metadata": {
  "kernelspec": {
   "display_name": "Python 3 (ipykernel)",
   "language": "python",
   "name": "python3"
  },
  "language_info": {
   "codemirror_mode": {
    "name": "ipython",
    "version": 3
   },
   "file_extension": ".py",
   "mimetype": "text/x-python",
   "name": "python",
   "nbconvert_exporter": "python",
   "pygments_lexer": "ipython3",
   "version": "3.9.7"
  }
 },
 "nbformat": 4,
 "nbformat_minor": 5
}
