{
 "cells": [
  {
   "cell_type": "markdown",
   "id": "9d16df0f",
   "metadata": {},
   "source": [
    "# 模块"
   ]
  },
  {
   "cell_type": "markdown",
   "id": "acbb2604",
   "metadata": {},
   "source": [
    "* 使用`import`导入模块\n",
    "* 每一个以`py`结尾的python源代码文件都是一个模块\n",
    "* 模块名同样也是一个标识符，需要符合标识符的命名规则"
   ]
  },
  {
   "cell_type": "markdown",
   "id": "3aef01db",
   "metadata": {},
   "source": [
    "## import导入"
   ]
  },
  {
   "cell_type": "markdown",
   "id": "1ae50a40",
   "metadata": {},
   "source": [
    "在导入模块时，每个导入应独占一行："
   ]
  },
  {
   "cell_type": "code",
   "execution_count": null,
   "id": "2c8d0ce2",
   "metadata": {},
   "outputs": [],
   "source": [
    "import 模块1\n",
    "import 模块2"
   ]
  },
  {
   "cell_type": "markdown",
   "id": "1500689f",
   "metadata": {},
   "source": [
    "对于以下python文件`test1.py`："
   ]
  },
  {
   "cell_type": "code",
   "execution_count": 1,
   "id": "5251795b",
   "metadata": {},
   "outputs": [
    {
     "name": "stdout",
     "output_type": "stream",
     "text": [
      "Writing test1.py\n"
     ]
    }
   ],
   "source": [
    "%%writefile test1.py\n",
    "\n",
    "PI = 3.1415\n",
    "\n",
    "def sum(lst):\n",
    "    total = lst[0]\n",
    "    for i in lst[1:]:\n",
    "        total += i\n",
    "    return total\n",
    "\n",
    "w = [1,2,3,4]\n",
    "print(sum(w))"
   ]
  },
  {
   "cell_type": "markdown",
   "id": "7c47d03f",
   "metadata": {},
   "source": [
    "可以执行该文件："
   ]
  },
  {
   "cell_type": "code",
   "execution_count": 2,
   "id": "3184166b",
   "metadata": {},
   "outputs": [
    {
     "name": "stdout",
     "output_type": "stream",
     "text": [
      "10\n"
     ]
    }
   ],
   "source": [
    "%run test1.py"
   ]
  },
  {
   "cell_type": "markdown",
   "id": "90bc5d71",
   "metadata": {},
   "source": [
    "这个脚本可以当作一个模块，使用`import`关键词加载并执行它："
   ]
  },
  {
   "cell_type": "code",
   "execution_count": 3,
   "id": "286d0865",
   "metadata": {},
   "outputs": [
    {
     "name": "stdout",
     "output_type": "stream",
     "text": [
      "10\n"
     ]
    }
   ],
   "source": [
    "import test1"
   ]
  },
  {
   "cell_type": "code",
   "execution_count": 4,
   "id": "0b409a55",
   "metadata": {},
   "outputs": [
    {
     "data": {
      "text/plain": [
       "<module 'test1' from 'D:\\\\JupyterNotebook\\\\python学习笔记\\\\python-essentials\\\\test1.py'>"
      ]
     },
     "execution_count": 4,
     "metadata": {},
     "output_type": "execute_result"
    }
   ],
   "source": [
    "test1"
   ]
  },
  {
   "cell_type": "markdown",
   "id": "7e40fd6d",
   "metadata": {},
   "source": [
    "在导入时，Python会执行一遍模块中的所有内容。  \n",
    "`test1.py`中所有的变量都被载入了当前环境中，不过要使用`test1.变量名`的方法来查看或者修改这些变量："
   ]
  },
  {
   "cell_type": "code",
   "execution_count": 5,
   "id": "c3789c9d",
   "metadata": {},
   "outputs": [
    {
     "data": {
      "text/plain": [
       "3.1415"
      ]
     },
     "execution_count": 5,
     "metadata": {},
     "output_type": "execute_result"
    }
   ],
   "source": [
    "test1.PI"
   ]
  },
  {
   "cell_type": "code",
   "execution_count": 6,
   "id": "9276c015",
   "metadata": {},
   "outputs": [
    {
     "data": {
      "text/plain": [
       "3.1415926"
      ]
     },
     "execution_count": 6,
     "metadata": {},
     "output_type": "execute_result"
    }
   ],
   "source": [
    "test1.PI = 3.1415926\n",
    "test1.PI"
   ]
  },
  {
   "cell_type": "markdown",
   "id": "9cfdb2cd",
   "metadata": {},
   "source": [
    "还可以用`ex1.函数名`调用模块里面的函数："
   ]
  },
  {
   "cell_type": "code",
   "execution_count": 7,
   "id": "7a9887ed",
   "metadata": {},
   "outputs": [
    {
     "data": {
      "text/plain": [
       "26"
      ]
     },
     "execution_count": 7,
     "metadata": {},
     "output_type": "execute_result"
    }
   ],
   "source": [
    "test1.sum([5,6,7,8])"
   ]
  },
  {
   "cell_type": "markdown",
   "id": "de8a57f3",
   "metadata": {},
   "source": [
    "为了提高效率，Python只会载入模块一次，已经载入的模块再次载入时，Python并不会真正执行载入操作，哪怕模块的内容已经改变。  \n",
    "例如，这里重新导入`test1`时，并不会执行`test1.py`中的`print`语句："
   ]
  },
  {
   "cell_type": "code",
   "execution_count": 8,
   "id": "b0b2c1c8",
   "metadata": {},
   "outputs": [],
   "source": [
    "import test1"
   ]
  },
  {
   "cell_type": "markdown",
   "id": "3a9393a6",
   "metadata": {},
   "source": [
    "## 使用as指定模块的别名"
   ]
  },
  {
   "cell_type": "markdown",
   "id": "790b8cfc",
   "metadata": {},
   "source": [
    "如果模块的名字太长，可以使用`as`指定模块的名称"
   ]
  },
  {
   "cell_type": "code",
   "execution_count": null,
   "id": "40585d9f",
   "metadata": {},
   "outputs": [],
   "source": [
    "import 模块1 as 模块别名"
   ]
  },
  {
   "cell_type": "markdown",
   "id": "0e120e07",
   "metadata": {},
   "source": [
    "## from...import导入"
   ]
  },
  {
   "cell_type": "markdown",
   "id": "8c780e0a",
   "metadata": {},
   "source": [
    "从模块中导入变量："
   ]
  },
  {
   "cell_type": "code",
   "execution_count": 11,
   "id": "5149aee8",
   "metadata": {},
   "outputs": [],
   "source": [
    "from test1 import PI, sum"
   ]
  },
  {
   "cell_type": "markdown",
   "id": "9966c778",
   "metadata": {},
   "source": [
    "使用`from`后，可以直接使用`sum`，`PI`："
   ]
  },
  {
   "cell_type": "code",
   "execution_count": 12,
   "id": "8403b6fa",
   "metadata": {},
   "outputs": [
    {
     "data": {
      "text/plain": [
       "3.1415926"
      ]
     },
     "execution_count": 12,
     "metadata": {},
     "output_type": "execute_result"
    }
   ],
   "source": [
    "PI"
   ]
  },
  {
   "cell_type": "code",
   "execution_count": 13,
   "id": "4ef7c39a",
   "metadata": {},
   "outputs": [
    {
     "data": {
      "text/plain": [
       "14"
      ]
     },
     "execution_count": 13,
     "metadata": {},
     "output_type": "execute_result"
    }
   ],
   "source": [
    "sum([2,3,4,5])"
   ]
  },
  {
   "cell_type": "markdown",
   "id": "ecb257e9",
   "metadata": {},
   "source": [
    "如果两个模块存在同名的函数，后导入模块的函数会覆盖先导入的函数"
   ]
  },
  {
   "cell_type": "markdown",
   "id": "960e422d",
   "metadata": {},
   "source": [
    "## 模块的搜索顺序"
   ]
  },
  {
   "cell_type": "markdown",
   "id": "726979a8",
   "metadata": {},
   "source": [
    "python的解释器在导入模块时，会：  \n",
    "1. 搜索当前目录指定模块名的文件，如果有就直接导入\n",
    "2. 如果没有，再搜索系统目录"
   ]
  },
  {
   "cell_type": "markdown",
   "id": "00b4594e",
   "metadata": {},
   "source": [
    "python中每一个模块都有一个内置属性`__file__`可以查看模块的完整路径"
   ]
  },
  {
   "cell_type": "code",
   "execution_count": 15,
   "id": "e4a95ae1",
   "metadata": {},
   "outputs": [
    {
     "name": "stdout",
     "output_type": "stream",
     "text": [
      "4\n",
      "D:\\Anaconda3\\lib\\random.py\n"
     ]
    }
   ],
   "source": [
    "import random\n",
    "\n",
    "# 生成一个0-10的数字\n",
    "num = random.randint(0,10)\n",
    "\n",
    "print(num)\n",
    "print(random.__file__)"
   ]
  },
  {
   "cell_type": "markdown",
   "id": "36c64876",
   "metadata": {},
   "source": [
    "注意，在开发时给文件起名，不要和系统的模块文件重名  \n",
    "如果当前目录下存在一个`random.py`文件，程序就无法正常执行了  \n",
    "这个时候python的解释器会加载当前目录下的`random.py`，而不会加载系统的`random`模块"
   ]
  },
  {
   "cell_type": "markdown",
   "id": "071d5af2",
   "metadata": {},
   "source": [
    "## \\_\\_name\\_\\_属性"
   ]
  },
  {
   "cell_type": "markdown",
   "id": "32b0abea",
   "metadata": {},
   "source": [
    "有时候我们想将一个`.py`文件既当作脚本，又能当作模块用，这个时候可以使用`__name__`这个属性。  \n",
    "只有当文件被当作脚本执行的时候，`__name__`的值才会是`'__main__'`"
   ]
  },
  {
   "cell_type": "code",
   "execution_count": 21,
   "id": "4d740708",
   "metadata": {},
   "outputs": [
    {
     "name": "stdout",
     "output_type": "stream",
     "text": [
      "Overwriting test2.py\n"
     ]
    }
   ],
   "source": [
    "%%writefile test2.py\n",
    "\n",
    "PI = 3.1416\n",
    "\n",
    "def sum(lst):\n",
    "    \"\"\" Sum the values in a list\"\"\"\n",
    "    tot = 0\n",
    "    for value in lst:\n",
    "        tot = tot + value\n",
    "    return tot\n",
    "\n",
    "def add(x, y):\n",
    "    \"\"\"Add two values.\"\"\"\n",
    "    a = x + y\n",
    "    return a\n",
    "\n",
    "def test():\n",
    "    w = [0,1,2,3]\n",
    "    assert(sum(w) == 6)\n",
    "    print('test passed.')\n",
    "    \n",
    "if __name__ == '__main__':\n",
    "    test()"
   ]
  },
  {
   "cell_type": "markdown",
   "id": "39bfa6a4",
   "metadata": {},
   "source": [
    "运行文件："
   ]
  },
  {
   "cell_type": "code",
   "execution_count": 22,
   "id": "411bae83",
   "metadata": {},
   "outputs": [
    {
     "name": "stdout",
     "output_type": "stream",
     "text": [
      "test passed.\n"
     ]
    }
   ],
   "source": [
    "%run test2.py"
   ]
  },
  {
   "cell_type": "markdown",
   "id": "22d146a9",
   "metadata": {},
   "source": [
    "当作模块导入，`test()`不会执行："
   ]
  },
  {
   "cell_type": "code",
   "execution_count": 23,
   "id": "d793b590",
   "metadata": {},
   "outputs": [],
   "source": [
    "import test2"
   ]
  },
  {
   "cell_type": "markdown",
   "id": "fbac48f5",
   "metadata": {},
   "source": [
    "但是可以使用其中的变量："
   ]
  },
  {
   "cell_type": "code",
   "execution_count": 24,
   "id": "c0abd1ac",
   "metadata": {},
   "outputs": [
    {
     "data": {
      "text/plain": [
       "3.1416"
      ]
     },
     "execution_count": 24,
     "metadata": {},
     "output_type": "execute_result"
    }
   ],
   "source": [
    "test2.PI"
   ]
  },
  {
   "cell_type": "markdown",
   "id": "81af82cf",
   "metadata": {},
   "source": [
    "# 包"
   ]
  },
  {
   "cell_type": "markdown",
   "id": "c64b882a",
   "metadata": {},
   "source": [
    "* 包是一个包含多个模块的特殊目录\n",
    "* 目录下有一个特殊的文件`__init__.py`\n",
    "* 包的命名方式和变量名一致，小写字母+下划线\n",
    "* 使用`import 包名`可以一次性导入包中的所有模块\n",
    "* `__init__.py`文件中需要声明对外提供的模块，它也可以是个空文件"
   ]
  },
  {
   "cell_type": "markdown",
   "id": "8215fb42",
   "metadata": {},
   "source": [
    "假设我们有这样的一个文件夹：  \n",
    "\n",
    "foo/  \n",
    "* \\_\\_init\\_\\_.py\n",
    "* bar.py (defines func)\n",
    "* baz.py (defines zap)  \n",
    "\n",
    "这意味着 foo 是一个包，我们可以这样导入其中的内容："
   ]
  },
  {
   "cell_type": "code",
   "execution_count": null,
   "id": "72e16a3a",
   "metadata": {},
   "outputs": [],
   "source": [
    "from foo.bar import func\n",
    "from foo.baz import zap"
   ]
  },
  {
   "cell_type": "markdown",
   "id": "d9fa33f4",
   "metadata": {},
   "source": [
    "也可以直接导入整个包："
   ]
  },
  {
   "cell_type": "code",
   "execution_count": null,
   "id": "33ea947f",
   "metadata": {},
   "outputs": [],
   "source": [
    "import foo"
   ]
  },
  {
   "cell_type": "markdown",
   "id": "8174a155",
   "metadata": {},
   "source": [
    "# 常用的标准库"
   ]
  },
  {
   "cell_type": "markdown",
   "id": "0968c8d1",
   "metadata": {},
   "source": [
    "* re 正则表达式\n",
    "* copy 复制\n",
    "* math, cmath 数学\n",
    "* decimal, fraction\n",
    "* sqlite3 数据库\n",
    "* os, os.path 文件系统\n",
    "* gzip, bz2, zipfile, tarfile 压缩文件\n",
    "* csv, netrc 各种文件格式\n",
    "* xml\n",
    "* htmllib\n",
    "* ftplib, socket\n",
    "* cmd 命令行\n",
    "* pdb\n",
    "* profile, cProfile, timeit\n",
    "* collections, heapq, bisect 数据结构\n",
    "* mmap\n",
    "* threading, Queue 并行\n",
    "* multiprocessing\n",
    "* subprocess\n",
    "* pickle, cPickle\n",
    "* struct"
   ]
  }
 ],
 "metadata": {
  "kernelspec": {
   "display_name": "Python 3 (ipykernel)",
   "language": "python",
   "name": "python3"
  },
  "language_info": {
   "codemirror_mode": {
    "name": "ipython",
    "version": 3
   },
   "file_extension": ".py",
   "mimetype": "text/x-python",
   "name": "python",
   "nbconvert_exporter": "python",
   "pygments_lexer": "ipython3",
   "version": "3.9.7"
  }
 },
 "nbformat": 4,
 "nbformat_minor": 5
}
