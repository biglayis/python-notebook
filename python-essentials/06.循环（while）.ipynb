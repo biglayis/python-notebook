{
 "cells": [
  {
   "cell_type": "markdown",
   "id": "5795cd76",
   "metadata": {},
   "source": [
    "# while"
   ]
  },
  {
   "cell_type": "markdown",
   "id": "2e68b57e",
   "metadata": {},
   "source": [
    "## 基本语法"
   ]
  },
  {
   "cell_type": "markdown",
   "id": "ab8ca60f",
   "metadata": {},
   "source": [
    "while 条件:  \n",
    "\n",
    "    条件满足时，做的事情  \n",
    "    处理条件（计数器+1）"
   ]
  },
  {
   "cell_type": "code",
   "execution_count": 1,
   "id": "187e9ce6",
   "metadata": {},
   "outputs": [
    {
     "name": "stdout",
     "output_type": "stream",
     "text": [
      "Hello python\n",
      "Hello python\n",
      "Hello python\n",
      "Hello python\n",
      "Hello python\n"
     ]
    }
   ],
   "source": [
    "i = 1\n",
    "\n",
    "while i <= 5:\n",
    "    print(\"Hello python\")\n",
    "    i += 1;"
   ]
  },
  {
   "cell_type": "markdown",
   "id": "fc3497cd",
   "metadata": {},
   "source": [
    "## break和continue"
   ]
  },
  {
   "cell_type": "code",
   "execution_count": 3,
   "id": "c77ad9e3",
   "metadata": {},
   "outputs": [
    {
     "name": "stdout",
     "output_type": "stream",
     "text": [
      "0\n",
      "1\n",
      "2\n",
      "over\n"
     ]
    }
   ],
   "source": [
    "i = 0\n",
    "\n",
    "while i < 10:\n",
    "    if i == 3:\n",
    "        break      #当i=3时，退出当前循环\n",
    "    print(i)\n",
    "    i += 1\n",
    "    \n",
    "print(\"over\")"
   ]
  },
  {
   "cell_type": "code",
   "execution_count": 1,
   "id": "2e1da118",
   "metadata": {},
   "outputs": [
    {
     "name": "stdout",
     "output_type": "stream",
     "text": [
      "0\n",
      "1\n",
      "2\n",
      "4\n",
      "5\n",
      "6\n",
      "7\n",
      "8\n",
      "9\n",
      "over\n"
     ]
    }
   ],
   "source": [
    "i = 0\n",
    "\n",
    "while i < 10:\n",
    "    if i == 3:\n",
    "        i += 1     #在使用continue之前，同样应该修改计数器，否则会出现死循环\n",
    "        continue   #当i=3时，不执行循环代码，但又不退出循环\n",
    "    print(i)\n",
    "    i += 1\n",
    "    \n",
    "print(\"over\")"
   ]
  },
  {
   "cell_type": "markdown",
   "id": "f8ab32b4",
   "metadata": {},
   "source": [
    "## 循环嵌套——九九乘法表"
   ]
  },
  {
   "cell_type": "code",
   "execution_count": 6,
   "id": "4f859b4b",
   "metadata": {},
   "outputs": [
    {
     "name": "stdout",
     "output_type": "stream",
     "text": [
      "1 * 1 = 1\t\n",
      "2 * 1 = 2\t2 * 2 = 4\t\n",
      "3 * 1 = 3\t3 * 2 = 6\t3 * 3 = 9\t\n",
      "4 * 1 = 4\t4 * 2 = 8\t4 * 3 = 12\t4 * 4 = 16\t\n",
      "5 * 1 = 5\t5 * 2 = 10\t5 * 3 = 15\t5 * 4 = 20\t5 * 5 = 25\t\n",
      "6 * 1 = 6\t6 * 2 = 12\t6 * 3 = 18\t6 * 4 = 24\t6 * 5 = 30\t6 * 6 = 36\t\n",
      "7 * 1 = 7\t7 * 2 = 14\t7 * 3 = 21\t7 * 4 = 28\t7 * 5 = 35\t7 * 6 = 42\t7 * 7 = 49\t\n",
      "8 * 1 = 8\t8 * 2 = 16\t8 * 3 = 24\t8 * 4 = 32\t8 * 5 = 40\t8 * 6 = 48\t8 * 7 = 56\t8 * 8 = 64\t\n",
      "9 * 1 = 9\t9 * 2 = 18\t9 * 3 = 27\t9 * 4 = 36\t9 * 5 = 45\t9 * 6 = 54\t9 * 7 = 63\t9 * 8 = 72\t9 * 9 = 81\t\n"
     ]
    }
   ],
   "source": [
    "row = 1\n",
    "\n",
    "while row <= 9:\n",
    "    col = 1\n",
    "    while col <= row:\n",
    "        print(\"%d * %d = %d\" % (row, col, row*col), end=\"\\t\")\n",
    "        col += 1\n",
    "    print(\"\")\n",
    "    row += 1"
   ]
  }
 ],
 "metadata": {
  "kernelspec": {
   "display_name": "Python 3 (ipykernel)",
   "language": "python",
   "name": "python3"
  },
  "language_info": {
   "codemirror_mode": {
    "name": "ipython",
    "version": 3
   },
   "file_extension": ".py",
   "mimetype": "text/x-python",
   "name": "python",
   "nbconvert_exporter": "python",
   "pygments_lexer": "ipython3",
   "version": "3.9.7"
  }
 },
 "nbformat": 4,
 "nbformat_minor": 5
}
