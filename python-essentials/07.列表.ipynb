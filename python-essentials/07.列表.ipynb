{
 "cells": [
  {
   "cell_type": "markdown",
   "id": "1491a261",
   "metadata": {},
   "source": [
    "# 列表的定义"
   ]
  },
  {
   "cell_type": "markdown",
   "id": "1ca520cf",
   "metadata": {},
   "source": [
    "* 列表用`[]`定义，数据之间用`,`分隔\n",
    "* 列表的索引从0开始\n",
    "* 在其他语言中通常叫做数组"
   ]
  },
  {
   "cell_type": "code",
   "execution_count": 1,
   "id": "dc72af0f",
   "metadata": {},
   "outputs": [],
   "source": [
    "name_list = [\"zhangsan\", \"lisi\", \"wangwu\"]"
   ]
  },
  {
   "cell_type": "markdown",
   "id": "251b7378",
   "metadata": {},
   "source": [
    "# 列表常用操作"
   ]
  },
  {
   "cell_type": "markdown",
   "id": "ec2b8007",
   "metadata": {},
   "source": [
    "分类 | 函数/方法 | 描述\n",
    ":----|:----------|:----\n",
    "增加 | 列表.insert(索引, 数据) | 在指定位置插入数据\n",
    "| 列表.append(数据) | 在末尾追加数据\n",
    "| 列表.extend(列表2)| 将列表2的数据追加到列表\n",
    "修改 | 列表[索引] = 数据 | 修改指定索引的数据\n",
    "删除 | del 列表[索引] | 删除指定索引的数据\n",
    "| 列表.remove[数据] | 删除第一个出现的指定数据\n",
    "| 列表.pop | 删除末尾数据\n",
    "| 列表.pop(索引) | 删除指定索引数据\n",
    "| 列表.clear | 清空列表\n",
    "统计 | len(列表) | 列表长度\n",
    "| 列表.count(数量) | 数据在列表中出现的次数\n",
    "排序 | 列表.sort() | 升序排序\n",
    "| 列表.sort(reverse=True) | 降序排序\n",
    "| 列表.reverse | 逆序、反转"
   ]
  },
  {
   "cell_type": "code",
   "execution_count": 2,
   "id": "95ebf65b",
   "metadata": {},
   "outputs": [
    {
     "name": "stdout",
     "output_type": "stream",
     "text": [
      "['zhangsan', 'xiaoming', 'lisi', 'wangwu']\n"
     ]
    }
   ],
   "source": [
    "# 在指定位置插入数据\n",
    "name_list.insert(1, \"xiaoming\")\n",
    "print(name_list)"
   ]
  },
  {
   "cell_type": "code",
   "execution_count": 3,
   "id": "76b95753",
   "metadata": {},
   "outputs": [
    {
     "name": "stdout",
     "output_type": "stream",
     "text": [
      "['zhangsan', 'xiaoming', 'lisi', 'wangwu', 'captain']\n"
     ]
    }
   ],
   "source": [
    "# 在末尾追加数据\n",
    "name_list.append(\"captain\")\n",
    "print(name_list)"
   ]
  },
  {
   "cell_type": "code",
   "execution_count": 4,
   "id": "7ced413d",
   "metadata": {},
   "outputs": [
    {
     "name": "stdout",
     "output_type": "stream",
     "text": [
      "['zhangsan', 'xiaoming', 'lisi', 'wangwu', 'captain', 'tony', 'peter']\n"
     ]
    }
   ],
   "source": [
    "# 将列表2的数据追加到列表\n",
    "name_list2 = [\"tony\", \"peter\"]\n",
    "name_list.extend(name_list2)\n",
    "print(name_list)"
   ]
  },
  {
   "cell_type": "code",
   "execution_count": 5,
   "id": "603e3f50",
   "metadata": {},
   "outputs": [
    {
     "name": "stdout",
     "output_type": "stream",
     "text": [
      "['zhangsan', 'xiaoming', 'lisi', 'wangwu', 'steve', 'tony', 'peter']\n"
     ]
    }
   ],
   "source": [
    "# 修改指定索引的数据\n",
    "name_list[4] = \"steve\"\n",
    "print(name_list)"
   ]
  },
  {
   "cell_type": "code",
   "execution_count": 6,
   "id": "56317e6d",
   "metadata": {},
   "outputs": [
    {
     "name": "stdout",
     "output_type": "stream",
     "text": [
      "['zhangsan', 'xiaoming', 'lisi', 'steve', 'tony', 'peter']\n"
     ]
    }
   ],
   "source": [
    "# 删除指定索引的数据\n",
    "del name_list[3]\n",
    "print(name_list)"
   ]
  },
  {
   "cell_type": "code",
   "execution_count": 7,
   "id": "80fe6e78",
   "metadata": {},
   "outputs": [
    {
     "name": "stdout",
     "output_type": "stream",
     "text": [
      "['zhangsan', 'xiaoming', 'lisi', 'steve', 'tony', 'peter', 'zhangsan']\n",
      "['xiaoming', 'lisi', 'steve', 'tony', 'peter', 'zhangsan']\n"
     ]
    }
   ],
   "source": [
    "# 删除第一个出现的指定数据\n",
    "name_list.append(\"zhangsan\")\n",
    "print(name_list)\n",
    "name_list.remove(\"zhangsan\")\n",
    "print(name_list)"
   ]
  },
  {
   "cell_type": "code",
   "execution_count": 8,
   "id": "8018bf49",
   "metadata": {},
   "outputs": [
    {
     "name": "stdout",
     "output_type": "stream",
     "text": [
      "['xiaoming', 'lisi', 'steve', 'tony', 'peter']\n"
     ]
    }
   ],
   "source": [
    "# 删除末尾数据\n",
    "name_list.pop()\n",
    "print(name_list)"
   ]
  },
  {
   "cell_type": "code",
   "execution_count": 9,
   "id": "ee533649",
   "metadata": {},
   "outputs": [
    {
     "name": "stdout",
     "output_type": "stream",
     "text": [
      "['xiaoming', 'steve', 'tony', 'peter']\n"
     ]
    }
   ],
   "source": [
    "# 删除指定索引数据\n",
    "name_list.pop(1)\n",
    "print(name_list)"
   ]
  },
  {
   "cell_type": "code",
   "execution_count": 10,
   "id": "d0fe9425",
   "metadata": {},
   "outputs": [
    {
     "name": "stdout",
     "output_type": "stream",
     "text": [
      "['tony', 'peter']\n",
      "[]\n"
     ]
    }
   ],
   "source": [
    "# 清空列表\n",
    "print(name_list2)\n",
    "name_list2.clear()\n",
    "print(name_list2)"
   ]
  },
  {
   "cell_type": "code",
   "execution_count": 12,
   "id": "234ea66e",
   "metadata": {},
   "outputs": [
    {
     "name": "stdout",
     "output_type": "stream",
     "text": [
      "['xiaoming', 'steve', 'tony', 'peter']\n",
      "列表长度为4\n"
     ]
    }
   ],
   "source": [
    "# 列表长度\n",
    "print(name_list)\n",
    "print(\"列表长度为%d\" % len(name_list))"
   ]
  },
  {
   "cell_type": "code",
   "execution_count": 13,
   "id": "83449487",
   "metadata": {},
   "outputs": [
    {
     "name": "stdout",
     "output_type": "stream",
     "text": [
      "1\n"
     ]
    }
   ],
   "source": [
    "# 数据在列表中出现的次数\n",
    "print(name_list.count(\"tony\"))"
   ]
  },
  {
   "cell_type": "code",
   "execution_count": 17,
   "id": "4d71b825",
   "metadata": {},
   "outputs": [
    {
     "name": "stdout",
     "output_type": "stream",
     "text": [
      "[9, 18, 23, 45, 68]\n"
     ]
    }
   ],
   "source": [
    "# 升序排序\n",
    "num_list = [45,23,68,9,18]\n",
    "num_list.sort()\n",
    "print(num_list)"
   ]
  },
  {
   "cell_type": "code",
   "execution_count": 18,
   "id": "bbc4f940",
   "metadata": {},
   "outputs": [
    {
     "name": "stdout",
     "output_type": "stream",
     "text": [
      "[68, 45, 23, 18, 9]\n"
     ]
    }
   ],
   "source": [
    "# 降序排序\n",
    "num_list.sort(reverse=True)\n",
    "print(num_list)"
   ]
  },
  {
   "cell_type": "code",
   "execution_count": 19,
   "id": "1ac605f9",
   "metadata": {},
   "outputs": [
    {
     "name": "stdout",
     "output_type": "stream",
     "text": [
      "['xiaoming', 'steve', 'tony', 'peter']\n",
      "['peter', 'tony', 'steve', 'xiaoming']\n"
     ]
    }
   ],
   "source": [
    "# 逆序、反转\n",
    "print(name_list)\n",
    "name_list.reverse()\n",
    "print(name_list)"
   ]
  },
  {
   "cell_type": "markdown",
   "id": "320a600d",
   "metadata": {},
   "source": [
    "# 循环遍历"
   ]
  },
  {
   "cell_type": "code",
   "execution_count": 20,
   "id": "b7694816",
   "metadata": {},
   "outputs": [
    {
     "name": "stdout",
     "output_type": "stream",
     "text": [
      "peter\n",
      "tony\n",
      "steve\n",
      "xiaoming\n"
     ]
    }
   ],
   "source": [
    "for i in name_list:\n",
    "    print(i)"
   ]
  },
  {
   "cell_type": "markdown",
   "id": "d6529a9c",
   "metadata": {},
   "source": [
    "# range()函数"
   ]
  },
  {
   "cell_type": "markdown",
   "id": "0f631e88",
   "metadata": {},
   "source": [
    "函数原型：`range(start,stop[,step])`，`[]`代表不是必须  \n",
    "参数含义：  \n",
    "* start:计数从start开始。默认是从0开始。  \n",
    "* end:计数到end结束，但不包括end。  \n",
    "* step：每次跳跃的间距，默认为1。"
   ]
  },
  {
   "cell_type": "code",
   "execution_count": 1,
   "id": "75ebc97c",
   "metadata": {},
   "outputs": [
    {
     "data": {
      "text/plain": [
       "range(0, 5)"
      ]
     },
     "execution_count": 1,
     "metadata": {},
     "output_type": "execute_result"
    }
   ],
   "source": [
    "range(5)"
   ]
  },
  {
   "cell_type": "code",
   "execution_count": 2,
   "id": "0088d26a",
   "metadata": {},
   "outputs": [
    {
     "data": {
      "text/plain": [
       "[0, 1, 2, 3, 4]"
      ]
     },
     "execution_count": 2,
     "metadata": {},
     "output_type": "execute_result"
    }
   ],
   "source": [
    "list(range(5))"
   ]
  },
  {
   "cell_type": "code",
   "execution_count": 3,
   "id": "1b35a6ea",
   "metadata": {},
   "outputs": [
    {
     "name": "stdout",
     "output_type": "stream",
     "text": [
      "2\n",
      "4\n",
      "6\n"
     ]
    }
   ],
   "source": [
    "for i in range(2,7,2):\n",
    "    print(i)"
   ]
  },
  {
   "cell_type": "code",
   "execution_count": 4,
   "id": "099bb1ea",
   "metadata": {},
   "outputs": [
    {
     "name": "stdout",
     "output_type": "stream",
     "text": [
      "0\n",
      "-2\n",
      "-4\n"
     ]
    }
   ],
   "source": [
    "for i in range(0,-5,-2):\n",
    "    print(i)"
   ]
  }
 ],
 "metadata": {
  "kernelspec": {
   "display_name": "Python 3 (ipykernel)",
   "language": "python",
   "name": "python3"
  },
  "language_info": {
   "codemirror_mode": {
    "name": "ipython",
    "version": 3
   },
   "file_extension": ".py",
   "mimetype": "text/x-python",
   "name": "python",
   "nbconvert_exporter": "python",
   "pygments_lexer": "ipython3",
   "version": "3.9.7"
  },
  "toc": {
   "base_numbering": 1,
   "nav_menu": {},
   "number_sections": true,
   "sideBar": true,
   "skip_h1_title": false,
   "title_cell": "Table of Contents",
   "title_sidebar": "Contents",
   "toc_cell": false,
   "toc_position": {},
   "toc_section_display": true,
   "toc_window_display": false
  }
 },
 "nbformat": 4,
 "nbformat_minor": 5
}
