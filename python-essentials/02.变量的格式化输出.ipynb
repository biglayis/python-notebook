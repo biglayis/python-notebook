{
 "cells": [
  {
   "cell_type": "markdown",
   "id": "590b5cd8",
   "metadata": {},
   "source": [
    "# print函数基本语法"
   ]
  },
  {
   "cell_type": "markdown",
   "id": "44563af5",
   "metadata": {},
   "source": [
    "| 格式化字符 | 含义 |\n",
    "| :-----:  | :-----: |\n",
    "| %s | 字符串|\n",
    "| %d | 整数，`%06d`表示输出6位整数，不足的地方用0补全 |\n",
    "| %f | 浮点数，`%.2f`表示小数点后只显示2位 |\n",
    "| %% | 输出`%` |"
   ]
  },
  {
   "cell_type": "markdown",
   "id": "c7dc7a70",
   "metadata": {},
   "source": [
    "语法格式如下："
   ]
  },
  {
   "cell_type": "markdown",
   "id": "749ffada",
   "metadata": {},
   "source": [
    "print(\"格式化字符串\" % (变量1, 变量2, ……))"
   ]
  },
  {
   "cell_type": "code",
   "execution_count": 3,
   "id": "1eb59243",
   "metadata": {},
   "outputs": [],
   "source": [
    "name = '张三'\n",
    "stu_no = 12345\n",
    "price = 9.3\n",
    "weight = 4.2"
   ]
  },
  {
   "cell_type": "code",
   "execution_count": 3,
   "id": "8f3baf7d",
   "metadata": {},
   "outputs": [
    {
     "name": "stdout",
     "output_type": "stream",
     "text": [
      "我的名字叫张三，我的学号是012345\n"
     ]
    }
   ],
   "source": [
    "print(\"我的名字叫%s，我的学号是%06d\" % (name, stu_no))"
   ]
  },
  {
   "cell_type": "code",
   "execution_count": 11,
   "id": "9e47b3c2",
   "metadata": {},
   "outputs": [
    {
     "name": "stdout",
     "output_type": "stream",
     "text": [
      "苹果的单价是9.30，重量是4.20，总价为39.06\n"
     ]
    }
   ],
   "source": [
    "print(\"苹果的单价是%.2f，重量是%.2f，总价为%.2f\" % (price, weight, price*weight))"
   ]
  },
  {
   "cell_type": "code",
   "execution_count": 13,
   "id": "ac3879d8",
   "metadata": {},
   "outputs": [
    {
     "name": "stdout",
     "output_type": "stream",
     "text": [
      "数据比例是10.23%\n"
     ]
    }
   ],
   "source": [
    "scale = 10.23\n",
    "print(\"数据比例是%.2f%%\" % scale)"
   ]
  },
  {
   "cell_type": "markdown",
   "id": "b618e2ed",
   "metadata": {},
   "source": [
    "# 格式化输出"
   ]
  },
  {
   "cell_type": "code",
   "execution_count": 3,
   "id": "4f6d6648",
   "metadata": {},
   "outputs": [],
   "source": [
    "a = 10\n",
    "b = 20"
   ]
  },
  {
   "cell_type": "code",
   "execution_count": 2,
   "id": "65cdffb5",
   "metadata": {},
   "outputs": [
    {
     "name": "stdout",
     "output_type": "stream",
     "text": [
      "10 * 20 = 200\n"
     ]
    }
   ],
   "source": [
    "print(\"%d * %d = %d\" % (a, b, a*b))"
   ]
  },
  {
   "cell_type": "markdown",
   "id": "263ae4d0",
   "metadata": {},
   "source": [
    "python用字符串的`format()`方法来格式化字符串。  \n",
    "字符串中花括号`{}`的部分会被format传入的参数替代，传入的值可以是字符串，也可以是数字或者别的对象。"
   ]
  },
  {
   "cell_type": "markdown",
   "id": "0ba1b9ff",
   "metadata": {},
   "source": [
    "* 可以用数字指定传入参数的相对位置"
   ]
  },
  {
   "cell_type": "code",
   "execution_count": 3,
   "id": "62a26ac8",
   "metadata": {},
   "outputs": [
    {
     "name": "stdout",
     "output_type": "stream",
     "text": [
      "10 * 20 = 200\n"
     ]
    }
   ],
   "source": [
    "print(\"{0} * {1} = {2}\".format(a, b, a*b))  "
   ]
  },
  {
   "cell_type": "code",
   "execution_count": 4,
   "id": "ede43b71",
   "metadata": {},
   "outputs": [
    {
     "name": "stdout",
     "output_type": "stream",
     "text": [
      "20 * 10 = 200\n"
     ]
    }
   ],
   "source": [
    "print(\"{1} * {0} = {2}\".format(a, b, a*b))  "
   ]
  },
  {
   "cell_type": "markdown",
   "id": "94786e96",
   "metadata": {},
   "source": [
    "* 可以指定传入参数的名称"
   ]
  },
  {
   "cell_type": "code",
   "execution_count": 5,
   "id": "11a1e4b9",
   "metadata": {},
   "outputs": [
    {
     "name": "stdout",
     "output_type": "stream",
     "text": [
      "blue 10 1.5\n"
     ]
    }
   ],
   "source": [
    "print('{color} {n} {x}'.format(n=10, x=1.5, color='blue'))"
   ]
  },
  {
   "cell_type": "markdown",
   "id": "8e111da8",
   "metadata": {},
   "source": [
    "* 可以用`{<field name>:<format>}`指定格式："
   ]
  },
  {
   "cell_type": "code",
   "execution_count": 10,
   "id": "9ac31adf",
   "metadata": {},
   "outputs": [
    {
     "name": "stdout",
     "output_type": "stream",
     "text": [
      "foo       -         5-      6.28\n"
     ]
    }
   ],
   "source": [
    "print('{0:10}-{1:10d}-{2:10.2f}'.format('foo', 5, 2 * 3.1415926))"
   ]
  },
  {
   "cell_type": "markdown",
   "id": "c3da613f",
   "metadata": {},
   "source": [
    "* 从python3.6开始，可以在字符串前加上`f`来格式化字符串。在这种以`f`打头的字符串中，`{变量名}`是一个占位符，会被变量对应的值将其替换掉"
   ]
  },
  {
   "cell_type": "code",
   "execution_count": 4,
   "id": "d691c5e2",
   "metadata": {},
   "outputs": [
    {
     "name": "stdout",
     "output_type": "stream",
     "text": [
      "10 * 20 = 200\n"
     ]
    }
   ],
   "source": [
    "print(f\"{a} * {b} = {a*b}\")"
   ]
  },
  {
   "cell_type": "markdown",
   "id": "fd652ccc",
   "metadata": {},
   "source": [
    "变量值|占位符|格式化结果|说明\n",
    ":--:|:--:|:--:|:--:\n",
    "3.1415926|{:.2f}|3.14|保留小数点后两位\n",
    "3.1415926|{:+.2f}|+3.14|带符号保留小数点后两位\n",
    "3.1415926|{:.0f}|3|不带小数\n",
    "123|{:0>10d}|0000000123|左边补0，补够10位\n",
    "123|{:x<10d}|123xxxxxxx}|右边补x，补够10位\n",
    "123|{:>10d}|       123|左边补空格，补够10位\n",
    "123|{:<10d}|123       |右边补空格，补够10位\n",
    "1234567|{:,}|1,234,567|千分位\n",
    "0.123|{:.2%}|12.30%|百分比\n",
    "1234567|{:.2e}|1.23e+06|科学计数法"
   ]
  },
  {
   "cell_type": "code",
   "execution_count": 9,
   "id": "325bcbc5",
   "metadata": {},
   "outputs": [
    {
     "name": "stdout",
     "output_type": "stream",
     "text": [
      "46,230\n"
     ]
    }
   ],
   "source": [
    "x = 134\n",
    "y = 345\n",
    "print(f\"{x*y:,}\")"
   ]
  },
  {
   "cell_type": "code",
   "execution_count": 11,
   "id": "b08f0b89",
   "metadata": {},
   "outputs": [
    {
     "name": "stdout",
     "output_type": "stream",
     "text": [
      "+3.14\n"
     ]
    }
   ],
   "source": [
    "pi = 3.1415926\n",
    "print(\"{:+.2f}\".format(pi))"
   ]
  },
  {
   "cell_type": "code",
   "execution_count": 12,
   "id": "6b903c34",
   "metadata": {},
   "outputs": [
    {
     "name": "stdout",
     "output_type": "stream",
     "text": [
      "314.16%\n"
     ]
    }
   ],
   "source": [
    "print(f\"{pi:.2%}\")"
   ]
  },
  {
   "cell_type": "code",
   "execution_count": 17,
   "id": "e6aa624f",
   "metadata": {},
   "outputs": [
    {
     "name": "stdout",
     "output_type": "stream",
     "text": [
      "3.141593000000000000\n"
     ]
    }
   ],
   "source": [
    "print(f\"{pi:0<20f}\")"
   ]
  },
  {
   "cell_type": "code",
   "execution_count": 18,
   "id": "ef203a79",
   "metadata": {},
   "outputs": [
    {
     "name": "stdout",
     "output_type": "stream",
     "text": [
      "xxxxxxxxxxxx3.141593\n"
     ]
    }
   ],
   "source": [
    "print(f\"{pi:x>20f}\")"
   ]
  }
 ],
 "metadata": {
  "kernelspec": {
   "display_name": "Python 3 (ipykernel)",
   "language": "python",
   "name": "python3"
  },
  "language_info": {
   "codemirror_mode": {
    "name": "ipython",
    "version": 3
   },
   "file_extension": ".py",
   "mimetype": "text/x-python",
   "name": "python",
   "nbconvert_exporter": "python",
   "pygments_lexer": "ipython3",
   "version": "3.9.7"
  }
 },
 "nbformat": 4,
 "nbformat_minor": 5
}
