{
 "cells": [
  {
   "cell_type": "markdown",
   "id": "44563af5",
   "metadata": {},
   "source": [
    "| 格式化字符 | 含义 |\n",
    "| :-----:  | :-----: |\n",
    "| %s | 字符串|\n",
    "| %d | 整数，`%06d`表示输出6位整数，不足的地方用0补全 |\n",
    "| %f | 浮点数，`%.2f`表示小数点后只显示2位 |\n",
    "| %% | 输出`%` |"
   ]
  },
  {
   "cell_type": "markdown",
   "id": "c7dc7a70",
   "metadata": {},
   "source": [
    "语法格式如下："
   ]
  },
  {
   "cell_type": "markdown",
   "id": "749ffada",
   "metadata": {},
   "source": [
    "print(\"格式化字符串\" % (变量1, 变量2, ……))"
   ]
  },
  {
   "cell_type": "code",
   "execution_count": 12,
   "id": "1eb59243",
   "metadata": {},
   "outputs": [],
   "source": [
    "name = '张三'\n",
    "stu_no = 12345\n",
    "price = 9.3\n",
    "weight = 4.2"
   ]
  },
  {
   "cell_type": "code",
   "execution_count": 3,
   "id": "8f3baf7d",
   "metadata": {},
   "outputs": [
    {
     "name": "stdout",
     "output_type": "stream",
     "text": [
      "我的名字叫张三，我的学号是012345\n"
     ]
    }
   ],
   "source": [
    "print(\"我的名字叫%s，我的学号是%06d\" % (name, stu_no))"
   ]
  },
  {
   "cell_type": "code",
   "execution_count": 11,
   "id": "9e47b3c2",
   "metadata": {},
   "outputs": [
    {
     "name": "stdout",
     "output_type": "stream",
     "text": [
      "苹果的单价是9.30，重量是4.20，总价为39.06\n"
     ]
    }
   ],
   "source": [
    "print(\"苹果的单价是%.2f，重量是%.2f，总价为%.2f\" % (price, weight, price*weight))"
   ]
  },
  {
   "cell_type": "code",
   "execution_count": 13,
   "id": "ac3879d8",
   "metadata": {},
   "outputs": [
    {
     "name": "stdout",
     "output_type": "stream",
     "text": [
      "数据比例是10.23%\n"
     ]
    }
   ],
   "source": [
    "scale = 10.23\n",
    "print(\"数据比例是%.2f%%\" % scale)"
   ]
  }
 ],
 "metadata": {
  "kernelspec": {
   "display_name": "Python 3 (ipykernel)",
   "language": "python",
   "name": "python3"
  },
  "language_info": {
   "codemirror_mode": {
    "name": "ipython",
    "version": 3
   },
   "file_extension": ".py",
   "mimetype": "text/x-python",
   "name": "python",
   "nbconvert_exporter": "python",
   "pygments_lexer": "ipython3",
   "version": "3.9.7"
  }
 },
 "nbformat": 4,
 "nbformat_minor": 5
}
