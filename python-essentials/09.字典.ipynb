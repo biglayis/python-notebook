{
 "cells": [
  {
   "cell_type": "markdown",
   "id": "65437de3",
   "metadata": {},
   "source": [
    "# 字典的定义"
   ]
  },
  {
   "cell_type": "markdown",
   "id": "bc0a2f8d",
   "metadata": {},
   "source": [
    "* 字典用`{}`定义\n",
    "* 字典使用**键值对**存储数据，键值对之间使用`,`分隔\n",
    "    * `key`是索引，`value`是数据\n",
    "    * 键和值之间使用`:`分隔\n",
    "    * 键必须是唯一的，且只能使用**字符串、数字或元组**\n",
    "* 和列表的区别：列表是有序的，字典是无序的"
   ]
  },
  {
   "cell_type": "code",
   "execution_count": 1,
   "id": "de0fddf1",
   "metadata": {},
   "outputs": [],
   "source": [
    "xiaoming = {\"name\" : \"小明\",\n",
    "            \"age\" : 19,\n",
    "            \"gender\" : True,\n",
    "            \"height\" : 1.76}"
   ]
  },
  {
   "cell_type": "markdown",
   "id": "b6e5ff52",
   "metadata": {},
   "source": [
    "# 字典常用操作"
   ]
  },
  {
   "cell_type": "markdown",
   "id": "0ea2fafe",
   "metadata": {},
   "source": [
    "## 取值"
   ]
  },
  {
   "cell_type": "code",
   "execution_count": 2,
   "id": "5260f250",
   "metadata": {
    "scrolled": true
   },
   "outputs": [
    {
     "name": "stdout",
     "output_type": "stream",
     "text": [
      "小明\n"
     ]
    }
   ],
   "source": [
    "# 从字典中取值，key不存在会报错\n",
    "xiaoming[\"name\"]"
   ]
  },
  {
   "cell_type": "code",
   "execution_count": 3,
   "id": "83be17e2",
   "metadata": {},
   "outputs": [],
   "source": [
    "# 从字典中取值，key不存在不会报错\n",
    "xiaoming.get(\"address\")"
   ]
  },
  {
   "cell_type": "markdown",
   "id": "4d3d764c",
   "metadata": {},
   "source": [
    "## 统计"
   ]
  },
  {
   "cell_type": "code",
   "execution_count": 4,
   "id": "218c307a",
   "metadata": {},
   "outputs": [
    {
     "data": {
      "text/plain": [
       "dict_keys(['name', 'age', 'gender', 'height'])"
      ]
     },
     "execution_count": 4,
     "metadata": {},
     "output_type": "execute_result"
    }
   ],
   "source": [
    "# 所有key列表\n",
    "xiaoming.keys()"
   ]
  },
  {
   "cell_type": "code",
   "execution_count": 5,
   "id": "9009f6ff",
   "metadata": {},
   "outputs": [
    {
     "data": {
      "text/plain": [
       "dict_values(['小明', 19, True, 1.76])"
      ]
     },
     "execution_count": 5,
     "metadata": {},
     "output_type": "execute_result"
    }
   ],
   "source": [
    "# 所有value列表\n",
    "xiaoming.values()"
   ]
  },
  {
   "cell_type": "code",
   "execution_count": 6,
   "id": "40b5b6a5",
   "metadata": {},
   "outputs": [
    {
     "data": {
      "text/plain": [
       "dict_items([('name', '小明'), ('age', 19), ('gender', True), ('height', 1.76)])"
      ]
     },
     "execution_count": 6,
     "metadata": {},
     "output_type": "execute_result"
    }
   ],
   "source": [
    "# 所有(key, value)元组列表\n",
    "xiaoming.items()"
   ]
  },
  {
   "cell_type": "markdown",
   "id": "4051dc51",
   "metadata": {},
   "source": [
    "## 修改"
   ]
  },
  {
   "cell_type": "code",
   "execution_count": 8,
   "id": "6fee6270",
   "metadata": {},
   "outputs": [
    {
     "data": {
      "text/plain": [
       "dict_items([('name', '小明'), ('age', 15), ('gender', True), ('height', 1.76), ('address', 'China')])"
      ]
     },
     "execution_count": 8,
     "metadata": {},
     "output_type": "execute_result"
    }
   ],
   "source": [
    "# 如果key存在，修改数据；如果key不存在，新建键值对\n",
    "xiaoming['age'] = 15\n",
    "xiaoming['address'] = \"China\"\n",
    "xiaoming.items()"
   ]
  },
  {
   "cell_type": "code",
   "execution_count": 10,
   "id": "c05eb25a",
   "metadata": {},
   "outputs": [
    {
     "data": {
      "text/plain": [
       "dict_items([('name', '小明'), ('age', 15), ('gender', True), ('height', 1.76), ('address', 'China'), ('email', 'xm@qq.com')])"
      ]
     },
     "execution_count": 10,
     "metadata": {},
     "output_type": "execute_result"
    }
   ],
   "source": [
    "# 如果key存在，不会修改数据；如果key不存在，新建键值对\n",
    "xiaoming.setdefault('name', '小张')\n",
    "xiaoming.setdefault('email', 'xm@qq.com')\n",
    "xiaoming.items()"
   ]
  },
  {
   "cell_type": "code",
   "execution_count": 11,
   "id": "853d0680",
   "metadata": {},
   "outputs": [
    {
     "data": {
      "text/plain": [
       "dict_items([('name', '小明'), ('age', 15), ('gender', True), ('height', 1.76), ('address', 'China'), ('email', 'xm@qq.com'), ('father', '大明'), ('mother', '阿花')])"
      ]
     },
     "execution_count": 11,
     "metadata": {},
     "output_type": "execute_result"
    }
   ],
   "source": [
    "# 将字典2的数据合并到字典1\n",
    "family = {\"father\" : \"大明\",\n",
    "          \"mother\" : \"阿花\"}\n",
    "xiaoming.update(family)\n",
    "xiaoming.items()"
   ]
  },
  {
   "cell_type": "markdown",
   "id": "41782dd2",
   "metadata": {},
   "source": [
    "## 删除"
   ]
  },
  {
   "cell_type": "code",
   "execution_count": 12,
   "id": "5afbe6b4",
   "metadata": {},
   "outputs": [
    {
     "data": {
      "text/plain": [
       "dict_items([('name', '小明'), ('age', 15), ('gender', True), ('height', 1.76), ('address', 'China'), ('email', 'xm@qq.com'), ('father', '大明')])"
      ]
     },
     "execution_count": 12,
     "metadata": {},
     "output_type": "execute_result"
    }
   ],
   "source": [
    "# 删除指定键值对，key不存在会报错\n",
    "del xiaoming[\"mother\"]\n",
    "xiaoming.items()"
   ]
  },
  {
   "cell_type": "code",
   "execution_count": 13,
   "id": "c761ba46",
   "metadata": {},
   "outputs": [
    {
     "data": {
      "text/plain": [
       "dict_items([('name', '小明'), ('age', 15), ('gender', True), ('height', 1.76), ('address', 'China'), ('email', 'xm@qq.com')])"
      ]
     },
     "execution_count": 13,
     "metadata": {},
     "output_type": "execute_result"
    }
   ],
   "source": [
    "# 删除指定键值对，key不存在会报错\n",
    "xiaoming.pop(\"father\")\n",
    "xiaoming.items()"
   ]
  },
  {
   "cell_type": "code",
   "execution_count": 14,
   "id": "d123a1c7",
   "metadata": {},
   "outputs": [
    {
     "data": {
      "text/plain": [
       "dict_items([('name', '小明'), ('age', 15), ('gender', True), ('height', 1.76), ('address', 'China')])"
      ]
     },
     "execution_count": 14,
     "metadata": {},
     "output_type": "execute_result"
    }
   ],
   "source": [
    "# 随机删除一个键值对\n",
    "xiaoming.popitem()\n",
    "xiaoming.items()"
   ]
  },
  {
   "cell_type": "code",
   "execution_count": 15,
   "id": "fd6c4610",
   "metadata": {},
   "outputs": [
    {
     "data": {
      "text/plain": [
       "dict_items([])"
      ]
     },
     "execution_count": 15,
     "metadata": {},
     "output_type": "execute_result"
    }
   ],
   "source": [
    "# 清空字典\n",
    "family.clear()\n",
    "family.items()"
   ]
  },
  {
   "cell_type": "markdown",
   "id": "50f4063f",
   "metadata": {},
   "source": [
    "# 循环遍历"
   ]
  },
  {
   "cell_type": "code",
   "execution_count": 18,
   "id": "279568a2",
   "metadata": {},
   "outputs": [
    {
     "name": "stdout",
     "output_type": "stream",
     "text": [
      "name 小明\n",
      "age 15\n",
      "gender True\n",
      "height 1.76\n",
      "address China\n"
     ]
    }
   ],
   "source": [
    "for k, v in xiaoming.items():\n",
    "    print(k, v)"
   ]
  },
  {
   "cell_type": "code",
   "execution_count": 19,
   "id": "8666c245",
   "metadata": {},
   "outputs": [
    {
     "name": "stdout",
     "output_type": "stream",
     "text": [
      "name：小明\n",
      "age：15\n",
      "gender：True\n",
      "height：1.76\n",
      "address：China\n"
     ]
    }
   ],
   "source": [
    "for k in xiaoming:\n",
    "    print(\"%s：%s\" % (k, xiaoming[k]))"
   ]
  },
  {
   "cell_type": "markdown",
   "id": "2a625b79",
   "metadata": {},
   "source": [
    "# 应用场景"
   ]
  },
  {
   "cell_type": "markdown",
   "id": "57d542b4",
   "metadata": {},
   "source": [
    "尽管可以使用`for in`遍历字典，但是在开发中，更多的应用场景是：  \n",
    "* 使用多个键值对，存储描述一个物体的相关信息，——描述更复杂的数据信息\n",
    "* 将多个字典放在一个列表中，再进行遍历，在循环体内部对每一个字典进行相同的处理"
   ]
  },
  {
   "cell_type": "code",
   "execution_count": 20,
   "id": "ec05b260",
   "metadata": {},
   "outputs": [],
   "source": [
    "card_list = [{\"name\" : \"张三\",\n",
    "             \"qq\" : \"12345\",\n",
    "             \"phone\" : \"110\"},\n",
    "            {\"name\" : \"李四\",\n",
    "            \"qq\" : \"67890\",\n",
    "            \"phone\" : \"10086\"}]"
   ]
  }
 ],
 "metadata": {
  "kernelspec": {
   "display_name": "Python 3 (ipykernel)",
   "language": "python",
   "name": "python3"
  },
  "language_info": {
   "codemirror_mode": {
    "name": "ipython",
    "version": 3
   },
   "file_extension": ".py",
   "mimetype": "text/x-python",
   "name": "python",
   "nbconvert_exporter": "python",
   "pygments_lexer": "ipython3",
   "version": "3.9.7"
  }
 },
 "nbformat": 4,
 "nbformat_minor": 5
}
