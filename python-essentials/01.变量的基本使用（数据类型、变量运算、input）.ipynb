{
 "cells": [
  {
   "cell_type": "markdown",
   "id": "a66e2e33",
   "metadata": {},
   "source": [
    "# 变量定义"
   ]
  },
  {
   "cell_type": "markdown",
   "id": "4bc20f06",
   "metadata": {},
   "source": [
    "* 在python中，每个变量在使用前都必须赋值，变量赋值以后，该变量才会被创建\n",
    "* 在python中定义变量时不需要指定类型\n",
    "\n",
    "`变量名 = 值`"
   ]
  },
  {
   "cell_type": "markdown",
   "id": "39a65501",
   "metadata": {},
   "source": [
    "* 变量名可以由字母、数字和下划线组成\n",
    "* 不能以数字开头，不能与关键字重名\n",
    "* 区分大小写"
   ]
  },
  {
   "cell_type": "code",
   "execution_count": 17,
   "id": "3cdd1d10",
   "metadata": {},
   "outputs": [
    {
     "name": "stdout",
     "output_type": "stream",
     "text": [
      "1234567\n"
     ]
    }
   ],
   "source": [
    "qq_number = \"1234567\"\n",
    "print(qq_number)"
   ]
  },
  {
   "cell_type": "markdown",
   "id": "aee988f6",
   "metadata": {},
   "source": [
    "# 常用数据类型"
   ]
  },
  {
   "cell_type": "markdown",
   "id": "d32bebe0",
   "metadata": {},
   "source": [
    "| 类型 | 例子 |\n",
    "| :-----:  | :-----: |\n",
    "| 整数 | `-100` |\n",
    "| 浮点数 | `3.1416` |\n",
    "| 字符串 | `'hello'` |\n",
    "| 列表 | `[1, 1.2, 'hello']` |\n",
    "| 字典 | `{'dogs': 5, 'pigs': 3}`|\n",
    "| Numpy数组 | `array([1, 2, 3])`"
   ]
  },
  {
   "cell_type": "markdown",
   "id": "3f7c0103",
   "metadata": {},
   "source": [
    "# 其他类型"
   ]
  },
  {
   "cell_type": "markdown",
   "id": "eeecf53c",
   "metadata": {},
   "source": [
    "| 类型 | 例子 |\n",
    "| :------:  | :-----: |\n",
    "| 长整型 | `1000000000000L`\n",
    "| 布尔型 | `True, False`\n",
    "| 元组 | `('ring', 1000)`\n",
    "| 集合 | `{1, 2, 3}`\n",
    "| Pandas类型| `DataFrame, Series`\n",
    "| 自定义 | `Object Oriented Classes`"
   ]
  },
  {
   "cell_type": "markdown",
   "id": "dafe5f69",
   "metadata": {},
   "source": [
    "## 查看变量的类型"
   ]
  },
  {
   "cell_type": "code",
   "execution_count": 18,
   "id": "4bebce2b",
   "metadata": {},
   "outputs": [
    {
     "data": {
      "text/plain": [
       "str"
      ]
     },
     "execution_count": 18,
     "metadata": {},
     "output_type": "execute_result"
    }
   ],
   "source": [
    "type(qq_number)"
   ]
  },
  {
   "cell_type": "markdown",
   "id": "acc1f9a6",
   "metadata": {},
   "source": [
    "# 不同类型变量之间的计算"
   ]
  },
  {
   "cell_type": "markdown",
   "id": "9a0bc9e5",
   "metadata": {},
   "source": [
    "## 数字型变量之间可以直接计算\n",
    "* 在python中，两个数字型变量可以直接进行算术运算\n",
    "* 如果变量是布尔型，在计算时\n",
    "    * `True`对应的数字是1\n",
    "    * `False`对应的数字是0"
   ]
  },
  {
   "cell_type": "code",
   "execution_count": 19,
   "id": "efe468ca",
   "metadata": {},
   "outputs": [],
   "source": [
    "i = 5\n",
    "f = 10.5\n",
    "b = True"
   ]
  },
  {
   "cell_type": "code",
   "execution_count": 20,
   "id": "31ff6195",
   "metadata": {},
   "outputs": [
    {
     "data": {
      "text/plain": [
       "52.5"
      ]
     },
     "execution_count": 20,
     "metadata": {},
     "output_type": "execute_result"
    }
   ],
   "source": [
    "i * f"
   ]
  },
  {
   "cell_type": "code",
   "execution_count": 24,
   "id": "3f107616",
   "metadata": {},
   "outputs": [
    {
     "data": {
      "text/plain": [
       "11.5"
      ]
     },
     "execution_count": 24,
     "metadata": {},
     "output_type": "execute_result"
    }
   ],
   "source": [
    "f + b"
   ]
  },
  {
   "cell_type": "markdown",
   "id": "e486c520",
   "metadata": {},
   "source": [
    "## 字符串变量之间使用`+`拼接字符串"
   ]
  },
  {
   "cell_type": "code",
   "execution_count": 21,
   "id": "85e751d0",
   "metadata": {},
   "outputs": [],
   "source": [
    "first_name = \"Harry\"\n",
    "last_name = \"Potter\""
   ]
  },
  {
   "cell_type": "code",
   "execution_count": 22,
   "id": "f45c9675",
   "metadata": {},
   "outputs": [
    {
     "data": {
      "text/plain": [
       "'HarryPotter'"
      ]
     },
     "execution_count": 22,
     "metadata": {},
     "output_type": "execute_result"
    }
   ],
   "source": [
    "first_name + last_name"
   ]
  },
  {
   "cell_type": "markdown",
   "id": "0f77de4e",
   "metadata": {},
   "source": [
    "## 字符串变量可以和整数使用`*`重复拼接相同的字符串"
   ]
  },
  {
   "cell_type": "code",
   "execution_count": 23,
   "id": "08a9d9c8",
   "metadata": {},
   "outputs": [
    {
     "data": {
      "text/plain": [
       "'**************************************************'"
      ]
     },
     "execution_count": 23,
     "metadata": {},
     "output_type": "execute_result"
    }
   ],
   "source": [
    "'*' * 50"
   ]
  },
  {
   "cell_type": "markdown",
   "id": "9e67fe02",
   "metadata": {},
   "source": [
    "## 数字型变量和字符串之间不能进行其他计算"
   ]
  },
  {
   "cell_type": "code",
   "execution_count": 25,
   "id": "868d3079",
   "metadata": {},
   "outputs": [
    {
     "ename": "TypeError",
     "evalue": "unsupported operand type(s) for +: 'int' and 'str'",
     "output_type": "error",
     "traceback": [
      "\u001b[1;31m---------------------------------------------------------------------------\u001b[0m",
      "\u001b[1;31mTypeError\u001b[0m                                 Traceback (most recent call last)",
      "\u001b[1;32m~\\AppData\\Local\\Temp/ipykernel_7176/1904621065.py\u001b[0m in \u001b[0;36m<module>\u001b[1;34m\u001b[0m\n\u001b[1;32m----> 1\u001b[1;33m \u001b[0mi\u001b[0m \u001b[1;33m+\u001b[0m \u001b[0mfirst_name\u001b[0m\u001b[1;33m\u001b[0m\u001b[1;33m\u001b[0m\u001b[0m\n\u001b[0m",
      "\u001b[1;31mTypeError\u001b[0m: unsupported operand type(s) for +: 'int' and 'str'"
     ]
    }
   ],
   "source": [
    "i + first_name"
   ]
  },
  {
   "cell_type": "markdown",
   "id": "bc1454dd",
   "metadata": {},
   "source": [
    "# 变量的输入"
   ]
  },
  {
   "cell_type": "code",
   "execution_count": 2,
   "id": "0eeab87e",
   "metadata": {},
   "outputs": [
    {
     "name": "stdout",
     "output_type": "stream",
     "text": [
      "请输入一个数字：13\n",
      "13\n"
     ]
    }
   ],
   "source": [
    "data = input('请输入一个数字：')\n",
    "print(data)"
   ]
  },
  {
   "cell_type": "code",
   "execution_count": 4,
   "id": "3a00a4b9",
   "metadata": {},
   "outputs": [
    {
     "data": {
      "text/plain": [
       "str"
      ]
     },
     "execution_count": 4,
     "metadata": {},
     "output_type": "execute_result"
    }
   ],
   "source": [
    "#input函数保存的默认类型为字符串\n",
    "type(data)"
   ]
  },
  {
   "cell_type": "markdown",
   "id": "27750750",
   "metadata": {},
   "source": [
    "# 常用数学函数"
   ]
  },
  {
   "cell_type": "code",
   "execution_count": 27,
   "id": "4924c555",
   "metadata": {},
   "outputs": [
    {
     "data": {
      "text/plain": [
       "12.5"
      ]
     },
     "execution_count": 27,
     "metadata": {},
     "output_type": "execute_result"
    }
   ],
   "source": [
    "# 绝对值\n",
    "abs(12.5)"
   ]
  },
  {
   "cell_type": "code",
   "execution_count": 28,
   "id": "aa313088",
   "metadata": {},
   "outputs": [
    {
     "data": {
      "text/plain": [
       "22"
      ]
     },
     "execution_count": 28,
     "metadata": {},
     "output_type": "execute_result"
    }
   ],
   "source": [
    "# 取整\n",
    "round(21.8)"
   ]
  },
  {
   "cell_type": "code",
   "execution_count": 29,
   "id": "7c784218",
   "metadata": {},
   "outputs": [
    {
     "name": "stdout",
     "output_type": "stream",
     "text": [
      "5\n",
      "2\n"
     ]
    }
   ],
   "source": [
    "# 最大最小值\n",
    "print(max(2,3,4,5))\n",
    "print(min(2,4,3))"
   ]
  },
  {
   "cell_type": "markdown",
   "id": "4c5b6980",
   "metadata": {},
   "source": [
    "# 类型转换"
   ]
  },
  {
   "cell_type": "code",
   "execution_count": 30,
   "id": "9b6a6536",
   "metadata": {},
   "outputs": [
    {
     "name": "stdout",
     "output_type": "stream",
     "text": [
      "12\n"
     ]
    }
   ],
   "source": [
    "print(int(12.25))"
   ]
  },
  {
   "cell_type": "code",
   "execution_count": 31,
   "id": "cb3fdb5b",
   "metadata": {},
   "outputs": [
    {
     "name": "stdout",
     "output_type": "stream",
     "text": [
      "123\n"
     ]
    }
   ],
   "source": [
    "print(int(\"123\"))"
   ]
  }
 ],
 "metadata": {
  "kernelspec": {
   "display_name": "Python 3 (ipykernel)",
   "language": "python",
   "name": "python3"
  },
  "language_info": {
   "codemirror_mode": {
    "name": "ipython",
    "version": 3
   },
   "file_extension": ".py",
   "mimetype": "text/x-python",
   "name": "python",
   "nbconvert_exporter": "python",
   "pygments_lexer": "ipython3",
   "version": "3.9.7"
  }
 },
 "nbformat": 4,
 "nbformat_minor": 5
}
