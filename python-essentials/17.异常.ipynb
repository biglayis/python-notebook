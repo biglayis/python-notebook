{
 "cells": [
  {
   "cell_type": "markdown",
   "id": "c89e61a3",
   "metadata": {},
   "source": [
    "# 捕获异常"
   ]
  },
  {
   "cell_type": "markdown",
   "id": "2dbd0552",
   "metadata": {},
   "source": [
    "格式："
   ]
  },
  {
   "cell_type": "code",
   "execution_count": null,
   "id": "b9c31404",
   "metadata": {},
   "outputs": [],
   "source": [
    "try:\n",
    "    尝试执行的代码\n",
    "except 错误类型:\n",
    "    出现错误的处理\n",
    "else:\n",
    "    没有异常才会执行的代码\n",
    "finally:\n",
    "    无论是否有异常都会执行的代码，而且会在抛出异常前执行"
   ]
  },
  {
   "cell_type": "markdown",
   "id": "c53879f0",
   "metadata": {},
   "source": [
    "一旦`try`块中的内容出现了异常，那么`try`块后面的内容会被忽略，Python会寻找`except`里面有没有对应的内容，如果找到，就执行对应的块，没有则抛出这个异常。"
   ]
  },
  {
   "cell_type": "code",
   "execution_count": 2,
   "id": "67ae560f",
   "metadata": {},
   "outputs": [
    {
     "name": "stdout",
     "output_type": "stream",
     "text": [
      "请输入一个数字：张三\n"
     ]
    },
    {
     "ename": "ValueError",
     "evalue": "invalid literal for int() with base 10: '张三'",
     "output_type": "error",
     "traceback": [
      "\u001b[1;31m---------------------------------------------------------------------------\u001b[0m",
      "\u001b[1;31mValueError\u001b[0m                                Traceback (most recent call last)",
      "\u001b[1;32m~\\AppData\\Local\\Temp/ipykernel_6252/1713309398.py\u001b[0m in \u001b[0;36m<module>\u001b[1;34m\u001b[0m\n\u001b[1;32m----> 1\u001b[1;33m \u001b[0mnum\u001b[0m \u001b[1;33m=\u001b[0m \u001b[0mint\u001b[0m\u001b[1;33m(\u001b[0m\u001b[0minput\u001b[0m\u001b[1;33m(\u001b[0m\u001b[1;34m\"请输入一个数字：\"\u001b[0m\u001b[1;33m)\u001b[0m\u001b[1;33m)\u001b[0m\u001b[1;33m\u001b[0m\u001b[1;33m\u001b[0m\u001b[0m\n\u001b[0m",
      "\u001b[1;31mValueError\u001b[0m: invalid literal for int() with base 10: '张三'"
     ]
    }
   ],
   "source": [
    "num = int(input(\"请输入一个数字：\"))"
   ]
  },
  {
   "cell_type": "code",
   "execution_count": 3,
   "id": "0208eb1a",
   "metadata": {},
   "outputs": [
    {
     "name": "stdout",
     "output_type": "stream",
     "text": [
      "请输入一个数字：张三\n",
      "请输入正确的数字\n"
     ]
    }
   ],
   "source": [
    "try:\n",
    "    num = int(input(\"请输入一个数字：\"))\n",
    "except ValueError:\n",
    "    print(\"请输入正确的数字\")"
   ]
  },
  {
   "cell_type": "markdown",
   "id": "e8baff45",
   "metadata": {},
   "source": [
    "在上面的例子中`try`抛出的是`ValueError`，`except`中有对应的内容，所以这个异常被`except`捕捉到，程序可以继续执行"
   ]
  },
  {
   "cell_type": "markdown",
   "id": "98a1659c",
   "metadata": {},
   "source": [
    "# 捕捉不同的错误类型"
   ]
  },
  {
   "cell_type": "markdown",
   "id": "7e7876fd",
   "metadata": {},
   "source": [
    "因为`except`里面并没有`ZeroDivisionError`，所以会抛出这个异常:"
   ]
  },
  {
   "cell_type": "code",
   "execution_count": 6,
   "id": "0b1a6ef9",
   "metadata": {},
   "outputs": [
    {
     "name": "stdout",
     "output_type": "stream",
     "text": [
      "请输入一个数字：0\n"
     ]
    },
    {
     "ename": "ZeroDivisionError",
     "evalue": "division by zero",
     "output_type": "error",
     "traceback": [
      "\u001b[1;31m---------------------------------------------------------------------------\u001b[0m",
      "\u001b[1;31mZeroDivisionError\u001b[0m                         Traceback (most recent call last)",
      "\u001b[1;32m~\\AppData\\Local\\Temp/ipykernel_6252/1252078065.py\u001b[0m in \u001b[0;36m<module>\u001b[1;34m\u001b[0m\n\u001b[0;32m      1\u001b[0m \u001b[1;32mtry\u001b[0m\u001b[1;33m:\u001b[0m\u001b[1;33m\u001b[0m\u001b[1;33m\u001b[0m\u001b[0m\n\u001b[0;32m      2\u001b[0m     \u001b[0mnum\u001b[0m \u001b[1;33m=\u001b[0m \u001b[0mint\u001b[0m\u001b[1;33m(\u001b[0m\u001b[0minput\u001b[0m\u001b[1;33m(\u001b[0m\u001b[1;34m\"请输入一个数字：\"\u001b[0m\u001b[1;33m)\u001b[0m\u001b[1;33m)\u001b[0m\u001b[1;33m\u001b[0m\u001b[1;33m\u001b[0m\u001b[0m\n\u001b[1;32m----> 3\u001b[1;33m     \u001b[0mres\u001b[0m \u001b[1;33m=\u001b[0m \u001b[1;36m8\u001b[0m \u001b[1;33m/\u001b[0m \u001b[0mnum\u001b[0m\u001b[1;33m\u001b[0m\u001b[1;33m\u001b[0m\u001b[0m\n\u001b[0m\u001b[0;32m      4\u001b[0m \u001b[1;32mexcept\u001b[0m \u001b[0mValueError\u001b[0m\u001b[1;33m:\u001b[0m\u001b[1;33m\u001b[0m\u001b[1;33m\u001b[0m\u001b[0m\n\u001b[0;32m      5\u001b[0m     \u001b[0mprint\u001b[0m\u001b[1;33m(\u001b[0m\u001b[1;34m\"请输入正确的数字\"\u001b[0m\u001b[1;33m)\u001b[0m\u001b[1;33m\u001b[0m\u001b[1;33m\u001b[0m\u001b[0m\n",
      "\u001b[1;31mZeroDivisionError\u001b[0m: division by zero"
     ]
    }
   ],
   "source": [
    "try:\n",
    "    num = int(input(\"请输入一个数字：\"))\n",
    "    res = 8 / num\n",
    "except ValueError:\n",
    "    print(\"请输入正确的数字\")"
   ]
  },
  {
   "cell_type": "markdown",
   "id": "37657815",
   "metadata": {},
   "source": [
    "可以通过两种方式解决这个问题："
   ]
  },
  {
   "cell_type": "markdown",
   "id": "4fa0d9b8",
   "metadata": {},
   "source": [
    "## 1.捕获所有的异常"
   ]
  },
  {
   "cell_type": "markdown",
   "id": "35112174",
   "metadata": {},
   "source": [
    "将`except`的值改成`Exception`类："
   ]
  },
  {
   "cell_type": "code",
   "execution_count": 8,
   "id": "912d449a",
   "metadata": {},
   "outputs": [
    {
     "name": "stdout",
     "output_type": "stream",
     "text": [
      "请输入一个数字：0\n",
      "请输入正确的数字\n"
     ]
    }
   ],
   "source": [
    "try:\n",
    "    num = int(input(\"请输入一个数字：\"))\n",
    "    res = 8 / num\n",
    "except Exception:\n",
    "    print(\"请输入正确的数字\")"
   ]
  },
  {
   "cell_type": "markdown",
   "id": "f42bd8fd",
   "metadata": {},
   "source": [
    "## 2.指定特定值"
   ]
  },
  {
   "cell_type": "markdown",
   "id": "ff9221ea",
   "metadata": {},
   "source": [
    "把`ZeroDivisionError`加入`except`："
   ]
  },
  {
   "cell_type": "code",
   "execution_count": 7,
   "id": "b3ee56b3",
   "metadata": {},
   "outputs": [
    {
     "name": "stdout",
     "output_type": "stream",
     "text": [
      "请输入一个数字：0\n",
      "请输入正确的数字\n"
     ]
    }
   ],
   "source": [
    "try:\n",
    "    num = int(input(\"请输入一个数字：\"))\n",
    "    res = 8 / num\n",
    "except (ValueError,ZeroDivisionError):\n",
    "    print(\"请输入正确的数字\")"
   ]
  },
  {
   "cell_type": "markdown",
   "id": "62937e44",
   "metadata": {},
   "source": [
    "或者另加处理："
   ]
  },
  {
   "cell_type": "code",
   "execution_count": 5,
   "id": "bfe8c49e",
   "metadata": {},
   "outputs": [
    {
     "name": "stdout",
     "output_type": "stream",
     "text": [
      "请输入一个数字：0\n",
      "除数不得为0\n"
     ]
    }
   ],
   "source": [
    "try:\n",
    "    num = int(input(\"请输入一个数字：\"))\n",
    "    res = 8 / num\n",
    "except ValueError:\n",
    "    print(\"请输入正确的数字\")\n",
    "except ZeroDivisionError:\n",
    "    print(\"除数不得为0\")"
   ]
  },
  {
   "cell_type": "markdown",
   "id": "ff0e4d98",
   "metadata": {},
   "source": [
    "还可以将这两种方式结合起来,用`Exception`来捕捉其他的错误："
   ]
  },
  {
   "cell_type": "code",
   "execution_count": 10,
   "id": "16b148ac",
   "metadata": {},
   "outputs": [
    {
     "name": "stdout",
     "output_type": "stream",
     "text": [
      "请输入一个数字：1\n",
      "运行正常\n"
     ]
    }
   ],
   "source": [
    "try:\n",
    "    num = int(input(\"请输入一个数字：\"))\n",
    "    res = 8 / num\n",
    "except ValueError:\n",
    "    print(\"请输入正确的数字\")\n",
    "except ZeroDivisionError:\n",
    "    print(\"除数不得为0\")\n",
    "except Exception:\n",
    "    print(\"其他错误\")\n",
    "else:\n",
    "    print(\"运行正常\")"
   ]
  },
  {
   "cell_type": "markdown",
   "id": "a06e7b7b",
   "metadata": {},
   "source": [
    "# 打印错误信息"
   ]
  },
  {
   "cell_type": "code",
   "execution_count": 17,
   "id": "2074130c",
   "metadata": {},
   "outputs": [
    {
     "name": "stdout",
     "output_type": "stream",
     "text": [
      "请输入一个数字：a\n",
      "invalid literal for int() with base 10: 'a'\n",
      "ValueError(\"invalid literal for int() with base 10: 'a'\")\n"
     ]
    }
   ],
   "source": [
    "try:\n",
    "    num = int(input(\"请输入一个数字：\"))\n",
    "    res = 8 / num\n",
    "except Exception as err:\n",
    "    print(err)\n",
    "    print(repr(err))"
   ]
  },
  {
   "cell_type": "markdown",
   "id": "cf17e419",
   "metadata": {},
   "source": [
    "# 异常的传递"
   ]
  },
  {
   "cell_type": "markdown",
   "id": "054df9f3",
   "metadata": {},
   "source": [
    "当函数/方法执行出现异常，会将异常传递给函数/方法的调用方，如果传递到主程序，仍然没有异常处理，程序才会被终止"
   ]
  },
  {
   "cell_type": "markdown",
   "id": "4759fb7d",
   "metadata": {},
   "source": [
    "在开发中，可以在主函数中增加异常捕获，而在主函数中调用的其他函数，只要出现异常，都会传递到主函数中，  \n",
    "这样就不需要在代码中增加大量的异常捕获，能够保证代码的整洁"
   ]
  },
  {
   "cell_type": "code",
   "execution_count": 20,
   "id": "37ffac28",
   "metadata": {},
   "outputs": [
    {
     "name": "stdout",
     "output_type": "stream",
     "text": [
      "请输入一个整数：abc\n",
      "ValueError\n"
     ]
    }
   ],
   "source": [
    "def demo1():\n",
    "    return int(input(\"请输入一个整数：\"))\n",
    "\n",
    "def demo2():\n",
    "    return demo1()\n",
    "\n",
    "# 在主程序中添加异常处理\n",
    "if __name__ == \"__main__\":\n",
    "    try:\n",
    "        print(demo2())\n",
    "    except ValueError:\n",
    "        print(\"ValueError\")\n",
    "    except Exception as res:\n",
    "        print(res)"
   ]
  },
  {
   "cell_type": "markdown",
   "id": "a67a75ef",
   "metadata": {},
   "source": [
    "# 主动抛出异常"
   ]
  },
  {
   "cell_type": "markdown",
   "id": "4e9d3e94",
   "metadata": {},
   "source": [
    "Python中提供了一个`Exception`异常类，如果希望抛出异常，可以："
   ]
  },
  {
   "cell_type": "markdown",
   "id": "411344e4",
   "metadata": {},
   "source": [
    "1. 创建一个`Exception`对象\n",
    "2. 使用`raise`关键字抛出异常对象"
   ]
  },
  {
   "cell_type": "code",
   "execution_count": 23,
   "id": "6e059868",
   "metadata": {},
   "outputs": [
    {
     "name": "stdout",
     "output_type": "stream",
     "text": [
      "请输入密码：1234567\n",
      "密码长度不够\n"
     ]
    }
   ],
   "source": [
    "def input_password():\n",
    "    pwd = input(\"请输入密码：\")\n",
    "    if len(pwd) >= 8:\n",
    "        return pwd\n",
    "    else:\n",
    "        ex = Exception(\"密码长度不够\")\n",
    "        raise ex\n",
    "        \n",
    "if __name__ == \"__main__\":\n",
    "    try:\n",
    "        print(input_password())\n",
    "    except Exception as exc:\n",
    "        print(exc)"
   ]
  }
 ],
 "metadata": {
  "kernelspec": {
   "display_name": "Python 3 (ipykernel)",
   "language": "python",
   "name": "python3"
  },
  "language_info": {
   "codemirror_mode": {
    "name": "ipython",
    "version": 3
   },
   "file_extension": ".py",
   "mimetype": "text/x-python",
   "name": "python",
   "nbconvert_exporter": "python",
   "pygments_lexer": "ipython3",
   "version": "3.9.7"
  }
 },
 "nbformat": 4,
 "nbformat_minor": 5
}
