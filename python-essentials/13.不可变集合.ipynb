{
 "cells": [
  {
   "cell_type": "markdown",
   "id": "f397eaa5",
   "metadata": {},
   "source": [
    "# 不可变集合"
   ]
  },
  {
   "cell_type": "markdown",
   "id": "9dae336c",
   "metadata": {},
   "source": [
    "对应于元组（tuple）与列表（list）的关系，对于集合（set），Python提供了一种叫做不可变集合（frozenset）的数据结构。  \n",
    "frozenset由于是不可变类型，因此它可以作为set中的元素。除了不能添加和删除元素，frozenset在其他方面和set基本是一样的。"
   ]
  },
  {
   "cell_type": "code",
   "execution_count": 1,
   "id": "fe60c18b",
   "metadata": {},
   "outputs": [
    {
     "data": {
      "text/plain": [
       "frozenset({1, 2, 3, 'a'})"
      ]
     },
     "execution_count": 1,
     "metadata": {},
     "output_type": "execute_result"
    }
   ],
   "source": [
    "s = frozenset([1, 2, 3, 'a', 1])\n",
    "s"
   ]
  },
  {
   "cell_type": "markdown",
   "id": "55d1f76e",
   "metadata": {},
   "source": [
    "与集合不同的是，不可变集合一旦创建就不可以改变。  \n",
    "不可变集合的一个主要应用是用来作为字典的键，例如用一个字典来记录两个城市之间的距离："
   ]
  },
  {
   "cell_type": "code",
   "execution_count": 2,
   "id": "9048f458",
   "metadata": {},
   "outputs": [],
   "source": [
    "flight_distance = {}"
   ]
  },
  {
   "cell_type": "code",
   "execution_count": 3,
   "id": "c6836b64",
   "metadata": {},
   "outputs": [
    {
     "data": {
      "text/plain": [
       "{frozenset({'Los Angeles', 'New York'}): 2498}"
      ]
     },
     "execution_count": 3,
     "metadata": {},
     "output_type": "execute_result"
    }
   ],
   "source": [
    "city_pair = frozenset(['Los Angeles', 'New York'])\n",
    "flight_distance[city_pair] = 2498\n",
    "flight_distance"
   ]
  },
  {
   "cell_type": "code",
   "execution_count": 4,
   "id": "296b4ba1",
   "metadata": {
    "scrolled": true
   },
   "outputs": [
    {
     "data": {
      "text/plain": [
       "{frozenset({'Los Angeles', 'New York'}): 2498,\n",
       " frozenset({'Austin', 'Los Angeles'}): 1233,\n",
       " frozenset({'Austin', 'New York'}): 1515}"
      ]
     },
     "execution_count": 4,
     "metadata": {},
     "output_type": "execute_result"
    }
   ],
   "source": [
    "flight_distance[frozenset(['Austin', 'Los Angeles'])] = 1233\n",
    "flight_distance[frozenset(['Austin', 'New York'])] = 1515\n",
    "flight_distance"
   ]
  },
  {
   "cell_type": "markdown",
   "id": "1d47c9bd",
   "metadata": {},
   "source": [
    "由于集合不分顺序，所以不同顺序不会影响查阅结果："
   ]
  },
  {
   "cell_type": "code",
   "execution_count": 5,
   "id": "3053ec90",
   "metadata": {},
   "outputs": [
    {
     "data": {
      "text/plain": [
       "1515"
      ]
     },
     "execution_count": 5,
     "metadata": {},
     "output_type": "execute_result"
    }
   ],
   "source": [
    "flight_distance[frozenset(['New York','Austin'])]"
   ]
  },
  {
   "cell_type": "code",
   "execution_count": 6,
   "id": "8bb580ec",
   "metadata": {},
   "outputs": [
    {
     "data": {
      "text/plain": [
       "1515"
      ]
     },
     "execution_count": 6,
     "metadata": {},
     "output_type": "execute_result"
    }
   ],
   "source": [
    "flight_distance[frozenset(['New York','Austin'])]"
   ]
  }
 ],
 "metadata": {
  "kernelspec": {
   "display_name": "Python 3 (ipykernel)",
   "language": "python",
   "name": "python3"
  },
  "language_info": {
   "codemirror_mode": {
    "name": "ipython",
    "version": 3
   },
   "file_extension": ".py",
   "mimetype": "text/x-python",
   "name": "python",
   "nbconvert_exporter": "python",
   "pygments_lexer": "ipython3",
   "version": "3.9.7"
  }
 },
 "nbformat": 4,
 "nbformat_minor": 5
}
