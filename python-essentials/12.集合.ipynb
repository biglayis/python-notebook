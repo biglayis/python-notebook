{
 "cells": [
  {
   "cell_type": "markdown",
   "id": "83a26a19",
   "metadata": {},
   "source": [
    "# 集合"
   ]
  },
  {
   "cell_type": "markdown",
   "id": "25951991",
   "metadata": {},
   "source": [
    "* 无序性：集合中的元素是无序的  \n",
    "* 唯一性：集合中的任意两个元素都是不相同的，当集合中存在两个同样的元素的时候，Python只会保存其中的一个  \n",
    "* 确定性：集合中放入的元素只能是不可变的对象"
   ]
  },
  {
   "cell_type": "markdown",
   "id": "2ff16704",
   "metadata": {},
   "source": [
    "## 创建集合"
   ]
  },
  {
   "cell_type": "code",
   "execution_count": 5,
   "id": "2a409178",
   "metadata": {},
   "outputs": [
    {
     "name": "stdout",
     "output_type": "stream",
     "text": [
      "{1, 2, 3, 4}\n"
     ]
    }
   ],
   "source": [
    "a = {1, 2, 3, 1, 2, 4}\n",
    "print(a)"
   ]
  },
  {
   "cell_type": "markdown",
   "id": "ce7d8eef",
   "metadata": {},
   "source": [
    "创建空集合的时候只能用`set`函数来创建，因为在Python中{}创建的是一个空的字典："
   ]
  },
  {
   "cell_type": "code",
   "execution_count": 1,
   "id": "6cf46549",
   "metadata": {},
   "outputs": [
    {
     "data": {
      "text/plain": [
       "set"
      ]
     },
     "execution_count": 1,
     "metadata": {},
     "output_type": "execute_result"
    }
   ],
   "source": [
    "a = set()\n",
    "type(a)"
   ]
  },
  {
   "cell_type": "code",
   "execution_count": 3,
   "id": "da190f7c",
   "metadata": {},
   "outputs": [
    {
     "data": {
      "text/plain": [
       "dict"
      ]
     },
     "execution_count": 3,
     "metadata": {},
     "output_type": "execute_result"
    }
   ],
   "source": [
    "a = {}\n",
    "type(a)"
   ]
  },
  {
   "cell_type": "markdown",
   "id": "4d7bcde6",
   "metadata": {},
   "source": [
    "也可以将其他序列转换为集合："
   ]
  },
  {
   "cell_type": "code",
   "execution_count": 2,
   "id": "be8ea3da",
   "metadata": {},
   "outputs": [
    {
     "name": "stdout",
     "output_type": "stream",
     "text": [
      "{1, 2, 3}\n"
     ]
    }
   ],
   "source": [
    "a = set([1, 2, 3, 1])    # 集合会自动去除重复元素 1\n",
    "print(a)"
   ]
  },
  {
   "cell_type": "code",
   "execution_count": 7,
   "id": "0d41d486",
   "metadata": {},
   "outputs": [
    {
     "name": "stdout",
     "output_type": "stream",
     "text": [
      "{'e', 'l', 'o', 'h'}\n"
     ]
    }
   ],
   "source": [
    "a = set('hello')\n",
    "print(a)"
   ]
  },
  {
   "cell_type": "markdown",
   "id": "3023892e",
   "metadata": {},
   "source": [
    "## 集合元素的循环遍历"
   ]
  },
  {
   "cell_type": "code",
   "execution_count": 8,
   "id": "dc0f87fa",
   "metadata": {},
   "outputs": [
    {
     "name": "stdout",
     "output_type": "stream",
     "text": [
      "e\n",
      "l\n",
      "o\n",
      "h\n"
     ]
    }
   ],
   "source": [
    "for i in a:\n",
    "    print(i)"
   ]
  },
  {
   "cell_type": "markdown",
   "id": "bd40d608",
   "metadata": {},
   "source": [
    "## 集合的运算"
   ]
  },
  {
   "cell_type": "markdown",
   "id": "57ec1888",
   "metadata": {},
   "source": [
    "### 成员运算"
   ]
  },
  {
   "cell_type": "markdown",
   "id": "986e2272",
   "metadata": {},
   "source": [
    "检查元素是否在集合中"
   ]
  },
  {
   "cell_type": "code",
   "execution_count": 9,
   "id": "de20df55",
   "metadata": {},
   "outputs": [
    {
     "data": {
      "text/plain": [
       "False"
      ]
     },
     "execution_count": 9,
     "metadata": {},
     "output_type": "execute_result"
    }
   ],
   "source": [
    "set1 = {11, 12, 13, 14, 15}\n",
    "10 in set1"
   ]
  },
  {
   "cell_type": "code",
   "execution_count": 10,
   "id": "073f371e",
   "metadata": {},
   "outputs": [
    {
     "data": {
      "text/plain": [
       "True"
      ]
     },
     "execution_count": 10,
     "metadata": {},
     "output_type": "execute_result"
    }
   ],
   "source": [
    "15 in set1"
   ]
  },
  {
   "cell_type": "code",
   "execution_count": 11,
   "id": "24419928",
   "metadata": {},
   "outputs": [
    {
     "data": {
      "text/plain": [
       "True"
      ]
     },
     "execution_count": 11,
     "metadata": {},
     "output_type": "execute_result"
    }
   ],
   "source": [
    "20 not in set1"
   ]
  },
  {
   "cell_type": "markdown",
   "id": "c9e6472e",
   "metadata": {},
   "source": [
    "### 交"
   ]
  },
  {
   "cell_type": "markdown",
   "id": "857198e7",
   "metadata": {},
   "source": [
    "两个集合的交，返回包含两个集合共有元素的集合。  \n",
    "可以用方法`a.intersection(b)`或者操作`a & b`实现。"
   ]
  },
  {
   "cell_type": "code",
   "execution_count": 12,
   "id": "94bdc8b8",
   "metadata": {},
   "outputs": [],
   "source": [
    "set1 = {1, 2, 3, 4, 5, 6, 7}\n",
    "set2 = {2, 4, 6, 8, 10}"
   ]
  },
  {
   "cell_type": "code",
   "execution_count": 13,
   "id": "08e43539",
   "metadata": {},
   "outputs": [
    {
     "data": {
      "text/plain": [
       "{2, 4, 6}"
      ]
     },
     "execution_count": 13,
     "metadata": {},
     "output_type": "execute_result"
    }
   ],
   "source": [
    "set1 & set2"
   ]
  },
  {
   "cell_type": "code",
   "execution_count": 14,
   "id": "0cff7ec4",
   "metadata": {},
   "outputs": [
    {
     "data": {
      "text/plain": [
       "{2, 4, 6}"
      ]
     },
     "execution_count": 14,
     "metadata": {},
     "output_type": "execute_result"
    }
   ],
   "source": [
    "set1.intersection(set2)"
   ]
  },
  {
   "cell_type": "markdown",
   "id": "f5ee0b8d",
   "metadata": {},
   "source": [
    "### 并"
   ]
  },
  {
   "cell_type": "markdown",
   "id": "20806393",
   "metadata": {},
   "source": [
    "两个集合的并，返回包含两个集合所有元素的集合（去除重复）。  \n",
    "可以用方法`a.union(b)`或者操作`a | b`实现。"
   ]
  },
  {
   "cell_type": "code",
   "execution_count": 15,
   "id": "d908c689",
   "metadata": {},
   "outputs": [
    {
     "data": {
      "text/plain": [
       "{1, 2, 3, 4, 5, 6, 7, 8, 10}"
      ]
     },
     "execution_count": 15,
     "metadata": {},
     "output_type": "execute_result"
    }
   ],
   "source": [
    "set1 | set2"
   ]
  },
  {
   "cell_type": "code",
   "execution_count": 16,
   "id": "a5330c86",
   "metadata": {},
   "outputs": [
    {
     "data": {
      "text/plain": [
       "{1, 2, 3, 4, 5, 6, 7, 8, 10}"
      ]
     },
     "execution_count": 16,
     "metadata": {},
     "output_type": "execute_result"
    }
   ],
   "source": [
    "set1.union(set2)"
   ]
  },
  {
   "cell_type": "markdown",
   "id": "88c18c64",
   "metadata": {},
   "source": [
    "### 差"
   ]
  },
  {
   "cell_type": "markdown",
   "id": "a533dfff",
   "metadata": {},
   "source": [
    "a 和 b 的差集，返回只在 a 不在 b 的元素组成的集合。  \n",
    "可以用方法`a.difference(b)`或者操作`a - b`实现。"
   ]
  },
  {
   "cell_type": "code",
   "execution_count": 17,
   "id": "f125dc18",
   "metadata": {},
   "outputs": [
    {
     "data": {
      "text/plain": [
       "{1, 3, 5, 7}"
      ]
     },
     "execution_count": 17,
     "metadata": {},
     "output_type": "execute_result"
    }
   ],
   "source": [
    "set1 - set2"
   ]
  },
  {
   "cell_type": "code",
   "execution_count": 18,
   "id": "f30ca96e",
   "metadata": {},
   "outputs": [
    {
     "data": {
      "text/plain": [
       "{1, 3, 5, 7}"
      ]
     },
     "execution_count": 18,
     "metadata": {},
     "output_type": "execute_result"
    }
   ],
   "source": [
    "set1.difference(set2)"
   ]
  },
  {
   "cell_type": "code",
   "execution_count": 19,
   "id": "84418401",
   "metadata": {},
   "outputs": [
    {
     "data": {
      "text/plain": [
       "{8, 10}"
      ]
     },
     "execution_count": 19,
     "metadata": {},
     "output_type": "execute_result"
    }
   ],
   "source": [
    "set2.difference(set1)"
   ]
  },
  {
   "cell_type": "markdown",
   "id": "529b80b6",
   "metadata": {},
   "source": [
    "### 对称差（异或）"
   ]
  },
  {
   "cell_type": "markdown",
   "id": "defd3416",
   "metadata": {},
   "source": [
    "a 和b 的对称差集，返回在 a 或在 b 中，但是不同时在 a 和 b 中的元素组成的集合。  \n",
    "可以用方法`a.symmetric_difference(b)`或者操作`a ^ b`实现（异或操作符）。"
   ]
  },
  {
   "cell_type": "code",
   "execution_count": 20,
   "id": "1c7ef8f3",
   "metadata": {},
   "outputs": [
    {
     "data": {
      "text/plain": [
       "{1, 3, 5, 7, 8, 10}"
      ]
     },
     "execution_count": 20,
     "metadata": {},
     "output_type": "execute_result"
    }
   ],
   "source": [
    "set1 ^ set2"
   ]
  },
  {
   "cell_type": "code",
   "execution_count": 23,
   "id": "b01ba389",
   "metadata": {},
   "outputs": [
    {
     "data": {
      "text/plain": [
       "{1, 3, 5, 7, 8, 10}"
      ]
     },
     "execution_count": 23,
     "metadata": {},
     "output_type": "execute_result"
    }
   ],
   "source": [
    "(set1 | set2) - (set1 & set2)"
   ]
  },
  {
   "cell_type": "code",
   "execution_count": 21,
   "id": "ba72f081",
   "metadata": {},
   "outputs": [
    {
     "data": {
      "text/plain": [
       "{1, 3, 5, 7, 8, 10}"
      ]
     },
     "execution_count": 21,
     "metadata": {},
     "output_type": "execute_result"
    }
   ],
   "source": [
    "set1.symmetric_difference(set2)"
   ]
  },
  {
   "cell_type": "code",
   "execution_count": 22,
   "id": "fc47e613",
   "metadata": {},
   "outputs": [
    {
     "data": {
      "text/plain": [
       "{1, 3, 5, 7, 8, 10}"
      ]
     },
     "execution_count": 22,
     "metadata": {},
     "output_type": "execute_result"
    }
   ],
   "source": [
    "set2.symmetric_difference(set1)"
   ]
  },
  {
   "cell_type": "markdown",
   "id": "ef128a57",
   "metadata": {},
   "source": [
    "### 比较运算"
   ]
  },
  {
   "cell_type": "code",
   "execution_count": 24,
   "id": "a4a8036f",
   "metadata": {},
   "outputs": [],
   "source": [
    "set1 = {1, 3, 5}\n",
    "set2 = {1, 2, 3, 4, 5}\n",
    "set3 = set2"
   ]
  },
  {
   "cell_type": "markdown",
   "id": "06178aae",
   "metadata": {},
   "source": [
    "如果集合 b 的任意一个元素都是集合 a 的元素，那么集合 b 称为集合 a 的子集。  \n",
    "判断 b 是不是 a 的子集，可以用`b.issubset(a)`方法，或者更简单的用操作`b <= a`  "
   ]
  },
  {
   "cell_type": "code",
   "execution_count": 25,
   "id": "11247f6c",
   "metadata": {},
   "outputs": [
    {
     "data": {
      "text/plain": [
       "True"
      ]
     },
     "execution_count": 25,
     "metadata": {},
     "output_type": "execute_result"
    }
   ],
   "source": [
    "set1.issubset(set2)"
   ]
  },
  {
   "cell_type": "code",
   "execution_count": 28,
   "id": "d0b82278",
   "metadata": {
    "scrolled": true
   },
   "outputs": [
    {
     "data": {
      "text/plain": [
       "True"
      ]
     },
     "execution_count": 28,
     "metadata": {},
     "output_type": "execute_result"
    }
   ],
   "source": [
    "set3 <= set2"
   ]
  },
  {
   "cell_type": "markdown",
   "id": "6b433236",
   "metadata": {},
   "source": [
    "如果 b 是 a 的子集且 b 不等于 a，那么 b 就是 a 的真子集，用操作`b < a`判断。  "
   ]
  },
  {
   "cell_type": "code",
   "execution_count": 26,
   "id": "d09a27bc",
   "metadata": {},
   "outputs": [
    {
     "data": {
      "text/plain": [
       "True"
      ]
     },
     "execution_count": 26,
     "metadata": {},
     "output_type": "execute_result"
    }
   ],
   "source": [
    "set1 < set2"
   ]
  },
  {
   "cell_type": "code",
   "execution_count": 27,
   "id": "3affd2ab",
   "metadata": {},
   "outputs": [
    {
     "data": {
      "text/plain": [
       "False"
      ]
     },
     "execution_count": 27,
     "metadata": {},
     "output_type": "execute_result"
    }
   ],
   "source": [
    "set3 < set2"
   ]
  },
  {
   "cell_type": "markdown",
   "id": "77506c00",
   "metadata": {},
   "source": [
    "反过来可以称 a 是 b 的超集，可以用`a.issuperset(b)`或者`a >= b`来判断"
   ]
  },
  {
   "cell_type": "code",
   "execution_count": 29,
   "id": "40a9924c",
   "metadata": {
    "scrolled": true
   },
   "outputs": [
    {
     "data": {
      "text/plain": [
       "True"
      ]
     },
     "execution_count": 29,
     "metadata": {},
     "output_type": "execute_result"
    }
   ],
   "source": [
    "set2.issuperset(set1)"
   ]
  },
  {
   "cell_type": "code",
   "execution_count": 30,
   "id": "64748288",
   "metadata": {},
   "outputs": [
    {
     "data": {
      "text/plain": [
       "True"
      ]
     },
     "execution_count": 30,
     "metadata": {},
     "output_type": "execute_result"
    }
   ],
   "source": [
    "set2 >= set1"
   ]
  },
  {
   "cell_type": "markdown",
   "id": "d91fcba2",
   "metadata": {},
   "source": [
    "## 集合的方法"
   ]
  },
  {
   "cell_type": "markdown",
   "id": "38b1290a",
   "metadata": {},
   "source": [
    "### add 方法向集合添加单个元素"
   ]
  },
  {
   "cell_type": "markdown",
   "id": "952a59b2",
   "metadata": {},
   "source": [
    "跟列表的`append`方法类似，用来向集合添加单个元素"
   ]
  },
  {
   "cell_type": "code",
   "execution_count": 35,
   "id": "4e80a3af",
   "metadata": {},
   "outputs": [],
   "source": [
    "set1 = {1, 2, 3, 5}"
   ]
  },
  {
   "cell_type": "code",
   "execution_count": 36,
   "id": "0d42e242",
   "metadata": {},
   "outputs": [
    {
     "data": {
      "text/plain": [
       "{1, 2, 3, 5, 8}"
      ]
     },
     "execution_count": 36,
     "metadata": {},
     "output_type": "execute_result"
    }
   ],
   "source": [
    "set1.add(8)\n",
    "set1"
   ]
  },
  {
   "cell_type": "markdown",
   "id": "1f4189aa",
   "metadata": {},
   "source": [
    "如果添加的是已有元素，集合不改变："
   ]
  },
  {
   "cell_type": "code",
   "execution_count": 37,
   "id": "b4f3d44e",
   "metadata": {},
   "outputs": [
    {
     "data": {
      "text/plain": [
       "{1, 2, 3, 5, 8}"
      ]
     },
     "execution_count": 37,
     "metadata": {},
     "output_type": "execute_result"
    }
   ],
   "source": [
    "set1.add(1)\n",
    "set1"
   ]
  },
  {
   "cell_type": "markdown",
   "id": "c82d32b2",
   "metadata": {},
   "source": [
    "### update 方法向集合添加多个元素"
   ]
  },
  {
   "cell_type": "markdown",
   "id": "ad3322cd",
   "metadata": {},
   "source": [
    "跟列表的`extend`方法类似，用来向集合添加多个元素。"
   ]
  },
  {
   "cell_type": "code",
   "execution_count": 38,
   "id": "541e450b",
   "metadata": {},
   "outputs": [
    {
     "data": {
      "text/plain": [
       "{1, 2, 3, 5, 7, 8, 9, 10}"
      ]
     },
     "execution_count": 38,
     "metadata": {},
     "output_type": "execute_result"
    }
   ],
   "source": [
    "set1.update([7, 9, 10])\n",
    "set1"
   ]
  },
  {
   "cell_type": "markdown",
   "id": "7f22addf",
   "metadata": {},
   "source": [
    "### remove 方法移除单个元素"
   ]
  },
  {
   "cell_type": "code",
   "execution_count": 39,
   "id": "c9717d6b",
   "metadata": {},
   "outputs": [
    {
     "data": {
      "text/plain": [
       "{1, 2, 5, 7, 8, 9, 10}"
      ]
     },
     "execution_count": 39,
     "metadata": {},
     "output_type": "execute_result"
    }
   ],
   "source": [
    "set1.remove(3)\n",
    "set1"
   ]
  },
  {
   "cell_type": "markdown",
   "id": "5037c23a",
   "metadata": {},
   "source": [
    "如果移除的元素不存在会报错："
   ]
  },
  {
   "cell_type": "code",
   "execution_count": 40,
   "id": "6f8359ae",
   "metadata": {
    "scrolled": true
   },
   "outputs": [
    {
     "ename": "KeyError",
     "evalue": "33",
     "output_type": "error",
     "traceback": [
      "\u001b[1;31m---------------------------------------------------------------------------\u001b[0m",
      "\u001b[1;31mKeyError\u001b[0m                                  Traceback (most recent call last)",
      "\u001b[1;32m~\\AppData\\Local\\Temp/ipykernel_7412/4139210535.py\u001b[0m in \u001b[0;36m<module>\u001b[1;34m\u001b[0m\n\u001b[1;32m----> 1\u001b[1;33m \u001b[0mset1\u001b[0m\u001b[1;33m.\u001b[0m\u001b[0mremove\u001b[0m\u001b[1;33m(\u001b[0m\u001b[1;36m33\u001b[0m\u001b[1;33m)\u001b[0m\u001b[1;33m\u001b[0m\u001b[1;33m\u001b[0m\u001b[0m\n\u001b[0m",
      "\u001b[1;31mKeyError\u001b[0m: 33"
     ]
    }
   ],
   "source": [
    "set1.remove(33)"
   ]
  },
  {
   "cell_type": "markdown",
   "id": "a01ee91d",
   "metadata": {},
   "source": [
    "### pop方法弹出元素"
   ]
  },
  {
   "cell_type": "markdown",
   "id": "ff34dfc1",
   "metadata": {},
   "source": [
    "由于集合没有顺序，不能像列表一样按照位置弹出元素，所以`pop`方法删除并返回集合中任意一个元素，如果集合中没有元素会报错。"
   ]
  },
  {
   "cell_type": "code",
   "execution_count": 41,
   "id": "2875d441",
   "metadata": {},
   "outputs": [
    {
     "data": {
      "text/plain": [
       "{2, 5, 7, 8, 9, 10}"
      ]
     },
     "execution_count": 41,
     "metadata": {},
     "output_type": "execute_result"
    }
   ],
   "source": [
    "set1.pop()\n",
    "set1"
   ]
  },
  {
   "cell_type": "markdown",
   "id": "1ec73c70",
   "metadata": {},
   "source": [
    "### discard 方法"
   ]
  },
  {
   "cell_type": "markdown",
   "id": "972a497b",
   "metadata": {},
   "source": [
    "作用与 remove 一样，但是当元素在集合中不存在的时候不会报错"
   ]
  },
  {
   "cell_type": "code",
   "execution_count": 42,
   "id": "8b3e45bd",
   "metadata": {},
   "outputs": [
    {
     "data": {
      "text/plain": [
       "{2, 5, 7, 8, 9}"
      ]
     },
     "execution_count": 42,
     "metadata": {},
     "output_type": "execute_result"
    }
   ],
   "source": [
    "set1.discard(10)\n",
    "set1"
   ]
  },
  {
   "cell_type": "code",
   "execution_count": 44,
   "id": "732543ff",
   "metadata": {},
   "outputs": [
    {
     "data": {
      "text/plain": [
       "{2, 5, 7, 8, 9}"
      ]
     },
     "execution_count": 44,
     "metadata": {},
     "output_type": "execute_result"
    }
   ],
   "source": [
    "set1.discard(4)\n",
    "set1"
   ]
  },
  {
   "cell_type": "markdown",
   "id": "530276c0",
   "metadata": {},
   "source": [
    "### isdisjoint方法判断两个集合有没有相同元素"
   ]
  },
  {
   "cell_type": "markdown",
   "id": "78ab1004",
   "metadata": {},
   "source": [
    "没有相同元素返回`True`，有相同元素返回`False`"
   ]
  },
  {
   "cell_type": "code",
   "execution_count": 45,
   "id": "d28ab1a2",
   "metadata": {},
   "outputs": [],
   "source": [
    "set2 = {1}\n",
    "set3 = {2}"
   ]
  },
  {
   "cell_type": "code",
   "execution_count": 46,
   "id": "9e77027e",
   "metadata": {},
   "outputs": [
    {
     "data": {
      "text/plain": [
       "True"
      ]
     },
     "execution_count": 46,
     "metadata": {},
     "output_type": "execute_result"
    }
   ],
   "source": [
    "set1.isdisjoint(set2)"
   ]
  },
  {
   "cell_type": "code",
   "execution_count": 47,
   "id": "a97a224a",
   "metadata": {},
   "outputs": [
    {
     "data": {
      "text/plain": [
       "False"
      ]
     },
     "execution_count": 47,
     "metadata": {},
     "output_type": "execute_result"
    }
   ],
   "source": [
    "set1.isdisjoint(set3)"
   ]
  },
  {
   "cell_type": "markdown",
   "id": "93bcdece",
   "metadata": {},
   "source": [
    "### difference_update方法"
   ]
  },
  {
   "cell_type": "markdown",
   "id": "74d1f7d3",
   "metadata": {},
   "source": [
    "`a.difference_update(b)`，从a中去除所有属于b的元素"
   ]
  },
  {
   "cell_type": "code",
   "execution_count": 48,
   "id": "447c0727",
   "metadata": {},
   "outputs": [],
   "source": [
    "set1 = {1, 2, 3, 4, 5, 6, 7}\n",
    "set2 = {1, 3, 5}"
   ]
  },
  {
   "cell_type": "code",
   "execution_count": 49,
   "id": "3551a17c",
   "metadata": {},
   "outputs": [
    {
     "data": {
      "text/plain": [
       "{2, 4, 6, 7}"
      ]
     },
     "execution_count": 49,
     "metadata": {},
     "output_type": "execute_result"
    }
   ],
   "source": [
    "set1.difference_update(set2)\n",
    "set1"
   ]
  }
 ],
 "metadata": {
  "kernelspec": {
   "display_name": "Python 3 (ipykernel)",
   "language": "python",
   "name": "python3"
  },
  "language_info": {
   "codemirror_mode": {
    "name": "ipython",
    "version": 3
   },
   "file_extension": ".py",
   "mimetype": "text/x-python",
   "name": "python",
   "nbconvert_exporter": "python",
   "pygments_lexer": "ipython3",
   "version": "3.9.7"
  }
 },
 "nbformat": 4,
 "nbformat_minor": 5
}
