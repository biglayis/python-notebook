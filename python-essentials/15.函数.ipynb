{
 "cells": [
  {
   "cell_type": "markdown",
   "id": "9f0f869f",
   "metadata": {},
   "source": [
    "# 函数"
   ]
  },
  {
   "cell_type": "markdown",
   "id": "4e7937aa",
   "metadata": {},
   "source": [
    "## 函数的定义"
   ]
  },
  {
   "cell_type": "markdown",
   "id": "99cbe066",
   "metadata": {},
   "source": [
    "定义函数的格式如下："
   ]
  },
  {
   "cell_type": "code",
   "execution_count": 1,
   "id": "d1a3fba8",
   "metadata": {},
   "outputs": [],
   "source": [
    "def add(x, y):\n",
    "    \"\"\"Add two numbers\"\"\"\n",
    "    a = x + y\n",
    "    return a"
   ]
  },
  {
   "cell_type": "markdown",
   "id": "2e8596da",
   "metadata": {},
   "source": [
    "函数通常有以下几个特征："
   ]
  },
  {
   "cell_type": "markdown",
   "id": "bc898a68",
   "metadata": {},
   "source": [
    "* 使用`def`关键词来定义一个函数\n",
    "* `def`后面是函数的名称，函数名称可以由字母、下划线、数字组成，不能以数字开头，不能与关键字重名\n",
    "* 括号中是函数的参数，不同的参数用`,`隔开，`def foo():`的形式是必须要有的，参数可以为空\n",
    "* 使用缩进来划分函数的内容\n",
    "* 用`\"\"\"`包含的字符串，用来解释函数的用途，可省略\n",
    "* `return`返回特定的值，如果省略，返回 None"
   ]
  },
  {
   "cell_type": "markdown",
   "id": "7e03d76d",
   "metadata": {},
   "source": [
    "## 函数调用"
   ]
  },
  {
   "cell_type": "markdown",
   "id": "76f7009e",
   "metadata": {},
   "source": [
    "使用函数时，只需要将参数换成特定的值传给函数。  \n",
    "Python并没有限定参数的类型，因此可以使用不同的参数类型："
   ]
  },
  {
   "cell_type": "code",
   "execution_count": 2,
   "id": "ed7f6852",
   "metadata": {},
   "outputs": [
    {
     "data": {
      "text/plain": [
       "5"
      ]
     },
     "execution_count": 2,
     "metadata": {},
     "output_type": "execute_result"
    }
   ],
   "source": [
    "add(2,3)"
   ]
  },
  {
   "cell_type": "code",
   "execution_count": 3,
   "id": "8d83ec1c",
   "metadata": {},
   "outputs": [
    {
     "data": {
      "text/plain": [
       "'hello world'"
      ]
     },
     "execution_count": 3,
     "metadata": {},
     "output_type": "execute_result"
    }
   ],
   "source": [
    "add(\"hello\",\" world\")"
   ]
  },
  {
   "cell_type": "markdown",
   "id": "6db224e0",
   "metadata": {},
   "source": [
    "传入参数时，Python提供了两种选项，第一种是上面使用的按照位置传入参数，另一种则是使用关键词模式，显式地指定参数的值："
   ]
  },
  {
   "cell_type": "code",
   "execution_count": 4,
   "id": "242fb5fa",
   "metadata": {},
   "outputs": [
    {
     "data": {
      "text/plain": [
       "5"
      ]
     },
     "execution_count": 4,
     "metadata": {},
     "output_type": "execute_result"
    }
   ],
   "source": [
    "add(x=2,y=3)"
   ]
  },
  {
   "cell_type": "code",
   "execution_count": 5,
   "id": "a8ba0427",
   "metadata": {},
   "outputs": [
    {
     "data": {
      "text/plain": [
       "'world hello'"
      ]
     },
     "execution_count": 5,
     "metadata": {},
     "output_type": "execute_result"
    }
   ],
   "source": [
    "add(y=\" hello\",x='world')"
   ]
  },
  {
   "cell_type": "markdown",
   "id": "07b59b49",
   "metadata": {},
   "source": [
    "可以混合这两种模式："
   ]
  },
  {
   "cell_type": "code",
   "execution_count": 6,
   "id": "26041465",
   "metadata": {},
   "outputs": [
    {
     "data": {
      "text/plain": [
       "10"
      ]
     },
     "execution_count": 6,
     "metadata": {},
     "output_type": "execute_result"
    }
   ],
   "source": [
    "add(2,y=8)"
   ]
  },
  {
   "cell_type": "markdown",
   "id": "e41a90a8",
   "metadata": {},
   "source": [
    "## 函数的参数"
   ]
  },
  {
   "cell_type": "markdown",
   "id": "b26a33eb",
   "metadata": {},
   "source": [
    "### 设定参数默认值"
   ]
  },
  {
   "cell_type": "markdown",
   "id": "f91a2cd0",
   "metadata": {},
   "source": [
    "可以在函数定义的时候给参数设定默认值："
   ]
  },
  {
   "cell_type": "code",
   "execution_count": 1,
   "id": "a688cb98",
   "metadata": {},
   "outputs": [],
   "source": [
    "def quad(x, a=1, b=0, c=0):\n",
    "    return a*x**2 + b*x + c"
   ]
  },
  {
   "cell_type": "markdown",
   "id": "3a8bb569",
   "metadata": {},
   "source": [
    "可以省略有默认值的参数："
   ]
  },
  {
   "cell_type": "code",
   "execution_count": 2,
   "id": "352c8cf0",
   "metadata": {},
   "outputs": [
    {
     "data": {
      "text/plain": [
       "4"
      ]
     },
     "execution_count": 2,
     "metadata": {},
     "output_type": "execute_result"
    }
   ],
   "source": [
    "quad(2)    "
   ]
  },
  {
   "cell_type": "markdown",
   "id": "117c743d",
   "metadata": {},
   "source": [
    "可以修改参数的默认值："
   ]
  },
  {
   "cell_type": "code",
   "execution_count": 3,
   "id": "417ea8ad",
   "metadata": {},
   "outputs": [
    {
     "data": {
      "text/plain": [
       "10"
      ]
     },
     "execution_count": 3,
     "metadata": {},
     "output_type": "execute_result"
    }
   ],
   "source": [
    "quad(2, b=3)"
   ]
  },
  {
   "cell_type": "code",
   "execution_count": 4,
   "id": "28418aad",
   "metadata": {},
   "outputs": [
    {
     "data": {
      "text/plain": [
       "12"
      ]
     },
     "execution_count": 4,
     "metadata": {},
     "output_type": "execute_result"
    }
   ],
   "source": [
    "quad(2, 2, c=4)"
   ]
  },
  {
   "cell_type": "markdown",
   "id": "aaedfe2a",
   "metadata": {},
   "source": [
    "这里混合了位置和指定两种参数传入方式，，第二个2是传给`a`的。  \n",
    "在使用混合语法时，要注意不能给同一个值赋值多次，否则会报错："
   ]
  },
  {
   "cell_type": "code",
   "execution_count": 5,
   "id": "3dd600f3",
   "metadata": {},
   "outputs": [
    {
     "ename": "TypeError",
     "evalue": "quad() got multiple values for argument 'a'",
     "output_type": "error",
     "traceback": [
      "\u001b[1;31m---------------------------------------------------------------------------\u001b[0m",
      "\u001b[1;31mTypeError\u001b[0m                                 Traceback (most recent call last)",
      "\u001b[1;32m~\\AppData\\Local\\Temp/ipykernel_18152/3694941415.py\u001b[0m in \u001b[0;36m<module>\u001b[1;34m\u001b[0m\n\u001b[1;32m----> 1\u001b[1;33m \u001b[0mquad\u001b[0m\u001b[1;33m(\u001b[0m\u001b[1;36m2\u001b[0m\u001b[1;33m,\u001b[0m \u001b[1;36m2\u001b[0m\u001b[1;33m,\u001b[0m \u001b[0ma\u001b[0m\u001b[1;33m=\u001b[0m\u001b[1;36m2\u001b[0m\u001b[1;33m)\u001b[0m\u001b[1;33m\u001b[0m\u001b[1;33m\u001b[0m\u001b[0m\n\u001b[0m",
      "\u001b[1;31mTypeError\u001b[0m: quad() got multiple values for argument 'a'"
     ]
    }
   ],
   "source": [
    "quad(2, 2, a=2)"
   ]
  },
  {
   "cell_type": "markdown",
   "id": "a0cbe54a",
   "metadata": {},
   "source": [
    "### 接收不定参数"
   ]
  },
  {
   "cell_type": "markdown",
   "id": "4fc04caa",
   "metadata": {},
   "source": [
    "使用如下方法，可以使函数接受不定数目的参数："
   ]
  },
  {
   "cell_type": "code",
   "execution_count": 8,
   "id": "fc706c76",
   "metadata": {},
   "outputs": [],
   "source": [
    "def add(x, *args):\n",
    "    total = x\n",
    "    for arg in args:\n",
    "        total += arg\n",
    "    return total"
   ]
  },
  {
   "cell_type": "markdown",
   "id": "a20dfde2",
   "metadata": {},
   "source": [
    "`*args`表示参数数目不定，可以看成一个元组，把第一个参数后面的参数当作元组中的元素。"
   ]
  },
  {
   "cell_type": "code",
   "execution_count": 9,
   "id": "f307c480",
   "metadata": {},
   "outputs": [
    {
     "data": {
      "text/plain": [
       "10"
      ]
     },
     "execution_count": 9,
     "metadata": {},
     "output_type": "execute_result"
    }
   ],
   "source": [
    "add(1,2,3,4)"
   ]
  },
  {
   "cell_type": "markdown",
   "id": "e72d435c",
   "metadata": {},
   "source": [
    "这样定义的函数不能使用关键词传入参数，要使用关键词，可以这样："
   ]
  },
  {
   "cell_type": "code",
   "execution_count": 10,
   "id": "70cc3e55",
   "metadata": {},
   "outputs": [],
   "source": [
    "def add(x, **kwargs):\n",
    "    total = x\n",
    "    for key, value in kwargs.items():\n",
    "        print(\"adding %s\" % key)\n",
    "        total += value\n",
    "    return total"
   ]
  },
  {
   "cell_type": "markdown",
   "id": "bd9e8884",
   "metadata": {},
   "source": [
    "这里，`**kwargs`表示参数数目不定，相当于一个字典，关键词和值对应于键值对。"
   ]
  },
  {
   "cell_type": "code",
   "execution_count": 11,
   "id": "1a8b56f8",
   "metadata": {},
   "outputs": [
    {
     "name": "stdout",
     "output_type": "stream",
     "text": [
      "adding y\n",
      "adding z\n",
      "adding w\n"
     ]
    },
    {
     "data": {
      "text/plain": [
       "46"
      ]
     },
     "execution_count": 11,
     "metadata": {},
     "output_type": "execute_result"
    }
   ],
   "source": [
    "add(10, y=11, z=12, w=13)"
   ]
  },
  {
   "cell_type": "markdown",
   "id": "f9b46b26",
   "metadata": {},
   "source": [
    "接收任意数目的位置参数和键值对参数，要按顺序传入参数，先传入位置参数`args`，再传入关键词参数`kwargs`"
   ]
  },
  {
   "cell_type": "code",
   "execution_count": 14,
   "id": "03c60cd6",
   "metadata": {},
   "outputs": [],
   "source": [
    "def foo(*args, **kwargs):\n",
    "    print(args)\n",
    "    print(kwargs)"
   ]
  },
  {
   "cell_type": "code",
   "execution_count": 15,
   "id": "77d269e4",
   "metadata": {
    "scrolled": true
   },
   "outputs": [
    {
     "name": "stdout",
     "output_type": "stream",
     "text": [
      "(2, 3)\n",
      "{'x': 'bar', 'y': 10}\n"
     ]
    }
   ],
   "source": [
    "foo(2, 3, x='bar', y=10)"
   ]
  },
  {
   "cell_type": "markdown",
   "id": "1c6e1d4d",
   "metadata": {},
   "source": [
    "## 函数的返回值"
   ]
  },
  {
   "cell_type": "markdown",
   "id": "c206becc",
   "metadata": {},
   "source": [
    "函数可以返回多个值："
   ]
  },
  {
   "cell_type": "code",
   "execution_count": 16,
   "id": "aa6eaac2",
   "metadata": {},
   "outputs": [],
   "source": [
    "def mul(x,y):\n",
    "    x += 10\n",
    "    y += 20\n",
    "    return x,y"
   ]
  },
  {
   "cell_type": "code",
   "execution_count": 17,
   "id": "9fb3b225",
   "metadata": {},
   "outputs": [
    {
     "data": {
      "text/plain": [
       "(11, 22)"
      ]
     },
     "execution_count": 17,
     "metadata": {},
     "output_type": "execute_result"
    }
   ],
   "source": [
    "mul(1,2)"
   ]
  },
  {
   "cell_type": "markdown",
   "id": "1e51571e",
   "metadata": {},
   "source": [
    "事实上，Python将返回的两个值变成了元组："
   ]
  },
  {
   "cell_type": "code",
   "execution_count": 20,
   "id": "a9941a11",
   "metadata": {},
   "outputs": [
    {
     "name": "stdout",
     "output_type": "stream",
     "text": [
      "11 22\n"
     ]
    }
   ],
   "source": [
    "a, b = mul(1, 2)\n",
    "print(a,b)"
   ]
  },
  {
   "cell_type": "markdown",
   "id": "d7380e6f",
   "metadata": {},
   "source": [
    "也可以将参数用元组以这种方式传入："
   ]
  },
  {
   "cell_type": "code",
   "execution_count": 21,
   "id": "eaebb037",
   "metadata": {},
   "outputs": [
    {
     "data": {
      "text/plain": [
       "(11, 22)"
      ]
     },
     "execution_count": 21,
     "metadata": {},
     "output_type": "execute_result"
    }
   ],
   "source": [
    "z = (1, 2)\n",
    "mul(*z)"
   ]
  },
  {
   "cell_type": "markdown",
   "id": "5f868ea1",
   "metadata": {},
   "source": [
    "这里的`*`必不可少。"
   ]
  },
  {
   "cell_type": "markdown",
   "id": "771d724a",
   "metadata": {},
   "source": [
    "还可以通过字典传入参数来执行函数："
   ]
  },
  {
   "cell_type": "code",
   "execution_count": 22,
   "id": "7bea4634",
   "metadata": {},
   "outputs": [
    {
     "data": {
      "text/plain": [
       "(11, 22)"
      ]
     },
     "execution_count": 22,
     "metadata": {},
     "output_type": "execute_result"
    }
   ],
   "source": [
    "w = {'x':1,'y':2}\n",
    "mul(**w)"
   ]
  },
  {
   "cell_type": "code",
   "execution_count": 23,
   "id": "357d6641",
   "metadata": {},
   "outputs": [
    {
     "ename": "TypeError",
     "evalue": "mul() got an unexpected keyword argument 'a'",
     "output_type": "error",
     "traceback": [
      "\u001b[1;31m---------------------------------------------------------------------------\u001b[0m",
      "\u001b[1;31mTypeError\u001b[0m                                 Traceback (most recent call last)",
      "\u001b[1;32m~\\AppData\\Local\\Temp/ipykernel_18152/4278935437.py\u001b[0m in \u001b[0;36m<module>\u001b[1;34m\u001b[0m\n\u001b[0;32m      1\u001b[0m \u001b[0mw\u001b[0m \u001b[1;33m=\u001b[0m \u001b[1;33m{\u001b[0m\u001b[1;34m'a'\u001b[0m\u001b[1;33m:\u001b[0m\u001b[1;36m1\u001b[0m\u001b[1;33m,\u001b[0m\u001b[1;34m'b'\u001b[0m\u001b[1;33m:\u001b[0m\u001b[1;36m2\u001b[0m\u001b[1;33m}\u001b[0m\u001b[1;33m\u001b[0m\u001b[1;33m\u001b[0m\u001b[0m\n\u001b[1;32m----> 2\u001b[1;33m \u001b[0mmul\u001b[0m\u001b[1;33m(\u001b[0m\u001b[1;33m**\u001b[0m\u001b[0mw\u001b[0m\u001b[1;33m)\u001b[0m\u001b[1;33m\u001b[0m\u001b[1;33m\u001b[0m\u001b[0m\n\u001b[0m",
      "\u001b[1;31mTypeError\u001b[0m: mul() got an unexpected keyword argument 'a'"
     ]
    }
   ],
   "source": [
    "w = {'a':1,'b':2}\n",
    "mul(**w)"
   ]
  }
 ],
 "metadata": {
  "kernelspec": {
   "display_name": "Python 3 (ipykernel)",
   "language": "python",
   "name": "python3"
  },
  "language_info": {
   "codemirror_mode": {
    "name": "ipython",
    "version": 3
   },
   "file_extension": ".py",
   "mimetype": "text/x-python",
   "name": "python",
   "nbconvert_exporter": "python",
   "pygments_lexer": "ipython3",
   "version": "3.9.7"
  }
 },
 "nbformat": 4,
 "nbformat_minor": 5
}
