{
 "cells": [
  {
   "cell_type": "markdown",
   "id": "cb87e910",
   "metadata": {},
   "source": [
    "# 单行注释"
   ]
  },
  {
   "cell_type": "markdown",
   "id": "e83f9281",
   "metadata": {},
   "source": [
    "* 以`#`开头，`#`右边的所有东西都被当成说明文字，，而不是真正要执行的程序\n",
    "* 示例代码如下："
   ]
  },
  {
   "cell_type": "code",
   "execution_count": 3,
   "id": "38eab6df",
   "metadata": {},
   "outputs": [
    {
     "name": "stdout",
     "output_type": "stream",
     "text": [
      "hello, python\n"
     ]
    }
   ],
   "source": [
    "# 这是一个单行注释\n",
    "print(\"hello, python\")"
   ]
  },
  {
   "cell_type": "code",
   "execution_count": 5,
   "id": "4600c710",
   "metadata": {},
   "outputs": [
    {
     "name": "stdout",
     "output_type": "stream",
     "text": [
      "hello, python\n"
     ]
    }
   ],
   "source": [
    "print(\"hello, python\")  # 这是一个单行注释"
   ]
  },
  {
   "cell_type": "markdown",
   "id": "e6c5b9d3",
   "metadata": {},
   "source": [
    "# 多行注释"
   ]
  },
  {
   "cell_type": "markdown",
   "id": "3b096f8e",
   "metadata": {},
   "source": [
    "* 用一对连续的三个引号（单引号和双引号都可以）\n",
    "* 示例代码如下："
   ]
  },
  {
   "cell_type": "code",
   "execution_count": 7,
   "id": "5ca8ffd2",
   "metadata": {},
   "outputs": [
    {
     "name": "stdout",
     "output_type": "stream",
     "text": [
      "hello, python\n"
     ]
    }
   ],
   "source": [
    "'''\n",
    "这是一个多行注释\n",
    "\n",
    "这是一个多行注释\n",
    "'''\n",
    "print(\"hello, python\")"
   ]
  }
 ],
 "metadata": {
  "kernelspec": {
   "display_name": "Python 3 (ipykernel)",
   "language": "python",
   "name": "python3"
  },
  "language_info": {
   "codemirror_mode": {
    "name": "ipython",
    "version": 3
   },
   "file_extension": ".py",
   "mimetype": "text/x-python",
   "name": "python",
   "nbconvert_exporter": "python",
   "pygments_lexer": "ipython3",
   "version": "3.9.7"
  }
 },
 "nbformat": 4,
 "nbformat_minor": 5
}
