{
 "cells": [
  {
   "cell_type": "markdown",
   "id": "ce53b267",
   "metadata": {},
   "source": [
    "# 字符串的定义"
   ]
  },
  {
   "cell_type": "markdown",
   "id": "c6402898",
   "metadata": {},
   "source": [
    "* 可以使用**一对双引号**`\"`或**一对单引号**`'`定义一个字符串\n",
    "* 可以使用**索引**获取一个字符串中**指定位置的字符**\n",
    "* 可以使用`for`循环遍历字符串中的每一个字符"
   ]
  },
  {
   "cell_type": "code",
   "execution_count": 1,
   "id": "a2d77f35",
   "metadata": {},
   "outputs": [],
   "source": [
    "string = 'Hello python'"
   ]
  },
  {
   "cell_type": "code",
   "execution_count": 2,
   "id": "01d61b8d",
   "metadata": {},
   "outputs": [
    {
     "name": "stdout",
     "output_type": "stream",
     "text": [
      "e\n"
     ]
    }
   ],
   "source": [
    "print(string[1])"
   ]
  },
  {
   "cell_type": "code",
   "execution_count": 3,
   "id": "1c653fc9",
   "metadata": {},
   "outputs": [
    {
     "name": "stdout",
     "output_type": "stream",
     "text": [
      "H\n",
      "e\n",
      "l\n",
      "l\n",
      "o\n",
      " \n",
      "p\n",
      "y\n",
      "t\n",
      "h\n",
      "o\n",
      "n\n"
     ]
    }
   ],
   "source": [
    "for c in string:\n",
    "    print(c)"
   ]
  },
  {
   "cell_type": "markdown",
   "id": "d4e52b15",
   "metadata": {},
   "source": [
    "# 字符串的方法"
   ]
  },
  {
   "cell_type": "markdown",
   "id": "59e730c2",
   "metadata": {},
   "source": [
    "## 大小写相关操作"
   ]
  },
  {
   "cell_type": "code",
   "execution_count": 1,
   "id": "f9b83fd2",
   "metadata": {},
   "outputs": [],
   "source": [
    "s1 = \"hello world\""
   ]
  },
  {
   "cell_type": "code",
   "execution_count": 2,
   "id": "c3cc7691",
   "metadata": {},
   "outputs": [
    {
     "data": {
      "text/plain": [
       "'Hello world'"
      ]
     },
     "execution_count": 2,
     "metadata": {},
     "output_type": "execute_result"
    }
   ],
   "source": [
    "# 获得首字母大写后的字符串\n",
    "s1.capitalize()"
   ]
  },
  {
   "cell_type": "code",
   "execution_count": 3,
   "id": "8163994c",
   "metadata": {},
   "outputs": [
    {
     "data": {
      "text/plain": [
       "'Hello World'"
      ]
     },
     "execution_count": 3,
     "metadata": {},
     "output_type": "execute_result"
    }
   ],
   "source": [
    "# 获得每个单词首字母大写后的字符串\n",
    "s1.title()"
   ]
  },
  {
   "cell_type": "code",
   "execution_count": 4,
   "id": "0927f22b",
   "metadata": {},
   "outputs": [
    {
     "data": {
      "text/plain": [
       "'HELLO WORLD'"
      ]
     },
     "execution_count": 4,
     "metadata": {},
     "output_type": "execute_result"
    }
   ],
   "source": [
    "# 字符串大写\n",
    "s1.upper()"
   ]
  },
  {
   "cell_type": "code",
   "execution_count": 5,
   "id": "b39116cd",
   "metadata": {},
   "outputs": [
    {
     "data": {
      "text/plain": [
       "'hello world'"
      ]
     },
     "execution_count": 5,
     "metadata": {},
     "output_type": "execute_result"
    }
   ],
   "source": [
    "# 字符串小写\n",
    "s1.lower()"
   ]
  },
  {
   "cell_type": "markdown",
   "id": "4e8fb853",
   "metadata": {},
   "source": [
    "## 查找操作"
   ]
  },
  {
   "cell_type": "markdown",
   "id": "d10d9186",
   "metadata": {},
   "source": [
    "* 从字符串中查找另一个字符串所在的位置"
   ]
  },
  {
   "cell_type": "code",
   "execution_count": 7,
   "id": "cba26bea",
   "metadata": {},
   "outputs": [
    {
     "name": "stdout",
     "output_type": "stream",
     "text": [
      "7\n",
      "-1\n"
     ]
    }
   ],
   "source": [
    "# find方法\n",
    "# 找到后返回首字母索引位置\n",
    "print(s1.find('or'))\n",
    "# 找不到返回-1\n",
    "print(s1.find('ok'))"
   ]
  },
  {
   "cell_type": "code",
   "execution_count": 9,
   "id": "1c229b3c",
   "metadata": {},
   "outputs": [
    {
     "name": "stdout",
     "output_type": "stream",
     "text": [
      "7\n"
     ]
    },
    {
     "ename": "ValueError",
     "evalue": "substring not found",
     "output_type": "error",
     "traceback": [
      "\u001b[1;31m---------------------------------------------------------------------------\u001b[0m",
      "\u001b[1;31mValueError\u001b[0m                                Traceback (most recent call last)",
      "\u001b[1;32m~\\AppData\\Local\\Temp/ipykernel_4232/3300102733.py\u001b[0m in \u001b[0;36m<module>\u001b[1;34m\u001b[0m\n\u001b[0;32m      3\u001b[0m \u001b[0mprint\u001b[0m\u001b[1;33m(\u001b[0m\u001b[0ms1\u001b[0m\u001b[1;33m.\u001b[0m\u001b[0mindex\u001b[0m\u001b[1;33m(\u001b[0m\u001b[1;34m'or'\u001b[0m\u001b[1;33m)\u001b[0m\u001b[1;33m)\u001b[0m\u001b[1;33m\u001b[0m\u001b[1;33m\u001b[0m\u001b[0m\n\u001b[0;32m      4\u001b[0m \u001b[1;31m# 找不到则报错\u001b[0m\u001b[1;33m\u001b[0m\u001b[1;33m\u001b[0m\u001b[0m\n\u001b[1;32m----> 5\u001b[1;33m \u001b[0mprint\u001b[0m\u001b[1;33m(\u001b[0m\u001b[0ms1\u001b[0m\u001b[1;33m.\u001b[0m\u001b[0mindex\u001b[0m\u001b[1;33m(\u001b[0m\u001b[1;34m'ok'\u001b[0m\u001b[1;33m)\u001b[0m\u001b[1;33m)\u001b[0m\u001b[1;33m\u001b[0m\u001b[1;33m\u001b[0m\u001b[0m\n\u001b[0m",
      "\u001b[1;31mValueError\u001b[0m: substring not found"
     ]
    }
   ],
   "source": [
    "# index方法\n",
    "# 找到后返回首字母索引位置\n",
    "print(s1.index('or'))\n",
    "# 找不到则抛出异常\n",
    "print(s1.index('ok'))"
   ]
  },
  {
   "cell_type": "markdown",
   "id": "142cc1d2",
   "metadata": {},
   "source": [
    "* 可指定查找范围，不必从索引为0的位置开始"
   ]
  },
  {
   "cell_type": "code",
   "execution_count": 10,
   "id": "49cafbea",
   "metadata": {},
   "outputs": [],
   "source": [
    "s2 = \"hello good world\""
   ]
  },
  {
   "cell_type": "code",
   "execution_count": 14,
   "id": "e65f22e4",
   "metadata": {},
   "outputs": [
    {
     "data": {
      "text/plain": [
       "7"
      ]
     },
     "execution_count": 14,
     "metadata": {},
     "output_type": "execute_result"
    }
   ],
   "source": [
    "# 从索引为5的位置开始查找\n",
    "# s2.find('o',5)\n",
    "s2.index('o',5)"
   ]
  },
  {
   "cell_type": "code",
   "execution_count": 15,
   "id": "59320bc9",
   "metadata": {},
   "outputs": [
    {
     "data": {
      "text/plain": [
       "12"
      ]
     },
     "execution_count": 15,
     "metadata": {},
     "output_type": "execute_result"
    }
   ],
   "source": [
    "# 从后向前查找\n",
    "# s2.rfind('o')\n",
    "s2.rindex('o')"
   ]
  },
  {
   "cell_type": "markdown",
   "id": "df931207",
   "metadata": {},
   "source": [
    "## 性质判断"
   ]
  },
  {
   "cell_type": "code",
   "execution_count": 17,
   "id": "c0b5319e",
   "metadata": {},
   "outputs": [
    {
     "data": {
      "text/plain": [
       "True"
      ]
     },
     "execution_count": 17,
     "metadata": {},
     "output_type": "execute_result"
    }
   ],
   "source": [
    "# 检查字符串是否以指定的字符串开头\n",
    "s1.startswith('he')"
   ]
  },
  {
   "cell_type": "code",
   "execution_count": 18,
   "id": "4c6a6ec6",
   "metadata": {},
   "outputs": [
    {
     "data": {
      "text/plain": [
       "False"
      ]
     },
     "execution_count": 18,
     "metadata": {},
     "output_type": "execute_result"
    }
   ],
   "source": [
    "# 检查字符串是否以指定的字符串结束\n",
    "s1.endswith('he')"
   ]
  },
  {
   "cell_type": "code",
   "execution_count": 19,
   "id": "cfb5395a",
   "metadata": {},
   "outputs": [],
   "source": [
    "s3 = 'abc123'"
   ]
  },
  {
   "cell_type": "code",
   "execution_count": 20,
   "id": "d7e0460f",
   "metadata": {},
   "outputs": [
    {
     "data": {
      "text/plain": [
       "False"
      ]
     },
     "execution_count": 20,
     "metadata": {},
     "output_type": "execute_result"
    }
   ],
   "source": [
    "# 检查字符串是否由数字构成\n",
    "s3.isdigit()"
   ]
  },
  {
   "cell_type": "code",
   "execution_count": 21,
   "id": "ddfc0c40",
   "metadata": {},
   "outputs": [
    {
     "data": {
      "text/plain": [
       "False"
      ]
     },
     "execution_count": 21,
     "metadata": {},
     "output_type": "execute_result"
    }
   ],
   "source": [
    "# 检查字符串是否由字母构成\n",
    "s3.isalpha()"
   ]
  },
  {
   "cell_type": "code",
   "execution_count": 22,
   "id": "c8f9031d",
   "metadata": {},
   "outputs": [
    {
     "data": {
      "text/plain": [
       "True"
      ]
     },
     "execution_count": 22,
     "metadata": {},
     "output_type": "execute_result"
    }
   ],
   "source": [
    "# 检查字符串是否由数字和字母构成\n",
    "s3.isalnum()"
   ]
  },
  {
   "cell_type": "markdown",
   "id": "44140a98",
   "metadata": {},
   "source": [
    "## 格式化字符串"
   ]
  },
  {
   "cell_type": "code",
   "execution_count": 23,
   "id": "70c57dd4",
   "metadata": {},
   "outputs": [
    {
     "data": {
      "text/plain": [
       "'****hello world*****'"
      ]
     },
     "execution_count": 23,
     "metadata": {},
     "output_type": "execute_result"
    }
   ],
   "source": [
    "# 以宽度20将字符串居中并在两侧填充*\n",
    "s1.center(20,'*')"
   ]
  },
  {
   "cell_type": "code",
   "execution_count": 24,
   "id": "4c7387a2",
   "metadata": {},
   "outputs": [
    {
     "data": {
      "text/plain": [
       "'         hello world'"
      ]
     },
     "execution_count": 24,
     "metadata": {},
     "output_type": "execute_result"
    }
   ],
   "source": [
    "# 以宽度20将字符串右对齐并在左侧填充空格\n",
    "s1.rjust(20)"
   ]
  },
  {
   "cell_type": "code",
   "execution_count": 25,
   "id": "9e714cd4",
   "metadata": {},
   "outputs": [
    {
     "data": {
      "text/plain": [
       "'hello world---------'"
      ]
     },
     "execution_count": 25,
     "metadata": {},
     "output_type": "execute_result"
    }
   ],
   "source": [
    "# 以宽度20将字符串左对齐并在右侧填充-\n",
    "s1.ljust(20,'-')"
   ]
  },
  {
   "cell_type": "code",
   "execution_count": 29,
   "id": "dcb78db0",
   "metadata": {},
   "outputs": [
    {
     "name": "stdout",
     "output_type": "stream",
     "text": [
      "00033\n",
      "-0033\n"
     ]
    }
   ],
   "source": [
    "# 在字符串的左侧补0\n",
    "print(\"33\".zfill(5))\n",
    "print(\"-33\".zfill(5))"
   ]
  },
  {
   "cell_type": "markdown",
   "id": "7102c728",
   "metadata": {},
   "source": [
    "## 去除多余空格"
   ]
  },
  {
   "cell_type": "code",
   "execution_count": 30,
   "id": "01470cfa",
   "metadata": {},
   "outputs": [],
   "source": [
    "s4 = \"   zhangsan@qq.com      \\t\\r\\n\""
   ]
  },
  {
   "cell_type": "code",
   "execution_count": 31,
   "id": "c6aef2f5",
   "metadata": {},
   "outputs": [
    {
     "data": {
      "text/plain": [
       "'zhangsan@qq.com'"
      ]
     },
     "execution_count": 31,
     "metadata": {},
     "output_type": "execute_result"
    }
   ],
   "source": [
    "# 去掉字符串左右两侧空格\n",
    "s4.strip()"
   ]
  },
  {
   "cell_type": "code",
   "execution_count": 32,
   "id": "3671f157",
   "metadata": {},
   "outputs": [
    {
     "data": {
      "text/plain": [
       "'zhangsan@qq.com      \\t\\r\\n'"
      ]
     },
     "execution_count": 32,
     "metadata": {},
     "output_type": "execute_result"
    }
   ],
   "source": [
    "s4.lstrip()"
   ]
  },
  {
   "cell_type": "code",
   "execution_count": 33,
   "id": "a5bccb0e",
   "metadata": {},
   "outputs": [
    {
     "data": {
      "text/plain": [
       "'   zhangsan@qq.com'"
      ]
     },
     "execution_count": 33,
     "metadata": {},
     "output_type": "execute_result"
    }
   ],
   "source": [
    "s4.rstrip()"
   ]
  },
  {
   "cell_type": "markdown",
   "id": "66e69fd2",
   "metadata": {},
   "source": [
    "## 替换操作"
   ]
  },
  {
   "cell_type": "code",
   "execution_count": 34,
   "id": "322d4fe7",
   "metadata": {},
   "outputs": [
    {
     "data": {
      "text/plain": [
       "'hell@ w@rld'"
      ]
     },
     "execution_count": 34,
     "metadata": {},
     "output_type": "execute_result"
    }
   ],
   "source": [
    "s1 = 'hello world'\n",
    "s1.replace('o','@')"
   ]
  },
  {
   "cell_type": "code",
   "execution_count": 35,
   "id": "5de46db6",
   "metadata": {},
   "outputs": [
    {
     "data": {
      "text/plain": [
       "'hell@ world'"
      ]
     },
     "execution_count": 35,
     "metadata": {},
     "output_type": "execute_result"
    }
   ],
   "source": [
    "s1.replace('o','@',1)   # 指定替换的次数"
   ]
  },
  {
   "cell_type": "markdown",
   "id": "ee6852d8",
   "metadata": {},
   "source": [
    "## 拆分、合并操作"
   ]
  },
  {
   "cell_type": "code",
   "execution_count": 36,
   "id": "46c3147d",
   "metadata": {},
   "outputs": [],
   "source": [
    "s4 = 'i love you'"
   ]
  },
  {
   "cell_type": "code",
   "execution_count": 37,
   "id": "d43ab944",
   "metadata": {},
   "outputs": [
    {
     "data": {
      "text/plain": [
       "['i', 'love', 'you']"
      ]
     },
     "execution_count": 37,
     "metadata": {},
     "output_type": "execute_result"
    }
   ],
   "source": [
    "# split方法默认使用空格进行拆分，拆分后放在一个列表中\n",
    "words = s4.split()\n",
    "words"
   ]
  },
  {
   "cell_type": "code",
   "execution_count": 38,
   "id": "40869805",
   "metadata": {},
   "outputs": [
    {
     "name": "stdout",
     "output_type": "stream",
     "text": [
      "i-love-you\n"
     ]
    }
   ],
   "source": [
    "# 将列表中多个字符串连接成一个字符串\n",
    "print('-'.join(words))"
   ]
  },
  {
   "cell_type": "code",
   "execution_count": 39,
   "id": "bc934eaf",
   "metadata": {},
   "outputs": [
    {
     "data": {
      "text/plain": [
       "['i', 'love', 'you']"
      ]
     },
     "execution_count": 39,
     "metadata": {},
     "output_type": "execute_result"
    }
   ],
   "source": [
    "# 使用其他指定字符拆分字符串\n",
    "s5 = 'i#love#you'\n",
    "words = s5.split('#')\n",
    "words"
   ]
  },
  {
   "cell_type": "code",
   "execution_count": 42,
   "id": "acbd9c87",
   "metadata": {},
   "outputs": [
    {
     "data": {
      "text/plain": [
       "['i', 'love#you']"
      ]
     },
     "execution_count": 42,
     "metadata": {},
     "output_type": "execute_result"
    }
   ],
   "source": [
    "# 指定拆分次数\n",
    "words = s5.split('#', 1)\n",
    "words"
   ]
  },
  {
   "cell_type": "markdown",
   "id": "5cca893f",
   "metadata": {},
   "source": [
    "## 编码、解码操作"
   ]
  },
  {
   "cell_type": "code",
   "execution_count": 43,
   "id": "6f9f3124",
   "metadata": {},
   "outputs": [
    {
     "name": "stdout",
     "output_type": "stream",
     "text": [
      "b'\\xe5\\xbc\\xa0\\xe4\\xb8\\x89'\n",
      "b'\\xd5\\xc5\\xc8\\xfd'\n"
     ]
    }
   ],
   "source": [
    "a = \"张三\"\n",
    "b = a.encode('utf-8')\n",
    "c = a.encode('gbk')\n",
    "print(b)\n",
    "print(c)"
   ]
  },
  {
   "cell_type": "code",
   "execution_count": 44,
   "id": "2444df0e",
   "metadata": {},
   "outputs": [
    {
     "data": {
      "text/plain": [
       "'张三'"
      ]
     },
     "execution_count": 44,
     "metadata": {},
     "output_type": "execute_result"
    }
   ],
   "source": [
    "b.decode('utf-8')"
   ]
  },
  {
   "cell_type": "code",
   "execution_count": 45,
   "id": "9f5739e9",
   "metadata": {},
   "outputs": [
    {
     "data": {
      "text/plain": [
       "'张三'"
      ]
     },
     "execution_count": 45,
     "metadata": {},
     "output_type": "execute_result"
    }
   ],
   "source": [
    "c.decode('gbk')"
   ]
  },
  {
   "cell_type": "markdown",
   "id": "df5810ed",
   "metadata": {},
   "source": [
    "## 多行字符串"
   ]
  },
  {
   "cell_type": "markdown",
   "id": "ca815a35",
   "metadata": {},
   "source": [
    "* Python 用一对`\"\"\"`或者`'''`来生成多行字符串："
   ]
  },
  {
   "cell_type": "code",
   "execution_count": 1,
   "id": "a3b1348a",
   "metadata": {},
   "outputs": [
    {
     "name": "stdout",
     "output_type": "stream",
     "text": [
      "hello world\n",
      "it is a nice day\n"
     ]
    }
   ],
   "source": [
    "s6 = \"\"\"hello world\n",
    "it is a nice day\"\"\"\n",
    "print(s6)"
   ]
  },
  {
   "cell_type": "markdown",
   "id": "5b68e0d1",
   "metadata": {},
   "source": [
    "* 在储存时，我们在两行字符间加上一个换行符`'\\n'`"
   ]
  },
  {
   "cell_type": "code",
   "execution_count": 3,
   "id": "7fe55340",
   "metadata": {},
   "outputs": [
    {
     "data": {
      "text/plain": [
       "'hello world\\nit is a nice day'"
      ]
     },
     "execution_count": 3,
     "metadata": {},
     "output_type": "execute_result"
    }
   ],
   "source": [
    "s6"
   ]
  },
  {
   "cell_type": "markdown",
   "id": "93e9414f",
   "metadata": {},
   "source": [
    "* 当代码太长或者为了美观起见时，可以使用`()`或者`\\`来换行"
   ]
  },
  {
   "cell_type": "code",
   "execution_count": 5,
   "id": "6516b026",
   "metadata": {},
   "outputs": [
    {
     "name": "stdout",
     "output_type": "stream",
     "text": [
      "hello world.it is a nice day.my name is zhangsan.\n"
     ]
    }
   ],
   "source": [
    "a = (\"hello world.\"\n",
    "    \"it is a nice day.\"\n",
    "    \"my name is zhangsan.\")\n",
    "print(a)"
   ]
  },
  {
   "cell_type": "code",
   "execution_count": 6,
   "id": "e74303bd",
   "metadata": {},
   "outputs": [
    {
     "name": "stdout",
     "output_type": "stream",
     "text": [
      "hello worldit is a nice daymy name is lisi\n"
     ]
    }
   ],
   "source": [
    "a = \"hello world\"\\\n",
    "    \"it is a nice day\"\\\n",
    "    \"my name is lisi\"\n",
    "print(a)"
   ]
  }
 ],
 "metadata": {
  "kernelspec": {
   "display_name": "Python 3 (ipykernel)",
   "language": "python",
   "name": "python3"
  },
  "language_info": {
   "codemirror_mode": {
    "name": "ipython",
    "version": 3
   },
   "file_extension": ".py",
   "mimetype": "text/x-python",
   "name": "python",
   "nbconvert_exporter": "python",
   "pygments_lexer": "ipython3",
   "version": "3.9.7"
  }
 },
 "nbformat": 4,
 "nbformat_minor": 5
}
