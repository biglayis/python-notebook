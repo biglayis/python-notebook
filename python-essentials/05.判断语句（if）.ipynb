{
 "cells": [
  {
   "cell_type": "markdown",
   "id": "256068da",
   "metadata": {},
   "source": [
    "# if判断语句基本语法"
   ]
  },
  {
   "cell_type": "markdown",
   "id": "e39d1c26",
   "metadata": {},
   "source": [
    "if 条件1:  \n",
    "\n",
    "    条件1成立时，执行的代码  \n",
    "elif 条件2:  \n",
    "\n",
    "    条件2成立时，执行的代码  \n",
    "elif 条件3：  \n",
    "\n",
    "    条件3成立时，执行的代码\n",
    "else:  \n",
    "\n",
    "    以上条件都不成立时，执行的代码"
   ]
  },
  {
   "cell_type": "code",
   "execution_count": 6,
   "id": "8431a7a9",
   "metadata": {},
   "outputs": [
    {
     "name": "stdout",
     "output_type": "stream",
     "text": [
      "请输入年龄：15\n",
      "不可以进入网吧\n"
     ]
    }
   ],
   "source": [
    "age = int(input(\"请输入年龄：\"))\n",
    "\n",
    "if age >= 18:\n",
    "    print(\"可以进入网吧\")\n",
    "else:\n",
    "    print(\"不可以进入网吧\")"
   ]
  },
  {
   "cell_type": "markdown",
   "id": "cdfc214b",
   "metadata": {},
   "source": [
    "## 逻辑运算"
   ]
  },
  {
   "cell_type": "markdown",
   "id": "f9a0cfe5",
   "metadata": {},
   "source": [
    "* 条件1 and 条件2"
   ]
  },
  {
   "cell_type": "code",
   "execution_count": 7,
   "id": "30e84f78",
   "metadata": {},
   "outputs": [
    {
     "name": "stdout",
     "output_type": "stream",
     "text": [
      "年龄正确\n"
     ]
    }
   ],
   "source": [
    "if age >= 0 and age <= 120:\n",
    "    print(\"年龄正确\")\n",
    "else:\n",
    "    print(\"年龄不正确\")"
   ]
  },
  {
   "cell_type": "markdown",
   "id": "3040e51c",
   "metadata": {},
   "source": [
    "* 条件1 or 条件2"
   ]
  },
  {
   "cell_type": "code",
   "execution_count": 8,
   "id": "5848b597",
   "metadata": {},
   "outputs": [
    {
     "name": "stdout",
     "output_type": "stream",
     "text": [
      "考试通过\n"
     ]
    }
   ],
   "source": [
    "python_score = 50\n",
    "c_score = 65\n",
    "\n",
    "if python_score >= 60 or c_score >= 60:\n",
    "    print(\"考试通过\")\n",
    "else:\n",
    "    print(\"再接再厉\")"
   ]
  },
  {
   "cell_type": "markdown",
   "id": "ae21a241",
   "metadata": {},
   "source": [
    "* not 条件"
   ]
  },
  {
   "cell_type": "code",
   "execution_count": 10,
   "id": "9e454204",
   "metadata": {},
   "outputs": [
    {
     "name": "stdout",
     "output_type": "stream",
     "text": [
      "非本公司员工\n"
     ]
    }
   ],
   "source": [
    "is_employee = False\n",
    "\n",
    "if not is_employee:\n",
    "    print(\"非本公司员工\")\n",
    "else:\n",
    "    print(\"是本公司员工\")"
   ]
  },
  {
   "cell_type": "markdown",
   "id": "199cb407",
   "metadata": {},
   "source": [
    "# 剪刀石头布"
   ]
  },
  {
   "cell_type": "code",
   "execution_count": 14,
   "id": "38f6827c",
   "metadata": {},
   "outputs": [
    {
     "name": "stdout",
     "output_type": "stream",
     "text": [
      "请出拳（1：剪刀，2：石头，3：布）：2\n",
      "电脑出的是剪刀\n",
      "你赢了\n"
     ]
    }
   ],
   "source": [
    "import random\n",
    "\n",
    "player = int(input(\"请出拳（1：剪刀，2：石头，3：布）：\"))\n",
    "\n",
    "computer = random.randint(1,3)\n",
    "\n",
    "if player == 1:\n",
    "    if computer == 2:\n",
    "        print(\"电脑出的是石头\")\n",
    "        print(\"你输了\")\n",
    "    elif computer == 3:\n",
    "        print(\"电脑出的是布\")\n",
    "        print(\"你赢了\")\n",
    "    else:\n",
    "        print(\"电脑出的是剪刀\")\n",
    "        print(\"平局\")\n",
    "elif player == 2:\n",
    "    if computer == 1:\n",
    "        print(\"电脑出的是剪刀\")\n",
    "        print(\"你赢了\")\n",
    "    elif computer == 3:\n",
    "        print(\"电脑出的是布\")\n",
    "        print(\"你输了\")\n",
    "    else:\n",
    "        print(\"电脑出的是石头\")\n",
    "        print(\"平局\")\n",
    "else:\n",
    "    if computer == 2:\n",
    "        print(\"电脑出的是石头\")\n",
    "        print(\"你赢了\")\n",
    "    elif computer == 1:\n",
    "        print(\"电脑出的是剪刀\")\n",
    "        print(\"你输了\")\n",
    "    else:\n",
    "        print(\"电脑出的是布\")\n",
    "        print(\"平局\")  "
   ]
  }
 ],
 "metadata": {
  "kernelspec": {
   "display_name": "Python 3 (ipykernel)",
   "language": "python",
   "name": "python3"
  },
  "language_info": {
   "codemirror_mode": {
    "name": "ipython",
    "version": 3
   },
   "file_extension": ".py",
   "mimetype": "text/x-python",
   "name": "python",
   "nbconvert_exporter": "python",
   "pygments_lexer": "ipython3",
   "version": "3.9.7"
  }
 },
 "nbformat": 4,
 "nbformat_minor": 5
}
