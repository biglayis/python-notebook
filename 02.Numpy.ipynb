{
 "cells": [
  {
   "cell_type": "markdown",
   "id": "fa2e79f5",
   "metadata": {},
   "source": [
    "# Numpy"
   ]
  },
  {
   "cell_type": "markdown",
   "id": "5e8dea23",
   "metadata": {},
   "source": [
    "Numpy 是一个开源的 Python 科学计算库，**用于快速处理任意维度的数组**。Numpy**支持常见的数组和矩阵操作**，对于同样的数值计算任务，使用 NumPy 不仅代码要简洁的多，而且 NumPy 的性能远远优于原生 Python，基本是一个到两个数量级的差距，而且数据量越大，NumPy 的优势就越明显。"
   ]
  },
  {
   "cell_type": "markdown",
   "id": "c23d1537",
   "metadata": {},
   "source": [
    "Numpy 最为核心的数据类型是`ndarray`，使用`ndarray`可以处理一维、二维和多维数组，该对象相当于是一个快速而灵活的大数据容器。  \n",
    "NumPy 底层代码使用 C 语言编写，解决了 GIL 的限制，`ndarray`在存取数据的时候，数据与数据的地址都是连续的，这确保了可以进行高效率的批量操作，远远优于 Python 中的list；另一方面`ndarray`对象提供了更多的方法来处理数据，尤其是和统计相关的方法，这些方法也是 Python 原生的list没有的。"
   ]
  },
  {
   "cell_type": "markdown",
   "id": "77cb5836",
   "metadata": {},
   "source": [
    "## 导入Numpy"
   ]
  },
  {
   "cell_type": "code",
   "execution_count": 1,
   "id": "73080da9",
   "metadata": {},
   "outputs": [],
   "source": [
    "import numpy as np"
   ]
  },
  {
   "cell_type": "markdown",
   "id": "15560dab",
   "metadata": {},
   "source": [
    "## 创建数组对象"
   ]
  },
  {
   "cell_type": "markdown",
   "id": "638b46f4",
   "metadata": {},
   "source": [
    "### 一维数组"
   ]
  },
  {
   "cell_type": "markdown",
   "id": "bace3d41",
   "metadata": {},
   "source": [
    "方法一：使用`array`函数，通过`list`创建数组对象"
   ]
  },
  {
   "cell_type": "code",
   "execution_count": 2,
   "id": "54398911",
   "metadata": {},
   "outputs": [
    {
     "data": {
      "text/plain": [
       "array([1, 2, 3, 4, 5])"
      ]
     },
     "execution_count": 2,
     "metadata": {},
     "output_type": "execute_result"
    }
   ],
   "source": [
    "np.array([1,2,3,4,5])"
   ]
  },
  {
   "cell_type": "markdown",
   "id": "7bb73135",
   "metadata": {},
   "source": [
    "方法二：使用`arange`函数，指定取值范围创建数组对象"
   ]
  },
  {
   "cell_type": "code",
   "execution_count": 3,
   "id": "914b2e26",
   "metadata": {},
   "outputs": [
    {
     "data": {
      "text/plain": [
       "array([ 0,  2,  4,  6,  8, 10, 12, 14, 16, 18])"
      ]
     },
     "execution_count": 3,
     "metadata": {},
     "output_type": "execute_result"
    }
   ],
   "source": [
    "np.arange(0,20,2)"
   ]
  },
  {
   "cell_type": "markdown",
   "id": "8a91dcdd",
   "metadata": {},
   "source": [
    "方法三：使用`linspace`函数，用指定范围均匀间隔的数字创建数组对象"
   ]
  },
  {
   "cell_type": "code",
   "execution_count": 4,
   "id": "4b150d93",
   "metadata": {},
   "outputs": [
    {
     "data": {
      "text/plain": [
       "array([  1. ,  10.9,  20.8,  30.7,  40.6,  50.5,  60.4,  70.3,  80.2,\n",
       "        90.1, 100. ])"
      ]
     },
     "execution_count": 4,
     "metadata": {},
     "output_type": "execute_result"
    }
   ],
   "source": [
    "np.linspace(1,100,11)"
   ]
  },
  {
   "cell_type": "markdown",
   "id": "2421e7c5",
   "metadata": {},
   "source": [
    "方法四：使用`numpy.random`模块的函数生成随机数创建数组对象"
   ]
  },
  {
   "cell_type": "code",
   "execution_count": 5,
   "id": "7d67f46e",
   "metadata": {
    "scrolled": true
   },
   "outputs": [
    {
     "data": {
      "text/plain": [
       "array([0.44672068, 0.71164774, 0.37355473, 0.42891811, 0.78256991,\n",
       "       0.25713016, 0.84032602, 0.53687475, 0.40915907, 0.60427439])"
      ]
     },
     "execution_count": 5,
     "metadata": {},
     "output_type": "execute_result"
    }
   ],
   "source": [
    "# 产生10个[0, 1)范围的随机小数\n",
    "np.random.rand(10)"
   ]
  },
  {
   "cell_type": "code",
   "execution_count": 6,
   "id": "f258f565",
   "metadata": {},
   "outputs": [
    {
     "data": {
      "text/plain": [
       "array([32, 84, 83, 55, 90, 41, 85, 83, 58, 42])"
      ]
     },
     "execution_count": 6,
     "metadata": {},
     "output_type": "execute_result"
    }
   ],
   "source": [
    "# 产生10个[1, 100)范围的随机整数\n",
    "np.random.randint(1,100,10)"
   ]
  },
  {
   "cell_type": "code",
   "execution_count": 7,
   "id": "ba1af7e6",
   "metadata": {},
   "outputs": [
    {
     "data": {
      "text/plain": [
       "array([45.8150171 , 54.57132869, 58.30208916, 65.55143372, 39.71582164,\n",
       "       55.05646949, 43.75715135, 41.80529516, 53.30395861, 49.41578842,\n",
       "       48.8492869 , 52.56858791, 32.28633234, 72.49081223, 65.49728913,\n",
       "       31.49160553, 60.7359172 , 50.80240887, 67.23716187, 56.87142208])"
      ]
     },
     "execution_count": 7,
     "metadata": {},
     "output_type": "execute_result"
    }
   ],
   "source": [
    "# 产生20个mu=50$，sigma=10的正态分布随机数\n",
    "np.random.normal(50,10,20)"
   ]
  },
  {
   "cell_type": "markdown",
   "id": "a9a1d129",
   "metadata": {},
   "source": [
    "创建一维数组还有很多其他的方式，比如通过读取字符串、读取文件、解析正则表达式等方式"
   ]
  },
  {
   "cell_type": "markdown",
   "id": "9819b298",
   "metadata": {},
   "source": [
    "### 二维数组"
   ]
  },
  {
   "cell_type": "markdown",
   "id": "c48210e1",
   "metadata": {},
   "source": [
    "方法一：使用`array`函数，通过嵌套的`list`创建数组对象"
   ]
  },
  {
   "cell_type": "code",
   "execution_count": 8,
   "id": "6b821ac3",
   "metadata": {},
   "outputs": [
    {
     "data": {
      "text/plain": [
       "array([[1, 2, 3],\n",
       "       [4, 5, 6]])"
      ]
     },
     "execution_count": 8,
     "metadata": {},
     "output_type": "execute_result"
    }
   ],
   "source": [
    "np.array([[1,2,3],[4,5,6]])"
   ]
  },
  {
   "cell_type": "markdown",
   "id": "943f5948",
   "metadata": {},
   "source": [
    "方法二：使用`zeros`、`ones`、`full`函数指定数组的形状创建数组对象"
   ]
  },
  {
   "cell_type": "code",
   "execution_count": 9,
   "id": "6347ef36",
   "metadata": {},
   "outputs": [
    {
     "data": {
      "text/plain": [
       "array([[0., 0., 0., 0.],\n",
       "       [0., 0., 0., 0.],\n",
       "       [0., 0., 0., 0.]])"
      ]
     },
     "execution_count": 9,
     "metadata": {},
     "output_type": "execute_result"
    }
   ],
   "source": [
    "np.zeros((3,4))"
   ]
  },
  {
   "cell_type": "code",
   "execution_count": 10,
   "id": "307f0aaf",
   "metadata": {},
   "outputs": [
    {
     "data": {
      "text/plain": [
       "array([[1., 1., 1., 1.],\n",
       "       [1., 1., 1., 1.],\n",
       "       [1., 1., 1., 1.]])"
      ]
     },
     "execution_count": 10,
     "metadata": {},
     "output_type": "execute_result"
    }
   ],
   "source": [
    "np.ones((3,4))"
   ]
  },
  {
   "cell_type": "code",
   "execution_count": 11,
   "id": "1a7c3fbd",
   "metadata": {},
   "outputs": [
    {
     "data": {
      "text/plain": [
       "array([[6, 6, 6, 6],\n",
       "       [6, 6, 6, 6],\n",
       "       [6, 6, 6, 6]])"
      ]
     },
     "execution_count": 11,
     "metadata": {},
     "output_type": "execute_result"
    }
   ],
   "source": [
    "np.full((3,4),6)"
   ]
  },
  {
   "cell_type": "markdown",
   "id": "261cb0bf",
   "metadata": {},
   "source": [
    "方法三：使用`eye`函数创建单位矩阵"
   ]
  },
  {
   "cell_type": "code",
   "execution_count": 12,
   "id": "7c604f1b",
   "metadata": {},
   "outputs": [
    {
     "data": {
      "text/plain": [
       "array([[1., 0., 0.],\n",
       "       [0., 1., 0.],\n",
       "       [0., 0., 1.]])"
      ]
     },
     "execution_count": 12,
     "metadata": {},
     "output_type": "execute_result"
    }
   ],
   "source": [
    "np.eye(3)"
   ]
  },
  {
   "cell_type": "markdown",
   "id": "a20092b8",
   "metadata": {},
   "source": [
    "方法四：通过`reshape`将一维数组变成二维数组"
   ]
  },
  {
   "cell_type": "code",
   "execution_count": 13,
   "id": "612b2be2",
   "metadata": {},
   "outputs": [
    {
     "data": {
      "text/plain": [
       "array([[1, 2],\n",
       "       [3, 4],\n",
       "       [5, 6]])"
      ]
     },
     "execution_count": 13,
     "metadata": {},
     "output_type": "execute_result"
    }
   ],
   "source": [
    "np.array([1,2,3,4,5,6]).reshape(3,2)"
   ]
  },
  {
   "cell_type": "markdown",
   "id": "0f3ef6d2",
   "metadata": {},
   "source": [
    "方法五：通过`numpy.random`模块的函数生成随机数创建数组对象"
   ]
  },
  {
   "cell_type": "code",
   "execution_count": 14,
   "id": "d0d32b39",
   "metadata": {},
   "outputs": [
    {
     "data": {
      "text/plain": [
       "array([[0.21421982, 0.06577757, 0.88562417, 0.07476169],\n",
       "       [0.46835336, 0.18703543, 0.88888761, 0.45667407],\n",
       "       [0.65313055, 0.35434834, 0.61217459, 0.01450753]])"
      ]
     },
     "execution_count": 14,
     "metadata": {},
     "output_type": "execute_result"
    }
   ],
   "source": [
    "# 产生[0, 1)范围的随机小数构成的3行4列的二维数组\n",
    "np.random.rand(3,4)"
   ]
  },
  {
   "cell_type": "code",
   "execution_count": 15,
   "id": "6a85079b",
   "metadata": {},
   "outputs": [
    {
     "data": {
      "text/plain": [
       "array([[74, 59, 81, 73],\n",
       "       [ 6, 33, 38, 11],\n",
       "       [52, 60, 13, 34]])"
      ]
     },
     "execution_count": 15,
     "metadata": {},
     "output_type": "execute_result"
    }
   ],
   "source": [
    "# 产生[1, 100)范围的随机整数构成的3行4列的二维数组\n",
    "np.random.randint(1,100,(3,4))"
   ]
  },
  {
   "cell_type": "markdown",
   "id": "f31dab79",
   "metadata": {},
   "source": [
    "### 多维数组"
   ]
  },
  {
   "cell_type": "markdown",
   "id": "7d93b8f3",
   "metadata": {},
   "source": [
    "使用随机的方式创建多维数组："
   ]
  },
  {
   "cell_type": "code",
   "execution_count": 16,
   "id": "a8bcf8fb",
   "metadata": {},
   "outputs": [
    {
     "data": {
      "text/plain": [
       "array([[[63, 32, 11, 86, 22],\n",
       "        [ 6,  5, 76, 12, 96],\n",
       "        [77, 91, 19, 84, 87],\n",
       "        [16, 50,  8, 69, 71]],\n",
       "\n",
       "       [[57, 37, 73, 54, 83],\n",
       "        [85, 55, 37, 40, 49],\n",
       "        [62, 37,  2, 14, 90],\n",
       "        [ 5, 87, 22, 94, 56]],\n",
       "\n",
       "       [[63, 20, 17, 18, 43],\n",
       "        [13, 13, 86, 39, 46],\n",
       "        [ 8, 22, 12, 50, 69],\n",
       "        [61, 80, 84, 94, 63]]])"
      ]
     },
     "execution_count": 16,
     "metadata": {},
     "output_type": "execute_result"
    }
   ],
   "source": [
    "np.random.randint(1,100,(3,4,5))"
   ]
  },
  {
   "cell_type": "markdown",
   "id": "6927697d",
   "metadata": {},
   "source": [
    "将一维二维的数组调形为多维数组:"
   ]
  },
  {
   "cell_type": "code",
   "execution_count": 17,
   "id": "9028359c",
   "metadata": {},
   "outputs": [
    {
     "data": {
      "text/plain": [
       "array([[[ 1,  2,  3,  4],\n",
       "        [ 5,  6,  7,  8],\n",
       "        [ 9, 10, 11, 12]],\n",
       "\n",
       "       [[13, 14, 15, 16],\n",
       "        [17, 18, 19, 20],\n",
       "        [21, 22, 23, 24]]])"
      ]
     },
     "execution_count": 17,
     "metadata": {},
     "output_type": "execute_result"
    }
   ],
   "source": [
    "np.arange(1,25).reshape((2,3,4))"
   ]
  },
  {
   "cell_type": "markdown",
   "id": "9b3e6c59",
   "metadata": {},
   "source": [
    "二维数组调形为多维数组:"
   ]
  },
  {
   "cell_type": "code",
   "execution_count": 18,
   "id": "b170dbe2",
   "metadata": {},
   "outputs": [
    {
     "data": {
      "text/plain": [
       "array([[[36, 41],\n",
       "        [42, 65],\n",
       "        [46,  3]],\n",
       "\n",
       "       [[62, 72],\n",
       "        [ 6, 98],\n",
       "        [22, 54]],\n",
       "\n",
       "       [[27, 70],\n",
       "        [77, 36],\n",
       "        [54, 83]],\n",
       "\n",
       "       [[30, 26],\n",
       "        [29, 94],\n",
       "        [77, 48]]])"
      ]
     },
     "execution_count": 18,
     "metadata": {},
     "output_type": "execute_result"
    }
   ],
   "source": [
    "np.random.randint(1,100,(4,6)).reshape((4,3,2))"
   ]
  },
  {
   "cell_type": "markdown",
   "id": "c3a9078d",
   "metadata": {},
   "source": [
    "读取图片获得对应的三维数组:"
   ]
  },
  {
   "cell_type": "code",
   "execution_count": 19,
   "id": "3902be34",
   "metadata": {},
   "outputs": [
    {
     "data": {
      "text/plain": [
       "array([[[ 34,  35,  30],\n",
       "        [ 33,  34,  29],\n",
       "        [ 39,  40,  35],\n",
       "        ...,\n",
       "        [ 57,  65,  68],\n",
       "        [ 57,  65,  68],\n",
       "        [ 57,  65,  68]],\n",
       "\n",
       "       [[ 35,  36,  31],\n",
       "        [ 35,  36,  31],\n",
       "        [ 38,  39,  34],\n",
       "        ...,\n",
       "        [ 60,  65,  68],\n",
       "        [ 60,  65,  68],\n",
       "        [ 60,  65,  68]],\n",
       "\n",
       "       [[ 35,  36,  31],\n",
       "        [ 35,  36,  31],\n",
       "        [ 35,  36,  31],\n",
       "        ...,\n",
       "        [ 61,  66,  69],\n",
       "        [ 62,  67,  70],\n",
       "        [ 62,  67,  70]],\n",
       "\n",
       "       ...,\n",
       "\n",
       "       [[104,  80,  34],\n",
       "        [ 89,  67,  28],\n",
       "        [ 72,  56,  23],\n",
       "        ...,\n",
       "        [ 80,  71,  62],\n",
       "        [ 81,  73,  62],\n",
       "        [ 82,  74,  63]],\n",
       "\n",
       "       [[101,  76,  35],\n",
       "        [ 79,  59,  24],\n",
       "        [ 67,  50,  22],\n",
       "        ...,\n",
       "        [ 82,  72,  60],\n",
       "        [ 83,  73,  61],\n",
       "        [ 83,  73,  61]],\n",
       "\n",
       "       [[ 93,  71,  32],\n",
       "        [ 66,  47,  15],\n",
       "        [ 56,  40,  15],\n",
       "        ...,\n",
       "        [ 86,  74,  58],\n",
       "        [ 86,  74,  58],\n",
       "        [ 85,  73,  57]]], dtype=uint8)"
      ]
     },
     "execution_count": 19,
     "metadata": {},
     "output_type": "execute_result"
    }
   ],
   "source": [
    "import matplotlib.pyplot as plt\n",
    "\n",
    "plt.imread(\"file/background.jpg\")"
   ]
  },
  {
   "cell_type": "markdown",
   "id": "c3193192",
   "metadata": {},
   "source": [
    "> 说明：上面的代码读取了当前路径file文件夹下名为background.jpg 的图片文件，计算机系统中的图片通常由若干行若干列的像素点构成，而每个像素点又是由红绿蓝三原色构成的，所以能够用三维数组来表示。读取图片用到了matplotlib库的imread函数。"
   ]
  },
  {
   "cell_type": "markdown",
   "id": "0d063059",
   "metadata": {},
   "source": [
    "## 数组对象的属性"
   ]
  },
  {
   "cell_type": "markdown",
   "id": "39c82345",
   "metadata": {},
   "source": [
    "### size属性：数组元素个数"
   ]
  },
  {
   "cell_type": "code",
   "execution_count": 20,
   "id": "973f221b",
   "metadata": {},
   "outputs": [
    {
     "name": "stdout",
     "output_type": "stream",
     "text": [
      "50 12\n"
     ]
    }
   ],
   "source": [
    "array1 = np.arange(1,100,2)\n",
    "array2 = np.random.rand(3,4)\n",
    "print(array1.size,array2.size)"
   ]
  },
  {
   "cell_type": "markdown",
   "id": "74435d5c",
   "metadata": {},
   "source": [
    "### shape属性：数组的形状"
   ]
  },
  {
   "cell_type": "code",
   "execution_count": 21,
   "id": "6856e934",
   "metadata": {},
   "outputs": [
    {
     "name": "stdout",
     "output_type": "stream",
     "text": [
      "(50,) (3, 4)\n"
     ]
    }
   ],
   "source": [
    "print(array1.shape,array2.shape)"
   ]
  },
  {
   "cell_type": "markdown",
   "id": "26415724",
   "metadata": {},
   "source": [
    "### dtype属性：数组元素的数据类型"
   ]
  },
  {
   "cell_type": "code",
   "execution_count": 22,
   "id": "caced6d0",
   "metadata": {},
   "outputs": [
    {
     "name": "stdout",
     "output_type": "stream",
     "text": [
      "int32 float64\n"
     ]
    }
   ],
   "source": [
    "print(array1.dtype,array2.dtype)"
   ]
  },
  {
   "cell_type": "markdown",
   "id": "ff811569",
   "metadata": {},
   "source": [
    "### ndim属性：数组的维度"
   ]
  },
  {
   "cell_type": "code",
   "execution_count": 23,
   "id": "1c4e164b",
   "metadata": {},
   "outputs": [
    {
     "name": "stdout",
     "output_type": "stream",
     "text": [
      "1 2\n"
     ]
    }
   ],
   "source": [
    "print(array1.ndim,array2.ndim)"
   ]
  },
  {
   "cell_type": "markdown",
   "id": "540049e1",
   "metadata": {},
   "source": [
    "### itemsize属性：数组单个元素占用内存空间的字节数"
   ]
  },
  {
   "cell_type": "code",
   "execution_count": 24,
   "id": "67bd01f2",
   "metadata": {},
   "outputs": [
    {
     "name": "stdout",
     "output_type": "stream",
     "text": [
      "4 8 1\n"
     ]
    }
   ],
   "source": [
    "array3 = np.arange(1, 100, 2, dtype=np.int8)\n",
    "print(array1.itemsize, array2.itemsize, array3.itemsize)"
   ]
  },
  {
   "cell_type": "markdown",
   "id": "32f5b0c9",
   "metadata": {},
   "source": [
    "### nbytes属性：数组所有元素占用内存空间的字节数"
   ]
  },
  {
   "cell_type": "code",
   "execution_count": 25,
   "id": "df5387e4",
   "metadata": {},
   "outputs": [
    {
     "name": "stdout",
     "output_type": "stream",
     "text": [
      "200 96 50\n"
     ]
    }
   ],
   "source": [
    "print(array1.nbytes, array2.nbytes, array3.nbytes)"
   ]
  },
  {
   "cell_type": "markdown",
   "id": "c3cd0f50",
   "metadata": {},
   "source": [
    "### flat属性：数组（一维化之后）元素的迭代器"
   ]
  },
  {
   "cell_type": "code",
   "execution_count": 26,
   "id": "a025b282",
   "metadata": {},
   "outputs": [
    {
     "name": "stdout",
     "output_type": "stream",
     "text": [
      "False True\n"
     ]
    }
   ],
   "source": [
    "from typing import Iterable\n",
    "\n",
    "print(isinstance(array2.flat, np.ndarray), isinstance(array2.flat, Iterable))"
   ]
  },
  {
   "cell_type": "markdown",
   "id": "12da87b2",
   "metadata": {},
   "source": [
    "### base属性：数组的基对象（如果数组共享了其他数组的内存空间）"
   ]
  },
  {
   "cell_type": "code",
   "execution_count": 27,
   "id": "94a1b808",
   "metadata": {},
   "outputs": [
    {
     "name": "stdout",
     "output_type": "stream",
     "text": [
      "True False\n"
     ]
    }
   ],
   "source": [
    "array4 = array1[:]\n",
    "print(array4.base is array1, array4.base is array3)"
   ]
  },
  {
   "cell_type": "markdown",
   "id": "47adefbf",
   "metadata": {},
   "source": [
    "## 数组的索引和切片"
   ]
  },
  {
   "cell_type": "markdown",
   "id": "207d795b",
   "metadata": {},
   "source": [
    "和 Python 中的列表类似，NumPy的ndarray对象可以进行索引和切片操作，通过索引可以获取或修改数组中的元素，通过切片可以取出数组的一部分。"
   ]
  },
  {
   "cell_type": "markdown",
   "id": "120ebe9f",
   "metadata": {},
   "source": [
    "### 索引运算（普通索引）"
   ]
  },
  {
   "cell_type": "code",
   "execution_count": 28,
   "id": "84a42534",
   "metadata": {},
   "outputs": [
    {
     "name": "stdout",
     "output_type": "stream",
     "text": [
      "1 9\n",
      "1 9\n"
     ]
    }
   ],
   "source": [
    "array5 = np.array([1,2,3,4,5,6,7,8,9])\n",
    "print(array5[0], array5[array5.size - 1])\n",
    "print(array5[-array5.size], array5[-1])"
   ]
  },
  {
   "cell_type": "code",
   "execution_count": 29,
   "id": "d0982fc3",
   "metadata": {},
   "outputs": [
    {
     "name": "stdout",
     "output_type": "stream",
     "text": [
      "[7 8 9]\n",
      "1 9\n",
      "5 5\n"
     ]
    }
   ],
   "source": [
    "array6 = np.array([[1,2,3], [4,5,6], [7,8,9]])\n",
    "print(array6[2])\n",
    "print(array6[0][0],array6[-1][-1])\n",
    "print(array6[1][1],array6[1,1])"
   ]
  },
  {
   "cell_type": "code",
   "execution_count": 30,
   "id": "b176d9c1",
   "metadata": {},
   "outputs": [
    {
     "data": {
      "text/plain": [
       "array([[ 1,  2,  3],\n",
       "       [ 4, 10,  6],\n",
       "       [ 7,  8,  9]])"
      ]
     },
     "execution_count": 30,
     "metadata": {},
     "output_type": "execute_result"
    }
   ],
   "source": [
    "array6[1][1] = 10\n",
    "array6"
   ]
  },
  {
   "cell_type": "code",
   "execution_count": 31,
   "id": "fc594d94",
   "metadata": {},
   "outputs": [
    {
     "data": {
      "text/plain": [
       "array([[ 1,  2,  3],\n",
       "       [10, 11, 12],\n",
       "       [ 7,  8,  9]])"
      ]
     },
     "execution_count": 31,
     "metadata": {},
     "output_type": "execute_result"
    }
   ],
   "source": [
    "array6[1] = [10,11,12]\n",
    "array6"
   ]
  },
  {
   "cell_type": "markdown",
   "id": "577050c2",
   "metadata": {},
   "source": [
    "## 切片运算（切片索引）"
   ]
  },
  {
   "cell_type": "markdown",
   "id": "91137318",
   "metadata": {},
   "source": [
    "切片是形如`[开始索引:结束索引:步长]`的语法，通过指定开始索引（默认值无穷小）、结束索引（默认值无穷大）和步长（默认值1），从数组中取出指定部分的元素并构成新的数组。因为开始索引、结束索引和步长都有默认值，所以它们都可以省略，如果不指定步长，第二个冒号也可以省略。  \n",
    "一维数组的切片运算跟 Python 中的list类型的切片非常类似，二维数组的切片可以参考下面的代码。"
   ]
  },
  {
   "cell_type": "code",
   "execution_count": 32,
   "id": "ed309aea",
   "metadata": {},
   "outputs": [
    {
     "data": {
      "text/plain": [
       "array([[ 2,  3],\n",
       "       [11, 12]])"
      ]
     },
     "execution_count": 32,
     "metadata": {},
     "output_type": "execute_result"
    }
   ],
   "source": [
    "array6[:2,1:]"
   ]
  },
  {
   "cell_type": "code",
   "execution_count": 33,
   "id": "8b9289c8",
   "metadata": {},
   "outputs": [
    {
     "data": {
      "text/plain": [
       "array([7, 8, 9])"
      ]
     },
     "execution_count": 33,
     "metadata": {},
     "output_type": "execute_result"
    }
   ],
   "source": [
    "array6[2]"
   ]
  },
  {
   "cell_type": "code",
   "execution_count": 34,
   "id": "313277ad",
   "metadata": {},
   "outputs": [
    {
     "data": {
      "text/plain": [
       "array([[7, 8, 9]])"
      ]
     },
     "execution_count": 34,
     "metadata": {},
     "output_type": "execute_result"
    }
   ],
   "source": [
    "array6[2:,:]"
   ]
  },
  {
   "cell_type": "code",
   "execution_count": 35,
   "id": "0b551f48",
   "metadata": {},
   "outputs": [
    {
     "data": {
      "text/plain": [
       "array([[ 1,  2],\n",
       "       [10, 11],\n",
       "       [ 7,  8]])"
      ]
     },
     "execution_count": 35,
     "metadata": {},
     "output_type": "execute_result"
    }
   ],
   "source": [
    "array6[:,:2]"
   ]
  },
  {
   "cell_type": "code",
   "execution_count": 36,
   "id": "10866441",
   "metadata": {},
   "outputs": [
    {
     "name": "stdout",
     "output_type": "stream",
     "text": [
      "[10 11]\n",
      "[[10 11]]\n"
     ]
    }
   ],
   "source": [
    "print(array6[1, :2])\n",
    "print(array6[1:2, :2])"
   ]
  },
  {
   "cell_type": "code",
   "execution_count": 37,
   "id": "4290339f",
   "metadata": {},
   "outputs": [
    {
     "name": "stdout",
     "output_type": "stream",
     "text": [
      "[[1 3]\n",
      " [7 9]]\n"
     ]
    }
   ],
   "source": [
    "print(array6[::2, ::2])"
   ]
  },
  {
   "cell_type": "code",
   "execution_count": 38,
   "id": "2bafe917",
   "metadata": {},
   "outputs": [
    {
     "name": "stdout",
     "output_type": "stream",
     "text": [
      "[[9 7]\n",
      " [3 1]]\n"
     ]
    }
   ],
   "source": [
    "print(array6[::-2, ::-2])"
   ]
  },
  {
   "cell_type": "markdown",
   "id": "8bfa48b1",
   "metadata": {},
   "source": [
    "## 花式索引"
   ]
  },
  {
   "cell_type": "markdown",
   "id": "4c0ccae5",
   "metadata": {},
   "source": [
    "花式索引是指利用整数数组进行索引，这里所说的整数数组可以是NumPy的ndarray，也可以是Python中list、tuple等可迭代类型，可以使用正向或负向索引。"
   ]
  },
  {
   "cell_type": "markdown",
   "id": "0a81e704",
   "metadata": {},
   "source": [
    "一维数组的花式索引:"
   ]
  },
  {
   "cell_type": "code",
   "execution_count": 39,
   "id": "80c98956",
   "metadata": {},
   "outputs": [
    {
     "data": {
      "text/plain": [
       "array([50, 30, 40])"
      ]
     },
     "execution_count": 39,
     "metadata": {},
     "output_type": "execute_result"
    }
   ],
   "source": [
    "array7 = np.array([50, 30, 15, 20, 40])\n",
    "array7[[0, 1, -1]]"
   ]
  },
  {
   "cell_type": "markdown",
   "id": "68948f24",
   "metadata": {},
   "source": [
    "二维数组的花式索引:"
   ]
  },
  {
   "cell_type": "code",
   "execution_count": 40,
   "id": "a7b59e7b",
   "metadata": {},
   "outputs": [
    {
     "data": {
      "text/plain": [
       "array([[30, 20, 10],\n",
       "       [10, 90, 80]])"
      ]
     },
     "execution_count": 40,
     "metadata": {},
     "output_type": "execute_result"
    }
   ],
   "source": [
    "array8 = np.array([[30, 20, 10], [40, 60, 50], [10, 90, 80]])\n",
    "# 取二维数组的第1行和第3行\n",
    "array8[[0, 2]]"
   ]
  },
  {
   "cell_type": "code",
   "execution_count": 41,
   "id": "43148a62",
   "metadata": {},
   "outputs": [
    {
     "data": {
      "text/plain": [
       "array([20, 80])"
      ]
     },
     "execution_count": 41,
     "metadata": {},
     "output_type": "execute_result"
    }
   ],
   "source": [
    "# 取二维数组第1行第2列，第3行第3列的两个元素\n",
    "array8[[0,2],[1,2]]"
   ]
  },
  {
   "cell_type": "code",
   "execution_count": 42,
   "id": "b26f9162",
   "metadata": {},
   "outputs": [
    {
     "data": {
      "text/plain": [
       "array([20, 90])"
      ]
     },
     "execution_count": 42,
     "metadata": {},
     "output_type": "execute_result"
    }
   ],
   "source": [
    "# 取二维数组第1行第2列，第3行第2列的两个元素\n",
    "array8[[0,2],[1,1]]"
   ]
  },
  {
   "cell_type": "markdown",
   "id": "a91e3385",
   "metadata": {},
   "source": [
    "## 布尔索引"
   ]
  },
  {
   "cell_type": "markdown",
   "id": "38679844",
   "metadata": {},
   "source": [
    "布尔索引就是通过布尔类型的数组对数组元素进行索引，布尔类型的数组可以手动构造，也可以通过关系运算来产生布尔类型的数组。"
   ]
  },
  {
   "cell_type": "code",
   "execution_count": 43,
   "id": "0f19aeb6",
   "metadata": {},
   "outputs": [
    {
     "data": {
      "text/plain": [
       "array([1, 3, 4, 9])"
      ]
     },
     "execution_count": 43,
     "metadata": {},
     "output_type": "execute_result"
    }
   ],
   "source": [
    "array9 = np.arange(1, 10)\n",
    "array9[[True, False, True, True, False, False, False, False, True]]"
   ]
  },
  {
   "cell_type": "code",
   "execution_count": 44,
   "id": "15d4be46",
   "metadata": {},
   "outputs": [
    {
     "data": {
      "text/plain": [
       "array([False, False, False, False,  True,  True,  True,  True,  True])"
      ]
     },
     "execution_count": 44,
     "metadata": {},
     "output_type": "execute_result"
    }
   ],
   "source": [
    "array9 >= 5"
   ]
  },
  {
   "cell_type": "code",
   "execution_count": 45,
   "id": "ae4840f5",
   "metadata": {},
   "outputs": [
    {
     "data": {
      "text/plain": [
       "array([ True,  True,  True,  True, False, False, False, False, False])"
      ]
     },
     "execution_count": 45,
     "metadata": {},
     "output_type": "execute_result"
    }
   ],
   "source": [
    "# ~运算符可以实现逻辑变反\n",
    "~(array9 >= 5)"
   ]
  },
  {
   "cell_type": "code",
   "execution_count": 46,
   "id": "55af5497",
   "metadata": {},
   "outputs": [
    {
     "data": {
      "text/plain": [
       "array([5, 6, 7, 8, 9])"
      ]
     },
     "execution_count": 46,
     "metadata": {},
     "output_type": "execute_result"
    }
   ],
   "source": [
    "array9[array9 >= 5]"
   ]
  },
  {
   "cell_type": "markdown",
   "id": "8c4abf38",
   "metadata": {},
   "source": [
    "> 提示：切片操作虽然创建了新的数组对象，但是新数组和原数组共享了数组中的数据，简单的说，如果通过新数组对象或原数组对象修改数组中的数据，其实修改的是同一块数据。  \n",
    "花式索引和布尔索引也会创建新的数组对象，而且新数组复制了原数组的元素，新数组和原数组并不是共享数据的关系"
   ]
  },
  {
   "cell_type": "markdown",
   "id": "1d13f25f",
   "metadata": {},
   "source": [
    "## 案例：通过数组切片处理图像"
   ]
  },
  {
   "cell_type": "code",
   "execution_count": 47,
   "id": "69b6052b",
   "metadata": {},
   "outputs": [
    {
     "data": {
      "text/plain": [
       "<matplotlib.image.AxesImage at 0x17d5e4240d0>"
      ]
     },
     "execution_count": 47,
     "metadata": {},
     "output_type": "execute_result"
    },
    {
     "data": {
      "image/png": "[encoded data removed]",
      "text/plain": [
       "<Figure size 432x288 with 1 Axes>"
      ]
     },
     "metadata": {
      "needs_background": "light"
     },
     "output_type": "display_data"
    }
   ],
   "source": [
    "# 读入图片创建三维数组对象\n",
    "lga1 = plt.imread(\"file/lga1.jpg\")\n",
    "plt.imshow(lga1)"
   ]
  },
  {
   "cell_type": "code",
   "execution_count": 48,
   "id": "eaf51413",
   "metadata": {},
   "outputs": [
    {
     "data": {
      "text/plain": [
       "<matplotlib.image.AxesImage at 0x17d5e4d2040>"
      ]
     },
     "execution_count": 48,
     "metadata": {},
     "output_type": "execute_result"
    },
    {
     "data": {
      "image/png": "[encoded data removed]",
      "text/plain": [
       "<Figure size 432x288 with 1 Axes>"
      ]
     },
     "metadata": {
      "needs_background": "light"
     },
     "output_type": "display_data"
    }
   ],
   "source": [
    "# 对数组的0轴进行反向切片，实现图像的垂直翻转\n",
    "plt.imshow(lga1[::-1])"
   ]
  },
  {
   "cell_type": "code",
   "execution_count": 49,
   "id": "3ac03510",
   "metadata": {},
   "outputs": [
    {
     "data": {
      "text/plain": [
       "<matplotlib.image.AxesImage at 0x17d5e53c250>"
      ]
     },
     "execution_count": 49,
     "metadata": {},
     "output_type": "execute_result"
    },
    {
     "data": {
      "image/png": "[encoded data removed]",
      "text/plain": [
       "<Figure size 432x288 with 1 Axes>"
      ]
     },
     "metadata": {
      "needs_background": "light"
     },
     "output_type": "display_data"
    }
   ],
   "source": [
    "# 对数组的1轴进行反向切片，实现图像的水平翻转\n",
    "plt.imshow(lga1[:,::-1])"
   ]
  },
  {
   "cell_type": "code",
   "execution_count": 50,
   "id": "daced0a2",
   "metadata": {},
   "outputs": [
    {
     "data": {
      "text/plain": [
       "<matplotlib.image.AxesImage at 0x17d5e5a5400>"
      ]
     },
     "execution_count": 50,
     "metadata": {},
     "output_type": "execute_result"
    },
    {
     "data": {
      "image/png": "[encoded data removed]",
      "text/plain": [
       "<Figure size 432x288 with 1 Axes>"
      ]
     },
     "metadata": {
      "needs_background": "light"
     },
     "output_type": "display_data"
    }
   ],
   "source": [
    "# 裁剪图片\n",
    "plt.imshow(lga1[1000:2500,500:1500])"
   ]
  },
  {
   "cell_type": "markdown",
   "id": "0349b071",
   "metadata": {},
   "source": [
    "## 数组对象的方法"
   ]
  },
  {
   "cell_type": "markdown",
   "id": "c2ce9c5e",
   "metadata": {},
   "source": [
    "### 统计方法"
   ]
  },
  {
   "cell_type": "markdown",
   "id": "ab1af2f3",
   "metadata": {},
   "source": [
    "统计方法主要包括：sum()、mean()、std()、var()、min()、max()、argmin()、argmax()、cumsum()等，分别用于对数组中的元素求和、求平均、求标准差、求方差、找最大、找最小、求累积和等"
   ]
  },
  {
   "cell_type": "code",
   "execution_count": 51,
   "id": "676da24a",
   "metadata": {},
   "outputs": [
    {
     "name": "stdout",
     "output_type": "stream",
     "text": [
      "30\n",
      "3.0\n",
      "5\n",
      "1\n",
      "1.4142135623730951\n",
      "2.0\n",
      "[ 1  3  6 10 15 20 24 27 29 30]\n"
     ]
    }
   ],
   "source": [
    "array10 = np.array([1, 2, 3, 4, 5, 5, 4, 3, 2, 1])\n",
    "print(array10.sum())\n",
    "print(array10.mean())\n",
    "print(array10.max())\n",
    "print(array10.min())\n",
    "print(array10.std())\n",
    "print(array10.var())\n",
    "print(array10.cumsum())"
   ]
  },
  {
   "cell_type": "markdown",
   "id": "1e346601",
   "metadata": {},
   "source": [
    "### 其他方法"
   ]
  },
  {
   "cell_type": "markdown",
   "id": "4d5d0a00",
   "metadata": {},
   "source": [
    "1. `all()` / `any()`方法：判断数组是否所有元素都是`True` / 判断数组是否有为`True`的元素。"
   ]
  },
  {
   "cell_type": "markdown",
   "id": "3509d023",
   "metadata": {},
   "source": [
    "2. `astype()`方法：拷贝数组，并将数组中的元素转换为指定的类型。"
   ]
  },
  {
   "cell_type": "markdown",
   "id": "92cdba23",
   "metadata": {},
   "source": [
    "3. `dump()`方法：保存数组到文件中，可以通过 NumPy 中的`load()`函数从保存的文件中加载数据创建数组。"
   ]
  },
  {
   "cell_type": "code",
   "execution_count": 52,
   "id": "c442a506",
   "metadata": {},
   "outputs": [],
   "source": [
    "array10.dump(\"file/array10.txt\")"
   ]
  },
  {
   "cell_type": "code",
   "execution_count": 53,
   "id": "78c61f6f",
   "metadata": {},
   "outputs": [
    {
     "data": {
      "text/plain": [
       "array([1, 2, 3, 4, 5, 5, 4, 3, 2, 1])"
      ]
     },
     "execution_count": 53,
     "metadata": {},
     "output_type": "execute_result"
    }
   ],
   "source": [
    "np.load(\"file/array10.txt\", allow_pickle=True)"
   ]
  },
  {
   "cell_type": "markdown",
   "id": "3be273ce",
   "metadata": {},
   "source": [
    "4. `fill()`方法：向数组中填充指定的元素。"
   ]
  },
  {
   "cell_type": "markdown",
   "id": "49cabb31",
   "metadata": {},
   "source": [
    "5. `flatten()`方法：将多维数组扁平化为一维数组。"
   ]
  },
  {
   "cell_type": "code",
   "execution_count": 54,
   "id": "dd602b01",
   "metadata": {},
   "outputs": [
    {
     "name": "stdout",
     "output_type": "stream",
     "text": [
      "[[30 20 10]\n",
      " [40 60 50]\n",
      " [10 90 80]]\n"
     ]
    },
    {
     "data": {
      "text/plain": [
       "array([30, 20, 10, 40, 60, 50, 10, 90, 80])"
      ]
     },
     "execution_count": 54,
     "metadata": {},
     "output_type": "execute_result"
    }
   ],
   "source": [
    "print(array8)\n",
    "array8.flatten()"
   ]
  },
  {
   "cell_type": "markdown",
   "id": "a8b556d7",
   "metadata": {},
   "source": [
    "6. `nonzero()`方法：返回非0元素的索引。"
   ]
  },
  {
   "cell_type": "markdown",
   "id": "083accff",
   "metadata": {},
   "source": [
    "7. `round()`方法：对数组中的元素做四舍五入操作。"
   ]
  },
  {
   "cell_type": "markdown",
   "id": "6f704e3e",
   "metadata": {},
   "source": [
    "8. `sort()`方法：对数组进行就地排序。"
   ]
  },
  {
   "cell_type": "code",
   "execution_count": 55,
   "id": "028ffff8",
   "metadata": {},
   "outputs": [
    {
     "data": {
      "text/plain": [
       "array([12, 35, 40, 54, 66, 78, 82, 96])"
      ]
     },
     "execution_count": 55,
     "metadata": {},
     "output_type": "execute_result"
    }
   ],
   "source": [
    "array11 = np.array([35, 96, 12, 78, 66, 54, 40, 82])\n",
    "array11.sort()\n",
    "array11"
   ]
  },
  {
   "cell_type": "markdown",
   "id": "57a01749",
   "metadata": {},
   "source": [
    "9. `swapaxes`()和`transpose()`方法：交换数组指定的轴。"
   ]
  },
  {
   "cell_type": "code",
   "execution_count": 56,
   "id": "b5bd18d3",
   "metadata": {},
   "outputs": [
    {
     "data": {
      "text/plain": [
       "array([[12, 66],\n",
       "       [35, 78],\n",
       "       [40, 82],\n",
       "       [54, 96]])"
      ]
     },
     "execution_count": 56,
     "metadata": {},
     "output_type": "execute_result"
    }
   ],
   "source": [
    "# 指定需要交换的两个轴，顺序无所谓\n",
    "array12 = array11.reshape(2,4)\n",
    "array12.swapaxes(0, 1)"
   ]
  },
  {
   "cell_type": "code",
   "execution_count": 57,
   "id": "79db544b",
   "metadata": {},
   "outputs": [
    {
     "data": {
      "text/plain": [
       "array([[12, 66],\n",
       "       [35, 78],\n",
       "       [40, 82],\n",
       "       [54, 96]])"
      ]
     },
     "execution_count": 57,
     "metadata": {},
     "output_type": "execute_result"
    }
   ],
   "source": [
    "# 对于二维数组，transpose相当于实现了矩阵的转置\n",
    "array12.transpose()"
   ]
  },
  {
   "cell_type": "markdown",
   "id": "aa8e93c2",
   "metadata": {},
   "source": [
    "10. `tolist()`方法：将数组转成Python中的list。"
   ]
  },
  {
   "cell_type": "markdown",
   "id": "fc0771ec",
   "metadata": {},
   "source": [
    "## 数组的运算"
   ]
  },
  {
   "cell_type": "markdown",
   "id": "5fd71ae2",
   "metadata": {},
   "source": [
    "使用 NumPy 最为方便的是当需要对数组元素进行运算时，不用编写循环代码遍历每个元素，所有的运算都会自动的**矢量化**（使用高效的、提前编译的底层代码来对数据序列进行数学操作）。简单的说就是，NumPy 中的数学运算和数学函数会自动作用于数组中的每个成员。"
   ]
  },
  {
   "cell_type": "markdown",
   "id": "f6d0e1e8",
   "metadata": {},
   "source": [
    "### 数组跟标量的运算"
   ]
  },
  {
   "cell_type": "code",
   "execution_count": 58,
   "id": "a037df9b",
   "metadata": {},
   "outputs": [
    {
     "name": "stdout",
     "output_type": "stream",
     "text": [
      "[11 12 13 14 15 16 17 18 19]\n",
      "[10 20 30 40 50 60 70 80 90]\n"
     ]
    }
   ],
   "source": [
    "array13 = np.arange(1,10)\n",
    "print(array13 + 10)\n",
    "print(array13 * 10)"
   ]
  },
  {
   "cell_type": "markdown",
   "id": "c6f85dda",
   "metadata": {},
   "source": [
    "### 数组跟数组的运算"
   ]
  },
  {
   "cell_type": "code",
   "execution_count": 60,
   "id": "4c77b9f0",
   "metadata": {},
   "outputs": [
    {
     "name": "stdout",
     "output_type": "stream",
     "text": [
      "[ 2  3  4  6  7  8 10 11 12]\n",
      "[ 1  2  3  8 10 12 21 24 27]\n",
      "[  1   2   3  16  25  36 343 512 729]\n"
     ]
    }
   ],
   "source": [
    "array14 = np.array([1, 1, 1, 2, 2, 2, 3, 3, 3])\n",
    "print(array13 + array14)\n",
    "print(array13 * array14)\n",
    "print(array13 ** array14)"
   ]
  },
  {
   "cell_type": "markdown",
   "id": "eb380785",
   "metadata": {},
   "source": [
    "### 通用一元函数"
   ]
  },
  {
   "cell_type": "markdown",
   "id": "b807c449",
   "metadata": {},
   "source": [
    "通用函数是对`ndarray`中的数据执行元素级运算的函数。可以将其看做普通函数（接收一个标量值作为参数，返回一个标量值）的矢量化包装器."
   ]
  },
  {
   "cell_type": "markdown",
   "id": "340efb6d",
   "metadata": {},
   "source": [
    "|函数|说明|\n",
    "| :-----:  | :-----: |\n",
    "|`abs` / `fabs`\t|求绝对值的函数\n",
    "|`sqrt`\t|求平方根的函数，相当于`array ** 0.5`\n",
    "|`square`\t|求平方的函数，相当于`array ** 2`\n",
    "|`exp`\t|计算$e^x$的函数\n",
    "|`log` / `log10` / `log2`\t|对数函数（e为底 / 10为底 / 2为底）\n",
    "|`sign`\t|符号函数（1 - 正数；0 - 零；-1 - 负数）\n",
    "|`ceil` / floor\t|上取整 / 下取整\n",
    "|`isnan`\t|返回布尔数组，NaN对应True，非NaN对应False\n",
    "|`isfinite` / `isinf`\t|判断数值是否为无穷大的函数\n",
    "|`cos` / `cosh` / `sin`\t|三角函数\n",
    "|`sinh` / `tan` / `tanh`\t|三角函数\n",
    "|`arccos` / `arccosh` / `arcsin`\t|反三角函数\n",
    "|`arcsinh` / `arctan` / `arctanh`\t|反三角函数\n",
    "|`rint` / `round`\t|四舍五入函数"
   ]
  },
  {
   "cell_type": "code",
   "execution_count": 62,
   "id": "e90c7df1",
   "metadata": {},
   "outputs": [
    {
     "data": {
      "text/plain": [
       "array([1.        , 1.41421356, 1.73205081, 2.        , 2.23606798,\n",
       "       2.44948974, 2.64575131, 2.82842712, 3.        ])"
      ]
     },
     "execution_count": 62,
     "metadata": {},
     "output_type": "execute_result"
    }
   ],
   "source": [
    "np.sqrt(array13)"
   ]
  },
  {
   "cell_type": "code",
   "execution_count": 63,
   "id": "76f9b7b0",
   "metadata": {},
   "outputs": [
    {
     "data": {
      "text/plain": [
       "array([0.        , 0.69314718, 1.09861229, 1.38629436, 1.60943791,\n",
       "       1.79175947, 1.94591015, 2.07944154, 2.19722458])"
      ]
     },
     "execution_count": 63,
     "metadata": {},
     "output_type": "execute_result"
    }
   ],
   "source": [
    "np.log(array13)"
   ]
  },
  {
   "cell_type": "markdown",
   "id": "6969a920",
   "metadata": {},
   "source": [
    "### 通用二元函数"
   ]
  },
  {
   "cell_type": "markdown",
   "id": "e9e27912",
   "metadata": {},
   "source": [
    "|函数|说明|\n",
    "| :-----:  | :-----: |\n",
    "|`add(x, y)` / `substract(x, y)`\t|加法函数 / 减法函数\n",
    "|`multiply(x, y)` / `divide(x, y)`\t|乘法函数 / 除法函数\n",
    "|`floor_divide(x, y)` / `mod(x, y)`\t|整除函数 / 求模函数\n",
    "|`allclose(x, y)`\t|检查数组x和y元素是否几乎相等\n",
    "|`power(x, y)`\t|数组$x$的元素$x_i$和数组$y$的元素$y_i$，计算$x_i^{y_i}$\n",
    "|`maximum(x, y)` / `fmax(x, y)`\t|两两比较元素获取最大值 / 获取最大值（忽略NaN）\n",
    "|`minimum(x, y)` / `fmin(x, y)`\t|两两比较元素获取最小值 / 获取最小值（忽略NaN）\n",
    "|`dot(x, y)`\t|点积运算（数量积，通常记为$\\cdots$，用于欧几里得空间（Euclidean space））\n",
    "|`inner(x, y)`\t|内积运算（内积的含义要高于点积，点积相当于是内积在欧几里得空间$$的特例，而内积可以推广到赋范向量空间，只要它满足平行四边形法则即可）\n",
    "|`cross(x, y)`\t|叉积运算（向量积，通常记为$\\times$，运算结果是一个向量）\n",
    "|`outer(x, y)`\t|外积运算（张量积，通常记为$\\bigotimes$，运算结果通常是一个矩阵）\n",
    "|`intersect1d(x, y)`\t|计算x和y的交集，返回这些元素构成的有序数组\n",
    "|`union1d(x, y)`\t|计算x和y的并集，返回这些元素构成的有序数组\n",
    "|`in1d(x, y)`\t|返回由判断x 的元素是否在y中得到的布尔值构成的数组\n",
    "|`setdiff1d(x, y)`\t|计算x和y的差集，返回这些元素构成的数组\n",
    "|`setxor1d(x, y)`\t|计算x和y的对称差，返回这些元素构成的数组"
   ]
  },
  {
   "cell_type": "code",
   "execution_count": 64,
   "id": "a55f3e9c",
   "metadata": {},
   "outputs": [],
   "source": [
    "array15 = np.array([[4, 5, 6], [7, 8, 9]])\n"
   ]
  },
  {
   "cell_type": "code",
   "execution_count": null,
   "id": "5aa0f604",
   "metadata": {},
   "outputs": [],
   "source": []
  }
 ],
 "metadata": {
  "kernelspec": {
   "display_name": "Python 3 (ipykernel)",
   "language": "python",
   "name": "python3"
  },
  "language_info": {
   "codemirror_mode": {
    "name": "ipython",
    "version": 3
   },
   "file_extension": ".py",
   "mimetype": "text/x-python",
   "name": "python",
   "nbconvert_exporter": "python",
   "pygments_lexer": "ipython3",
   "version": "3.9.7"
  },
  "toc": {
   "base_numbering": 1,
   "nav_menu": {},
   "number_sections": true,
   "sideBar": true,
   "skip_h1_title": false,
   "title_cell": "Table of Contents",
   "title_sidebar": "Contents",
   "toc_cell": false,
   "toc_position": {},
   "toc_section_display": true,
   "toc_window_display": true
  }
 },
 "nbformat": 4,
 "nbformat_minor": 5
}
