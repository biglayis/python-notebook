{
 "cells": [
  {
   "cell_type": "markdown",
   "id": "e99fc6d0",
   "metadata": {},
   "source": [
    "# time库"
   ]
  },
  {
   "cell_type": "markdown",
   "id": "b5a015b2",
   "metadata": {},
   "source": [
    "time库是python处理时间的标准库。"
   ]
  },
  {
   "cell_type": "markdown",
   "id": "3634fde0",
   "metadata": {},
   "source": [
    "## 获取现在时间"
   ]
  },
  {
   "cell_type": "markdown",
   "id": "df5d7718",
   "metadata": {},
   "source": [
    "* `time.localtime()`：本地时间\n",
    "* `time.gmtime()`：UTC世界统一时间  \n",
    "北京时间比UTC早八个小时"
   ]
  },
  {
   "cell_type": "code",
   "execution_count": 1,
   "id": "4463ab36",
   "metadata": {},
   "outputs": [],
   "source": [
    "import time\n",
    "\n",
    "t_local = time.localtime()\n",
    "t_UTC = time.gmtime()"
   ]
  },
  {
   "cell_type": "code",
   "execution_count": 2,
   "id": "11e6bd87",
   "metadata": {},
   "outputs": [
    {
     "data": {
      "text/plain": [
       "time.struct_time(tm_year=2023, tm_mon=1, tm_mday=12, tm_hour=16, tm_min=42, tm_sec=19, tm_wday=3, tm_yday=12, tm_isdst=0)"
      ]
     },
     "execution_count": 2,
     "metadata": {},
     "output_type": "execute_result"
    }
   ],
   "source": [
    "t_local"
   ]
  },
  {
   "cell_type": "code",
   "execution_count": 3,
   "id": "539e0e1d",
   "metadata": {},
   "outputs": [
    {
     "data": {
      "text/plain": [
       "time.struct_time(tm_year=2023, tm_mon=1, tm_mday=12, tm_hour=8, tm_min=42, tm_sec=19, tm_wday=3, tm_yday=12, tm_isdst=0)"
      ]
     },
     "execution_count": 3,
     "metadata": {},
     "output_type": "execute_result"
    }
   ],
   "source": [
    "t_UTC"
   ]
  },
  {
   "cell_type": "code",
   "execution_count": 4,
   "id": "acb2483a",
   "metadata": {},
   "outputs": [
    {
     "data": {
      "text/plain": [
       "'Thu Jan 12 16:42:20 2023'"
      ]
     },
     "execution_count": 4,
     "metadata": {},
     "output_type": "execute_result"
    }
   ],
   "source": [
    "# 返回本地时间的字符串\n",
    "time.ctime()"
   ]
  },
  {
   "cell_type": "markdown",
   "id": "bd2884c3",
   "metadata": {},
   "source": [
    "## 时间戳与计时器"
   ]
  },
  {
   "cell_type": "markdown",
   "id": "8dd7fb70",
   "metadata": {},
   "source": [
    "* `time.time()`：返回自纪元以来的秒数，记录sleep\n",
    "* `time.perf_counter()`：随意选取一个时间点，记录现在时间到该时间点的间隔秒数，记录sleep\n",
    "* `time.process_time()`：随意选取一个时间点，记录现在时间到该时间点的间隔秒数，不记录sleep  \n",
    "`perf_counter()`精度较`time()`更高一些。  \n",
    "\n",
    "通过两个时间戳的差值，可以实现计时器的功能。"
   ]
  },
  {
   "cell_type": "code",
   "execution_count": 5,
   "id": "a1d5c229",
   "metadata": {},
   "outputs": [
    {
     "name": "stdout",
     "output_type": "stream",
     "text": [
      "1673512940.0238922\n",
      "1.6465884\n",
      "0.296875\n",
      "time方法：5.211秒\n",
      "perf_counter方法：5.210秒\n",
      "process_time方法：0.047秒\n"
     ]
    }
   ],
   "source": [
    "# 记录开始时间\n",
    "t_1_start = time.time()\n",
    "t_2_start = time.perf_counter()\n",
    "t_3_start = time.process_time()\n",
    "print(t_1_start)\n",
    "print(t_2_start)\n",
    "print(t_3_start)\n",
    "\n",
    "# 执行一段程序\n",
    "res = 0\n",
    "for i in range(1000000):\n",
    "    i += 1\n",
    "    \n",
    "# sleep5秒\n",
    "time.sleep(5)\n",
    "# 记录结束时间\n",
    "t_1_end = time.time()\n",
    "t_2_end = time.perf_counter()\n",
    "t_3_end = time.process_time()\n",
    "\n",
    "# 打印计时器\n",
    "print(f\"time方法：{t_1_end-t_1_start:.3f}秒\")\n",
    "print(f\"perf_counter方法：{t_2_end-t_2_start:.3f}秒\")\n",
    "print(f\"process_time方法：{t_3_end-t_3_start:.3f}秒\")"
   ]
  },
  {
   "cell_type": "markdown",
   "id": "e030ffd1",
   "metadata": {},
   "source": [
    "## 格式化"
   ]
  },
  {
   "cell_type": "markdown",
   "id": "0db85461",
   "metadata": {},
   "source": [
    "`time.strftime()`：自定义格式化输出"
   ]
  },
  {
   "cell_type": "code",
   "execution_count": 6,
   "id": "ef8add7f",
   "metadata": {},
   "outputs": [
    {
     "data": {
      "text/plain": [
       "'2023-01-12 Thursday 16-42-25'"
      ]
     },
     "execution_count": 6,
     "metadata": {},
     "output_type": "execute_result"
    }
   ],
   "source": [
    "lctime = time.localtime()\n",
    "time.strftime(\"%Y-%m-%d %A %H-%M-%S\", lctime)"
   ]
  },
  {
   "cell_type": "markdown",
   "id": "81881d68",
   "metadata": {},
   "source": [
    "## sleep()方法"
   ]
  },
  {
   "cell_type": "markdown",
   "id": "5786e32e",
   "metadata": {},
   "source": [
    "`time.sleep(t)`函数推迟调用线程的运行，可通过参数secs指秒数，表示进程挂起的时间。"
   ]
  },
  {
   "cell_type": "markdown",
   "id": "95e5b74e",
   "metadata": {},
   "source": [
    "# random库"
   ]
  },
  {
   "cell_type": "markdown",
   "id": "5c726b7d",
   "metadata": {},
   "source": [
    "随机数在计算机应用中十分常见。python通过random库提供各种伪随机数，基本可以用于除加密解密算法外的大多数工程应用。"
   ]
  },
  {
   "cell_type": "markdown",
   "id": "778405c7",
   "metadata": {},
   "source": [
    "## 随机种子seed(a=None)"
   ]
  },
  {
   "cell_type": "markdown",
   "id": "01d39474",
   "metadata": {},
   "source": [
    "* 相同种子会产生相同的随机数\n",
    "* 如果不设置随机种子，以系统当前时间为默认值"
   ]
  },
  {
   "cell_type": "code",
   "execution_count": 7,
   "id": "0059fad9",
   "metadata": {},
   "outputs": [
    {
     "name": "stdout",
     "output_type": "stream",
     "text": [
      "0.5714025946899135\n",
      "0.5714025946899135\n"
     ]
    }
   ],
   "source": [
    "from random import *\n",
    "\n",
    "seed(10)\n",
    "print(random())\n",
    "seed(10)\n",
    "print(random())"
   ]
  },
  {
   "cell_type": "code",
   "execution_count": 8,
   "id": "91ef228b",
   "metadata": {},
   "outputs": [
    {
     "name": "stdout",
     "output_type": "stream",
     "text": [
      "0.4288890546751146\n"
     ]
    }
   ],
   "source": [
    "print(random())"
   ]
  },
  {
   "cell_type": "markdown",
   "id": "de13630e",
   "metadata": {},
   "source": [
    "## 产生随机整数"
   ]
  },
  {
   "cell_type": "markdown",
   "id": "c69739d5",
   "metadata": {},
   "source": [
    "1. `randint(a,b)`：产生[a,b]之间的随机整数"
   ]
  },
  {
   "cell_type": "code",
   "execution_count": 9,
   "id": "321c3755",
   "metadata": {},
   "outputs": [
    {
     "data": {
      "text/plain": [
       "[10, 1, 4, 8, 8, 5, 3, 1, 9, 8]"
      ]
     },
     "execution_count": 9,
     "metadata": {},
     "output_type": "execute_result"
    }
   ],
   "source": [
    "numbers = [randint(1,10) for i in range(10)]\n",
    "numbers"
   ]
  },
  {
   "cell_type": "markdown",
   "id": "fbb392a2",
   "metadata": {},
   "source": [
    "2. `randrange(a)`：产生[0,a)之间的随机整数"
   ]
  },
  {
   "cell_type": "code",
   "execution_count": 10,
   "id": "4c0560f3",
   "metadata": {},
   "outputs": [
    {
     "data": {
      "text/plain": [
       "[5, 1, 3, 5, 0, 6, 2, 9, 5, 6]"
      ]
     },
     "execution_count": 10,
     "metadata": {},
     "output_type": "execute_result"
    }
   ],
   "source": [
    "numbers = [randrange(10) for i in range(10)]\n",
    "numbers"
   ]
  },
  {
   "cell_type": "markdown",
   "id": "5c41534f",
   "metadata": {},
   "source": [
    "3. `randrange(a,b,step)`：产生[a,b)之间以step为步长的随机整数"
   ]
  },
  {
   "cell_type": "code",
   "execution_count": 11,
   "id": "01e77959",
   "metadata": {},
   "outputs": [
    {
     "data": {
      "text/plain": [
       "[6, 4, 4, 6, 2, 4, 4, 2, 6, 2]"
      ]
     },
     "execution_count": 11,
     "metadata": {},
     "output_type": "execute_result"
    }
   ],
   "source": [
    "numbers = [randrange(0,10,2) for i in range(10)]\n",
    "numbers"
   ]
  },
  {
   "cell_type": "markdown",
   "id": "d15e7233",
   "metadata": {},
   "source": [
    "## 产生随机浮点数"
   ]
  },
  {
   "cell_type": "markdown",
   "id": "9308bd29",
   "metadata": {},
   "source": [
    "1. `random()`：产生[0.0,1.0)之间的随机浮点数"
   ]
  },
  {
   "cell_type": "code",
   "execution_count": 12,
   "id": "47994101",
   "metadata": {},
   "outputs": [
    {
     "data": {
      "text/plain": [
       "[0.9693881604049188,\n",
       " 0.613326820546709,\n",
       " 0.0442606328646209,\n",
       " 0.004055144158407464,\n",
       " 0.13397252704913387,\n",
       " 0.941002271395834,\n",
       " 0.3028605620290723,\n",
       " 0.3661456016604264,\n",
       " 0.8981962445391883,\n",
       " 0.31436380495645067]"
      ]
     },
     "execution_count": 12,
     "metadata": {},
     "output_type": "execute_result"
    }
   ],
   "source": [
    "numbers = [random() for i in range(10)]\n",
    "numbers"
   ]
  },
  {
   "cell_type": "markdown",
   "id": "6a2df06c",
   "metadata": {},
   "source": [
    "2. `uniform(a,b)`：产生[a,b]之间的随机浮点数"
   ]
  },
  {
   "cell_type": "code",
   "execution_count": 13,
   "id": "c5604b73",
   "metadata": {},
   "outputs": [
    {
     "data": {
      "text/plain": [
       "[2.8685750576173676,\n",
       " 2.710443340673771,\n",
       " 2.190991846577591,\n",
       " 2.9183647159827024,\n",
       " 3.281695056726663,\n",
       " 2.318986485742369,\n",
       " 2.414018556160458,\n",
       " 2.678018290800777,\n",
       " 2.1516948166820806,\n",
       " 2.7952448980631672]"
      ]
     },
     "execution_count": 13,
     "metadata": {},
     "output_type": "execute_result"
    }
   ],
   "source": [
    "numbers = [uniform(2.1,3.5) for i in range(10)]\n",
    "numbers"
   ]
  },
  {
   "cell_type": "markdown",
   "id": "9cc10daa",
   "metadata": {},
   "source": [
    "## 序列用函数"
   ]
  },
  {
   "cell_type": "markdown",
   "id": "420431ef",
   "metadata": {},
   "source": [
    "1. `choice(seq)`：从序列类型中随机返回一个元素"
   ]
  },
  {
   "cell_type": "code",
   "execution_count": 14,
   "id": "14fdedb7",
   "metadata": {},
   "outputs": [
    {
     "data": {
      "text/plain": [
       "'draw'"
      ]
     },
     "execution_count": 14,
     "metadata": {},
     "output_type": "execute_result"
    }
   ],
   "source": [
    "choice(['win','lose','draw'])"
   ]
  },
  {
   "cell_type": "code",
   "execution_count": 15,
   "id": "b594f6e5",
   "metadata": {},
   "outputs": [
    {
     "data": {
      "text/plain": [
       "'n'"
      ]
     },
     "execution_count": 15,
     "metadata": {},
     "output_type": "execute_result"
    }
   ],
   "source": [
    "choice('python')"
   ]
  },
  {
   "cell_type": "markdown",
   "id": "eca5da3b",
   "metadata": {},
   "source": [
    "2. `choices(seq, weights=None, k)`：对序列类型进行k次重复采样，可设置权重"
   ]
  },
  {
   "cell_type": "code",
   "execution_count": 16,
   "id": "56b27f81",
   "metadata": {},
   "outputs": [
    {
     "data": {
      "text/plain": [
       "['win', 'draw', 'win', 'lose', 'draw']"
      ]
     },
     "execution_count": 16,
     "metadata": {},
     "output_type": "execute_result"
    }
   ],
   "source": [
    "choices(['win','lose','draw'],k=5)"
   ]
  },
  {
   "cell_type": "code",
   "execution_count": 17,
   "id": "15bdb6f1",
   "metadata": {},
   "outputs": [
    {
     "data": {
      "text/plain": [
       "['draw', 'win', 'draw', 'lose', 'lose', 'draw', 'win', 'win', 'draw', 'lose']"
      ]
     },
     "execution_count": 17,
     "metadata": {},
     "output_type": "execute_result"
    }
   ],
   "source": [
    "choices(['win','lose','draw'],[4,4,2],k=10)"
   ]
  },
  {
   "cell_type": "markdown",
   "id": "8fa6dc7a",
   "metadata": {},
   "source": [
    "3. `shuffle(seq)`：将序列类型中元素随机排列，返回打乱后的序列"
   ]
  },
  {
   "cell_type": "code",
   "execution_count": 18,
   "id": "ec9900e1",
   "metadata": {},
   "outputs": [
    {
     "data": {
      "text/plain": [
       "['two', 'four', 'one', 'three']"
      ]
     },
     "execution_count": 18,
     "metadata": {},
     "output_type": "execute_result"
    }
   ],
   "source": [
    "numbers = ['one', 'two', 'three', 'four']\n",
    "shuffle(numbers)\n",
    "numbers"
   ]
  },
  {
   "cell_type": "markdown",
   "id": "ef3b90a3",
   "metadata": {},
   "source": [
    "4. `sample(pop, k)`：从序列中随机抽取k个元素，以列表类型返回"
   ]
  },
  {
   "cell_type": "code",
   "execution_count": 19,
   "id": "1412fc1e",
   "metadata": {},
   "outputs": [
    {
     "data": {
      "text/plain": [
       "['10', '50', '30']"
      ]
     },
     "execution_count": 19,
     "metadata": {},
     "output_type": "execute_result"
    }
   ],
   "source": [
    "sample(['10','30','50','20','40'],k=3)"
   ]
  },
  {
   "cell_type": "markdown",
   "id": "a2aea1fe",
   "metadata": {},
   "source": [
    "## 概率分布"
   ]
  },
  {
   "cell_type": "markdown",
   "id": "62d636af",
   "metadata": {},
   "source": [
    "1. `gauss(mean,std)`：生成一个符合高斯分布的随机数"
   ]
  },
  {
   "cell_type": "code",
   "execution_count": 20,
   "id": "e3292c62",
   "metadata": {},
   "outputs": [
    {
     "data": {
      "text/plain": [
       "-0.4766824049599741"
      ]
     },
     "execution_count": 20,
     "metadata": {},
     "output_type": "execute_result"
    }
   ],
   "source": [
    "# 标准正态分布\n",
    "gauss(0,1)"
   ]
  },
  {
   "cell_type": "code",
   "execution_count": 21,
   "id": "74d510fd",
   "metadata": {
    "scrolled": true
   },
   "outputs": [
    {
     "data": {
      "image/png": "[encoded data removed]",
      "text/plain": [
       "<Figure size 432x288 with 1 Axes>"
      ]
     },
     "metadata": {
      "needs_background": "light"
     },
     "output_type": "display_data"
    }
   ],
   "source": [
    "import matplotlib.pyplot as plt\n",
    "\n",
    "res = [gauss(0,1) for i in range(100000)]\n",
    "\n",
    "plt.hist(res,bins=1000)\n",
    "plt.show()"
   ]
  },
  {
   "cell_type": "markdown",
   "id": "9d8116d7",
   "metadata": {},
   "source": [
    "## 案例一：用random库实现简单的微信红包分配"
   ]
  },
  {
   "cell_type": "code",
   "execution_count": 22,
   "id": "31bb27ad",
   "metadata": {},
   "outputs": [
    {
     "data": {
      "text/plain": [
       "[1.8525074968107116,\n",
       " 3.9083251429791774,\n",
       " 1.658891252170345,\n",
       " 2.500208105911677,\n",
       " 0.08006800212808995]"
      ]
     },
     "execution_count": 22,
     "metadata": {},
     "output_type": "execute_result"
    }
   ],
   "source": [
    "import random\n",
    "\n",
    "def red_packet(total, num):                                  # total表示红包总金额，num表示红包个数\n",
    "    ls = []\n",
    "    for i in range(1,num):\n",
    "        per = random.uniform(0.01,total/(num-i+1)*2)         # 假设每个红包的金额服从均匀分布，保证每个红包的期望是total/num(当前的num和total)\n",
    "        ls.append(per)\n",
    "        total -= per\n",
    "    ls.append(total)\n",
    "    return ls\n",
    "    \n",
    "red_packet(10,5)"
   ]
  },
  {
   "cell_type": "code",
   "execution_count": 23,
   "id": "521160df",
   "metadata": {},
   "outputs": [
    {
     "data": {
      "text/plain": [
       "array([2.00408936, 2.00426679, 2.00433641, 1.99875377, 1.98855368])"
      ]
     },
     "execution_count": 23,
     "metadata": {},
     "output_type": "execute_result"
    }
   ],
   "source": [
    "import numpy as np\n",
    "\n",
    "# 重复发十万次红包，统计每个位置的平均值\n",
    "res = []\n",
    "for i in range(100000):\n",
    "    res.append(red_packet(10,5))\n",
    "\n",
    "res = np.array(res)\n",
    "np.mean(res,axis=0)"
   ]
  },
  {
   "cell_type": "markdown",
   "id": "d45e2e29",
   "metadata": {},
   "source": [
    "## 案例二：生成4位由数字和英文字母构成的验证码"
   ]
  },
  {
   "cell_type": "code",
   "execution_count": 24,
   "id": "f4a8b8ab",
   "metadata": {},
   "outputs": [
    {
     "name": "stdout",
     "output_type": "stream",
     "text": [
      "0123456789\n",
      "abcdefghijklmnopqrstuvwxyzABCDEFGHIJKLMNOPQRSTUVWXYZ\n",
      "['1', 'j', 'Z', '7']\n",
      "1jZ7\n"
     ]
    }
   ],
   "source": [
    "import random\n",
    "import string\n",
    "\n",
    "print(string.digits)\n",
    "print(string.ascii_letters)\n",
    "\n",
    "s = string.digits+string.ascii_letters\n",
    "v = random.sample(s,4)\n",
    "print(v)\n",
    "print(''.join(v))"
   ]
  },
  {
   "cell_type": "markdown",
   "id": "46c8bee6",
   "metadata": {},
   "source": [
    "# collections库：容器数据类型"
   ]
  },
  {
   "cell_type": "code",
   "execution_count": 25,
   "id": "a642887d",
   "metadata": {},
   "outputs": [],
   "source": [
    "import collections"
   ]
  },
  {
   "cell_type": "markdown",
   "id": "9abebeab",
   "metadata": {},
   "source": [
    "## namedtuple：具名元组"
   ]
  },
  {
   "cell_type": "markdown",
   "id": "5af81ab8",
   "metadata": {},
   "source": [
    "用法：  \n",
    "1. 可以表示点的坐标：`p = (1,2)`  \n",
    "2. 构建一个新的元组子类：`collections.namedtuple(typename, field_names, *, rename=False, defaults=None, module=None)`"
   ]
  },
  {
   "cell_type": "code",
   "execution_count": 26,
   "id": "5cbd7323",
   "metadata": {},
   "outputs": [
    {
     "data": {
      "text/plain": [
       "Point(x=1, y=2)"
      ]
     },
     "execution_count": 26,
     "metadata": {},
     "output_type": "execute_result"
    }
   ],
   "source": [
    "Point = collections.namedtuple(\"Point\",[\"x\",\"y\"])\n",
    "p = Point(1,y=2)\n",
    "p"
   ]
  },
  {
   "cell_type": "markdown",
   "id": "91d1fd67",
   "metadata": {},
   "source": [
    "* 调用属性"
   ]
  },
  {
   "cell_type": "code",
   "execution_count": 27,
   "id": "efe04774",
   "metadata": {},
   "outputs": [
    {
     "data": {
      "text/plain": [
       "1"
      ]
     },
     "execution_count": 27,
     "metadata": {},
     "output_type": "execute_result"
    }
   ],
   "source": [
    "p.x"
   ]
  },
  {
   "cell_type": "code",
   "execution_count": 28,
   "id": "e7701f98",
   "metadata": {},
   "outputs": [
    {
     "data": {
      "text/plain": [
       "2"
      ]
     },
     "execution_count": 28,
     "metadata": {},
     "output_type": "execute_result"
    }
   ],
   "source": [
    "p.y"
   ]
  },
  {
   "cell_type": "markdown",
   "id": "86e8c58a",
   "metadata": {},
   "source": [
    "* 有元组的性质"
   ]
  },
  {
   "cell_type": "code",
   "execution_count": 29,
   "id": "7bd4a10d",
   "metadata": {},
   "outputs": [
    {
     "name": "stdout",
     "output_type": "stream",
     "text": [
      "1\n",
      "2\n",
      "1\n",
      "2\n"
     ]
    }
   ],
   "source": [
    "# 索引\n",
    "print(p[0])\n",
    "print(p[1])\n",
    "# 赋值\n",
    "x, y = p\n",
    "print(x)\n",
    "print(y)"
   ]
  },
  {
   "cell_type": "code",
   "execution_count": 30,
   "id": "4eeec4c8",
   "metadata": {},
   "outputs": [
    {
     "data": {
      "text/plain": [
       "True"
      ]
     },
     "execution_count": 30,
     "metadata": {},
     "output_type": "execute_result"
    }
   ],
   "source": [
    "# 是元组的子类\n",
    "isinstance(p,tuple)"
   ]
  },
  {
   "cell_type": "markdown",
   "id": "79b2f165",
   "metadata": {},
   "source": [
    "**例：模拟扑克牌**"
   ]
  },
  {
   "cell_type": "code",
   "execution_count": 31,
   "id": "931c3bd7",
   "metadata": {},
   "outputs": [
    {
     "name": "stdout",
     "output_type": "stream",
     "text": [
      "['2', '3', '4', '5', '6', '7', '8', '9', '10', 'J', 'Q', 'K', 'A']\n",
      "['spades', 'diamonds', 'clubs', 'hearts']\n"
     ]
    },
    {
     "data": {
      "text/plain": [
       "[Card(rank='2', suit='spades'),\n",
       " Card(rank='2', suit='diamonds'),\n",
       " Card(rank='2', suit='clubs'),\n",
       " Card(rank='2', suit='hearts'),\n",
       " Card(rank='3', suit='spades'),\n",
       " Card(rank='3', suit='diamonds'),\n",
       " Card(rank='3', suit='clubs'),\n",
       " Card(rank='3', suit='hearts'),\n",
       " Card(rank='4', suit='spades'),\n",
       " Card(rank='4', suit='diamonds'),\n",
       " Card(rank='4', suit='clubs'),\n",
       " Card(rank='4', suit='hearts'),\n",
       " Card(rank='5', suit='spades'),\n",
       " Card(rank='5', suit='diamonds'),\n",
       " Card(rank='5', suit='clubs'),\n",
       " Card(rank='5', suit='hearts'),\n",
       " Card(rank='6', suit='spades'),\n",
       " Card(rank='6', suit='diamonds'),\n",
       " Card(rank='6', suit='clubs'),\n",
       " Card(rank='6', suit='hearts'),\n",
       " Card(rank='7', suit='spades'),\n",
       " Card(rank='7', suit='diamonds'),\n",
       " Card(rank='7', suit='clubs'),\n",
       " Card(rank='7', suit='hearts'),\n",
       " Card(rank='8', suit='spades'),\n",
       " Card(rank='8', suit='diamonds'),\n",
       " Card(rank='8', suit='clubs'),\n",
       " Card(rank='8', suit='hearts'),\n",
       " Card(rank='9', suit='spades'),\n",
       " Card(rank='9', suit='diamonds'),\n",
       " Card(rank='9', suit='clubs'),\n",
       " Card(rank='9', suit='hearts'),\n",
       " Card(rank='10', suit='spades'),\n",
       " Card(rank='10', suit='diamonds'),\n",
       " Card(rank='10', suit='clubs'),\n",
       " Card(rank='10', suit='hearts'),\n",
       " Card(rank='J', suit='spades'),\n",
       " Card(rank='J', suit='diamonds'),\n",
       " Card(rank='J', suit='clubs'),\n",
       " Card(rank='J', suit='hearts'),\n",
       " Card(rank='Q', suit='spades'),\n",
       " Card(rank='Q', suit='diamonds'),\n",
       " Card(rank='Q', suit='clubs'),\n",
       " Card(rank='Q', suit='hearts'),\n",
       " Card(rank='K', suit='spades'),\n",
       " Card(rank='K', suit='diamonds'),\n",
       " Card(rank='K', suit='clubs'),\n",
       " Card(rank='K', suit='hearts'),\n",
       " Card(rank='A', suit='spades'),\n",
       " Card(rank='A', suit='diamonds'),\n",
       " Card(rank='A', suit='clubs'),\n",
       " Card(rank='A', suit='hearts')]"
      ]
     },
     "execution_count": 31,
     "metadata": {},
     "output_type": "execute_result"
    }
   ],
   "source": [
    "Card = collections.namedtuple(\"Card\",[\"rank\",\"suit\"])     # rank表示大小，suit表示花色\n",
    "ranks = [str(i) for i in range(2,11)] + list(\"JQKA\")\n",
    "suits = [\"spades\", \"diamonds\", \"clubs\",\"hearts\"]\n",
    "print(ranks)\n",
    "print(suits)\n",
    "\n",
    "cards = [Card(rank,suit) for rank in ranks for suit in suits]\n",
    "cards"
   ]
  },
  {
   "cell_type": "code",
   "execution_count": 32,
   "id": "bf7f2cf7",
   "metadata": {},
   "outputs": [
    {
     "data": {
      "text/plain": [
       "[Card(rank='4', suit='spades'),\n",
       " Card(rank='Q', suit='spades'),\n",
       " Card(rank='8', suit='diamonds'),\n",
       " Card(rank='3', suit='hearts'),\n",
       " Card(rank='Q', suit='diamonds'),\n",
       " Card(rank='10', suit='diamonds'),\n",
       " Card(rank='10', suit='spades'),\n",
       " Card(rank='A', suit='spades'),\n",
       " Card(rank='7', suit='hearts'),\n",
       " Card(rank='2', suit='diamonds'),\n",
       " Card(rank='9', suit='clubs'),\n",
       " Card(rank='8', suit='spades'),\n",
       " Card(rank='6', suit='diamonds'),\n",
       " Card(rank='4', suit='hearts'),\n",
       " Card(rank='A', suit='clubs'),\n",
       " Card(rank='9', suit='hearts'),\n",
       " Card(rank='3', suit='clubs'),\n",
       " Card(rank='Q', suit='hearts'),\n",
       " Card(rank='K', suit='hearts'),\n",
       " Card(rank='6', suit='hearts'),\n",
       " Card(rank='10', suit='hearts'),\n",
       " Card(rank='5', suit='spades'),\n",
       " Card(rank='K', suit='clubs'),\n",
       " Card(rank='3', suit='spades'),\n",
       " Card(rank='J', suit='hearts'),\n",
       " Card(rank='5', suit='hearts'),\n",
       " Card(rank='7', suit='spades'),\n",
       " Card(rank='K', suit='diamonds'),\n",
       " Card(rank='A', suit='diamonds'),\n",
       " Card(rank='6', suit='clubs'),\n",
       " Card(rank='5', suit='diamonds'),\n",
       " Card(rank='2', suit='spades'),\n",
       " Card(rank='7', suit='diamonds'),\n",
       " Card(rank='J', suit='diamonds'),\n",
       " Card(rank='A', suit='hearts'),\n",
       " Card(rank='5', suit='clubs'),\n",
       " Card(rank='8', suit='hearts'),\n",
       " Card(rank='2', suit='hearts'),\n",
       " Card(rank='4', suit='clubs'),\n",
       " Card(rank='6', suit='spades'),\n",
       " Card(rank='J', suit='spades'),\n",
       " Card(rank='10', suit='clubs'),\n",
       " Card(rank='9', suit='spades'),\n",
       " Card(rank='2', suit='clubs'),\n",
       " Card(rank='3', suit='diamonds'),\n",
       " Card(rank='J', suit='clubs'),\n",
       " Card(rank='Q', suit='clubs'),\n",
       " Card(rank='K', suit='spades'),\n",
       " Card(rank='4', suit='diamonds'),\n",
       " Card(rank='7', suit='clubs'),\n",
       " Card(rank='9', suit='diamonds'),\n",
       " Card(rank='8', suit='clubs')]"
      ]
     },
     "execution_count": 32,
     "metadata": {},
     "output_type": "execute_result"
    }
   ],
   "source": [
    "# 洗牌\n",
    "import random\n",
    "\n",
    "shuffle(cards)\n",
    "cards"
   ]
  },
  {
   "cell_type": "code",
   "execution_count": 33,
   "id": "8159ed99",
   "metadata": {},
   "outputs": [
    {
     "data": {
      "text/plain": [
       "Card(rank='J', suit='hearts')"
      ]
     },
     "execution_count": 33,
     "metadata": {},
     "output_type": "execute_result"
    }
   ],
   "source": [
    "# 随机抽一张牌\n",
    "choice(cards)"
   ]
  },
  {
   "cell_type": "code",
   "execution_count": 34,
   "id": "63f33c23",
   "metadata": {},
   "outputs": [
    {
     "data": {
      "text/plain": [
       "[Card(rank='5', suit='diamonds'),\n",
       " Card(rank='8', suit='spades'),\n",
       " Card(rank='Q', suit='hearts'),\n",
       " Card(rank='K', suit='diamonds'),\n",
       " Card(rank='K', suit='hearts')]"
      ]
     },
     "execution_count": 34,
     "metadata": {},
     "output_type": "execute_result"
    }
   ],
   "source": [
    "# 随机抽多张牌\n",
    "sample(cards,5)"
   ]
  },
  {
   "cell_type": "markdown",
   "id": "5f92d5be",
   "metadata": {},
   "source": [
    "## counter：计数器工具"
   ]
  },
  {
   "cell_type": "code",
   "execution_count": 35,
   "id": "9c8be6e4",
   "metadata": {},
   "outputs": [
    {
     "name": "stdout",
     "output_type": "stream",
     "text": [
      "Counter({'奶': 5, '牛': 2, '找': 1, '刘': 1, '买': 1})\n",
      "Counter({'blue': 3, 'red': 2, 'green': 1})\n"
     ]
    }
   ],
   "source": [
    "from collections import Counter\n",
    "\n",
    "s = \"牛奶奶找刘奶奶买牛奶\"\n",
    "colors = ['red','blue','red','green','blue','blue']\n",
    "cnt_str = Counter(s)\n",
    "cnt_color = Counter(colors)\n",
    "print(cnt_str)\n",
    "print(cnt_color)"
   ]
  },
  {
   "cell_type": "code",
   "execution_count": 36,
   "id": "712addba",
   "metadata": {},
   "outputs": [
    {
     "data": {
      "text/plain": [
       "True"
      ]
     },
     "execution_count": 36,
     "metadata": {},
     "output_type": "execute_result"
    }
   ],
   "source": [
    "# 是字典的一个子类\n",
    "isinstance(Counter(),dict)"
   ]
  },
  {
   "cell_type": "markdown",
   "id": "1d7c5e6f",
   "metadata": {},
   "source": [
    "* 统计出现频率最高的n个元素"
   ]
  },
  {
   "cell_type": "code",
   "execution_count": 37,
   "id": "7768315c",
   "metadata": {},
   "outputs": [
    {
     "data": {
      "text/plain": [
       "[('blue', 3), ('red', 2)]"
      ]
     },
     "execution_count": 37,
     "metadata": {},
     "output_type": "execute_result"
    }
   ],
   "source": [
    "cnt_color.most_common(2)"
   ]
  },
  {
   "cell_type": "markdown",
   "id": "244748f8",
   "metadata": {},
   "source": [
    "* 元素展开"
   ]
  },
  {
   "cell_type": "code",
   "execution_count": 38,
   "id": "38bcfb59",
   "metadata": {},
   "outputs": [
    {
     "data": {
      "text/plain": [
       "['牛', '牛', '奶', '奶', '奶', '奶', '奶', '找', '刘', '买']"
      ]
     },
     "execution_count": 38,
     "metadata": {},
     "output_type": "execute_result"
    }
   ],
   "source": [
    "list(cnt_str.elements())"
   ]
  },
  {
   "cell_type": "markdown",
   "id": "0e05ea65",
   "metadata": {},
   "source": [
    "* 其他加减操作"
   ]
  },
  {
   "cell_type": "code",
   "execution_count": 39,
   "id": "385f4cb9",
   "metadata": {},
   "outputs": [
    {
     "data": {
      "text/plain": [
       "Counter({'a': 7, 'b': 3})"
      ]
     },
     "execution_count": 39,
     "metadata": {},
     "output_type": "execute_result"
    }
   ],
   "source": [
    "c = Counter(a=3,b=1)\n",
    "d = Counter(a=4,b=2)\n",
    "c+d"
   ]
  },
  {
   "cell_type": "markdown",
   "id": "5675e59f",
   "metadata": {},
   "source": [
    "**例：从一副牌中抽取10张，大于10的比例有多少**"
   ]
  },
  {
   "cell_type": "code",
   "execution_count": 40,
   "id": "c0633f4c",
   "metadata": {},
   "outputs": [
    {
     "data": {
      "text/plain": [
       "['low_cards',\n",
       " 'tens',\n",
       " 'tens',\n",
       " 'low_cards',\n",
       " 'low_cards',\n",
       " 'tens',\n",
       " 'low_cards',\n",
       " 'tens',\n",
       " 'tens',\n",
       " 'tens']"
      ]
     },
     "execution_count": 40,
     "metadata": {},
     "output_type": "execute_result"
    }
   ],
   "source": [
    "cards = collections.Counter(tens=16,low_cards=36)      # 一副牌，大于10的有16张，小于等于10的有36张\n",
    "seen = sample(list(cards.elements()),10)                 # 随机抽取10张\n",
    "seen"
   ]
  },
  {
   "cell_type": "code",
   "execution_count": 41,
   "id": "c2ad90c3",
   "metadata": {},
   "outputs": [
    {
     "data": {
      "text/plain": [
       "0.6"
      ]
     },
     "execution_count": 41,
     "metadata": {},
     "output_type": "execute_result"
    }
   ],
   "source": [
    "seen.count('tens')/10"
   ]
  },
  {
   "cell_type": "markdown",
   "id": "40ee9be1",
   "metadata": {},
   "source": [
    "## deque：双向队列"
   ]
  },
  {
   "cell_type": "markdown",
   "id": "a313623b",
   "metadata": {},
   "source": [
    "列表访问数据非常快速，插入和删除操作非常慢，因为需要通过移动元素位置来实现，特别是`insert(0,v)`和`pop(0)`是在列表开始位置进行插入和删除。  \n",
    "\n",
    "双向队列可以在队列两边高效、快速地增加和删除元素。"
   ]
  },
  {
   "cell_type": "code",
   "execution_count": 42,
   "id": "f5498833",
   "metadata": {},
   "outputs": [
    {
     "data": {
      "text/plain": [
       "deque(['c', 'd', 'e'])"
      ]
     },
     "execution_count": 42,
     "metadata": {},
     "output_type": "execute_result"
    }
   ],
   "source": [
    "from collections import deque\n",
    "\n",
    "d = deque(\"cde\")\n",
    "d"
   ]
  },
  {
   "cell_type": "code",
   "execution_count": 43,
   "id": "93540e59",
   "metadata": {},
   "outputs": [
    {
     "data": {
      "text/plain": [
       "deque(['c', 'd', 'e', 'g'])"
      ]
     },
     "execution_count": 43,
     "metadata": {},
     "output_type": "execute_result"
    }
   ],
   "source": [
    "# 右端增加\n",
    "d.append(\"g\")\n",
    "d"
   ]
  },
  {
   "cell_type": "code",
   "execution_count": 44,
   "id": "800a71a9",
   "metadata": {},
   "outputs": [
    {
     "data": {
      "text/plain": [
       "deque(['l', 'c', 'd', 'e', 'g'])"
      ]
     },
     "execution_count": 44,
     "metadata": {},
     "output_type": "execute_result"
    }
   ],
   "source": [
    "# 左端增加\n",
    "d.appendleft(\"l\")\n",
    "d"
   ]
  },
  {
   "cell_type": "code",
   "execution_count": 45,
   "id": "226fca29",
   "metadata": {},
   "outputs": [
    {
     "data": {
      "text/plain": [
       "deque(['l', 'c', 'd', 'e'])"
      ]
     },
     "execution_count": 45,
     "metadata": {},
     "output_type": "execute_result"
    }
   ],
   "source": [
    "# 右端删除\n",
    "d.pop()\n",
    "d"
   ]
  },
  {
   "cell_type": "code",
   "execution_count": 46,
   "id": "6350f578",
   "metadata": {},
   "outputs": [
    {
     "data": {
      "text/plain": [
       "deque(['c', 'd', 'e'])"
      ]
     },
     "execution_count": 46,
     "metadata": {},
     "output_type": "execute_result"
    }
   ],
   "source": [
    "# 左端删除\n",
    "d.popleft()\n",
    "d"
   ]
  },
  {
   "cell_type": "markdown",
   "id": "7eb34c3a",
   "metadata": {},
   "source": [
    "# itertools库：迭代器"
   ]
  },
  {
   "cell_type": "markdown",
   "id": "58560a22",
   "metadata": {},
   "source": [
    "## 排列组合迭代器"
   ]
  },
  {
   "cell_type": "markdown",
   "id": "77c3677e",
   "metadata": {},
   "source": [
    "1. `product()`：笛卡尔积"
   ]
  },
  {
   "cell_type": "code",
   "execution_count": 47,
   "id": "99711e26",
   "metadata": {},
   "outputs": [
    {
     "name": "stdout",
     "output_type": "stream",
     "text": [
      "('A', '0')\n",
      "('A', '1')\n",
      "('B', '0')\n",
      "('B', '1')\n",
      "('C', '0')\n",
      "('C', '1')\n"
     ]
    }
   ],
   "source": [
    "import itertools\n",
    "\n",
    "for i in itertools.product('ABC','01'):\n",
    "    print(i)"
   ]
  },
  {
   "cell_type": "code",
   "execution_count": 48,
   "id": "e37b17b7",
   "metadata": {},
   "outputs": [
    {
     "name": "stdout",
     "output_type": "stream",
     "text": [
      "('A', 'A', 'A')\n",
      "('A', 'A', 'B')\n",
      "('A', 'A', 'C')\n",
      "('A', 'B', 'A')\n",
      "('A', 'B', 'B')\n",
      "('A', 'B', 'C')\n",
      "('A', 'C', 'A')\n",
      "('A', 'C', 'B')\n",
      "('A', 'C', 'C')\n",
      "('B', 'A', 'A')\n",
      "('B', 'A', 'B')\n",
      "('B', 'A', 'C')\n",
      "('B', 'B', 'A')\n",
      "('B', 'B', 'B')\n",
      "('B', 'B', 'C')\n",
      "('B', 'C', 'A')\n",
      "('B', 'C', 'B')\n",
      "('B', 'C', 'C')\n",
      "('C', 'A', 'A')\n",
      "('C', 'A', 'B')\n",
      "('C', 'A', 'C')\n",
      "('C', 'B', 'A')\n",
      "('C', 'B', 'B')\n",
      "('C', 'B', 'C')\n",
      "('C', 'C', 'A')\n",
      "('C', 'C', 'B')\n",
      "('C', 'C', 'C')\n"
     ]
    }
   ],
   "source": [
    "for i in itertools.product('ABC',repeat=3):\n",
    "    print(i)"
   ]
  },
  {
   "cell_type": "markdown",
   "id": "cf50f718",
   "metadata": {},
   "source": [
    "2. `permutations()`：排列"
   ]
  },
  {
   "cell_type": "code",
   "execution_count": 49,
   "id": "96b0ba61",
   "metadata": {},
   "outputs": [
    {
     "name": "stdout",
     "output_type": "stream",
     "text": [
      "('A', 'B', 'C')\n",
      "('A', 'C', 'B')\n",
      "('B', 'A', 'C')\n",
      "('B', 'C', 'A')\n",
      "('C', 'A', 'B')\n",
      "('C', 'B', 'A')\n"
     ]
    }
   ],
   "source": [
    "for i in itertools.permutations(\"ABC\",3):          # 3是排列的长度，若不指定长度则默认为列表的长度\n",
    "    print(i)"
   ]
  },
  {
   "cell_type": "code",
   "execution_count": 50,
   "id": "6001e995",
   "metadata": {},
   "outputs": [
    {
     "name": "stdout",
     "output_type": "stream",
     "text": [
      "('A', 'B')\n",
      "('A', 'C')\n",
      "('B', 'A')\n",
      "('B', 'C')\n",
      "('C', 'A')\n",
      "('C', 'B')\n"
     ]
    }
   ],
   "source": [
    "for i in itertools.permutations(\"ABC\",2):         \n",
    "    print(i)"
   ]
  },
  {
   "cell_type": "markdown",
   "id": "87c5c310",
   "metadata": {},
   "source": [
    "3. `combinations()`：组合"
   ]
  },
  {
   "cell_type": "code",
   "execution_count": 51,
   "id": "7df9343b",
   "metadata": {},
   "outputs": [
    {
     "name": "stdout",
     "output_type": "stream",
     "text": [
      "('A', 'B')\n",
      "('A', 'C')\n",
      "('B', 'C')\n"
     ]
    }
   ],
   "source": [
    "for i in itertools.combinations('ABC',2):          # 2是组合的长度，组合长度不能缺省\n",
    "    print(i)"
   ]
  },
  {
   "cell_type": "markdown",
   "id": "b7b3646c",
   "metadata": {},
   "source": [
    "4. `combinations_with_replacement()`：元素可重复组合"
   ]
  },
  {
   "cell_type": "code",
   "execution_count": 52,
   "id": "d9531564",
   "metadata": {},
   "outputs": [
    {
     "name": "stdout",
     "output_type": "stream",
     "text": [
      "('A', 'A')\n",
      "('A', 'B')\n",
      "('A', 'C')\n",
      "('B', 'B')\n",
      "('B', 'C')\n",
      "('C', 'C')\n"
     ]
    }
   ],
   "source": [
    "for i in itertools.combinations_with_replacement('ABC',2):\n",
    "    print(i)"
   ]
  },
  {
   "cell_type": "markdown",
   "id": "5bd9357d",
   "metadata": {},
   "source": [
    "## 拉链"
   ]
  },
  {
   "cell_type": "markdown",
   "id": "bbdc402b",
   "metadata": {},
   "source": [
    "拉链就是将相同位置的元素组合到一起。"
   ]
  },
  {
   "cell_type": "markdown",
   "id": "a9d50a16",
   "metadata": {},
   "source": [
    "1. `zip()`：短拉链"
   ]
  },
  {
   "cell_type": "code",
   "execution_count": 53,
   "id": "af031fdb",
   "metadata": {},
   "outputs": [
    {
     "name": "stdout",
     "output_type": "stream",
     "text": [
      "('A', '0', 'x')\n",
      "('B', '1', 'y')\n",
      "('C', '2', 'z')\n"
     ]
    }
   ],
   "source": [
    "for i in zip('ABC','012','xyz'):\n",
    "    print(i)"
   ]
  },
  {
   "cell_type": "markdown",
   "id": "ea5687c7",
   "metadata": {},
   "source": [
    "长度不一时，执行到最短的对象处就停止"
   ]
  },
  {
   "cell_type": "code",
   "execution_count": 54,
   "id": "b9ed6986",
   "metadata": {},
   "outputs": [
    {
     "name": "stdout",
     "output_type": "stream",
     "text": [
      "('A', '0')\n",
      "('B', '1')\n",
      "('C', '2')\n"
     ]
    }
   ],
   "source": [
    "for i in zip('ABC','012345'):      # zip()是内置的，不需要加itertools.\n",
    "    print(i)"
   ]
  },
  {
   "cell_type": "markdown",
   "id": "3542a30d",
   "metadata": {},
   "source": [
    "2. `zip_longest()`：长拉链"
   ]
  },
  {
   "cell_type": "markdown",
   "id": "d759fd24",
   "metadata": {},
   "source": [
    "长度不一时，执行到最长的对象处停止，缺省位置用None或指定字符替代。"
   ]
  },
  {
   "cell_type": "code",
   "execution_count": 55,
   "id": "559bef73",
   "metadata": {},
   "outputs": [
    {
     "name": "stdout",
     "output_type": "stream",
     "text": [
      "('A', '1')\n",
      "('B', '2')\n",
      "('C', '3')\n",
      "('?', '4')\n",
      "('?', '5')\n",
      "('?', '6')\n"
     ]
    }
   ],
   "source": [
    "for i in itertools.zip_longest('ABC','123456',fillvalue='?'):\n",
    "    print(i)"
   ]
  },
  {
   "cell_type": "markdown",
   "id": "2916f25d",
   "metadata": {},
   "source": [
    "## 无穷迭代器"
   ]
  },
  {
   "cell_type": "markdown",
   "id": "96a47e86",
   "metadata": {},
   "source": [
    "1. `count(start=0,step=1)`：计数。创建一个迭代器，从start开始，返回均匀间隔的值。  \n",
    "```\n",
    "for i in itertools.count(10,2):\n",
    "    print(i)\n",
    "```"
   ]
  },
  {
   "cell_type": "markdown",
   "id": "0b109f0c",
   "metadata": {},
   "source": [
    "2. `cycle(iterable)`：循环。创建一个迭代器，返回iterable中所有元素，无限重复。  \n",
    "```\n",
    "for i in itertools.cycle('ABCDE'):\n",
    "    print(i)\n",
    "```"
   ]
  },
  {
   "cell_type": "markdown",
   "id": "674466ea",
   "metadata": {},
   "source": [
    "3. `repeat(object,times)`：创建一个迭代器，不断重复object，除非设定参数times，否则将无限重复。  "
   ]
  },
  {
   "cell_type": "code",
   "execution_count": 56,
   "id": "dd365d0b",
   "metadata": {},
   "outputs": [
    {
     "name": "stdout",
     "output_type": "stream",
     "text": [
      "10\n",
      "10\n",
      "10\n"
     ]
    }
   ],
   "source": [
    "for i in itertools.repeat(10,3):\n",
    "    print(i)"
   ]
  },
  {
   "cell_type": "markdown",
   "id": "7187af05",
   "metadata": {},
   "source": [
    "## 其他"
   ]
  },
  {
   "cell_type": "markdown",
   "id": "b2b32b18",
   "metadata": {},
   "source": [
    "1. `chain(iterables)`：锁链。把一组迭代对象串联起来，形成一个更大的迭代器。"
   ]
  },
  {
   "cell_type": "code",
   "execution_count": 57,
   "id": "4c9be1e7",
   "metadata": {},
   "outputs": [
    {
     "name": "stdout",
     "output_type": "stream",
     "text": [
      "A\n",
      "B\n",
      "C\n",
      "0\n",
      "1\n",
      "2\n",
      "3\n"
     ]
    }
   ],
   "source": [
    "for i in itertools.chain('ABC','0123'):\n",
    "    print(i)"
   ]
  },
  {
   "cell_type": "markdown",
   "id": "20c1a25f",
   "metadata": {},
   "source": [
    "2. `enumerate(iterable,start=0)`：枚举，python内置。返回由两个元素组成的元组，结构是(index,item)，其中index从start开始，item从iterable中取。"
   ]
  },
  {
   "cell_type": "code",
   "execution_count": 58,
   "id": "6b8217e6",
   "metadata": {},
   "outputs": [
    {
     "name": "stdout",
     "output_type": "stream",
     "text": [
      "(1, 'A')\n",
      "(2, 'B')\n",
      "(3, 'C')\n",
      "(4, 'D')\n",
      "(5, 'E')\n",
      "(6, 'F')\n"
     ]
    }
   ],
   "source": [
    "for i in enumerate('ABCDEF',start=1):\n",
    "    print(i)"
   ]
  },
  {
   "cell_type": "markdown",
   "id": "aef818ff",
   "metadata": {},
   "source": [
    "3. `groupby(iterable,key=None)`：分组。创建一个迭代器，按照key指定的方式，返回iterable中连续的键和组。一般来说，要预先对数据进行排序，key为None时默认把连续重复元素分组"
   ]
  },
  {
   "cell_type": "code",
   "execution_count": 59,
   "id": "ea4a8576",
   "metadata": {},
   "outputs": [
    {
     "name": "stdout",
     "output_type": "stream",
     "text": [
      "A ['A', 'A', 'A', 'A']\n",
      "B ['B', 'B', 'B']\n",
      "C ['C', 'C', 'C', 'C']\n",
      "D ['D', 'D']\n",
      "A ['A']\n",
      "B ['B', 'B']\n",
      "C ['C', 'C']\n"
     ]
    }
   ],
   "source": [
    "for key, group in itertools.groupby('AAAABBBCCCCDDABBCC'):\n",
    "    print(key,list(group))"
   ]
  },
  {
   "cell_type": "code",
   "execution_count": 60,
   "id": "c72507c6",
   "metadata": {},
   "outputs": [
    {
     "name": "stdout",
     "output_type": "stream",
     "text": [
      "['rat', 'bat', 'duck', 'bear', 'lion', 'eagle', 'shark', 'giraffe', 'dolphin']\n"
     ]
    }
   ],
   "source": [
    "animals = ['duck','eagle','rat','giraffe','bear','bat','dolphin','shark','lion']\n",
    "animals.sort(key=len)   # 按长度排序\n",
    "print(animals)"
   ]
  },
  {
   "cell_type": "code",
   "execution_count": 61,
   "id": "25262fdd",
   "metadata": {},
   "outputs": [
    {
     "name": "stdout",
     "output_type": "stream",
     "text": [
      "3 ['rat', 'bat']\n",
      "4 ['duck', 'bear', 'lion']\n",
      "5 ['eagle', 'shark']\n",
      "7 ['giraffe', 'dolphin']\n"
     ]
    }
   ],
   "source": [
    "for key, group in itertools.groupby(animals,key=len):\n",
    "    print(key,list(group))"
   ]
  },
  {
   "cell_type": "code",
   "execution_count": 62,
   "id": "f6330230",
   "metadata": {},
   "outputs": [
    {
     "name": "stdout",
     "output_type": "stream",
     "text": [
      "['bat', 'bear', 'duck', 'dolphin', 'eagle', 'giraffe', 'lion', 'rat', 'shark']\n",
      "b ['bat', 'bear']\n",
      "d ['duck', 'dolphin']\n",
      "e ['eagle']\n",
      "g ['giraffe']\n",
      "l ['lion']\n",
      "r ['rat']\n",
      "s ['shark']\n"
     ]
    }
   ],
   "source": [
    "# 按首字母分组\n",
    "animals.sort(key=lambda x:x[0])\n",
    "print(animals)\n",
    "for key,group in itertools.groupby(animals,key=lambda x:x[0]):\n",
    "    print(key,list(group))"
   ]
  },
  {
   "cell_type": "markdown",
   "id": "6bb9842b",
   "metadata": {},
   "source": [
    "# os库"
   ]
  },
  {
   "cell_type": "markdown",
   "id": "6a3c1725",
   "metadata": {},
   "source": [
    "os库是Python标准库，包含几百个函数，常用路径操作、进程管理、环境参数等几类。"
   ]
  },
  {
   "cell_type": "code",
   "execution_count": 1,
   "id": "46c3a9be",
   "metadata": {},
   "outputs": [],
   "source": [
    "import os"
   ]
  },
  {
   "cell_type": "markdown",
   "id": "21f2c536",
   "metadata": {},
   "source": [
    "## 路径操作"
   ]
  },
  {
   "cell_type": "markdown",
   "id": "1a48a660",
   "metadata": {},
   "source": [
    "os.path子库以path为入口，用于操作和处理文件路径。"
   ]
  },
  {
   "cell_type": "markdown",
   "id": "4f7a6697",
   "metadata": {},
   "source": [
    "* os.path.relpath(path)：返回当前程序与文件之间的相对路径  "
   ]
  },
  {
   "cell_type": "code",
   "execution_count": 3,
   "id": "5b92c96e",
   "metadata": {},
   "outputs": [
    {
     "name": "stdout",
     "output_type": "stream",
     "text": [
      "file\\test.txt\n"
     ]
    }
   ],
   "source": [
    "abspath = 'D:/JupyterNotebook/python学习笔记/python-advanced/file/test.txt'\n",
    "replath = os.path.relpath(abspath)\n",
    "print(replath)"
   ]
  },
  {
   "cell_type": "markdown",
   "id": "9fafd85b",
   "metadata": {},
   "source": [
    "* os.path.abspath(path)：返回path在当前系统中的绝对路径"
   ]
  },
  {
   "cell_type": "code",
   "execution_count": 4,
   "id": "b4dea199",
   "metadata": {},
   "outputs": [
    {
     "data": {
      "text/plain": [
       "'D:\\\\JupyterNotebook\\\\python学习笔记\\\\python-advanced\\\\file\\\\test.txt'"
      ]
     },
     "execution_count": 4,
     "metadata": {},
     "output_type": "execute_result"
    }
   ],
   "source": [
    "os.path.abspath(replath)"
   ]
  },
  {
   "cell_type": "markdown",
   "id": "078db1f0",
   "metadata": {},
   "source": [
    "* os.path.split()：由链表tail和head组成，tail就是file，head就是file之前的路径。"
   ]
  },
  {
   "cell_type": "code",
   "execution_count": 5,
   "id": "af9bebbd",
   "metadata": {},
   "outputs": [
    {
     "name": "stdout",
     "output_type": "stream",
     "text": [
      "D:/JupyterNotebook/python学习笔记/python-advanced/file\n",
      "test.txt\n"
     ]
    }
   ],
   "source": [
    "head_tail = os.path.split(abspath)\n",
    "print(head_tail[0])\n",
    "print(head_tail[1])"
   ]
  },
  {
   "cell_type": "markdown",
   "id": "6f6462a3",
   "metadata": {},
   "source": [
    "* os.path.join()：连接两个或更多的路径名  "
   ]
  },
  {
   "cell_type": "code",
   "execution_count": 6,
   "id": "1e2d6768",
   "metadata": {},
   "outputs": [
    {
     "data": {
      "text/plain": [
       "'python学习笔记\\\\python-advanced\\\\file'"
      ]
     },
     "execution_count": 6,
     "metadata": {},
     "output_type": "execute_result"
    }
   ],
   "source": [
    "path1 = 'python学习笔记'\n",
    "path2 = 'python-advanced'\n",
    "path3 = 'file'\n",
    "os.path.join(path1,path2,path3)"
   ]
  },
  {
   "cell_type": "markdown",
   "id": "fdf4b480",
   "metadata": {},
   "source": [
    "> 注意，在win10使用os.path.join 拼接文件路径的时候路径中会出现双斜杠，导致路径无效，找不到文件，使用 replace('\\\\','/') 进行替换，或者不使用os.path.join拼接，直接字符串拼接  path_base + \"/\" +target_path"
   ]
  },
  {
   "cell_type": "markdown",
   "id": "3d9f14ed",
   "metadata": {},
   "source": [
    "* os.path.exists()：判断括号里的文件是否存在的意思，括号内的可以是文件路径。返回布尔型\n",
    "* os.path.isabs(path)：是否是绝对路径"
   ]
  },
  {
   "cell_type": "code",
   "execution_count": 7,
   "id": "8604407e",
   "metadata": {},
   "outputs": [
    {
     "data": {
      "text/plain": [
       "True"
      ]
     },
     "execution_count": 7,
     "metadata": {},
     "output_type": "execute_result"
    }
   ],
   "source": [
    "os.path.exists(replath)"
   ]
  },
  {
   "cell_type": "code",
   "execution_count": 8,
   "id": "ffcc9dfa",
   "metadata": {},
   "outputs": [
    {
     "data": {
      "text/plain": [
       "False"
      ]
     },
     "execution_count": 8,
     "metadata": {},
     "output_type": "execute_result"
    }
   ],
   "source": [
    "os.path.isabs(replath)"
   ]
  },
  {
   "cell_type": "markdown",
   "id": "9301835b",
   "metadata": {},
   "source": [
    "* os.fspath()：返回路径的文件系统表示。返回字符串类型"
   ]
  },
  {
   "cell_type": "code",
   "execution_count": 9,
   "id": "9c36ee62",
   "metadata": {},
   "outputs": [
    {
     "data": {
      "text/plain": [
       "'D:/JupyterNotebook/python学习笔记/python-advanced/file/test.txt'"
      ]
     },
     "execution_count": 9,
     "metadata": {},
     "output_type": "execute_result"
    }
   ],
   "source": [
    "os.fspath(abspath)"
   ]
  },
  {
   "cell_type": "markdown",
   "id": "7c530ef1",
   "metadata": {},
   "source": [
    "* os.getcwd()：列出当前工作目录"
   ]
  },
  {
   "cell_type": "code",
   "execution_count": 10,
   "id": "71b33f16",
   "metadata": {},
   "outputs": [
    {
     "data": {
      "text/plain": [
       "'D:\\\\JupyterNotebook\\\\python学习笔记\\\\python-advanced'"
      ]
     },
     "execution_count": 10,
     "metadata": {},
     "output_type": "execute_result"
    }
   ],
   "source": [
    "os.getcwd()"
   ]
  },
  {
   "cell_type": "markdown",
   "id": "d5851313",
   "metadata": {},
   "source": [
    "## 文件操作"
   ]
  },
  {
   "cell_type": "markdown",
   "id": "51c531bb",
   "metadata": {},
   "source": [
    "* os.mkdir(path，mode)：path为要创建的目录。mode为目录设置的数字权限"
   ]
  },
  {
   "cell_type": "code",
   "execution_count": 11,
   "id": "7d74f309",
   "metadata": {},
   "outputs": [],
   "source": [
    "os.mkdir('file/test')"
   ]
  },
  {
   "cell_type": "markdown",
   "id": "bfc4a4e4",
   "metadata": {},
   "source": [
    "* os.listdir()：返回指定的文件夹包含的文件或文件夹的名字的列表。"
   ]
  },
  {
   "cell_type": "code",
   "execution_count": 12,
   "id": "064523b5",
   "metadata": {},
   "outputs": [
    {
     "data": {
      "text/plain": [
       "['aaa', 'test', 'test.txt']"
      ]
     },
     "execution_count": 12,
     "metadata": {},
     "output_type": "execute_result"
    }
   ],
   "source": [
    "os.listdir('file')"
   ]
  },
  {
   "cell_type": "markdown",
   "id": "9e856e25",
   "metadata": {},
   "source": [
    "* os.path.basename(path)：传入一个完整的文件路径，只获取其文件名"
   ]
  },
  {
   "cell_type": "code",
   "execution_count": 13,
   "id": "65afc51d",
   "metadata": {},
   "outputs": [
    {
     "data": {
      "text/plain": [
       "'test.txt'"
      ]
     },
     "execution_count": 13,
     "metadata": {},
     "output_type": "execute_result"
    }
   ],
   "source": [
    "os.path.basename(abspath)"
   ]
  },
  {
   "cell_type": "markdown",
   "id": "8a00e46a",
   "metadata": {},
   "source": [
    "* os.path.isdir()：函数判断某一路径是否为目录"
   ]
  },
  {
   "cell_type": "code",
   "execution_count": 14,
   "id": "ab5e3814",
   "metadata": {},
   "outputs": [
    {
     "data": {
      "text/plain": [
       "True"
      ]
     },
     "execution_count": 14,
     "metadata": {},
     "output_type": "execute_result"
    }
   ],
   "source": [
    "os.path.isdir('file/test')"
   ]
  },
  {
   "cell_type": "markdown",
   "id": "14e55ffa",
   "metadata": {},
   "source": [
    "* os.rename(path)：将文件或文件夹重命名"
   ]
  },
  {
   "cell_type": "code",
   "execution_count": 16,
   "id": "97bb4e56",
   "metadata": {},
   "outputs": [],
   "source": [
    "os.rename('file/test','file/aaa')"
   ]
  },
  {
   "cell_type": "code",
   "execution_count": 17,
   "id": "4d950c83",
   "metadata": {},
   "outputs": [
    {
     "data": {
      "text/plain": [
       "['aaa', 'test.txt']"
      ]
     },
     "execution_count": 17,
     "metadata": {},
     "output_type": "execute_result"
    }
   ],
   "source": [
    "os.listdir('file')"
   ]
  },
  {
   "cell_type": "markdown",
   "id": "fca67702",
   "metadata": {},
   "source": [
    "* os.path.getsize(path)：传入一个文件路径，返回该文件的大小"
   ]
  },
  {
   "cell_type": "code",
   "execution_count": 18,
   "id": "716679b7",
   "metadata": {},
   "outputs": [
    {
     "data": {
      "text/plain": [
       "31"
      ]
     },
     "execution_count": 18,
     "metadata": {},
     "output_type": "execute_result"
    }
   ],
   "source": [
    "os.path.getsize(abspath)"
   ]
  },
  {
   "cell_type": "markdown",
   "id": "b15808d0",
   "metadata": {},
   "source": [
    "* os.rmdir(path)：删除空文件夹\n",
    "* os.removedirs(path)：递归删除目录"
   ]
  },
  {
   "cell_type": "markdown",
   "id": "fad5948a",
   "metadata": {},
   "source": [
    "### os.walk()"
   ]
  },
  {
   "cell_type": "markdown",
   "id": "0318c165",
   "metadata": {},
   "source": [
    "os.walk会遍历我们指定的文件夹，每一层遍历：  \n",
    "* root保存的就是当前遍历的文件夹的绝对路径；\n",
    "* dirs保存当前文件夹下的所有子文件夹的名称（仅一层，孙子文件夹不包括）\n",
    "* files保存当前文件夹下的所有文件的名称"
   ]
  },
  {
   "cell_type": "code",
   "execution_count": 19,
   "id": "f9f965bd",
   "metadata": {},
   "outputs": [
    {
     "name": "stdout",
     "output_type": "stream",
     "text": [
      "root: D:/JupyterNotebook/python学习笔记/python-advanced\n",
      "dirs: ['.ipynb_checkpoints', 'file']\n",
      "files: ['01.正则表达式.ipynb', '02.匿名函数lambda.ipynb', '03.python标准库.ipynb']\n",
      "\n",
      "\n",
      "root: D:/JupyterNotebook/python学习笔记/python-advanced\\.ipynb_checkpoints\n",
      "dirs: []\n",
      "files: ['03.python标准库-checkpoint.ipynb']\n",
      "\n",
      "\n",
      "root: D:/JupyterNotebook/python学习笔记/python-advanced\\file\n",
      "dirs: ['aaa']\n",
      "files: ['test.txt']\n",
      "\n",
      "\n",
      "root: D:/JupyterNotebook/python学习笔记/python-advanced\\file\\aaa\n",
      "dirs: []\n",
      "files: []\n",
      "\n",
      "\n"
     ]
    }
   ],
   "source": [
    "# 操作的文件夹路径\n",
    "operate_path = \"D:/JupyterNotebook/python学习笔记/python-advanced\"\n",
    "\n",
    "for root, dirs, files in os.walk(operate_path):\n",
    "    print('root:',root)\n",
    "    print('dirs:',dirs)\n",
    "    print('files:',files)\n",
    "    print('\\n')"
   ]
  },
  {
   "cell_type": "markdown",
   "id": "f572cab4",
   "metadata": {},
   "source": [
    "## 进程管理"
   ]
  },
  {
   "cell_type": "markdown",
   "id": "8f087987",
   "metadata": {},
   "source": [
    "* os.system(command)：执行程序或命令command，在Windows系统中，返回值为cmd的调用返回信息"
   ]
  },
  {
   "cell_type": "code",
   "execution_count": 20,
   "id": "6616a37f",
   "metadata": {},
   "outputs": [
    {
     "data": {
      "text/plain": [
       "0"
      ]
     },
     "execution_count": 20,
     "metadata": {},
     "output_type": "execute_result"
    }
   ],
   "source": [
    "os.system('python -V')"
   ]
  },
  {
   "cell_type": "markdown",
   "id": "424e0d2c",
   "metadata": {},
   "source": [
    "## 环境参数"
   ]
  },
  {
   "cell_type": "markdown",
   "id": "38b5c992",
   "metadata": {},
   "source": [
    "* os.linesep：当前操作系统的换行符"
   ]
  },
  {
   "cell_type": "code",
   "execution_count": 21,
   "id": "9f642672",
   "metadata": {},
   "outputs": [
    {
     "data": {
      "text/plain": [
       "'\\r\\n'"
      ]
     },
     "execution_count": 21,
     "metadata": {},
     "output_type": "execute_result"
    }
   ],
   "source": [
    "os.linesep"
   ]
  },
  {
   "cell_type": "markdown",
   "id": "0dc9bd5f",
   "metadata": {},
   "source": [
    "* os.sep：当前操作系统的路径分隔符"
   ]
  },
  {
   "cell_type": "code",
   "execution_count": 22,
   "id": "2e960531",
   "metadata": {},
   "outputs": [
    {
     "data": {
      "text/plain": [
       "'\\\\'"
      ]
     },
     "execution_count": 22,
     "metadata": {},
     "output_type": "execute_result"
    }
   ],
   "source": [
    "os.sep"
   ]
  },
  {
   "cell_type": "markdown",
   "id": "c86fcde1",
   "metadata": {},
   "source": [
    "* os.pathsep：当前操作系统的环境变量中的分隔符"
   ]
  },
  {
   "cell_type": "code",
   "execution_count": 23,
   "id": "7f09dacd",
   "metadata": {},
   "outputs": [
    {
     "data": {
      "text/plain": [
       "';'"
      ]
     },
     "execution_count": 23,
     "metadata": {},
     "output_type": "execute_result"
    }
   ],
   "source": [
    "os.pathsep"
   ]
  },
  {
   "cell_type": "markdown",
   "id": "105fcc09",
   "metadata": {},
   "source": [
    "* os.cpu_count()：获得当前系统的CPU数量"
   ]
  },
  {
   "cell_type": "code",
   "execution_count": 24,
   "id": "54f99faf",
   "metadata": {},
   "outputs": [
    {
     "data": {
      "text/plain": [
       "8"
      ]
     },
     "execution_count": 24,
     "metadata": {},
     "output_type": "execute_result"
    }
   ],
   "source": [
    "os.cpu_count()"
   ]
  },
  {
   "cell_type": "markdown",
   "id": "ff08f899",
   "metadata": {},
   "source": [
    "* os.getlogin()：获得当前系统登录用户名称"
   ]
  },
  {
   "cell_type": "code",
   "execution_count": 25,
   "id": "76c800c8",
   "metadata": {},
   "outputs": [
    {
     "data": {
      "text/plain": [
       "'gaoyu'"
      ]
     },
     "execution_count": 25,
     "metadata": {},
     "output_type": "execute_result"
    }
   ],
   "source": [
    "os.getlogin()"
   ]
  }
 ],
 "metadata": {
  "kernelspec": {
   "display_name": "Python 3 (ipykernel)",
   "language": "python",
   "name": "python3"
  },
  "language_info": {
   "codemirror_mode": {
    "name": "ipython",
    "version": 3
   },
   "file_extension": ".py",
   "mimetype": "text/x-python",
   "name": "python",
   "nbconvert_exporter": "python",
   "pygments_lexer": "ipython3",
   "version": "3.9.7"
  },
  "toc": {
   "base_numbering": 1,
   "nav_menu": {},
   "number_sections": true,
   "sideBar": true,
   "skip_h1_title": false,
   "title_cell": "Table of Contents",
   "title_sidebar": "Contents",
   "toc_cell": false,
   "toc_position": {},
   "toc_section_display": true,
   "toc_window_display": true
  }
 },
 "nbformat": 4,
 "nbformat_minor": 5
}
