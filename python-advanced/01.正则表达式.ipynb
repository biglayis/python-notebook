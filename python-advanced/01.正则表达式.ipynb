{
 "cells": [
  {
   "cell_type": "markdown",
   "id": "9fc4315e",
   "metadata": {},
   "source": [
    "# 正则表达式"
   ]
  },
  {
   "cell_type": "markdown",
   "id": "1a88304c",
   "metadata": {},
   "source": [
    "| 符号|解释|示例|说明|\n",
    "| :-----:  | :-----: | :-----:  | :-----: |\n",
    "|.|匹配任意字符|b.t|可以匹配bat/but/b#t/b1t等|\n",
    "|\\w|匹配字母/数字/下划线|b\\wt|可以匹配bat / b1t / b_t等，但不能匹配b#t|\n",
    "|\\s|匹配空白字符（包括\\r、\\n、\\t等）|love\\syou|可以匹配love you|\n",
    "|\\d|匹配数字|\\d\\d|可以匹配01/23/99等|\n",
    "|\\b|匹配单词的边界|\\bThe\\b||\n",
    "|^|匹配字符串的开始|^The|可以匹配The开头的字符串|\n",
    "|\\$|匹配字符串的结束|.exe$|可以匹配.exe结尾的字符串|\n",
    "|\\W|匹配非字母/数字/下划线|b\\Wt|可以匹配b#t/b@t等，但不能匹配but/b1t/b_t等|\n",
    "|\\S|匹配非空白字符|love\\Syou|可以匹配love#you等，但不能匹配love you|\n",
    "|\\D|匹配非数字|\\d\\D|可以匹配9a/3#/0F等|\n",
    "|\\B|匹配非单词边界|\\Bio\\B||\n",
    "| [] |匹配来自字符集的任意单一字符|[aeiou]|可以匹配任一元音字母字符|\n",
    "| [^] |匹配不在字符集中的任意单一字符|[^aeiou]|可以匹配任一非元音字母字符|\n",
    "|* |匹配0次或多次|\\w*||\n",
    "|+|匹配1次或多次|\\w+||\t\n",
    "|?|匹配0次或1次|\\w?||\t\n",
    "|{N}|匹配N次|\\w{3}||\t\n",
    "|{M,}|匹配至少M次|\\w{3,}||\t\n",
    "|{M,N}|匹配至少M次至多N次|\\w{3,6}||\t\n",
    "|\\||分支|\tfoo\\|bar|可以匹配foo或者bar|\n",
    "|(?#)|注释|||\t\t\n",
    "|(exp)|匹配exp并捕获到自动命名的组中|||\t\t\n",
    "|(?<name>exp)|匹配exp并捕获到名为name的组中|||\t\t\n",
    "|(?:exp)|匹配exp但是不捕获匹配的文本|||\t\t\n",
    "|(?=exp)|匹配exp前面的位置|\\b\\w+(?=ing)|可以匹配I'm dancing中的danc|\n",
    "|(?<=exp) | 匹配exp后面的位置|\t(?<=\\bdanc)\\w+\\b|可以匹配I love dancing and reading中的第一个ing|\n",
    "|(?!exp)|匹配后面不是exp的位置|||\t\t\n",
    "|(?<!exp)|匹配前面不是exp的位置|||\t\t\n",
    "|*?|重复任意次，但尽可能少重复|a.*b,a.*?b|将正则表达式应用于aabab，前者会匹配整个字符串aabab，后者会匹配aab和ab两个字符串|\n",
    "|+?|重复1次或多次，但尽可能少重复|||\t\t\n",
    "|??|重复0次或1次，但尽可能少重复|||\t\t\n",
    "|{M,N}?|重复M到N次，但尽可能少重复|||\t\t\n",
    "|{M,}?|\t重复M次以上，但尽可能少重复|||"
   ]
  },
  {
   "cell_type": "markdown",
   "id": "ab75794a",
   "metadata": {},
   "source": [
    "如果需要匹配的字符是正则表达式中的特殊字符，那么可以使用\\进行转义处理，例如想匹配小数点可以写成\\.就可以了，因为直接写.会匹配任意字符；  \n",
    "同理，想匹配圆括号必须写成\\(和\\)，否则圆括号被视为正则表达式中的分组。"
   ]
  },
  {
   "cell_type": "markdown",
   "id": "ed04e87e",
   "metadata": {},
   "source": [
    "## Python对正则表达式的支持"
   ]
  },
  {
   "cell_type": "markdown",
   "id": "64d57390",
   "metadata": {},
   "source": [
    "Python提供了re模块来支持正则表达式相关操作，下面是re模块中的核心函数。"
   ]
  },
  {
   "cell_type": "markdown",
   "id": "9e70825b",
   "metadata": {},
   "source": [
    "| 函数|说明|\n",
    "| :-----:  | :-----: |\n",
    "|compile(pattern, flags=0)|\t编译正则表达式返回正则表达式对象|\n",
    "|match(pattern, string, flags=0)\t|用正则表达式匹配字符串，成功返回匹配对象，否则返回None\n",
    "|search(pattern, string, flags=0)\t|搜索字符串中第一次出现正则表达式的模式，成功返回匹配对象，否则返回None\n",
    "|split(pattern, string, maxsplit=0, flags=0)\t|用正则表达式指定的模式分隔符拆分字符串，返回列表\n",
    "|sub(pattern, repl, string, count=0, flags=0)\t|用指定的字符串替换原字符串中与正则表达式匹配的模式，可以用count指定替换的次数\n",
    "|fullmatch(pattern, string, flags=0)\t|match函数的完全匹配（从字符串开头到结尾）版本\n",
    "|findall(pattern, string, flags=0)\t|查找字符串所有与正则表达式匹配的模式，返回字符串的列表\n",
    "|finditer(pattern, string, flags=0)\t|查找字符串所有与正则表达式匹配的模式，返回一个迭代器\n",
    "|compile(pattern)|生成一个 pattern 对象，这个对象有匹配，替换，分割字符串的方法\n",
    "|purge()\t|清除隐式编译的正则表达式的缓存\n",
    "|re.I / re.IGNORECASE\t|忽略大小写匹配标记\n",
    "|re.M / re.MULTILINE\t|多行匹配标记"
   ]
  },
  {
   "cell_type": "code",
   "execution_count": 1,
   "id": "08edb3a3",
   "metadata": {},
   "outputs": [
    {
     "data": {
      "text/plain": [
       "True"
      ]
     },
     "execution_count": 1,
     "metadata": {},
     "output_type": "execute_result"
    }
   ],
   "source": [
    "import re\n",
    "\n",
    "r = re.match(\"[^\\W\\d]+\",\"123,hello world\")\n",
    "r is None"
   ]
  },
  {
   "cell_type": "markdown",
   "id": "6ff37cfe",
   "metadata": {},
   "source": [
    "一旦找到了符合条件的部分，便可以使用`group`方法查看匹配的部分："
   ]
  },
  {
   "cell_type": "code",
   "execution_count": 2,
   "id": "e776a71f",
   "metadata": {},
   "outputs": [
    {
     "data": {
      "text/plain": [
       "'hello'"
      ]
     },
     "execution_count": 2,
     "metadata": {},
     "output_type": "execute_result"
    }
   ],
   "source": [
    "r = re.search(\"[^\\W\\d]+\",\"123,hello world\")\n",
    "r.group()"
   ]
  },
  {
   "cell_type": "markdown",
   "id": "c3b72aef",
   "metadata": {},
   "source": [
    "通常，`match.group(0)`匹配整个返回的内容，之后的`1,2,3,...`返回规则中每个括号（按照括号的位置排序）匹配的部分。"
   ]
  },
  {
   "cell_type": "markdown",
   "id": "bf0ec0ee",
   "metadata": {},
   "source": [
    "### match()和search()的区别"
   ]
  },
  {
   "cell_type": "markdown",
   "id": "3a9786b6",
   "metadata": {},
   "source": [
    "* match（）函数只检测RE是不是在string的开始位置匹配，\n",
    "* search()会扫描整个string查找匹配\n",
    "* match（）只有在0位置匹配成功的话才有返回，如果不是开始位置匹配成功的话，match()就返回none"
   ]
  },
  {
   "cell_type": "code",
   "execution_count": 3,
   "id": "a39b4c81",
   "metadata": {},
   "outputs": [
    {
     "data": {
      "text/plain": [
       "['hello', 'world']"
      ]
     },
     "execution_count": 3,
     "metadata": {},
     "output_type": "execute_result"
    }
   ],
   "source": [
    "re.findall(\"[^\\W\\d]+\",\"123,hello world\")"
   ]
  },
  {
   "cell_type": "code",
   "execution_count": 4,
   "id": "47f5099c",
   "metadata": {},
   "outputs": [
    {
     "name": "stdout",
     "output_type": "stream",
     "text": [
      "hello\n",
      "world\n"
     ]
    }
   ],
   "source": [
    "r = re.finditer(\"[^\\W\\d]+\",\"123,hello world\")\n",
    "for i in r:\n",
    "    print(i.group())"
   ]
  },
  {
   "cell_type": "code",
   "execution_count": 5,
   "id": "590932e3",
   "metadata": {},
   "outputs": [
    {
     "data": {
      "text/plain": [
       "['', 'hello,', 'world python', '!']"
      ]
     },
     "execution_count": 5,
     "metadata": {},
     "output_type": "execute_result"
    }
   ],
   "source": [
    "re.split(\"\\d+\",\"12hello,345world python567!\")"
   ]
  },
  {
   "cell_type": "code",
   "execution_count": 6,
   "id": "d30a839f",
   "metadata": {},
   "outputs": [
    {
     "data": {
      "text/plain": [
       "'***hello,***world python567!'"
      ]
     },
     "execution_count": 6,
     "metadata": {},
     "output_type": "execute_result"
    }
   ],
   "source": [
    "s = re.sub(\"\\d+\",\"***\",\"12hello,345world python567!\",count = 2)\n",
    "s"
   ]
  },
  {
   "cell_type": "markdown",
   "id": "6e909a78",
   "metadata": {},
   "source": [
    "这些函数实际开发中也可以用正则表达式对象的方法替代对这些函数的使用，如果一个正则表达式需要重复的使用，那么先通过compile函数编译正则表达式并创建出正则表达式对象无疑是更为明智的选择。"
   ]
  },
  {
   "cell_type": "code",
   "execution_count": 7,
   "id": "0f23939c",
   "metadata": {},
   "outputs": [
    {
     "name": "stdout",
     "output_type": "stream",
     "text": [
      "hello\n",
      "['123,', ' ', '']\n"
     ]
    }
   ],
   "source": [
    "pattern = re.compile(\"[^\\W\\d]+\")\n",
    "print(pattern.search(\"123,hello world\").group())\n",
    "print(pattern.split(\"123,hello world\"))"
   ]
  },
  {
   "cell_type": "markdown",
   "id": "bbae27c9",
   "metadata": {},
   "source": [
    "### 例1：验证输入用户名和QQ号是否有效并给出对应的提示信息。"
   ]
  },
  {
   "cell_type": "code",
   "execution_count": 8,
   "id": "ba531bc3",
   "metadata": {},
   "outputs": [
    {
     "name": "stdout",
     "output_type": "stream",
     "text": [
      "请输入用户名：**big\n",
      "请重新输入：\n",
      "请输入用户名：biglayis\n",
      "请输入QQ号：0123456\n",
      "请重新输入：\n",
      "请输入QQ号：879267112\n",
      "用户名：biglayis，QQ号：879267112\n"
     ]
    }
   ],
   "source": [
    "\"\"\"\n",
    "验证输入用户名和QQ号是否有效并给出对应的提示信息\n",
    "\n",
    "要求：用户名必须由字母、数字或下划线构成且长度在6~20个字符之间，QQ号是5~12的数字且首位不能为0\n",
    "\"\"\"\n",
    "\n",
    "import re\n",
    "\n",
    "while 1:\n",
    "    username = input(\"请输入用户名：\")\n",
    "    r1 = re.match(r\"^[\\w]{6,20}$\",username)\n",
    "    if r1 is None:\n",
    "        print(\"请重新输入：\")\n",
    "    else:\n",
    "        break\n",
    "    \n",
    "while 1:\n",
    "    qq = input(\"请输入QQ号：\")\n",
    "    r2 = re.match(r\"^[1-9][\\d]{4,11}$\",qq)\n",
    "    if r2 is None:\n",
    "        print(\"请重新输入：\")\n",
    "    else:\n",
    "        break\n",
    "        \n",
    "print(f\"用户名：{username}，QQ号：{qq}\")"
   ]
  },
  {
   "cell_type": "markdown",
   "id": "ebeb008c",
   "metadata": {},
   "source": [
    "> 在书写正则表达式时可以使用“原始字符串”的写法（在字符串前面加上r）  \n",
    "所谓“原始字符串”就是字符串中的每个字符都是它原始的意义，说得更直接一点就是字符串中没有所谓的转义字符了。  \n",
    "因为正则表达式中有很多元字符和需要进行转义的地方，如果不使用原始字符串就需要将反斜杠写作\\\\，例如表示数字的\\d得书写成\\\\d，这样不仅写起来不方便，阅读的时候也会很吃力"
   ]
  },
  {
   "cell_type": "markdown",
   "id": "1ad19e1b",
   "metadata": {},
   "source": [
    "### 例2：从一段文字中提取出国内手机号码"
   ]
  },
  {
   "cell_type": "code",
   "execution_count": 9,
   "id": "3257e556",
   "metadata": {},
   "outputs": [
    {
     "name": "stdout",
     "output_type": "stream",
     "text": [
      "['13512346789', '15600998765', '15600998765']\n",
      "--------华丽的分隔线--------\n",
      "13512346789\n",
      "15600998765\n",
      "15600998765\n",
      "--------华丽的分隔线--------\n",
      "13512346789\n",
      "15600998765\n",
      "15600998765\n"
     ]
    }
   ],
   "source": [
    "import re\n",
    "\n",
    "# 创建正则表达式对象 使用了前瞻和回顾来保证手机号前后不应该出现数字\n",
    "pattern = re.compile(r'(?<=\\D)(1[38]\\d{9}|14[57]\\d{8}|15[0-35-9]\\d{8}|17[678]\\d{8})(?=\\D)') # 不包括19和16开头的手机号\n",
    "sentence = '''\n",
    "重要的事情说8130123456789遍，我的手机号是13512346789这个靓号，\n",
    "不是15600998765，也是110或119，王大锤的手机号才是15600998765。\n",
    "'''\n",
    "# 查找所有匹配并保存到一个列表中\n",
    "mylist = re.findall(pattern, sentence)\n",
    "print(mylist)\n",
    "print('--------华丽的分隔线--------')\n",
    "# 通过迭代器取出匹配对象并获得匹配的内容\n",
    "for temp in pattern.finditer(sentence):\n",
    "    print(temp.group())\n",
    "print('--------华丽的分隔线--------')\n",
    "# 通过search函数指定搜索位置找出所有匹配\n",
    "m = pattern.search(sentence)\n",
    "while m:\n",
    "    print(m.group())\n",
    "    m = pattern.search(sentence, m.end())"
   ]
  },
  {
   "cell_type": "markdown",
   "id": "0d7507c2",
   "metadata": {},
   "source": [
    "### 例3：替换字符串中的不良内容"
   ]
  },
  {
   "cell_type": "code",
   "execution_count": 10,
   "id": "b94fd235",
   "metadata": {},
   "outputs": [
    {
     "name": "stdout",
     "output_type": "stream",
     "text": [
      "你丫是*吗? 我*你大爷的. * you.\n"
     ]
    }
   ],
   "source": [
    "import re\n",
    "\n",
    "sentence = '你丫是傻叉吗? 我操你大爷的. Fuck you.'\n",
    "purified = re.sub('[操肏艹]|fuck|shit|傻[比屄逼叉缺吊屌]|煞笔',\n",
    "                  '*', sentence, flags=re.IGNORECASE)\n",
    "print(purified)  "
   ]
  },
  {
   "cell_type": "markdown",
   "id": "3f252421",
   "metadata": {},
   "source": [
    "> 说明： re模块的正则表达式相关函数中都有一个flags参数，它代表了正则表达式的匹配标记，可以通过该标记来指定匹配时是否忽略大小写、是否进行多行匹配、是否显示调试信息等。如果需要为flags参数指定多个值，可以使用按位或运算符进行叠加，如flags=re.I | re.M。"
   ]
  },
  {
   "cell_type": "markdown",
   "id": "7b0f5af5",
   "metadata": {},
   "source": [
    "### 例4：拆分长字符串"
   ]
  },
  {
   "cell_type": "code",
   "execution_count": 11,
   "id": "e3a01a7a",
   "metadata": {},
   "outputs": [
    {
     "name": "stdout",
     "output_type": "stream",
     "text": [
      "['窗前明月光', '疑是地上霜', '举头望明月', '低头思故乡']\n"
     ]
    }
   ],
   "source": [
    "import re\n",
    "\n",
    "poem = '窗前明月光，疑是地上霜。举头望明月，低头思故乡。'\n",
    "sentence_list = re.split(r'[，。, .]', poem)\n",
    "while '' in sentence_list:\n",
    "    sentence_list.remove('')\n",
    "print(sentence_list)  "
   ]
  },
  {
   "cell_type": "markdown",
   "id": "bdeedad5",
   "metadata": {},
   "source": [
    "## Numpy 的 fromregex()"
   ]
  },
  {
   "cell_type": "markdown",
   "id": "580d856a",
   "metadata": {},
   "source": [
    "`fromregex(file, pattern, dtype)`"
   ]
  },
  {
   "cell_type": "markdown",
   "id": "0729334f",
   "metadata": {},
   "source": [
    "`dtype`中的内容与`pattern`的括号一一对应："
   ]
  },
  {
   "cell_type": "code",
   "execution_count": 15,
   "id": "5a8403fe",
   "metadata": {},
   "outputs": [
    {
     "name": "stdout",
     "output_type": "stream",
     "text": [
      "[(1312, b'foo') (1534, b'bar') ( 444, b'qux')]\n"
     ]
    }
   ],
   "source": [
    "pattern = \"(\\d+)\\s+(...)\"\n",
    "dt = [('num', 'int64'), ('key', 'S3')]\n",
    "\n",
    "from numpy import fromregex\n",
    "output = fromregex('file/test.txt', pattern, dt)\n",
    "print(output)"
   ]
  },
  {
   "cell_type": "code",
   "execution_count": 16,
   "id": "eda0f0cb",
   "metadata": {},
   "outputs": [
    {
     "name": "stdout",
     "output_type": "stream",
     "text": [
      "[1312 1534  444]\n"
     ]
    }
   ],
   "source": [
    "print(output['num'])"
   ]
  }
 ],
 "metadata": {
  "kernelspec": {
   "display_name": "Python 3 (ipykernel)",
   "language": "python",
   "name": "python3"
  },
  "language_info": {
   "codemirror_mode": {
    "name": "ipython",
    "version": 3
   },
   "file_extension": ".py",
   "mimetype": "text/x-python",
   "name": "python",
   "nbconvert_exporter": "python",
   "pygments_lexer": "ipython3",
   "version": "3.9.7"
  }
 },
 "nbformat": 4,
 "nbformat_minor": 5
}
