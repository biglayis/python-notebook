{
 "cells": [
  {
   "cell_type": "markdown",
   "id": "469b7273",
   "metadata": {},
   "source": [
    "# 匿名函数语法格式"
   ]
  },
  {
   "cell_type": "markdown",
   "id": "b14362bd",
   "metadata": {},
   "source": [
    "匿名函数是指没有名字的函数，它主要应用在需要一个函数、但是又不想费神去命名这个函数的场合。通常情况下，这样的函数只使用一次。"
   ]
  },
  {
   "cell_type": "markdown",
   "id": "0d5b23ac",
   "metadata": {},
   "source": [
    "在Python中，使用lambda表达式创建匿名函数，其语法格式如下：  \n",
    "**`lambda argument_list: expression`**"
   ]
  },
  {
   "cell_type": "markdown",
   "id": "6baca6b0",
   "metadata": {},
   "source": [
    "参数说明：\n",
    "* argument_list：参数列表，它的结构与Python中函数(function)的参数列表是一样的。\n",
    "* expression：关于参数的表达式，表达式中出现的参数需要在argument_list中有定义，并且表达式只能是单行的。"
   ]
  },
  {
   "cell_type": "markdown",
   "id": "ba1be56b",
   "metadata": {},
   "source": [
    "> 注意： 使用lambda表达式时，参数可以有多个，用逗号“,”分隔，但是表达式只能有一个，即只能返回一个值，而且也不能出现其他非表达式语句（如for或while）。"
   ]
  },
  {
   "cell_type": "markdown",
   "id": "14586531",
   "metadata": {},
   "source": [
    "# 匿名函数的使用"
   ]
  },
  {
   "cell_type": "markdown",
   "id": "a8d4c8b8",
   "metadata": {},
   "source": [
    "`lambda x, y: xy`：函数输入是x和y，输出是它们的积xy  \n",
    "`lambda:None`：函数没有输入参数，输出是None  \n",
    "`lambda *args: sum(args)`：输入是任意个数的参数，输出是它们的和(隐性要求是输入参数必须能够进行加法运算)  \n",
    "`lambda **kwargs: 1`：输入是任意键值对参数，输出是1"
   ]
  },
  {
   "cell_type": "markdown",
   "id": "8fb4abd3",
   "metadata": {},
   "source": [
    "## 作为函数调用"
   ]
  },
  {
   "cell_type": "markdown",
   "id": "7b66d00d",
   "metadata": {},
   "source": [
    "例：定义一个计算圆的面积的函数"
   ]
  },
  {
   "cell_type": "markdown",
   "id": "320a1465",
   "metadata": {},
   "source": [
    "常规代码："
   ]
  },
  {
   "cell_type": "code",
   "execution_count": 1,
   "id": "11133d1b",
   "metadata": {},
   "outputs": [
    {
     "name": "stdout",
     "output_type": "stream",
     "text": [
      "半径为 10 的圆面积为： 314.1592653589793\n"
     ]
    }
   ],
   "source": [
    "import math  # 导入math模块\n",
    "\n",
    "def circlearea(r):  # 计算圆的函数\n",
    "    result = math.pi * r * r  # 计算圆的公式\n",
    "    return result  # 返回圆面积\n",
    "\n",
    "r = 10  # 半径\n",
    "print(\"半径为\", r, \"的圆面积为：\", circlearea(r))"
   ]
  },
  {
   "cell_type": "markdown",
   "id": "4e733e89",
   "metadata": {},
   "source": [
    "使用lambda表达式的代码："
   ]
  },
  {
   "cell_type": "code",
   "execution_count": 3,
   "id": "79708426",
   "metadata": {},
   "outputs": [
    {
     "name": "stdout",
     "output_type": "stream",
     "text": [
      "半径为 10 的圆面积为： 314.1592653589793\n"
     ]
    }
   ],
   "source": [
    "r = 10\n",
    "result = lambda r:math.pi*r*r\n",
    "print(\"半径为\", r, \"的圆面积为：\", result(r))"
   ]
  },
  {
   "cell_type": "markdown",
   "id": "660c684d",
   "metadata": {},
   "source": [
    "## 将lambda函数作为参数传递给其他函数"
   ]
  },
  {
   "cell_type": "markdown",
   "id": "fe9f3bd0",
   "metadata": {},
   "source": [
    "部分Python内置函数接收函数作为参数，比如map、filter、sorted、reduce等"
   ]
  },
  {
   "cell_type": "code",
   "execution_count": 6,
   "id": "9775d2ac",
   "metadata": {},
   "outputs": [
    {
     "data": {
      "text/plain": [
       "[3, 6]"
      ]
     },
     "execution_count": 6,
     "metadata": {},
     "output_type": "execute_result"
    }
   ],
   "source": [
    "list(filter(lambda x:x%3 == 0, [1,2,3,4,5,6]))"
   ]
  },
  {
   "cell_type": "code",
   "execution_count": 7,
   "id": "9ab92980",
   "metadata": {},
   "outputs": [
    {
     "data": {
      "text/plain": [
       "[0, 1, 4, 9, 16]"
      ]
     },
     "execution_count": 7,
     "metadata": {},
     "output_type": "execute_result"
    }
   ],
   "source": [
    "list(map(lambda x:x**2, range(5)))"
   ]
  },
  {
   "cell_type": "code",
   "execution_count": 14,
   "id": "f9b23cdc",
   "metadata": {},
   "outputs": [
    {
     "data": {
      "text/plain": [
       "[6, 8, 10, 12]"
      ]
     },
     "execution_count": 14,
     "metadata": {},
     "output_type": "execute_result"
    }
   ],
   "source": [
    "# 求两个列表元素的和\n",
    "a = [1,2,3,4]\n",
    "b = [5,6,7,8]\n",
    "list(map(lambda a,b:a+b, a,b))"
   ]
  },
  {
   "cell_type": "code",
   "execution_count": 10,
   "id": "88e82465",
   "metadata": {},
   "outputs": [
    {
     "data": {
      "text/plain": [
       "[('a', 2), ('b', 3), ('c', 1), ('d', 4)]"
      ]
     },
     "execution_count": 10,
     "metadata": {},
     "output_type": "execute_result"
    }
   ],
   "source": [
    "a=[('b',3),('a',2),('d',4),('c',1)]\n",
    "# 按照第一个元素排序\n",
    "sorted(a, key = lambda x:x[0])"
   ]
  },
  {
   "cell_type": "code",
   "execution_count": 11,
   "id": "6a9b7241",
   "metadata": {},
   "outputs": [
    {
     "data": {
      "text/plain": [
       "[('c', 1), ('a', 2), ('b', 3), ('d', 4)]"
      ]
     },
     "execution_count": 11,
     "metadata": {},
     "output_type": "execute_result"
    }
   ],
   "source": [
    "# 按照第二个元素排序\n",
    "sorted(a, key = lambda x:x[1])"
   ]
  },
  {
   "cell_type": "code",
   "execution_count": 12,
   "id": "0aa4347a",
   "metadata": {},
   "outputs": [
    {
     "data": {
      "text/plain": [
       "137"
      ]
     },
     "execution_count": 12,
     "metadata": {},
     "output_type": "execute_result"
    }
   ],
   "source": [
    "from functools import reduce\n",
    "\n",
    "'''reduce函数先从列表（或序列）中取出2个元素执行指定函数，并将输出结果与第3个元素传入函数，\n",
    "   输出结果再与第4个元素传入函数，…，以此类推，直到列表每个元素都取完。'''\n",
    "reduce(lambda a,b:a+b, [1,2,56,8,4,66])"
   ]
  },
  {
   "cell_type": "markdown",
   "id": "119bab82",
   "metadata": {},
   "source": [
    "## 将lambda函数作为其他函数的返回值"
   ]
  },
  {
   "cell_type": "code",
   "execution_count": 13,
   "id": "dcc733c0",
   "metadata": {},
   "outputs": [
    {
     "data": {
      "text/plain": [
       "10"
      ]
     },
     "execution_count": 13,
     "metadata": {},
     "output_type": "execute_result"
    }
   ],
   "source": [
    "def increment(n):\n",
    "    return lambda x:x+n\n",
    "\n",
    "f = increment(4)\n",
    "f(6)"
   ]
  }
 ],
 "metadata": {
  "kernelspec": {
   "display_name": "Python 3 (ipykernel)",
   "language": "python",
   "name": "python3"
  },
  "language_info": {
   "codemirror_mode": {
    "name": "ipython",
    "version": 3
   },
   "file_extension": ".py",
   "mimetype": "text/x-python",
   "name": "python",
   "nbconvert_exporter": "python",
   "pygments_lexer": "ipython3",
   "version": "3.9.7"
  },
  "toc": {
   "base_numbering": 1,
   "nav_menu": {},
   "number_sections": true,
   "sideBar": true,
   "skip_h1_title": false,
   "title_cell": "Table of Contents",
   "title_sidebar": "Contents",
   "toc_cell": false,
   "toc_position": {},
   "toc_section_display": true,
   "toc_window_display": false
  }
 },
 "nbformat": 4,
 "nbformat_minor": 5
}
