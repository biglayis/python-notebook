{
 "cells": [
  {
   "cell_type": "markdown",
   "id": "179558b5",
   "metadata": {},
   "source": [
    "# pandas简介"
   ]
  },
  {
   "cell_type": "markdown",
   "id": "9481dc07",
   "metadata": {},
   "source": [
    "Pandas是Wes McKinney在2008年开发的一个强大的分析结构化数据的工具集。Pandas以NumPy为基础（数据表示和运算），提供了用于数据处理的函数和方法，对数据分析和数据挖掘提供了很好的支持；同时Pandas还可以跟数据可视化工具Matplotlib很好的整合在一起，非常轻松愉快的实现数据的可视化展示。"
   ]
  },
  {
   "cell_type": "markdown",
   "id": "aa7032cd",
   "metadata": {},
   "source": [
    "Pandas核心的数据类型是`Series`（数据系列）、`DataFrame`（数据表/数据框），分别用于处理一维和二维的数据，除此之外还有一个名为`Index`的类型及其子类型，它为`Series`和`DataFrame`提供了索引功能。  "
   ]
  },
  {
   "cell_type": "markdown",
   "id": "afbf8b44",
   "metadata": {},
   "source": [
    "# Series的应用"
   ]
  },
  {
   "cell_type": "markdown",
   "id": "ef5ac6b3",
   "metadata": {},
   "source": [
    "Pandas库中的Series对象可以用来表示一维数据结构，跟数组非常类似，但是多了一些额外的功能。Series的内部结构包含了两个数组，其中一个用来保存数据，另一个用来保存数据的索引。"
   ]
  },
  {
   "cell_type": "markdown",
   "id": "58cb27f4",
   "metadata": {},
   "source": [
    "## 创建Series对象"
   ]
  },
  {
   "cell_type": "code",
   "execution_count": 1,
   "id": "718f58a7",
   "metadata": {},
   "outputs": [],
   "source": [
    "import pandas as pd\n",
    "import numpy as np"
   ]
  },
  {
   "cell_type": "markdown",
   "id": "dc3b47a1",
   "metadata": {},
   "source": [
    "### 通过列表或数组创建Series对象"
   ]
  },
  {
   "cell_type": "code",
   "execution_count": 2,
   "id": "d70ac58a",
   "metadata": {},
   "outputs": [
    {
     "data": {
      "text/plain": [
       "一季度    320\n",
       "二季度    180\n",
       "三季度    300\n",
       "四季度    405\n",
       "dtype: int64"
      ]
     },
     "execution_count": 2,
     "metadata": {},
     "output_type": "execute_result"
    }
   ],
   "source": [
    "# data参数表示数据，index参数表示数据的索引（标签）\n",
    "# 如果没有指定index属性，默认使用数字索引\n",
    "pd.Series(data=[320, 180, 300, 405], index=['一季度', '二季度', '三季度', '四季度'])"
   ]
  },
  {
   "cell_type": "markdown",
   "id": "3ca331c0",
   "metadata": {},
   "source": [
    "### 通过字典创建Series对象"
   ]
  },
  {
   "cell_type": "code",
   "execution_count": 3,
   "id": "c0f16549",
   "metadata": {},
   "outputs": [
    {
     "data": {
      "text/plain": [
       "一季度    320\n",
       "二季度    180\n",
       "三季度    300\n",
       "四季度    405\n",
       "dtype: int64"
      ]
     },
     "execution_count": 3,
     "metadata": {},
     "output_type": "execute_result"
    }
   ],
   "source": [
    "ser1 = pd.Series(data={'一季度': 320, '二季度': 180, '三季度': 300, '四季度': 405})\n",
    "ser1"
   ]
  },
  {
   "cell_type": "markdown",
   "id": "90c9064f",
   "metadata": {},
   "source": [
    "## 索引和切片"
   ]
  },
  {
   "cell_type": "markdown",
   "id": "0a191c82",
   "metadata": {},
   "source": [
    "跟数组一样，Series对象也可以进行索引和切片操作，不同的是Series对象因为内部维护了一个保存索引的数组，所以除了可以使用整数索引通过位置检索数据外，还可以通过自己设置的索引标签获取对应的数据。"
   ]
  },
  {
   "cell_type": "markdown",
   "id": "c3acaef9",
   "metadata": {},
   "source": [
    "### 使用整数索引"
   ]
  },
  {
   "cell_type": "code",
   "execution_count": 4,
   "id": "80f13361",
   "metadata": {},
   "outputs": [
    {
     "name": "stdout",
     "output_type": "stream",
     "text": [
      "320 180 300 405\n"
     ]
    }
   ],
   "source": [
    "print(ser1[0],ser1[1],ser1[2],ser1[3])"
   ]
  },
  {
   "cell_type": "code",
   "execution_count": 5,
   "id": "ab5a72c4",
   "metadata": {},
   "outputs": [
    {
     "data": {
      "text/plain": [
       "一季度    320\n",
       "二季度    200\n",
       "三季度    600\n",
       "四季度    405\n",
       "dtype: int64"
      ]
     },
     "execution_count": 5,
     "metadata": {},
     "output_type": "execute_result"
    }
   ],
   "source": [
    "ser1[1], ser1[2] = 200, 600\n",
    "ser1"
   ]
  },
  {
   "cell_type": "markdown",
   "id": "9dc549ea",
   "metadata": {},
   "source": [
    "> 提示：如果要使用负向索引，必须在创建Series对象时通过index属性指定非数值类型的标签。"
   ]
  },
  {
   "cell_type": "markdown",
   "id": "73aef2a7",
   "metadata": {},
   "source": [
    "### 使用自定义的标签索引"
   ]
  },
  {
   "cell_type": "code",
   "execution_count": 6,
   "id": "8f85458d",
   "metadata": {},
   "outputs": [
    {
     "name": "stdout",
     "output_type": "stream",
     "text": [
      "320 405\n"
     ]
    }
   ],
   "source": [
    "print(ser1[\"一季度\"], ser1[\"四季度\"])"
   ]
  },
  {
   "cell_type": "code",
   "execution_count": 7,
   "id": "45d39bd0",
   "metadata": {},
   "outputs": [
    {
     "data": {
      "text/plain": [
       "一季度    320\n",
       "二季度    200\n",
       "三季度    500\n",
       "四季度    405\n",
       "dtype: int64"
      ]
     },
     "execution_count": 7,
     "metadata": {},
     "output_type": "execute_result"
    }
   ],
   "source": [
    "ser1[\"三季度\"] = 500\n",
    "ser1"
   ]
  },
  {
   "cell_type": "markdown",
   "id": "9c33ffd7",
   "metadata": {},
   "source": [
    "### 切片操作"
   ]
  },
  {
   "cell_type": "code",
   "execution_count": 8,
   "id": "2ff4ebd6",
   "metadata": {},
   "outputs": [
    {
     "data": {
      "text/plain": [
       "二季度    200\n",
       "三季度    500\n",
       "dtype: int64"
      ]
     },
     "execution_count": 8,
     "metadata": {},
     "output_type": "execute_result"
    }
   ],
   "source": [
    "ser1[1:3]"
   ]
  },
  {
   "cell_type": "code",
   "execution_count": 9,
   "id": "4790396e",
   "metadata": {},
   "outputs": [
    {
     "data": {
      "text/plain": [
       "二季度    200\n",
       "三季度    500\n",
       "四季度    405\n",
       "dtype: int64"
      ]
     },
     "execution_count": 9,
     "metadata": {},
     "output_type": "execute_result"
    }
   ],
   "source": [
    "ser1[\"二季度\":\"四季度\"]"
   ]
  },
  {
   "cell_type": "code",
   "execution_count": 10,
   "id": "ff7389f0",
   "metadata": {},
   "outputs": [
    {
     "data": {
      "text/plain": [
       "一季度    320\n",
       "二季度    300\n",
       "三季度    200\n",
       "四季度    405\n",
       "dtype: int64"
      ]
     },
     "execution_count": 10,
     "metadata": {},
     "output_type": "execute_result"
    }
   ],
   "source": [
    "ser1[1:3] = 300, 200\n",
    "ser1"
   ]
  },
  {
   "cell_type": "markdown",
   "id": "3d12a091",
   "metadata": {},
   "source": [
    "### 花式索引"
   ]
  },
  {
   "cell_type": "code",
   "execution_count": 11,
   "id": "1620c922",
   "metadata": {},
   "outputs": [
    {
     "data": {
      "text/plain": [
       "二季度    300\n",
       "三季度    200\n",
       "dtype: int64"
      ]
     },
     "execution_count": 11,
     "metadata": {},
     "output_type": "execute_result"
    }
   ],
   "source": [
    "ser1[[\"二季度\",\"三季度\"]]"
   ]
  },
  {
   "cell_type": "markdown",
   "id": "41a658f3",
   "metadata": {},
   "source": [
    "### 布尔索引"
   ]
  },
  {
   "cell_type": "code",
   "execution_count": 12,
   "id": "47babd63",
   "metadata": {},
   "outputs": [
    {
     "data": {
      "text/plain": [
       "一季度    320\n",
       "二季度    300\n",
       "四季度    405\n",
       "dtype: int64"
      ]
     },
     "execution_count": 12,
     "metadata": {},
     "output_type": "execute_result"
    }
   ],
   "source": [
    "ser1[ser1 >= 300]"
   ]
  },
  {
   "cell_type": "markdown",
   "id": "9b6191cd",
   "metadata": {},
   "source": [
    "## 属性和方法"
   ]
  },
  {
   "cell_type": "markdown",
   "id": "a771f90c",
   "metadata": {},
   "source": [
    "|属性|\t说明|\n",
    "|:---:|:---:|\n",
    "dtype / dtypes\t|返回Series对象的数据类型\n",
    "hasnans\t|判断Series对象中有没有空值\n",
    "at / iat\t|通过索引访问Series对象中的单个值\n",
    "loc / iloc\t|通过一组索引访问Series对象中的一组值\n",
    "index\t|返回Series对象的索引\n",
    "is_monotonic\t|判断Series对象中的数据是否单调\n",
    "is_monotonic_increasing\t|判断Series对象中的数据是否单调递增\n",
    "is_monotonic_decreasing\t|判断Series对象中的数据是否单调递减\n",
    "is_unique\t|判断Series对象中的数据是否独一无二\n",
    "size\t|返回Series对象中元素的个数\n",
    "values\t|以ndarray的方式返回Series对象中的值"
   ]
  },
  {
   "cell_type": "markdown",
   "id": "1dac75ea",
   "metadata": {},
   "source": [
    "### 统计相关的方法"
   ]
  },
  {
   "cell_type": "code",
   "execution_count": 13,
   "id": "25d7fe16",
   "metadata": {},
   "outputs": [
    {
     "name": "stdout",
     "output_type": "stream",
     "text": [
      "1225\n",
      "306.25\n",
      "405\n",
      "200\n",
      "4\n",
      "84.19966349893171\n",
      "7089.583333333333\n",
      "310.0\n"
     ]
    }
   ],
   "source": [
    "# 求和\n",
    "print(ser1.sum())\n",
    "# 平均值\n",
    "print(ser1.mean())\n",
    "# 最大值\n",
    "print(ser1.max())\n",
    "# 最小值\n",
    "print(ser1.min())\n",
    "# 计数\n",
    "print(ser1.count())\n",
    "# 标准差\n",
    "print(ser1.std())\n",
    "# 方差\n",
    "print(ser1.var())\n",
    "# 中位数\n",
    "print(ser1.median())"
   ]
  },
  {
   "cell_type": "code",
   "execution_count": 14,
   "id": "f0d0ad70",
   "metadata": {},
   "outputs": [
    {
     "data": {
      "text/plain": [
       "count      4.000000\n",
       "mean     306.250000\n",
       "std       84.199663\n",
       "min      200.000000\n",
       "25%      275.000000\n",
       "50%      310.000000\n",
       "75%      341.250000\n",
       "max      405.000000\n",
       "dtype: float64"
      ]
     },
     "execution_count": 14,
     "metadata": {},
     "output_type": "execute_result"
    }
   ],
   "source": [
    "# 获得上述所有的描述性统计信息\n",
    "ser1.describe()"
   ]
  },
  {
   "cell_type": "markdown",
   "id": "ec4a0308",
   "metadata": {},
   "source": [
    "> 提示：因为`describe()`返回的也是一个Series对象，所以也可以用`ser2.describe()['mean']`来获取平均值"
   ]
  },
  {
   "cell_type": "code",
   "execution_count": 15,
   "id": "6a137c1f",
   "metadata": {},
   "outputs": [
    {
     "data": {
      "text/plain": [
       "0     apple\n",
       "1    banana\n",
       "2     apple\n",
       "3    pitaya\n",
       "4     apple\n",
       "5    pitaya\n",
       "6    durian\n",
       "dtype: object"
      ]
     },
     "execution_count": 15,
     "metadata": {},
     "output_type": "execute_result"
    }
   ],
   "source": [
    "ser2 = pd.Series(data=['apple', 'banana', 'apple', 'pitaya', 'apple', 'pitaya', 'durian'])\n",
    "ser2"
   ]
  },
  {
   "cell_type": "code",
   "execution_count": 16,
   "id": "f723af4a",
   "metadata": {},
   "outputs": [
    {
     "data": {
      "text/plain": [
       "array(['apple', 'banana', 'pitaya', 'durian'], dtype=object)"
      ]
     },
     "execution_count": 16,
     "metadata": {},
     "output_type": "execute_result"
    }
   ],
   "source": [
    "# 去重\n",
    "ser2.unique()"
   ]
  },
  {
   "cell_type": "code",
   "execution_count": 17,
   "id": "1202c983",
   "metadata": {},
   "outputs": [
    {
     "data": {
      "text/plain": [
       "4"
      ]
     },
     "execution_count": 17,
     "metadata": {},
     "output_type": "execute_result"
    }
   ],
   "source": [
    "# 统计不重复值的数量\n",
    "ser2.nunique()"
   ]
  },
  {
   "cell_type": "code",
   "execution_count": 18,
   "id": "f6a10a58",
   "metadata": {},
   "outputs": [
    {
     "data": {
      "text/plain": [
       "apple     3\n",
       "pitaya    2\n",
       "banana    1\n",
       "durian    1\n",
       "dtype: int64"
      ]
     },
     "execution_count": 18,
     "metadata": {},
     "output_type": "execute_result"
    }
   ],
   "source": [
    "# 统计每个值重复的次数,返回一个Series对象，它的索引就是原来的Series对象中的值\n",
    "ser2.value_counts()"
   ]
  },
  {
   "cell_type": "markdown",
   "id": "7aad927d",
   "metadata": {},
   "source": [
    "### 数据处理的方法"
   ]
  },
  {
   "cell_type": "markdown",
   "id": "1265a824",
   "metadata": {},
   "source": [
    "#### 判断空值"
   ]
  },
  {
   "cell_type": "code",
   "execution_count": 19,
   "id": "956ed588",
   "metadata": {},
   "outputs": [
    {
     "data": {
      "text/plain": [
       "0    10.0\n",
       "1    20.0\n",
       "2     NaN\n",
       "3    30.0\n",
       "4     NaN\n",
       "dtype: float64"
      ]
     },
     "execution_count": 19,
     "metadata": {},
     "output_type": "execute_result"
    }
   ],
   "source": [
    "ser3 = pd.Series(data=[10, 20, np.NaN, 30, np.NaN])\n",
    "ser3"
   ]
  },
  {
   "cell_type": "code",
   "execution_count": 20,
   "id": "ab9bbc5a",
   "metadata": {},
   "outputs": [
    {
     "data": {
      "text/plain": [
       "0    False\n",
       "1    False\n",
       "2     True\n",
       "3    False\n",
       "4     True\n",
       "dtype: bool"
      ]
     },
     "execution_count": 20,
     "metadata": {},
     "output_type": "execute_result"
    }
   ],
   "source": [
    "ser3.isnull()"
   ]
  },
  {
   "cell_type": "code",
   "execution_count": 21,
   "id": "5722e423",
   "metadata": {},
   "outputs": [
    {
     "data": {
      "text/plain": [
       "0     True\n",
       "1     True\n",
       "2    False\n",
       "3     True\n",
       "4    False\n",
       "dtype: bool"
      ]
     },
     "execution_count": 21,
     "metadata": {},
     "output_type": "execute_result"
    }
   ],
   "source": [
    "ser3.notnull()"
   ]
  },
  {
   "cell_type": "markdown",
   "id": "33403961",
   "metadata": {},
   "source": [
    "#### 删除和填充空值"
   ]
  },
  {
   "cell_type": "code",
   "execution_count": 22,
   "id": "85a09613",
   "metadata": {},
   "outputs": [
    {
     "data": {
      "text/plain": [
       "0    10.0\n",
       "1    20.0\n",
       "3    30.0\n",
       "dtype: float64"
      ]
     },
     "execution_count": 22,
     "metadata": {},
     "output_type": "execute_result"
    }
   ],
   "source": [
    "ser3.dropna()"
   ]
  },
  {
   "cell_type": "code",
   "execution_count": 23,
   "id": "2a3374dc",
   "metadata": {},
   "outputs": [
    {
     "data": {
      "text/plain": [
       "0    10.0\n",
       "1    20.0\n",
       "2    40.0\n",
       "3    30.0\n",
       "4    40.0\n",
       "dtype: float64"
      ]
     },
     "execution_count": 23,
     "metadata": {},
     "output_type": "execute_result"
    }
   ],
   "source": [
    "# 将空值填充为40\n",
    "ser3.fillna(value = 40)"
   ]
  },
  {
   "cell_type": "code",
   "execution_count": 24,
   "id": "3d464987",
   "metadata": {},
   "outputs": [
    {
     "data": {
      "text/plain": [
       "0    10.0\n",
       "1    20.0\n",
       "2    20.0\n",
       "3    30.0\n",
       "4    30.0\n",
       "dtype: float64"
      ]
     },
     "execution_count": 24,
     "metadata": {},
     "output_type": "execute_result"
    }
   ],
   "source": [
    "# backfill或bfill表示用后一个元素的值填充空值\n",
    "# ffill或pad表示用前一个元素的值填充空值\n",
    "ser3.fillna(method='ffill')"
   ]
  },
  {
   "cell_type": "markdown",
   "id": "02ddbd30",
   "metadata": {},
   "source": [
    "`dropna()`和`fillna()`方法都有一个名为`inplace`的参数，它的默认值是`False`，表示删除空值或填充空值不会修改原来的Series对象，而是返回一个新的Series对象来表示删除或填充空值后的数据系列，如果将`inplace`参数的值修改为True，那么删除或填充空值会就地操作，直接修改原来的Series对象，那么方法的返回值是None。"
   ]
  },
  {
   "cell_type": "markdown",
   "id": "a5f002c4",
   "metadata": {},
   "source": [
    "#### 替换满足或不满足条件的值"
   ]
  },
  {
   "cell_type": "code",
   "execution_count": 25,
   "id": "7e452249",
   "metadata": {},
   "outputs": [
    {
     "data": {
      "text/plain": [
       "0    0\n",
       "1    1\n",
       "2    2\n",
       "3    9\n",
       "4    9\n",
       "dtype: int64"
      ]
     },
     "execution_count": 25,
     "metadata": {},
     "output_type": "execute_result"
    }
   ],
   "source": [
    "ser4 = pd.Series(range(5))\n",
    "# 替换不满足条件的值\n",
    "ser4.where(ser4 < 3, 9)"
   ]
  },
  {
   "cell_type": "code",
   "execution_count": 26,
   "id": "63bda913",
   "metadata": {},
   "outputs": [
    {
     "data": {
      "text/plain": [
       "0    9\n",
       "1    9\n",
       "2    9\n",
       "3    3\n",
       "4    4\n",
       "dtype: int64"
      ]
     },
     "execution_count": 26,
     "metadata": {},
     "output_type": "execute_result"
    }
   ],
   "source": [
    "# 替换满足条件的值\n",
    "ser4.mask(ser4 < 3, 9)"
   ]
  },
  {
   "cell_type": "markdown",
   "id": "fff18e68",
   "metadata": {},
   "source": [
    "#### 处理重复数据"
   ]
  },
  {
   "cell_type": "code",
   "execution_count": 27,
   "id": "fb431d11",
   "metadata": {},
   "outputs": [
    {
     "data": {
      "text/plain": [
       "0     apple\n",
       "1    banana\n",
       "2     apple\n",
       "3    pitaya\n",
       "4     apple\n",
       "5    pitaya\n",
       "6    durian\n",
       "dtype: object"
      ]
     },
     "execution_count": 27,
     "metadata": {},
     "output_type": "execute_result"
    }
   ],
   "source": [
    "ser2"
   ]
  },
  {
   "cell_type": "code",
   "execution_count": 28,
   "id": "05911726",
   "metadata": {},
   "outputs": [
    {
     "data": {
      "text/plain": [
       "0    False\n",
       "1    False\n",
       "2     True\n",
       "3    False\n",
       "4     True\n",
       "5     True\n",
       "6    False\n",
       "dtype: bool"
      ]
     },
     "execution_count": 28,
     "metadata": {},
     "output_type": "execute_result"
    }
   ],
   "source": [
    "# 找出重复的数据\n",
    "ser2.duplicated()"
   ]
  },
  {
   "cell_type": "code",
   "execution_count": 29,
   "id": "9a402034",
   "metadata": {},
   "outputs": [
    {
     "data": {
      "text/plain": [
       "0     apple\n",
       "1    banana\n",
       "3    pitaya\n",
       "6    durian\n",
       "dtype: object"
      ]
     },
     "execution_count": 29,
     "metadata": {},
     "output_type": "execute_result"
    }
   ],
   "source": [
    "# 删除重复数据\n",
    "ser2.drop_duplicates()"
   ]
  },
  {
   "cell_type": "markdown",
   "id": "12e51a5e",
   "metadata": {},
   "source": [
    "#### map()函数"
   ]
  },
  {
   "cell_type": "code",
   "execution_count": 30,
   "id": "ec1e62aa",
   "metadata": {},
   "outputs": [
    {
     "data": {
      "text/plain": [
       "0       cat\n",
       "1       dog\n",
       "2       NaN\n",
       "3    rabbit\n",
       "dtype: object"
      ]
     },
     "execution_count": 30,
     "metadata": {},
     "output_type": "execute_result"
    }
   ],
   "source": [
    "ser5 = pd.Series(['cat', 'dog', np.nan, 'rabbit'])\n",
    "ser5"
   ]
  },
  {
   "cell_type": "code",
   "execution_count": 31,
   "id": "d8c30bdc",
   "metadata": {},
   "outputs": [
    {
     "data": {
      "text/plain": [
       "0    kitten\n",
       "1     puppy\n",
       "2       NaN\n",
       "3       NaN\n",
       "dtype: object"
      ]
     },
     "execution_count": 31,
     "metadata": {},
     "output_type": "execute_result"
    }
   ],
   "source": [
    "ser5.map({'cat':'kitten','dog':'puppy'})"
   ]
  },
  {
   "cell_type": "code",
   "execution_count": 32,
   "id": "3bce9cb2",
   "metadata": {},
   "outputs": [
    {
     "data": {
      "text/plain": [
       "0       I am a cat\n",
       "1       I am a dog\n",
       "2              NaN\n",
       "3    I am a rabbit\n",
       "dtype: object"
      ]
     },
     "execution_count": 32,
     "metadata": {},
     "output_type": "execute_result"
    }
   ],
   "source": [
    "ser5.map('I am a {}'.format, na_action = 'ignore')"
   ]
  },
  {
   "cell_type": "markdown",
   "id": "b260169d",
   "metadata": {},
   "source": [
    "#### apply()函数"
   ]
  },
  {
   "cell_type": "markdown",
   "id": "7902c424",
   "metadata": {},
   "source": [
    "Pandas的`apply()`方法是用来调用一个函数，让此函数对数据对象进行批量处理。  \n",
    "Pandas 的很多对象都可以使用`apply()`来调用函数，如 Dataframe、Series、分组对象、各种时间序列等。  \n",
    "`apply()`使用时，通常放入一个`lambda`函数表达式、或一个函数作为操作运算  "
   ]
  },
  {
   "cell_type": "markdown",
   "id": "175deb9d",
   "metadata": {},
   "source": [
    "**`DataFrame.apply(self, func, axis=0, raw=False, result_type=None, args=(), **kwargs)`**"
   ]
  },
  {
   "cell_type": "markdown",
   "id": "3255b616",
   "metadata": {},
   "source": [
    "参数：  \n",
    "* func：函数或 lambda 表达式，应用于每行或者每列\n",
    "* axis：{0 or ‘index’, 1 or ‘columns’}，默认为0\n",
    "    * 0 or ‘index’: 表示函数处理的是每一列\n",
    "    * 1 or ‘columns’: 表示函数处理的是每一行\n",
    "* raw：bool 类型，默认为 False;\n",
    "    * False ，表示把每一行或列作为 Series 传入函数中；\n",
    "    * True，表示接受的是 ndarray 数据类型；\n",
    "* result_type：{‘expand’, ‘reduce’, ‘broadcast’, None}, default None, These only act when axis=1 (columns):\n",
    "    * ‘expand’ : 列表式的结果将被转化为列。\n",
    "    * ‘reduce’ : 如果可能的话，返回一个 Series，而不是展开类似列表的结果。这与 expand 相反。\n",
    "    * ‘broadcast’ : 结果将被广播到 DataFrame 的原始形状，原始索引和列将被保留。\n",
    "* args: func 的位置参数\n",
    "* \\**kwargs：要作为关键字参数传递给 func 的其他关键字参数，1.3.0 开始支持"
   ]
  },
  {
   "cell_type": "markdown",
   "id": "06c73031",
   "metadata": {},
   "source": [
    "返回值为Series或者DataFrame"
   ]
  },
  {
   "cell_type": "code",
   "execution_count": 33,
   "id": "821f810c",
   "metadata": {},
   "outputs": [
    {
     "data": {
      "text/plain": [
       "London      20\n",
       "New York    21\n",
       "Helsinki    22\n",
       "dtype: int64"
      ]
     },
     "execution_count": 33,
     "metadata": {},
     "output_type": "execute_result"
    }
   ],
   "source": [
    "ser6 = pd.Series([20, 21, 22], index = ['London', 'New York', 'Helsinki'])\n",
    "ser6"
   ]
  },
  {
   "cell_type": "code",
   "execution_count": 34,
   "id": "a4e9d27e",
   "metadata": {},
   "outputs": [
    {
     "data": {
      "text/plain": [
       "London      400\n",
       "New York    441\n",
       "Helsinki    484\n",
       "dtype: int64"
      ]
     },
     "execution_count": 34,
     "metadata": {},
     "output_type": "execute_result"
    }
   ],
   "source": [
    "ser6.apply(np.square)"
   ]
  },
  {
   "cell_type": "code",
   "execution_count": 35,
   "id": "f46e6ed3",
   "metadata": {},
   "outputs": [
    {
     "data": {
      "text/plain": [
       "London      15\n",
       "New York    16\n",
       "Helsinki    17\n",
       "dtype: int64"
      ]
     },
     "execution_count": 35,
     "metadata": {},
     "output_type": "execute_result"
    }
   ],
   "source": [
    "ser6.apply(lambda x,value : x-value, args = (5,))    # 相当于对ser6中的每个元素减5,apply函数将ser6传给x,将args传给value"
   ]
  },
  {
   "cell_type": "markdown",
   "id": "664c2c57",
   "metadata": {},
   "source": [
    "#### 排序和取头部值的方法"
   ]
  },
  {
   "cell_type": "markdown",
   "id": "a662c6b8",
   "metadata": {},
   "source": [
    "Series对象的`sort_index()`和`sort_values()`方法可以用于对索引和数据的排序，排序方法有一个名为`ascending`的布尔类型参数，该参数用于控制排序的结果是升序还是降序；而名为`kind`的参数则用来控制排序使用的算法，默认使用了`quicksort`，也可以选择`mergesort`或`heapsort`；如果存在空值，那么可以用`na_position`参数空值放在最前还是最后，默认是`last`"
   ]
  },
  {
   "cell_type": "code",
   "execution_count": 36,
   "id": "48ac565c",
   "metadata": {},
   "outputs": [
    {
     "data": {
      "text/plain": [
       "grape     35\n",
       "banana    96\n",
       "pitaya    12\n",
       "apple     57\n",
       "peach     25\n",
       "orange    89\n",
       "dtype: int64"
      ]
     },
     "execution_count": 36,
     "metadata": {},
     "output_type": "execute_result"
    }
   ],
   "source": [
    "ser7 = pd.Series(data=[35, 96, 12, 57, 25, 89], index=['grape', 'banana', 'pitaya', 'apple', 'peach', 'orange'])\n",
    "ser7"
   ]
  },
  {
   "cell_type": "code",
   "execution_count": 37,
   "id": "90ea1da5",
   "metadata": {},
   "outputs": [
    {
     "data": {
      "text/plain": [
       "pitaya    12\n",
       "peach     25\n",
       "grape     35\n",
       "apple     57\n",
       "orange    89\n",
       "banana    96\n",
       "dtype: int64"
      ]
     },
     "execution_count": 37,
     "metadata": {},
     "output_type": "execute_result"
    }
   ],
   "source": [
    "ser7.sort_values()"
   ]
  },
  {
   "cell_type": "code",
   "execution_count": 38,
   "id": "80bffac1",
   "metadata": {},
   "outputs": [
    {
     "data": {
      "text/plain": [
       "banana    96\n",
       "orange    89\n",
       "apple     57\n",
       "grape     35\n",
       "peach     25\n",
       "pitaya    12\n",
       "dtype: int64"
      ]
     },
     "execution_count": 38,
     "metadata": {},
     "output_type": "execute_result"
    }
   ],
   "source": [
    "ser7.sort_values(ascending=False)"
   ]
  },
  {
   "cell_type": "markdown",
   "id": "62a79959",
   "metadata": {},
   "source": [
    "如果要从Series对象中找出元素中最大或最小的“Top-N”，实际上是不需要对所有的值进行排序的，可以使用`nlargest()`和`nsmallest()`方法来完成"
   ]
  },
  {
   "cell_type": "code",
   "execution_count": 39,
   "id": "19a60c7b",
   "metadata": {},
   "outputs": [
    {
     "data": {
      "text/plain": [
       "banana    96\n",
       "orange    89\n",
       "apple     57\n",
       "dtype: int64"
      ]
     },
     "execution_count": 39,
     "metadata": {},
     "output_type": "execute_result"
    }
   ],
   "source": [
    "ser7.nlargest(3)"
   ]
  },
  {
   "cell_type": "code",
   "execution_count": 40,
   "id": "a0bc55bc",
   "metadata": {},
   "outputs": [
    {
     "data": {
      "text/plain": [
       "pitaya    12\n",
       "peach     25\n",
       "dtype: int64"
      ]
     },
     "execution_count": 40,
     "metadata": {},
     "output_type": "execute_result"
    }
   ],
   "source": [
    "ser7.nsmallest(2)"
   ]
  },
  {
   "cell_type": "markdown",
   "id": "8a696b06",
   "metadata": {},
   "source": [
    "## 绘制图表"
   ]
  },
  {
   "cell_type": "markdown",
   "id": "5dd551a6",
   "metadata": {},
   "source": [
    "Series对象有一个名为plot的方法可以用来生成图表，如果选择生成折线图、饼图、柱状图等，默认会使用Series对象的索引作为横坐标，使用Series对象的数据作为纵坐标。"
   ]
  },
  {
   "cell_type": "markdown",
   "id": "c9314cd4",
   "metadata": {},
   "source": [
    "首先导入matplotlib中pyplot模块并进行必要的配置。"
   ]
  },
  {
   "cell_type": "code",
   "execution_count": 41,
   "id": "9bef9069",
   "metadata": {},
   "outputs": [],
   "source": [
    "import matplotlib.pyplot as plt\n",
    "\n",
    "# 配置支持中文的非衬线字体（默认的字体无法显示中文）\n",
    "plt.rcParams['font.sans-serif'] = ['SimHei', ]\n",
    "# 使用指定的中文字体时需要下面的配置来避免负号无法显示\n",
    "plt.rcParams['axes.unicode_minus'] = False"
   ]
  },
  {
   "cell_type": "code",
   "execution_count": 42,
   "id": "3a0308a5",
   "metadata": {},
   "outputs": [
    {
     "data": {
      "text/plain": [
       "一季度    320\n",
       "二季度    300\n",
       "三季度    200\n",
       "四季度    405\n",
       "dtype: int64"
      ]
     },
     "execution_count": 42,
     "metadata": {},
     "output_type": "execute_result"
    }
   ],
   "source": [
    "ser1"
   ]
  },
  {
   "cell_type": "code",
   "execution_count": 43,
   "id": "739a6b94",
   "metadata": {},
   "outputs": [
    {
     "data": {
      "image/png": "[encoded data removed]",
      "text/plain": [
       "<Figure size 432x288 with 1 Axes>"
      ]
     },
     "metadata": {
      "needs_background": "light"
     },
     "output_type": "display_data"
    }
   ],
   "source": [
    "# 绘制柱状图\n",
    "ser1.plot(kind = 'bar', color = ['r', 'g', 'b', 'y'])\n",
    "# x轴的坐标旋转到0度（中文水平显示）\n",
    "plt.xticks(rotation = 0)\n",
    "# 在柱状图的柱子上绘制数字\n",
    "for i in range(4):\n",
    "    plt.text(i,ser1[i]+5,ser1[i],ha = 'center')    # text()前两个参数(x,y)表示位置\n",
    "# 显示图像\n",
    "plt.show()"
   ]
  },
  {
   "cell_type": "code",
   "execution_count": 44,
   "id": "fa8166e8",
   "metadata": {},
   "outputs": [
    {
     "data": {
      "image/png": "[encoded data removed]",
      "text/plain": [
       "<Figure size 432x288 with 1 Axes>"
      ]
     },
     "metadata": {},
     "output_type": "display_data"
    }
   ],
   "source": [
    "# 绘制饼图\n",
    "ser1.plot(kind = 'pie', autopct='%.1f%%')    # autopct参数可以配置在饼图上显示每块饼的占比\n",
    "# 设置y轴的标签（显示在饼图左侧的文字）\n",
    "plt.ylabel('各季度占比')\n",
    "plt.show()"
   ]
  }
 ],
 "metadata": {
  "kernelspec": {
   "display_name": "Python 3 (ipykernel)",
   "language": "python",
   "name": "python3"
  },
  "language_info": {
   "codemirror_mode": {
    "name": "ipython",
    "version": 3
   },
   "file_extension": ".py",
   "mimetype": "text/x-python",
   "name": "python",
   "nbconvert_exporter": "python",
   "pygments_lexer": "ipython3",
   "version": "3.9.7"
  },
  "toc": {
   "base_numbering": 1,
   "nav_menu": {},
   "number_sections": true,
   "sideBar": true,
   "skip_h1_title": false,
   "title_cell": "Table of Contents",
   "title_sidebar": "Contents",
   "toc_cell": false,
   "toc_position": {
    "height": "calc(100% - 180px)",
    "left": "10px",
    "top": "150px",
    "width": "307.2px"
   },
   "toc_section_display": true,
   "toc_window_display": true
  }
 },
 "nbformat": 4,
 "nbformat_minor": 5
}
