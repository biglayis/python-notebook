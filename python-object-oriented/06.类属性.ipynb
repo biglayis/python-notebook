{
 "cells": [
  {
   "cell_type": "markdown",
   "id": "192fd572",
   "metadata": {},
   "source": [
    "# 类属性"
   ]
  },
  {
   "cell_type": "markdown",
   "id": "665c08ed",
   "metadata": {},
   "source": [
    "类属性就是给类对象中定义的属性，通常用来记录与这个类相关的特征，类属性不会用于记录具体实例对象的特征"
   ]
  },
  {
   "cell_type": "code",
   "execution_count": 4,
   "id": "005c0c24",
   "metadata": {},
   "outputs": [],
   "source": [
    "class Tool(object):\n",
    "    \n",
    "    # 定义一个类属性\n",
    "    count = 0\n",
    "    \n",
    "    def __init__(self, name):\n",
    "        # 对象属性/实例属性\n",
    "        self.name = name\n",
    "        Tool.count += 1"
   ]
  },
  {
   "cell_type": "code",
   "execution_count": 5,
   "id": "9cba5dfc",
   "metadata": {},
   "outputs": [
    {
     "name": "stdout",
     "output_type": "stream",
     "text": [
      "1\n"
     ]
    }
   ],
   "source": [
    "tool1 = Tool(\"斧头\")\n",
    "print(Tool.count)"
   ]
  },
  {
   "cell_type": "code",
   "execution_count": 6,
   "id": "59f05444",
   "metadata": {},
   "outputs": [
    {
     "name": "stdout",
     "output_type": "stream",
     "text": [
      "2\n"
     ]
    }
   ],
   "source": [
    "tool2 = Tool(\"榔头\")\n",
    "print(Tool.count)"
   ]
  },
  {
   "cell_type": "code",
   "execution_count": 7,
   "id": "3b9d7a5d",
   "metadata": {},
   "outputs": [
    {
     "name": "stdout",
     "output_type": "stream",
     "text": [
      "3\n"
     ]
    }
   ],
   "source": [
    "tool3 = Tool(\"水桶\")\n",
    "print(Tool.count)"
   ]
  },
  {
   "cell_type": "markdown",
   "id": "9d0f0f4e",
   "metadata": {},
   "source": [
    "在python中属性的获取存在一个向上查找机制，对于`tool1.count`，首先在对象内部查找对象属性，没有找到就会向上寻找类属性"
   ]
  },
  {
   "cell_type": "code",
   "execution_count": 10,
   "id": "58612009",
   "metadata": {},
   "outputs": [
    {
     "name": "stdout",
     "output_type": "stream",
     "text": [
      "3\n"
     ]
    }
   ],
   "source": [
    "print(tool1.count)"
   ]
  },
  {
   "cell_type": "markdown",
   "id": "7af24a56",
   "metadata": {},
   "source": [
    "* 不建议使用`对象.类属性`的方式，避免对象属性和类属性同名的情况\n",
    "* 不可使用`对象.类属性`给类属性赋值，`对象.类属性`会在当前对象中生成一个实例属性，并不是类属性"
   ]
  },
  {
   "cell_type": "code",
   "execution_count": 11,
   "id": "6cf4a7f0",
   "metadata": {},
   "outputs": [],
   "source": [
    "tool1.count = 10"
   ]
  },
  {
   "cell_type": "code",
   "execution_count": 12,
   "id": "b9a8e1c1",
   "metadata": {},
   "outputs": [
    {
     "data": {
      "text/plain": [
       "3"
      ]
     },
     "execution_count": 12,
     "metadata": {},
     "output_type": "execute_result"
    }
   ],
   "source": [
    "Tool.count"
   ]
  }
 ],
 "metadata": {
  "kernelspec": {
   "display_name": "Python 3 (ipykernel)",
   "language": "python",
   "name": "python3"
  },
  "language_info": {
   "codemirror_mode": {
    "name": "ipython",
    "version": 3
   },
   "file_extension": ".py",
   "mimetype": "text/x-python",
   "name": "python",
   "nbconvert_exporter": "python",
   "pygments_lexer": "ipython3",
   "version": "3.9.7"
  }
 },
 "nbformat": 4,
 "nbformat_minor": 5
}
