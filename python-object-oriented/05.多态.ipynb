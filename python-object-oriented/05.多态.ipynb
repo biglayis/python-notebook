{
 "cells": [
  {
   "cell_type": "markdown",
   "id": "6189ad1a",
   "metadata": {},
   "source": [
    "# 多态"
   ]
  },
  {
   "cell_type": "markdown",
   "id": "3cd37a64",
   "metadata": {},
   "source": [
    "多态：不同的子类对象调用相同的父类方法，产生不同的执行结果"
   ]
  },
  {
   "cell_type": "markdown",
   "id": "150231e3",
   "metadata": {},
   "source": [
    "* 多态可以增加代码的灵活度\n",
    "* 以继承和重写父类方法为前提\n",
    "* 是调用方法的技巧，不会影响到类的内部设计"
   ]
  },
  {
   "cell_type": "code",
   "execution_count": 1,
   "id": "ea8273e9",
   "metadata": {},
   "outputs": [],
   "source": [
    "class A:\n",
    "    def work(self):\n",
    "        print(\"人类需要工作\")"
   ]
  },
  {
   "cell_type": "code",
   "execution_count": 2,
   "id": "e2fe35f5",
   "metadata": {},
   "outputs": [],
   "source": [
    "class B(A):\n",
    "    def work(self):\n",
    "        print(\"程序员在工作\")"
   ]
  },
  {
   "cell_type": "code",
   "execution_count": 4,
   "id": "ec881cb3",
   "metadata": {},
   "outputs": [],
   "source": [
    "class C(A):\n",
    "    def work(self):\n",
    "        print(\"设计师在工作\")"
   ]
  },
  {
   "cell_type": "code",
   "execution_count": 5,
   "id": "d9b18467",
   "metadata": {},
   "outputs": [
    {
     "name": "stdout",
     "output_type": "stream",
     "text": [
      "程序员在工作\n",
      "设计师在工作\n"
     ]
    }
   ],
   "source": [
    "b = B()\n",
    "c = C()\n",
    "b.work()\n",
    "c.work()"
   ]
  }
 ],
 "metadata": {
  "kernelspec": {
   "display_name": "Python 3 (ipykernel)",
   "language": "python",
   "name": "python3"
  },
  "language_info": {
   "codemirror_mode": {
    "name": "ipython",
    "version": 3
   },
   "file_extension": ".py",
   "mimetype": "text/x-python",
   "name": "python",
   "nbconvert_exporter": "python",
   "pygments_lexer": "ipython3",
   "version": "3.9.7"
  }
 },
 "nbformat": 4,
 "nbformat_minor": 5
}
