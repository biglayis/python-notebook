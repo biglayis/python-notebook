{
 "cells": [
  {
   "cell_type": "markdown",
   "id": "e6c9b7d8",
   "metadata": {},
   "source": [
    "# 面向对象三大特性"
   ]
  },
  {
   "cell_type": "markdown",
   "id": "81244537",
   "metadata": {},
   "source": [
    "* 封装\n",
    "* 继承\n",
    "* 多态"
   ]
  },
  {
   "cell_type": "markdown",
   "id": "40edf8c0",
   "metadata": {},
   "source": [
    "# 单继承"
   ]
  },
  {
   "cell_type": "markdown",
   "id": "e352306c",
   "metadata": {},
   "source": [
    "继承的概念：子类拥有父类的所有方法和属性，同时还可以定义自己特殊的方法和属性"
   ]
  },
  {
   "cell_type": "markdown",
   "id": "2eebbaad",
   "metadata": {},
   "source": [
    "定义一个父类："
   ]
  },
  {
   "cell_type": "code",
   "execution_count": 1,
   "id": "fd4406b1",
   "metadata": {},
   "outputs": [],
   "source": [
    "class Animal:\n",
    "    def eat(self):\n",
    "        print(\"吃\")\n",
    "        \n",
    "    def drink(self):\n",
    "        print(\"喝\")\n",
    "        \n",
    "    def run(self):\n",
    "        print(\"跑\")\n",
    "        \n",
    "    def sleep(self):\n",
    "        print(\"睡\")"
   ]
  },
  {
   "cell_type": "markdown",
   "id": "1083ff3d",
   "metadata": {},
   "source": [
    "定义一个子类： \n",
    "* 子类继承父类的所有方法，但是有自己独有的方法，父类中没有  \n",
    "* 如果想对父类的方法进行修改，只需要在子类中重定义这个类即可"
   ]
  },
  {
   "cell_type": "code",
   "execution_count": 2,
   "id": "c23b9ae4",
   "metadata": {},
   "outputs": [],
   "source": [
    "class Dog(Animal):\n",
    "    # 重写父类方法\n",
    "    def eat(self):\n",
    "        print(\"啃骨头\")\n",
    "        \n",
    "    def bark(self):\n",
    "        print(\"汪汪叫\")"
   ]
  },
  {
   "cell_type": "code",
   "execution_count": 3,
   "id": "806b13c7",
   "metadata": {},
   "outputs": [
    {
     "name": "stdout",
     "output_type": "stream",
     "text": [
      "汪汪叫\n"
     ]
    }
   ],
   "source": [
    "wangcai = Dog()\n",
    "wangcai.bark()"
   ]
  },
  {
   "cell_type": "code",
   "execution_count": 4,
   "id": "9b047da0",
   "metadata": {},
   "outputs": [
    {
     "name": "stdout",
     "output_type": "stream",
     "text": [
      "睡\n"
     ]
    }
   ],
   "source": [
    "wangcai.sleep()"
   ]
  },
  {
   "cell_type": "code",
   "execution_count": 5,
   "id": "63405ab2",
   "metadata": {},
   "outputs": [
    {
     "name": "stdout",
     "output_type": "stream",
     "text": [
      "啃骨头\n"
     ]
    }
   ],
   "source": [
    "wangcai.eat()"
   ]
  },
  {
   "cell_type": "markdown",
   "id": "50831116",
   "metadata": {},
   "source": [
    "## 继承的传递性"
   ]
  },
  {
   "cell_type": "markdown",
   "id": "f3c901a7",
   "metadata": {},
   "source": [
    "C类从B类继承，B类又从A类继承，那么C类就具有A类和B类的所有属性和方法"
   ]
  },
  {
   "cell_type": "markdown",
   "id": "5cc3e13c",
   "metadata": {},
   "source": [
    "# super()函数"
   ]
  },
  {
   "cell_type": "markdown",
   "id": "a0e3a199",
   "metadata": {},
   "source": [
    "在python中`super`是一个特殊的类，`super()`就是使用`super`类创建出来的对象。  \n",
    "最常使用的场景就是在重写父类方法时，调用在父类中封装的方法实现。"
   ]
  },
  {
   "cell_type": "code",
   "execution_count": 6,
   "id": "469331da",
   "metadata": {},
   "outputs": [],
   "source": [
    "class XiaoTianQuan(Dog):\n",
    "    def fly(self):\n",
    "        print(\"飞\")\n",
    "        \n",
    "    def eat(self):\n",
    "        print(\"哮天犬\")\n",
    "        # 调用父类方法\n",
    "        super().eat()\n",
    "    \n",
    "    def sleep(self):\n",
    "        # 调用父类的父类方法\n",
    "        super().sleep()"
   ]
  },
  {
   "cell_type": "code",
   "execution_count": 7,
   "id": "63a87424",
   "metadata": {},
   "outputs": [
    {
     "name": "stdout",
     "output_type": "stream",
     "text": [
      "飞\n"
     ]
    }
   ],
   "source": [
    "xtq = XiaoTianQuan()\n",
    "xtq.fly()"
   ]
  },
  {
   "cell_type": "markdown",
   "id": "a55f7987",
   "metadata": {},
   "source": [
    "对于上级和上上级都有的方法，super()调用的是上级的方法："
   ]
  },
  {
   "cell_type": "code",
   "execution_count": 8,
   "id": "4eb85bd2",
   "metadata": {},
   "outputs": [
    {
     "name": "stdout",
     "output_type": "stream",
     "text": [
      "哮天犬\n",
      "啃骨头\n"
     ]
    }
   ],
   "source": [
    "xtq.eat()"
   ]
  },
  {
   "cell_type": "markdown",
   "id": "56f60911",
   "metadata": {},
   "source": [
    "调用父类的父类方法："
   ]
  },
  {
   "cell_type": "code",
   "execution_count": 9,
   "id": "56bb6866",
   "metadata": {},
   "outputs": [
    {
     "name": "stdout",
     "output_type": "stream",
     "text": [
      "睡\n"
     ]
    }
   ],
   "source": [
    "xtq.sleep()"
   ]
  },
  {
   "cell_type": "markdown",
   "id": "7de8b612",
   "metadata": {},
   "source": [
    "# 父类的私有属性和私有方法"
   ]
  },
  {
   "cell_type": "markdown",
   "id": "8ef21e28",
   "metadata": {},
   "source": [
    "* 子类对象不能在自己的方法内部，直接访问父类的私有属性或私有方法\n",
    "* 子类对象可以通过父类的公有方法，间接访问到父类的私有属性或私有方法"
   ]
  },
  {
   "cell_type": "code",
   "execution_count": 10,
   "id": "65afa4bf",
   "metadata": {},
   "outputs": [],
   "source": [
    "class A:\n",
    "    # 创建类属性\n",
    "    def __init__(self):\n",
    "        # 公有属性\n",
    "        self.num_1 = 100\n",
    "        # 私有属性\n",
    "        self.__num_2 = 200\n",
    "        \n",
    "    # 创建私有方法\n",
    "    def __test(self):\n",
    "        print(f\"私有属性与公有属性的值：{self.__num_2}，{self.num_1}\")\n",
    "        \n",
    "    # 创建公有方法\n",
    "    def test(self):\n",
    "        print(f\"父类中的公有方法输出私有属性：{self.__num_2}\")"
   ]
  },
  {
   "cell_type": "code",
   "execution_count": 11,
   "id": "84984436",
   "metadata": {},
   "outputs": [],
   "source": [
    "class B(A):\n",
    "    def demo(self):\n",
    "        super().__test()"
   ]
  },
  {
   "cell_type": "code",
   "execution_count": 12,
   "id": "28dfbadb",
   "metadata": {},
   "outputs": [],
   "source": [
    "b = B()"
   ]
  },
  {
   "cell_type": "code",
   "execution_count": 13,
   "id": "cf686037",
   "metadata": {},
   "outputs": [
    {
     "name": "stdout",
     "output_type": "stream",
     "text": [
      "100\n"
     ]
    }
   ],
   "source": [
    "print(b.num_1)"
   ]
  },
  {
   "cell_type": "markdown",
   "id": "12d0234e",
   "metadata": {},
   "source": [
    "打印父类的私有属性："
   ]
  },
  {
   "cell_type": "code",
   "execution_count": 14,
   "id": "3927aba8",
   "metadata": {
    "scrolled": true
   },
   "outputs": [
    {
     "ename": "AttributeError",
     "evalue": "'B' object has no attribute '__num_2'",
     "output_type": "error",
     "traceback": [
      "\u001b[1;31m---------------------------------------------------------------------------\u001b[0m",
      "\u001b[1;31mAttributeError\u001b[0m                            Traceback (most recent call last)",
      "\u001b[1;32m~\\AppData\\Local\\Temp/ipykernel_2720/731835674.py\u001b[0m in \u001b[0;36m<module>\u001b[1;34m\u001b[0m\n\u001b[1;32m----> 1\u001b[1;33m \u001b[0mprint\u001b[0m\u001b[1;33m(\u001b[0m\u001b[0mb\u001b[0m\u001b[1;33m.\u001b[0m\u001b[0m__num_2\u001b[0m\u001b[1;33m)\u001b[0m\u001b[1;33m\u001b[0m\u001b[1;33m\u001b[0m\u001b[0m\n\u001b[0m",
      "\u001b[1;31mAttributeError\u001b[0m: 'B' object has no attribute '__num_2'"
     ]
    }
   ],
   "source": [
    "print(b.__num_2)"
   ]
  },
  {
   "cell_type": "markdown",
   "id": "b334a68a",
   "metadata": {},
   "source": [
    "直接调用父类的私有方法："
   ]
  },
  {
   "cell_type": "code",
   "execution_count": 15,
   "id": "0a404532",
   "metadata": {},
   "outputs": [
    {
     "ename": "AttributeError",
     "evalue": "'B' object has no attribute '__test'",
     "output_type": "error",
     "traceback": [
      "\u001b[1;31m---------------------------------------------------------------------------\u001b[0m",
      "\u001b[1;31mAttributeError\u001b[0m                            Traceback (most recent call last)",
      "\u001b[1;32m~\\AppData\\Local\\Temp/ipykernel_2720/3331094831.py\u001b[0m in \u001b[0;36m<module>\u001b[1;34m\u001b[0m\n\u001b[1;32m----> 1\u001b[1;33m \u001b[0mb\u001b[0m\u001b[1;33m.\u001b[0m\u001b[0m__test\u001b[0m\u001b[1;33m(\u001b[0m\u001b[1;33m)\u001b[0m\u001b[1;33m\u001b[0m\u001b[1;33m\u001b[0m\u001b[0m\n\u001b[0m",
      "\u001b[1;31mAttributeError\u001b[0m: 'B' object has no attribute '__test'"
     ]
    }
   ],
   "source": [
    "b.__test()"
   ]
  },
  {
   "cell_type": "markdown",
   "id": "0ad89f25",
   "metadata": {},
   "source": [
    "通过子类方法调用父类的私有方法："
   ]
  },
  {
   "cell_type": "code",
   "execution_count": 16,
   "id": "e1038162",
   "metadata": {},
   "outputs": [
    {
     "ename": "AttributeError",
     "evalue": "'super' object has no attribute '_B__test'",
     "output_type": "error",
     "traceback": [
      "\u001b[1;31m---------------------------------------------------------------------------\u001b[0m",
      "\u001b[1;31mAttributeError\u001b[0m                            Traceback (most recent call last)",
      "\u001b[1;32m~\\AppData\\Local\\Temp/ipykernel_2720/165499419.py\u001b[0m in \u001b[0;36m<module>\u001b[1;34m\u001b[0m\n\u001b[1;32m----> 1\u001b[1;33m \u001b[0mb\u001b[0m\u001b[1;33m.\u001b[0m\u001b[0mdemo\u001b[0m\u001b[1;33m(\u001b[0m\u001b[1;33m)\u001b[0m\u001b[1;33m\u001b[0m\u001b[1;33m\u001b[0m\u001b[0m\n\u001b[0m",
      "\u001b[1;32m~\\AppData\\Local\\Temp/ipykernel_2720/3746156761.py\u001b[0m in \u001b[0;36mdemo\u001b[1;34m(self)\u001b[0m\n\u001b[0;32m      1\u001b[0m \u001b[1;32mclass\u001b[0m \u001b[0mB\u001b[0m\u001b[1;33m(\u001b[0m\u001b[0mA\u001b[0m\u001b[1;33m)\u001b[0m\u001b[1;33m:\u001b[0m\u001b[1;33m\u001b[0m\u001b[1;33m\u001b[0m\u001b[0m\n\u001b[0;32m      2\u001b[0m     \u001b[1;32mdef\u001b[0m \u001b[0mdemo\u001b[0m\u001b[1;33m(\u001b[0m\u001b[0mself\u001b[0m\u001b[1;33m)\u001b[0m\u001b[1;33m:\u001b[0m\u001b[1;33m\u001b[0m\u001b[1;33m\u001b[0m\u001b[0m\n\u001b[1;32m----> 3\u001b[1;33m         \u001b[0msuper\u001b[0m\u001b[1;33m(\u001b[0m\u001b[1;33m)\u001b[0m\u001b[1;33m.\u001b[0m\u001b[0m__test\u001b[0m\u001b[1;33m(\u001b[0m\u001b[1;33m)\u001b[0m\u001b[1;33m\u001b[0m\u001b[1;33m\u001b[0m\u001b[0m\n\u001b[0m",
      "\u001b[1;31mAttributeError\u001b[0m: 'super' object has no attribute '_B__test'"
     ]
    }
   ],
   "source": [
    "b.demo()"
   ]
  },
  {
   "cell_type": "markdown",
   "id": "b7b444ef",
   "metadata": {},
   "source": [
    "通过父类的公有方法打印父类的私有属性："
   ]
  },
  {
   "cell_type": "code",
   "execution_count": 17,
   "id": "8027e817",
   "metadata": {},
   "outputs": [
    {
     "name": "stdout",
     "output_type": "stream",
     "text": [
      "父类中的公有方法输出私有属性：200\n"
     ]
    }
   ],
   "source": [
    "b.test()"
   ]
  },
  {
   "cell_type": "markdown",
   "id": "bab42630",
   "metadata": {},
   "source": [
    "# 多继承"
   ]
  },
  {
   "cell_type": "markdown",
   "id": "ab4b6078",
   "metadata": {},
   "source": [
    "子类可以拥有多个父类，并且具有所有父类的属性和方法"
   ]
  },
  {
   "cell_type": "code",
   "execution_count": 18,
   "id": "d325988f",
   "metadata": {},
   "outputs": [],
   "source": [
    "class C:\n",
    "    def demo(self):\n",
    "        print(\"demo 方法\")"
   ]
  },
  {
   "cell_type": "code",
   "execution_count": 20,
   "id": "861f37f1",
   "metadata": {},
   "outputs": [],
   "source": [
    "class D(A, C):\n",
    "    pass"
   ]
  },
  {
   "cell_type": "code",
   "execution_count": 21,
   "id": "f2fd2b42",
   "metadata": {},
   "outputs": [
    {
     "name": "stdout",
     "output_type": "stream",
     "text": [
      "父类中的公有方法输出私有属性：200\n",
      "demo 方法\n"
     ]
    }
   ],
   "source": [
    "d = D()\n",
    "d.test()\n",
    "d.demo()"
   ]
  },
  {
   "cell_type": "markdown",
   "id": "4183193d",
   "metadata": {},
   "source": [
    "# 方法搜索顺序"
   ]
  },
  {
   "cell_type": "markdown",
   "id": "3f52eddc",
   "metadata": {},
   "source": [
    "* python中针对类提供了一个内置属性`__mro__`，可以查看方法搜索顺序\n",
    "* mro是`method resolution order`，主要用于在多继承时判断方法、属性的调用路径"
   ]
  },
  {
   "cell_type": "code",
   "execution_count": 24,
   "id": "84ca0d9f",
   "metadata": {},
   "outputs": [
    {
     "name": "stdout",
     "output_type": "stream",
     "text": [
      "(<class '__main__.D'>, <class '__main__.A'>, <class '__main__.C'>, <class 'object'>)\n"
     ]
    }
   ],
   "source": [
    "print(D.__mro__)"
   ]
  },
  {
   "cell_type": "markdown",
   "id": "47490cb3",
   "metadata": {},
   "source": [
    "* 在搜索方法时，是按照`__mro__`的输出结果从左至右的顺序查找的"
   ]
  },
  {
   "cell_type": "markdown",
   "id": "0a70f57a",
   "metadata": {},
   "source": [
    "# 新式类与旧式类（经典类）"
   ]
  },
  {
   "cell_type": "markdown",
   "id": "a3158abf",
   "metadata": {},
   "source": [
    "`object`是python为所有对象提供的基类，提供有一些内置的属性和方法，可以使用`dir`函数查看"
   ]
  },
  {
   "cell_type": "markdown",
   "id": "01d6d129",
   "metadata": {},
   "source": [
    "* 新式类：以`object`为基类的类，推荐使用\n",
    "* 经典类：不以`object`为基类的类，不推荐使用"
   ]
  },
  {
   "cell_type": "markdown",
   "id": "8de4bb80",
   "metadata": {},
   "source": [
    "* 在`python 3.x`中定义类时，如果没有指定父类，会默认使用`object`作为该类的基类，`python 3.x`中定义的类都是新式类\n",
    "* 在`python 2.x`中定义类时，如果没有指定父类，则不会使用`object`作为基类"
   ]
  },
  {
   "cell_type": "markdown",
   "id": "ba60a733",
   "metadata": {},
   "source": [
    "新式类和经典类在多继承时，会影响到方法的搜索顺序"
   ]
  },
  {
   "cell_type": "markdown",
   "id": "8839f2c8",
   "metadata": {},
   "source": [
    "为保证编写的代码能够同时在`python 2.x`和`python 3.x`运行，在定义类时，如果没有父类，建议统一继承自`object`"
   ]
  },
  {
   "cell_type": "code",
   "execution_count": null,
   "id": "cd6434ad",
   "metadata": {},
   "outputs": [],
   "source": [
    "class 类名(object):\n",
    "    pass"
   ]
  }
 ],
 "metadata": {
  "kernelspec": {
   "display_name": "Python 3 (ipykernel)",
   "language": "python",
   "name": "python3"
  },
  "language_info": {
   "codemirror_mode": {
    "name": "ipython",
    "version": 3
   },
   "file_extension": ".py",
   "mimetype": "text/x-python",
   "name": "python",
   "nbconvert_exporter": "python",
   "pygments_lexer": "ipython3",
   "version": "3.9.7"
  }
 },
 "nbformat": 4,
 "nbformat_minor": 5
}
