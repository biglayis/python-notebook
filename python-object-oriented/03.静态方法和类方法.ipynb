{
 "cells": [
  {
   "cell_type": "markdown",
   "id": "f4297bf1",
   "metadata": {},
   "source": [
    "普通方法、静态方法和类方法的区别：  \n",
    "* 普通方法：由对象调用；至少一个self参数；执行普通方法时，自动将调用该方法的对象赋值给self\n",
    "* 类方法：由类调用； 至少一个cls参数；执行类方法时，自动将调用该方法的类复制给cls；使用`@classmethod`装饰\n",
    "* 静态方法：由类调用；无默认参数；使用`@staticmethod`装饰"
   ]
  },
  {
   "cell_type": "code",
   "execution_count": 1,
   "id": "dabb2d58",
   "metadata": {},
   "outputs": [],
   "source": [
    "class Triangle(object):\n",
    "    \n",
    "    def __init__(self, a, b, c):\n",
    "        self.a = a\n",
    "        self.b = b\n",
    "        self.c = c\n",
    "        \n",
    "    @staticmethod\n",
    "    def is_valid(a, b, c):\n",
    "        '''判断三条边长能否构成三角形'''\n",
    "        return a + b > c and a + c > b and b + c > a\n",
    "    \n",
    "    def perimeter(self):\n",
    "        '''计算周长'''\n",
    "        return self.a + self.b + self.c\n",
    "    \n",
    "    @classmethod\n",
    "    def area(cls, a, b, c):\n",
    "        '''计算面积（海伦公式）'''\n",
    "        p = (a + b + c) / 2\n",
    "        return (p * (p-a) * (p-b) * (p-c)) ** 0.5"
   ]
  },
  {
   "cell_type": "markdown",
   "id": "004c6bcb",
   "metadata": {},
   "source": [
    "调用静态方法不需要实例化，可以直接使用`类名.方法`："
   ]
  },
  {
   "cell_type": "code",
   "execution_count": 2,
   "id": "83caa9e7",
   "metadata": {},
   "outputs": [
    {
     "data": {
      "text/plain": [
       "False"
      ]
     },
     "execution_count": 2,
     "metadata": {},
     "output_type": "execute_result"
    }
   ],
   "source": [
    "Triangle.is_valid(2,4,7)"
   ]
  },
  {
   "cell_type": "markdown",
   "id": "9f82a893",
   "metadata": {},
   "source": [
    "普通方法："
   ]
  },
  {
   "cell_type": "code",
   "execution_count": 3,
   "id": "c8a4a4ca",
   "metadata": {},
   "outputs": [
    {
     "data": {
      "text/plain": [
       "12"
      ]
     },
     "execution_count": 3,
     "metadata": {},
     "output_type": "execute_result"
    }
   ],
   "source": [
    "triangle = Triangle(3, 4, 5)\n",
    "triangle.perimeter()"
   ]
  },
  {
   "cell_type": "markdown",
   "id": "9eff31cd",
   "metadata": {},
   "source": [
    "类方法："
   ]
  },
  {
   "cell_type": "code",
   "execution_count": 4,
   "id": "6e798688",
   "metadata": {},
   "outputs": [
    {
     "data": {
      "text/plain": [
       "15.588457268119896"
      ]
     },
     "execution_count": 4,
     "metadata": {},
     "output_type": "execute_result"
    }
   ],
   "source": [
    "Triangle.area(6, 6, 6)"
   ]
  }
 ],
 "metadata": {
  "kernelspec": {
   "display_name": "Python 3 (ipykernel)",
   "language": "python",
   "name": "python3"
  },
  "language_info": {
   "codemirror_mode": {
    "name": "ipython",
    "version": 3
   },
   "file_extension": ".py",
   "mimetype": "text/x-python",
   "name": "python",
   "nbconvert_exporter": "python",
   "pygments_lexer": "ipython3",
   "version": "3.9.7"
  }
 },
 "nbformat": 4,
 "nbformat_minor": 5
}
