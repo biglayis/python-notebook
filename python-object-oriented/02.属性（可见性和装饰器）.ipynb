{
 "cells": [
  {
   "cell_type": "markdown",
   "id": "d71aa572",
   "metadata": {},
   "source": [
    "# 可见性"
   ]
  },
  {
   "cell_type": "markdown",
   "id": "43ee5c33",
   "metadata": {},
   "source": [
    "* public\n",
    "* protected\n",
    "* private"
   ]
  },
  {
   "cell_type": "markdown",
   "id": "dac1158b",
   "metadata": {},
   "source": [
    "对象的方法通常都是公开的（public），属性通常是私有（private）或受保护的（protected）。  \n",
    "在python中，可以通过添加前缀下划线的方式修改访问可见性，例如，可以用`__name`表示一个私有属性，`_name`表示一个受保护属性"
   ]
  },
  {
   "cell_type": "code",
   "execution_count": 1,
   "id": "94264768",
   "metadata": {},
   "outputs": [],
   "source": [
    "class Student1:\n",
    "    \n",
    "    def __init__(self, name, age):\n",
    "        self.name = name\n",
    "        self.age = age\n",
    "        \n",
    "    def study(self,course_name):\n",
    "        print(f\"{self.name}正在学习{course_name}\")"
   ]
  },
  {
   "cell_type": "code",
   "execution_count": 2,
   "id": "1d7f3af0",
   "metadata": {},
   "outputs": [
    {
     "name": "stdout",
     "output_type": "stream",
     "text": [
      "张三正在学习python\n",
      "张三\n"
     ]
    }
   ],
   "source": [
    "stu1 = Student1(\"张三\", 23)\n",
    "stu1.study(\"python\")\n",
    "print(stu1.name)"
   ]
  },
  {
   "cell_type": "code",
   "execution_count": 3,
   "id": "dc5eb221",
   "metadata": {},
   "outputs": [],
   "source": [
    "class Student2:\n",
    "    \n",
    "    def __init__(self, name, age):\n",
    "        self.__name = name\n",
    "        self.__age = age\n",
    "        \n",
    "    def study(self,course_name):\n",
    "        print(f\"{self.__name}正在学习{course_name}\")"
   ]
  },
  {
   "cell_type": "code",
   "execution_count": 4,
   "id": "c89c9a14",
   "metadata": {},
   "outputs": [
    {
     "name": "stdout",
     "output_type": "stream",
     "text": [
      "李四正在学习Java\n"
     ]
    }
   ],
   "source": [
    "stu2 = Student2(\"李四\", 26)\n",
    "stu2.study(\"Java\")"
   ]
  },
  {
   "cell_type": "markdown",
   "id": "9d5c1eeb",
   "metadata": {},
   "source": [
    "私有属性只能在类的内部调用，外界无法直接访问："
   ]
  },
  {
   "cell_type": "code",
   "execution_count": 5,
   "id": "317413c1",
   "metadata": {},
   "outputs": [
    {
     "ename": "AttributeError",
     "evalue": "'Student2' object has no attribute '__name'",
     "output_type": "error",
     "traceback": [
      "\u001b[1;31m---------------------------------------------------------------------------\u001b[0m",
      "\u001b[1;31mAttributeError\u001b[0m                            Traceback (most recent call last)",
      "\u001b[1;32m~\\AppData\\Local\\Temp/ipykernel_8964/4282672515.py\u001b[0m in \u001b[0;36m<module>\u001b[1;34m\u001b[0m\n\u001b[1;32m----> 1\u001b[1;33m \u001b[0mprint\u001b[0m\u001b[1;33m(\u001b[0m\u001b[0mstu2\u001b[0m\u001b[1;33m.\u001b[0m\u001b[0m__name\u001b[0m\u001b[1;33m)\u001b[0m\u001b[1;33m\u001b[0m\u001b[1;33m\u001b[0m\u001b[0m\n\u001b[0m",
      "\u001b[1;31mAttributeError\u001b[0m: 'Student2' object has no attribute '__name'"
     ]
    }
   ],
   "source": [
    "print(stu2.__name)"
   ]
  },
  {
   "cell_type": "markdown",
   "id": "f3df04a6",
   "metadata": {},
   "source": [
    "然而python并没有从语法上严格保证私有属性的私密性，在类的内部定义中，所有以双下划线开始的名字都被“翻译”成前面加上单下划线和类名的形式。  \n",
    "在了解了这些幕后的事情后，实际上还是能在类外访问这些私有方法："
   ]
  },
  {
   "cell_type": "code",
   "execution_count": 6,
   "id": "01e8a64f",
   "metadata": {},
   "outputs": [
    {
     "name": "stdout",
     "output_type": "stream",
     "text": [
      "李四\n"
     ]
    }
   ],
   "source": [
    "print(stu2._Student2__name)"
   ]
  },
  {
   "cell_type": "markdown",
   "id": "d3abfae5",
   "metadata": {},
   "source": [
    "# 装饰器"
   ]
  },
  {
   "cell_type": "code",
   "execution_count": 8,
   "id": "ec9294d7",
   "metadata": {},
   "outputs": [],
   "source": [
    "class Student3:\n",
    "    \n",
    "    def __init__(self, name, age):\n",
    "        self.__name = name\n",
    "        self.__age = age\n",
    "    \n",
    "    # 获取私有属性__name\n",
    "    @property\n",
    "    def name(self):\n",
    "        return self.__name\n",
    "    \n",
    "    # 修改私有属性__name\n",
    "    @name.setter\n",
    "    def name(self, name):\n",
    "        self.__name = name\n",
    "\n",
    "    # 获取私有属性__age\n",
    "    @property\n",
    "    def age(self):\n",
    "        return self.__age\n",
    "    \n",
    "    # 修改私有属性__age\n",
    "    @age.setter\n",
    "    def age(self, age):\n",
    "        self.__age = age\n",
    "        \n",
    "    # 删除私有属性__age\n",
    "    @age.deleter\n",
    "    def age(self):\n",
    "        del self.__age"
   ]
  },
  {
   "cell_type": "code",
   "execution_count": 9,
   "id": "40a01ff7",
   "metadata": {},
   "outputs": [
    {
     "data": {
      "text/plain": [
       "'小明'"
      ]
     },
     "execution_count": 9,
     "metadata": {},
     "output_type": "execute_result"
    }
   ],
   "source": [
    "stu3 = Student3(\"小明\", 22)\n",
    "stu3.name    # 执行@property修饰的name方法，并获取方法的返回值"
   ]
  },
  {
   "cell_type": "code",
   "execution_count": 10,
   "id": "f4db0aa0",
   "metadata": {},
   "outputs": [
    {
     "data": {
      "text/plain": [
       "'小暗'"
      ]
     },
     "execution_count": 10,
     "metadata": {},
     "output_type": "execute_result"
    }
   ],
   "source": [
    "stu3.name = \"小暗\"    # 执行@name.setter修饰的name方法，并将“小暗”赋值给方法的参数\n",
    "stu3.name"
   ]
  },
  {
   "cell_type": "code",
   "execution_count": 11,
   "id": "0894607e",
   "metadata": {},
   "outputs": [],
   "source": [
    "del stu3.age    # 执行@age.deleter修饰的age方法"
   ]
  },
  {
   "cell_type": "code",
   "execution_count": 12,
   "id": "fa4b9e81",
   "metadata": {},
   "outputs": [
    {
     "ename": "AttributeError",
     "evalue": "'Student3' object has no attribute '_Student3__age'",
     "output_type": "error",
     "traceback": [
      "\u001b[1;31m---------------------------------------------------------------------------\u001b[0m",
      "\u001b[1;31mAttributeError\u001b[0m                            Traceback (most recent call last)",
      "\u001b[1;32m~\\AppData\\Local\\Temp/ipykernel_8964/2731573850.py\u001b[0m in \u001b[0;36m<module>\u001b[1;34m\u001b[0m\n\u001b[1;32m----> 1\u001b[1;33m \u001b[0mstu3\u001b[0m\u001b[1;33m.\u001b[0m\u001b[0mage\u001b[0m\u001b[1;33m\u001b[0m\u001b[1;33m\u001b[0m\u001b[0m\n\u001b[0m",
      "\u001b[1;32m~\\AppData\\Local\\Temp/ipykernel_8964/3143651778.py\u001b[0m in \u001b[0;36mage\u001b[1;34m(self)\u001b[0m\n\u001b[0;32m     18\u001b[0m     \u001b[1;33m@\u001b[0m\u001b[0mproperty\u001b[0m\u001b[1;33m\u001b[0m\u001b[1;33m\u001b[0m\u001b[0m\n\u001b[0;32m     19\u001b[0m     \u001b[1;32mdef\u001b[0m \u001b[0mage\u001b[0m\u001b[1;33m(\u001b[0m\u001b[0mself\u001b[0m\u001b[1;33m)\u001b[0m\u001b[1;33m:\u001b[0m\u001b[1;33m\u001b[0m\u001b[1;33m\u001b[0m\u001b[0m\n\u001b[1;32m---> 20\u001b[1;33m         \u001b[1;32mreturn\u001b[0m \u001b[0mself\u001b[0m\u001b[1;33m.\u001b[0m\u001b[0m__age\u001b[0m\u001b[1;33m\u001b[0m\u001b[1;33m\u001b[0m\u001b[0m\n\u001b[0m\u001b[0;32m     21\u001b[0m \u001b[1;33m\u001b[0m\u001b[0m\n\u001b[0;32m     22\u001b[0m     \u001b[1;31m# 修改私有属性__age\u001b[0m\u001b[1;33m\u001b[0m\u001b[1;33m\u001b[0m\u001b[0m\n",
      "\u001b[1;31mAttributeError\u001b[0m: 'Student3' object has no attribute '_Student3__age'"
     ]
    }
   ],
   "source": [
    "stu3.age"
   ]
  },
  {
   "cell_type": "markdown",
   "id": "269ce0a9",
   "metadata": {},
   "source": [
    "# 动态属性"
   ]
  },
  {
   "cell_type": "code",
   "execution_count": 13,
   "id": "a0e8e60d",
   "metadata": {},
   "outputs": [],
   "source": [
    "stu4 = Student1(\"小七\", 24)"
   ]
  },
  {
   "cell_type": "markdown",
   "id": "f56b949d",
   "metadata": {},
   "source": [
    "为对象添加动态属性："
   ]
  },
  {
   "cell_type": "code",
   "execution_count": 14,
   "id": "4fd1aae6",
   "metadata": {},
   "outputs": [],
   "source": [
    "stu4.sex = \"女\""
   ]
  },
  {
   "cell_type": "code",
   "execution_count": 15,
   "id": "33ac5210",
   "metadata": {},
   "outputs": [
    {
     "data": {
      "text/plain": [
       "'女'"
      ]
     },
     "execution_count": 15,
     "metadata": {},
     "output_type": "execute_result"
    }
   ],
   "source": [
    "stu4.sex"
   ]
  },
  {
   "cell_type": "markdown",
   "id": "e9d99f3f",
   "metadata": {},
   "source": [
    "如果不希望使用对象时动态添加属性，可以使用`__slots__`属性："
   ]
  },
  {
   "cell_type": "code",
   "execution_count": 16,
   "id": "ea9e2002",
   "metadata": {},
   "outputs": [],
   "source": [
    "class Student5:\n",
    "    \n",
    "    # Student5对象只能有name和age属性\n",
    "    __slots__ = ('name', 'age')\n",
    "    \n",
    "    def __init__(self, name, age):\n",
    "        self.name = name\n",
    "        self.age = age"
   ]
  },
  {
   "cell_type": "code",
   "execution_count": 17,
   "id": "8da38be9",
   "metadata": {},
   "outputs": [],
   "source": [
    "stu5 = Student5(\"小八\", 16)"
   ]
  },
  {
   "cell_type": "code",
   "execution_count": 18,
   "id": "08829e2f",
   "metadata": {},
   "outputs": [
    {
     "ename": "AttributeError",
     "evalue": "'Student5' object has no attribute 'sex'",
     "output_type": "error",
     "traceback": [
      "\u001b[1;31m---------------------------------------------------------------------------\u001b[0m",
      "\u001b[1;31mAttributeError\u001b[0m                            Traceback (most recent call last)",
      "\u001b[1;32m~\\AppData\\Local\\Temp/ipykernel_8964/1091811199.py\u001b[0m in \u001b[0;36m<module>\u001b[1;34m\u001b[0m\n\u001b[1;32m----> 1\u001b[1;33m \u001b[0mstu5\u001b[0m\u001b[1;33m.\u001b[0m\u001b[0msex\u001b[0m \u001b[1;33m=\u001b[0m \u001b[1;34m\"男\"\u001b[0m\u001b[1;33m\u001b[0m\u001b[1;33m\u001b[0m\u001b[0m\n\u001b[0m",
      "\u001b[1;31mAttributeError\u001b[0m: 'Student5' object has no attribute 'sex'"
     ]
    }
   ],
   "source": [
    "stu5.sex = \"男\""
   ]
  }
 ],
 "metadata": {
  "kernelspec": {
   "display_name": "Python 3 (ipykernel)",
   "language": "python",
   "name": "python3"
  },
  "language_info": {
   "codemirror_mode": {
    "name": "ipython",
    "version": 3
   },
   "file_extension": ".py",
   "mimetype": "text/x-python",
   "name": "python",
   "nbconvert_exporter": "python",
   "pygments_lexer": "ipython3",
   "version": "3.9.7"
  }
 },
 "nbformat": 4,
 "nbformat_minor": 5
}
