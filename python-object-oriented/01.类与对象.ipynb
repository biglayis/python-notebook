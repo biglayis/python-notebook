{
 "cells": [
  {
   "cell_type": "markdown",
   "id": "4e9aad31",
   "metadata": {},
   "source": [
    "# 定义类"
   ]
  },
  {
   "cell_type": "markdown",
   "id": "f428fbc2",
   "metadata": {},
   "source": [
    "格式："
   ]
  },
  {
   "cell_type": "code",
   "execution_count": null,
   "id": "46aba0c0",
   "metadata": {},
   "outputs": [],
   "source": [
    "class ClassName(ParentClass):\n",
    "    \"\"\"class docstring\"\"\"\n",
    "    def method(self):\n",
    "        return"
   ]
  },
  {
   "cell_type": "markdown",
   "id": "7e9364da",
   "metadata": {},
   "source": [
    "* `class`关键词在最前面\n",
    "* 括号中的`ParentClass`用来表示继承关系\n",
    "* \"\"\"\"\"\" 中的内容表示 docstring，可以省略\n",
    "* 方法定义与函数定义十分类似，不过多了一个`self`参数表示这个对象本身。类中的方法第一个参数必须是`self`，类似Java中的`this`。"
   ]
  },
  {
   "cell_type": "code",
   "execution_count": 1,
   "id": "75ccf6cc",
   "metadata": {},
   "outputs": [],
   "source": [
    "class Student:\n",
    "    \n",
    "    def study(self, course_name):\n",
    "        print(f\"学生正在学习{course_name}\")\n",
    "        \n",
    "    def play(self):\n",
    "        print(\"学生正在玩游戏\")"
   ]
  },
  {
   "cell_type": "code",
   "execution_count": 2,
   "id": "752451fb",
   "metadata": {},
   "outputs": [],
   "source": [
    "stu1 = Student()"
   ]
  },
  {
   "cell_type": "code",
   "execution_count": 3,
   "id": "2400a979",
   "metadata": {},
   "outputs": [
    {
     "data": {
      "text/plain": [
       "<__main__.Student at 0x201f48ffe20>"
      ]
     },
     "execution_count": 3,
     "metadata": {},
     "output_type": "execute_result"
    }
   ],
   "source": [
    "stu1"
   ]
  },
  {
   "cell_type": "code",
   "execution_count": 4,
   "id": "1f63f509",
   "metadata": {},
   "outputs": [
    {
     "name": "stdout",
     "output_type": "stream",
     "text": [
      "学生正在学习Python\n"
     ]
    }
   ],
   "source": [
    "stu1.study('Python')"
   ]
  },
  {
   "cell_type": "code",
   "execution_count": 5,
   "id": "d8ab1ae3",
   "metadata": {},
   "outputs": [
    {
     "name": "stdout",
     "output_type": "stream",
     "text": [
      "学生正在玩游戏\n"
     ]
    }
   ],
   "source": [
    "stu1.play()"
   ]
  },
  {
   "cell_type": "markdown",
   "id": "a94ae678",
   "metadata": {},
   "source": [
    "# 构造方法`__init__()`"
   ]
  },
  {
   "cell_type": "code",
   "execution_count": 6,
   "id": "40df0f6d",
   "metadata": {},
   "outputs": [],
   "source": [
    "class Student:\n",
    "    \n",
    "    def __init__(self, name, age):\n",
    "        self.name = name\n",
    "        self.age = age\n",
    "    \n",
    "    def study(self, course_name):\n",
    "        print(f\"{self.name}正在学习{course_name}\")\n",
    "        \n",
    "    def play(self):\n",
    "        print(f\"{self.name}正在玩游戏\")"
   ]
  },
  {
   "cell_type": "code",
   "execution_count": 7,
   "id": "3bfdc5f6",
   "metadata": {},
   "outputs": [],
   "source": [
    "stu2 = Student(\"张三\", 18)"
   ]
  },
  {
   "cell_type": "code",
   "execution_count": 9,
   "id": "613cc12e",
   "metadata": {},
   "outputs": [
    {
     "name": "stdout",
     "output_type": "stream",
     "text": [
      "张三正在学习数学\n"
     ]
    }
   ],
   "source": [
    "stu2.study(\"数学\")"
   ]
  },
  {
   "cell_type": "markdown",
   "id": "117b3778",
   "metadata": {},
   "source": [
    "# 打印对象`__repr__()`"
   ]
  },
  {
   "cell_type": "markdown",
   "id": "ddd2a4f3",
   "metadata": {},
   "source": [
    "该方法返回使用`print`函数打印对象时输出的内容"
   ]
  },
  {
   "cell_type": "code",
   "execution_count": 13,
   "id": "977a860a",
   "metadata": {},
   "outputs": [],
   "source": [
    "class Student:\n",
    "    \n",
    "    def __init__(self, name, age):\n",
    "        self.name = name\n",
    "        self.age = age\n",
    "    \n",
    "    def study(self, course_name):\n",
    "        print(f\"{self.name}正在学习{course_name}\")\n",
    "        \n",
    "    def play(self):\n",
    "        print(f\"{self.name}正在玩游戏\")\n",
    "        \n",
    "    def __repr__(self):\n",
    "        return f\"{self.name}:{self.age}\""
   ]
  },
  {
   "cell_type": "code",
   "execution_count": 14,
   "id": "c68dfaae",
   "metadata": {},
   "outputs": [],
   "source": [
    "stu3 = Student(\"李四\", 20)"
   ]
  },
  {
   "cell_type": "code",
   "execution_count": 15,
   "id": "c827c951",
   "metadata": {},
   "outputs": [
    {
     "name": "stdout",
     "output_type": "stream",
     "text": [
      "李四:20\n"
     ]
    }
   ],
   "source": [
    "print(stu3)"
   ]
  }
 ],
 "metadata": {
  "kernelspec": {
   "display_name": "Python 3 (ipykernel)",
   "language": "python",
   "name": "python3"
  },
  "language_info": {
   "codemirror_mode": {
    "name": "ipython",
    "version": 3
   },
   "file_extension": ".py",
   "mimetype": "text/x-python",
   "name": "python",
   "nbconvert_exporter": "python",
   "pygments_lexer": "ipython3",
   "version": "3.9.7"
  }
 },
 "nbformat": 4,
 "nbformat_minor": 5
}
