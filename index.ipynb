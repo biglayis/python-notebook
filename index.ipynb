{
 "cells": [
  {
   "cell_type": "markdown",
   "id": "539a2d69",
   "metadata": {},
   "source": [
    "# 目录"
   ]
  },
  {
   "cell_type": "markdown",
   "id": "69476f8a",
   "metadata": {},
   "source": [
    "* [python基础](python-essentials)  \n",
    "    * [01.变量的基本使用（数据类型、变量运算、input）](python-essentials/01.变量的基本使用（数据类型、变量运算、input）.ipynb)  \n",
    "    * [02.变量的格式化输出](python-essentials/02.变量的格式化输出.ipynb)  \n",
    "    * [03.注释](python-essentials/03.注释.ipynb)\n",
    "    * [04.运算符](python-essentials/04.运算符.ipynb)\n",
    "    * [05.判断语句（if）](python-essentials/05.判断语句（if）.ipynb)\n",
    "    * [06.循环（while）](python-essentials/06.循环（while）.ipynb)\n",
    "    * [07.列表](python-essentials/07.列表.ipynb)\n",
    "    * [08.元组](python-essentials/08.元组.ipynb)\n",
    "    * [09.字典](python-essentials/09.字典.ipynb)\n",
    "    * [10.字符串](python-essentials/10.字符串.ipynb)\n",
    "    * [11.字符串-索引和切片](python-essentials/11.字符串-索引和切片.ipynb)\n",
    "    * [12.集合](python-essentials/12.集合.ipynb)\n",
    "    * [13.不可变集合](python-essentials/13.不可变集合.ipynb)\n",
    "    * [14.列表推导式](python-essentials/14.列表推导式.ipynb)\n",
    "    * [15.函数](python-essentials/15.函数.ipynb)\n",
    "    * [16.模块和包](python-essentials/16.模块和包.ipynb)\n",
    "    * [17.异常](python-essentials/17.异常.ipynb)\n",
    "* [python面向对象](python-object-oriented)\n",
    "    * [01.类与对象](python-object-oriented/01.类与对象.ipynb)  \n",
    "    * [02.属性（可见性和装饰器）](python-object-oriented/02.属性（可见性和装饰器）.ipynb)  \n",
    "    * [03.静态方法和类方法](python-object-oriented/03.静态方法和类方法.ipynb)  \n",
    "    * [04.继承](python-object-oriented/04.继承.ipynb) \n",
    "    * [05.多态](python-object-oriented/05.多态.ipynb) \n",
    "    * [06.类属性](python-object-oriented/06.类属性.ipynb) \n",
    "* [python进阶](python-advanced)  "
   ]
  }
 ],
 "metadata": {
  "kernelspec": {
   "display_name": "Python 3 (ipykernel)",
   "language": "python",
   "name": "python3"
  },
  "language_info": {
   "codemirror_mode": {
    "name": "ipython",
    "version": 3
   },
   "file_extension": ".py",
   "mimetype": "text/x-python",
   "name": "python",
   "nbconvert_exporter": "python",
   "pygments_lexer": "ipython3",
   "version": "3.9.7"
  }
 },
 "nbformat": 4,
 "nbformat_minor": 5
}
